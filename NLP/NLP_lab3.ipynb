{
  "nbformat": 4,
  "nbformat_minor": 0,
  "metadata": {
    "colab": {
      "provenance": []
    },
    "kernelspec": {
      "name": "python3",
      "display_name": "Python 3"
    },
    "language_info": {
      "name": "python"
    }
  },
  "cells": [
    {
      "cell_type": "markdown",
      "source": [
        "Лабораторная № 3. Тематическое моделирование.\n",
        "\n",
        "\n",
        "\n",
        "\n",
        "\n"
      ],
      "metadata": {
        "id": "uwqViO53rG7x"
      }
    },
    {
      "cell_type": "markdown",
      "source": [
        "1. Выполните тематическое моделирование отзывов о банковских услугах помощью LDA (используйте библиотеку gensim) для одного из топ-5 банков по количеству отзывов. Для уменьшение времени вычисления можно взять выборку отзывов."
      ],
      "metadata": {
        "id": "vl4Yi4DIrVc6"
      }
    },
    {
      "cell_type": "code",
      "source": [
        "import pandas as pd\n",
        "pd.set_option(\"display.max_colwidth\", 100)"
      ],
      "metadata": {
        "id": "pRcSSbtNlbNj"
      },
      "execution_count": null,
      "outputs": []
    },
    {
      "cell_type": "code",
      "source": [
        "filename = \"/content/drive/MyDrive/NLP/financial_review.csv\"\n",
        "data = pd.read_csv(filename)\n",
        "data.head()"
      ],
      "metadata": {
        "colab": {
          "base_uri": "https://localhost:8080/",
          "height": 400
        },
        "id": "gds5zIq2lisP",
        "outputId": "f569b439-e032-47d1-e92e-2816f110045c"
      },
      "execution_count": null,
      "outputs": [
        {
          "output_type": "stream",
          "name": "stderr",
          "text": [
            "/usr/local/lib/python3.10/dist-packages/ipykernel/ipkernel.py:283: DeprecationWarning: `should_run_async` will not call `transform_cell` automatically in the future. Please pass the result to `transformed_cell` argument and any exception that happen during thetransform in `preprocessing_exc_tuple` in IPython 7.17 and above.\n",
            "  and should_run_async(code)\n"
          ]
        },
        {
          "output_type": "execute_result",
          "data": {
            "text/plain": [
              "                  bank_href login  \\\n",
              "0  /kredit-evropa-bank.html   NaN   \n",
              "1  /kredit-evropa-bank.html   NaN   \n",
              "2  /kredit-evropa-bank.html   NaN   \n",
              "3  /kredit-evropa-bank.html   NaN   \n",
              "4  /kredit-evropa-bank.html   NaN   \n",
              "\n",
              "                                                                                                review  \\\n",
              "0  Брал кредит в данной организации, после погашения всех выплат стали звонить мне на телефон и гов...   \n",
              "1  В 2011 году,мною была оформлена мега карта в ТЦ Мега-Дыбенко. Сотрудник ЗАО \"Кредит Евпропа Банк...   \n",
              "2  С родителями увидели рекламу вклада Осеннее предложение от Кредит Европа Банк. Приобрели промоко...   \n",
              "3  Связать три года своей жизни с этим непорядочным банком я решила в непростой период своей жизни....   \n",
              "4  Пользуюсь месяц карточкой Card Plus, сегодня получил первую выплату по программе «Вернем процент...   \n",
              "\n",
              "            bank_name                   site date message_href score status  \\\n",
              "0  кредит европа банк  http://bankireview.ru  NaN          NaN   NaN    NaN   \n",
              "1  кредит европа банк  http://bankireview.ru  NaN          NaN   NaN    NaN   \n",
              "2  кредит европа банк  http://bankireview.ru  NaN          NaN   NaN    NaN   \n",
              "3  кредит европа банк  http://bankireview.ru  NaN          NaN   NaN    NaN   \n",
              "4  кредит европа банк  http://bankireview.ru  NaN          NaN   NaN    NaN   \n",
              "\n",
              "  user_href  \n",
              "0       NaN  \n",
              "1       NaN  \n",
              "2       NaN  \n",
              "3       NaN  \n",
              "4       NaN  "
            ],
            "text/html": [
              "\n",
              "  <div id=\"df-37fbb108-58ad-4f10-a354-d892cadf31eb\" class=\"colab-df-container\">\n",
              "    <div>\n",
              "<style scoped>\n",
              "    .dataframe tbody tr th:only-of-type {\n",
              "        vertical-align: middle;\n",
              "    }\n",
              "\n",
              "    .dataframe tbody tr th {\n",
              "        vertical-align: top;\n",
              "    }\n",
              "\n",
              "    .dataframe thead th {\n",
              "        text-align: right;\n",
              "    }\n",
              "</style>\n",
              "<table border=\"1\" class=\"dataframe\">\n",
              "  <thead>\n",
              "    <tr style=\"text-align: right;\">\n",
              "      <th></th>\n",
              "      <th>bank_href</th>\n",
              "      <th>login</th>\n",
              "      <th>review</th>\n",
              "      <th>bank_name</th>\n",
              "      <th>site</th>\n",
              "      <th>date</th>\n",
              "      <th>message_href</th>\n",
              "      <th>score</th>\n",
              "      <th>status</th>\n",
              "      <th>user_href</th>\n",
              "    </tr>\n",
              "  </thead>\n",
              "  <tbody>\n",
              "    <tr>\n",
              "      <th>0</th>\n",
              "      <td>/kredit-evropa-bank.html</td>\n",
              "      <td>NaN</td>\n",
              "      <td>Брал кредит в данной организации, после погашения всех выплат стали звонить мне на телефон и гов...</td>\n",
              "      <td>кредит европа банк</td>\n",
              "      <td>http://bankireview.ru</td>\n",
              "      <td>NaN</td>\n",
              "      <td>NaN</td>\n",
              "      <td>NaN</td>\n",
              "      <td>NaN</td>\n",
              "      <td>NaN</td>\n",
              "    </tr>\n",
              "    <tr>\n",
              "      <th>1</th>\n",
              "      <td>/kredit-evropa-bank.html</td>\n",
              "      <td>NaN</td>\n",
              "      <td>В 2011 году,мною была оформлена мега карта в ТЦ Мега-Дыбенко. Сотрудник ЗАО \"Кредит Евпропа Банк...</td>\n",
              "      <td>кредит европа банк</td>\n",
              "      <td>http://bankireview.ru</td>\n",
              "      <td>NaN</td>\n",
              "      <td>NaN</td>\n",
              "      <td>NaN</td>\n",
              "      <td>NaN</td>\n",
              "      <td>NaN</td>\n",
              "    </tr>\n",
              "    <tr>\n",
              "      <th>2</th>\n",
              "      <td>/kredit-evropa-bank.html</td>\n",
              "      <td>NaN</td>\n",
              "      <td>С родителями увидели рекламу вклада Осеннее предложение от Кредит Европа Банк. Приобрели промоко...</td>\n",
              "      <td>кредит европа банк</td>\n",
              "      <td>http://bankireview.ru</td>\n",
              "      <td>NaN</td>\n",
              "      <td>NaN</td>\n",
              "      <td>NaN</td>\n",
              "      <td>NaN</td>\n",
              "      <td>NaN</td>\n",
              "    </tr>\n",
              "    <tr>\n",
              "      <th>3</th>\n",
              "      <td>/kredit-evropa-bank.html</td>\n",
              "      <td>NaN</td>\n",
              "      <td>Связать три года своей жизни с этим непорядочным банком я решила в непростой период своей жизни....</td>\n",
              "      <td>кредит европа банк</td>\n",
              "      <td>http://bankireview.ru</td>\n",
              "      <td>NaN</td>\n",
              "      <td>NaN</td>\n",
              "      <td>NaN</td>\n",
              "      <td>NaN</td>\n",
              "      <td>NaN</td>\n",
              "    </tr>\n",
              "    <tr>\n",
              "      <th>4</th>\n",
              "      <td>/kredit-evropa-bank.html</td>\n",
              "      <td>NaN</td>\n",
              "      <td>Пользуюсь месяц карточкой Card Plus, сегодня получил первую выплату по программе «Вернем процент...</td>\n",
              "      <td>кредит европа банк</td>\n",
              "      <td>http://bankireview.ru</td>\n",
              "      <td>NaN</td>\n",
              "      <td>NaN</td>\n",
              "      <td>NaN</td>\n",
              "      <td>NaN</td>\n",
              "      <td>NaN</td>\n",
              "    </tr>\n",
              "  </tbody>\n",
              "</table>\n",
              "</div>\n",
              "    <div class=\"colab-df-buttons\">\n",
              "\n",
              "  <div class=\"colab-df-container\">\n",
              "    <button class=\"colab-df-convert\" onclick=\"convertToInteractive('df-37fbb108-58ad-4f10-a354-d892cadf31eb')\"\n",
              "            title=\"Convert this dataframe to an interactive table.\"\n",
              "            style=\"display:none;\">\n",
              "\n",
              "  <svg xmlns=\"http://www.w3.org/2000/svg\" height=\"24px\" viewBox=\"0 -960 960 960\">\n",
              "    <path d=\"M120-120v-720h720v720H120Zm60-500h600v-160H180v160Zm220 220h160v-160H400v160Zm0 220h160v-160H400v160ZM180-400h160v-160H180v160Zm440 0h160v-160H620v160ZM180-180h160v-160H180v160Zm440 0h160v-160H620v160Z\"/>\n",
              "  </svg>\n",
              "    </button>\n",
              "\n",
              "  <style>\n",
              "    .colab-df-container {\n",
              "      display:flex;\n",
              "      gap: 12px;\n",
              "    }\n",
              "\n",
              "    .colab-df-convert {\n",
              "      background-color: #E8F0FE;\n",
              "      border: none;\n",
              "      border-radius: 50%;\n",
              "      cursor: pointer;\n",
              "      display: none;\n",
              "      fill: #1967D2;\n",
              "      height: 32px;\n",
              "      padding: 0 0 0 0;\n",
              "      width: 32px;\n",
              "    }\n",
              "\n",
              "    .colab-df-convert:hover {\n",
              "      background-color: #E2EBFA;\n",
              "      box-shadow: 0px 1px 2px rgba(60, 64, 67, 0.3), 0px 1px 3px 1px rgba(60, 64, 67, 0.15);\n",
              "      fill: #174EA6;\n",
              "    }\n",
              "\n",
              "    .colab-df-buttons div {\n",
              "      margin-bottom: 4px;\n",
              "    }\n",
              "\n",
              "    [theme=dark] .colab-df-convert {\n",
              "      background-color: #3B4455;\n",
              "      fill: #D2E3FC;\n",
              "    }\n",
              "\n",
              "    [theme=dark] .colab-df-convert:hover {\n",
              "      background-color: #434B5C;\n",
              "      box-shadow: 0px 1px 3px 1px rgba(0, 0, 0, 0.15);\n",
              "      filter: drop-shadow(0px 1px 2px rgba(0, 0, 0, 0.3));\n",
              "      fill: #FFFFFF;\n",
              "    }\n",
              "  </style>\n",
              "\n",
              "    <script>\n",
              "      const buttonEl =\n",
              "        document.querySelector('#df-37fbb108-58ad-4f10-a354-d892cadf31eb button.colab-df-convert');\n",
              "      buttonEl.style.display =\n",
              "        google.colab.kernel.accessAllowed ? 'block' : 'none';\n",
              "\n",
              "      async function convertToInteractive(key) {\n",
              "        const element = document.querySelector('#df-37fbb108-58ad-4f10-a354-d892cadf31eb');\n",
              "        const dataTable =\n",
              "          await google.colab.kernel.invokeFunction('convertToInteractive',\n",
              "                                                    [key], {});\n",
              "        if (!dataTable) return;\n",
              "\n",
              "        const docLinkHtml = 'Like what you see? Visit the ' +\n",
              "          '<a target=\"_blank\" href=https://colab.research.google.com/notebooks/data_table.ipynb>data table notebook</a>'\n",
              "          + ' to learn more about interactive tables.';\n",
              "        element.innerHTML = '';\n",
              "        dataTable['output_type'] = 'display_data';\n",
              "        await google.colab.output.renderOutput(dataTable, element);\n",
              "        const docLink = document.createElement('div');\n",
              "        docLink.innerHTML = docLinkHtml;\n",
              "        element.appendChild(docLink);\n",
              "      }\n",
              "    </script>\n",
              "  </div>\n",
              "\n",
              "\n",
              "<div id=\"df-89d3cb0f-4e88-4cde-8d0d-00a3d7434208\">\n",
              "  <button class=\"colab-df-quickchart\" onclick=\"quickchart('df-89d3cb0f-4e88-4cde-8d0d-00a3d7434208')\"\n",
              "            title=\"Suggest charts\"\n",
              "            style=\"display:none;\">\n",
              "\n",
              "<svg xmlns=\"http://www.w3.org/2000/svg\" height=\"24px\"viewBox=\"0 0 24 24\"\n",
              "     width=\"24px\">\n",
              "    <g>\n",
              "        <path d=\"M19 3H5c-1.1 0-2 .9-2 2v14c0 1.1.9 2 2 2h14c1.1 0 2-.9 2-2V5c0-1.1-.9-2-2-2zM9 17H7v-7h2v7zm4 0h-2V7h2v10zm4 0h-2v-4h2v4z\"/>\n",
              "    </g>\n",
              "</svg>\n",
              "  </button>\n",
              "\n",
              "<style>\n",
              "  .colab-df-quickchart {\n",
              "      --bg-color: #E8F0FE;\n",
              "      --fill-color: #1967D2;\n",
              "      --hover-bg-color: #E2EBFA;\n",
              "      --hover-fill-color: #174EA6;\n",
              "      --disabled-fill-color: #AAA;\n",
              "      --disabled-bg-color: #DDD;\n",
              "  }\n",
              "\n",
              "  [theme=dark] .colab-df-quickchart {\n",
              "      --bg-color: #3B4455;\n",
              "      --fill-color: #D2E3FC;\n",
              "      --hover-bg-color: #434B5C;\n",
              "      --hover-fill-color: #FFFFFF;\n",
              "      --disabled-bg-color: #3B4455;\n",
              "      --disabled-fill-color: #666;\n",
              "  }\n",
              "\n",
              "  .colab-df-quickchart {\n",
              "    background-color: var(--bg-color);\n",
              "    border: none;\n",
              "    border-radius: 50%;\n",
              "    cursor: pointer;\n",
              "    display: none;\n",
              "    fill: var(--fill-color);\n",
              "    height: 32px;\n",
              "    padding: 0;\n",
              "    width: 32px;\n",
              "  }\n",
              "\n",
              "  .colab-df-quickchart:hover {\n",
              "    background-color: var(--hover-bg-color);\n",
              "    box-shadow: 0 1px 2px rgba(60, 64, 67, 0.3), 0 1px 3px 1px rgba(60, 64, 67, 0.15);\n",
              "    fill: var(--button-hover-fill-color);\n",
              "  }\n",
              "\n",
              "  .colab-df-quickchart-complete:disabled,\n",
              "  .colab-df-quickchart-complete:disabled:hover {\n",
              "    background-color: var(--disabled-bg-color);\n",
              "    fill: var(--disabled-fill-color);\n",
              "    box-shadow: none;\n",
              "  }\n",
              "\n",
              "  .colab-df-spinner {\n",
              "    border: 2px solid var(--fill-color);\n",
              "    border-color: transparent;\n",
              "    border-bottom-color: var(--fill-color);\n",
              "    animation:\n",
              "      spin 1s steps(1) infinite;\n",
              "  }\n",
              "\n",
              "  @keyframes spin {\n",
              "    0% {\n",
              "      border-color: transparent;\n",
              "      border-bottom-color: var(--fill-color);\n",
              "      border-left-color: var(--fill-color);\n",
              "    }\n",
              "    20% {\n",
              "      border-color: transparent;\n",
              "      border-left-color: var(--fill-color);\n",
              "      border-top-color: var(--fill-color);\n",
              "    }\n",
              "    30% {\n",
              "      border-color: transparent;\n",
              "      border-left-color: var(--fill-color);\n",
              "      border-top-color: var(--fill-color);\n",
              "      border-right-color: var(--fill-color);\n",
              "    }\n",
              "    40% {\n",
              "      border-color: transparent;\n",
              "      border-right-color: var(--fill-color);\n",
              "      border-top-color: var(--fill-color);\n",
              "    }\n",
              "    60% {\n",
              "      border-color: transparent;\n",
              "      border-right-color: var(--fill-color);\n",
              "    }\n",
              "    80% {\n",
              "      border-color: transparent;\n",
              "      border-right-color: var(--fill-color);\n",
              "      border-bottom-color: var(--fill-color);\n",
              "    }\n",
              "    90% {\n",
              "      border-color: transparent;\n",
              "      border-bottom-color: var(--fill-color);\n",
              "    }\n",
              "  }\n",
              "</style>\n",
              "\n",
              "  <script>\n",
              "    async function quickchart(key) {\n",
              "      const quickchartButtonEl =\n",
              "        document.querySelector('#' + key + ' button');\n",
              "      quickchartButtonEl.disabled = true;  // To prevent multiple clicks.\n",
              "      quickchartButtonEl.classList.add('colab-df-spinner');\n",
              "      try {\n",
              "        const charts = await google.colab.kernel.invokeFunction(\n",
              "            'suggestCharts', [key], {});\n",
              "      } catch (error) {\n",
              "        console.error('Error during call to suggestCharts:', error);\n",
              "      }\n",
              "      quickchartButtonEl.classList.remove('colab-df-spinner');\n",
              "      quickchartButtonEl.classList.add('colab-df-quickchart-complete');\n",
              "    }\n",
              "    (() => {\n",
              "      let quickchartButtonEl =\n",
              "        document.querySelector('#df-89d3cb0f-4e88-4cde-8d0d-00a3d7434208 button');\n",
              "      quickchartButtonEl.style.display =\n",
              "        google.colab.kernel.accessAllowed ? 'block' : 'none';\n",
              "    })();\n",
              "  </script>\n",
              "</div>\n",
              "    </div>\n",
              "  </div>\n"
            ],
            "application/vnd.google.colaboratory.intrinsic+json": {
              "type": "dataframe",
              "variable_name": "data",
              "summary": "{\n  \"name\": \"data\",\n  \"rows\": 23810,\n  \"fields\": [\n    {\n      \"column\": \"bank_href\",\n      \"properties\": {\n        \"dtype\": \"category\",\n        \"num_unique_values\": 743,\n        \"samples\": [\n          \"/bank/centrokredit/\",\n          \"/bank/agrosojuz/\",\n          \"/bank/kredit-moskva/\"\n        ],\n        \"semantic_type\": \"\",\n        \"description\": \"\"\n      }\n    },\n    {\n      \"column\": \"login\",\n      \"properties\": {\n        \"dtype\": \"string\",\n        \"num_unique_values\": 12457,\n        \"samples\": [\n          \"zhanna18\",\n          \"Ewgeniy1\",\n          \"cmotp10\"\n        ],\n        \"semantic_type\": \"\",\n        \"description\": \"\"\n      }\n    },\n    {\n      \"column\": \"review\",\n      \"properties\": {\n        \"dtype\": \"string\",\n        \"num_unique_values\": 23072,\n        \"samples\": [\n          \"\\u0421\\u043e\\u0432\\u0435\\u0440\\u0448\\u0435\\u043d\\u043d\\u043e \\u043d\\u0435 \\u0446\\u0435\\u043d\\u044f\\u0442 \\u043a\\u043b\\u0438\\u0435\\u043d\\u0442\\u043e\\u0432\\u0423\\u0436\\u0430\\u0441\\u043d\\u044b\\u0439 \\u0431\\u0430\\u043d\\u043a!!! \\u0412\\u0437\\u044f\\u043b\\u0430 \\u0432 \\u0434\\u0430\\u043d\\u043d\\u043e\\u043c \\u0431\\u0430\\u043d\\u043a\\u0435 2 \\u043a\\u0440\\u0435\\u0434\\u0438\\u0442\\u0430, \\u043f\\u043b\\u0430\\u0442\\u0438\\u043b\\u0430 \\u0432\\u043e\\u0432\\u0440\\u0435\\u043c\\u044f, \\u043f\\u0440\\u043e\\u0431\\u043b\\u0435\\u043c \\u043d\\u0435 \\u0432\\u043e\\u0437\\u043d\\u0438\\u043a\\u0430\\u043b\\u043e. \\u041d\\u043e 06.08 \\u043f\\u043e\\u0448\\u043b\\u0430 \\u043f\\u043b\\u0430\\u0442\\u0438\\u0442\\u044c \\u043e\\u0447\\u0435\\u0440\\u0435\\u0434\\u043d\\u043e\\u0439 \\u043a\\u0440\\u0435\\u0434\\u0438\\u0442 \\u0438 \\u0431\\u0430\\u043d\\u043a\\u043e\\u043c\\u0430\\u0442 \\u0437\\u0430\\u0436\\u0435\\u0432\\u0430\\u043b \\u043c\\u043e\\u0438 \\u0434\\u0435\\u043d\\u044c\\u0433\\u0438, \\u043f\\u043b\\u044e\\u043d\\u0443\\u043b \\u0432 \\u043c\\u0435\\u043d\\u044f \\u043a\\u0430\\u0440\\u0442\\u043e\\u0447\\u043a\\u043e\\u0439 \\u0438 \\u043e\\u0442\\u043a\\u043b\\u044e\\u0447\\u0438\\u043b\\u0441\\u044f. \\u041d\\u0430\\u043f\\u0438\\u0441\\u0430\\u043b\\u0430 \\u0442\\u0443\\u0442 \\u0436\\u0435 \\u0437\\u0430\\u044f\\u0432\\u043b\\u0435\\u043d\\u0438\\u0435. \\u0414\\u0435\\u0432\\u0443\\u0448\\u043a\\u0430 \\u0441\\u043a\\u0430\\u0437\\u0430\\u043b\\u0430 \\u0447\\u0442\\u043e \\u0441\\u0440\\u043e\\u043a \\u0440\\u0430\\u0441\\u0441\\u043c\\u043e\\u0442\\u0440\\u0435\\u043d\\u0438\\u044f 5 \\u0434\\u043d\\u0435\\u0439 \\u0438 \\u043c\\u043d\\u0435 \\u043d\\u0435 \\u0441\\u0442\\u043e\\u0438\\u0442 \\u043f\\u0435\\u0440\\u0435\\u0436\\u0438\\u0432\\u0430\\u0442\\u044c. \\u041a\\u043e\\u043f\\u0438\\u044e \\u0437\\u0430\\u044f\\u0432\\u043b\\u0435\\u043d\\u0438\\u044f \\u043c\\u043d\\u0435 \\u043d\\u0435 \\u0434\\u0430\\u043b\\u0430, \\u0430 \\u044f \\u0431\\u044b\\u043b\\u0430 \\u0442\\u0430\\u043a \\u0440\\u0430\\u0441\\u0441\\u0442\\u0440\\u043e\\u0435\\u043d\\u0430, \\u0447\\u0442\\u043e \\u043d\\u0435 \\u043d\\u0430\\u0441\\u0442\\u043e\\u044f\\u043b\\u0430 \\u043d\\u0430 \\u0432\\u044b\\u0434\\u0430\\u0447\\u0435.\\n\\u0427\\u0435\\u0440\\u0435\\u0437 \\u043d\\u0435\\u0441\\u043a\\u043e\\u043b\\u044c\\u043a\\u043e \\u0434\\u043d\\u0435\\u0439, \\u043a\\u043e\\u0433\\u0434\\u0430 \\u043f\\u0440\\u043e\\u0448\\u0435\\u043b \\u0441\\u0440\\u043e\\u043a \\u0441\\u043f\\u0438\\u0441\\u0430\\u043d\\u0438\\u044f, \\u043d\\u0430\\u0447\\u0430\\u043b\\u0438\\u0441\\u044c \\u0437\\u0432\\u043e\\u043d\\u043a\\u0438 \\u0438\\u0437 \\u043e\\u0442\\u0434\\u0435\\u043b\\u0430 \\u043f\\u0440\\u043e\\u0441\\u0440\\u043e\\u0447\\u0435\\u043d\\u043d\\u043e\\u0439 \\u0437\\u0430\\u0434\\u043e\\u043b\\u0436\\u0435\\u043d\\u043d\\u043e\\u0441\\u0442\\u0438. \\u042f \\u0438\\u043c \\u043f\\u043e 5 \\u0440\\u0430\\u0437 \\u043d\\u0430 \\u0434\\u043d\\u044e \\u043e\\u0431\\u044a\\u044f\\u0441\\u043d\\u044f\\u043b\\u0430 \\u0447\\u0442\\u043e \\u0443 \\u043c\\u0435\\u043d\\u044f \\u043b\\u0435\\u0436\\u0438\\u0442 \\u0437\\u0430\\u044f\\u0432\\u043b\\u0435\\u043d\\u0438\\u0435 \\u043e \\u0442\\u043e\\u043c, \\u0447\\u0442\\u043e \\u0434\\u0435\\u043d\\u044c\\u0433\\u0438 \\u0441\\u044a\\u0435\\u043b \\u0431\\u0430\\u043d\\u043a\\u043e\\u043c\\u0430\\u0442 \\u0438 \\u0432\\u0438\\u043d\\u0430 \\u0432 \\u043f\\u0440\\u043e\\u0441\\u0440\\u043e\\u0447\\u043a\\u0435 \\u043d\\u0435 \\u043c\\u043e\\u044f. \\u041d\\u0430 \\u0447\\u0442\\u043e \\u0441\\u0443\\u0440\\u043e\\u0432\\u044b\\u0435 \\u0434\\u044f\\u0434\\u0435\\u043d\\u044c\\u043a\\u0438 \\u0438 \\u0442\\u0435\\u0442\\u0435\\u043d\\u044c\\u043a\\u0438 \\u043a\\u0440\\u0438\\u0447\\u0430\\u043b\\u0438 \\u0432 \\u0442\\u0440\\u0443\\u0431\\u043a\\u0443 \\u0447\\u0442\\u043e \\u0438\\u0441\\u043f\\u043e\\u0440\\u0442\\u044f\\u0442 \\u043c\\u043e\\u044e \\u043a\\u0440\\u0435\\u0434\\u0438\\u0442\\u043d\\u0443\\u044e \\u0438\\u0441\\u0442\\u043e\\u0440\\u0438\\u044e. \\u042d\\u0442\\u043e \\u043e\\u043d\\u0438 \\u043a\\u0440\\u0438\\u0447\\u0430\\u043b\\u0438 \\u043c\\u043d\\u0435, \\u043a\\u043e\\u0442\\u043e\\u0440\\u0430\\u044f \\u043d\\u0438 \\u0434\\u043d\\u044f \\u043f\\u0440\\u043e\\u0441\\u0440\\u043e\\u0447\\u043a\\u0438 \\u043d\\u0435 \\u0434\\u043e\\u043f\\u0443\\u0441\\u043a\\u0430\\u043b\\u0430!!! \\u041f\\u043e\\u0437\\u0432\\u043e\\u043d\\u0438\\u043b\\u0430 \\u043d\\u0430 \\u0433\\u043e\\u0440\\u044f\\u0447\\u0443\\u044e \\u043b\\u0438\\u043d\\u0438\\u044e, \\u0443\\u0437\\u043d\\u0430\\u043b\\u0430 \\u0447\\u0442\\u043e \\u0437\\u0430\\u044f\\u0432\\u043b\\u0435\\u043d\\u0438\\u0435 \\u0432 \\u0440\\u0430\\u0431\\u043e\\u0442\\u0435, \\u0430 \\u0441\\u0440\\u043e\\u043a \\u0440\\u0430\\u0441\\u0441\\u043c\\u043e\\u0442\\u0440\\u0435\\u043d\\u0438\\u044f \\u043f\\u0440\\u0435\\u0442\\u0435\\u043d\\u0437\\u0438\\u0438 15 \\u0434\\u043d\\u0435\\u0439. \\u0420\\u0430\\u0441\\u0441\\u0442\\u0440\\u043e\\u0438\\u043b\\u0430\\u0441\\u044c. \\u041e\\u043f\\u044f\\u0442\\u044c \\u043e\\u0431\\u044a\\u044f\\u0441\\u043d\\u044f\\u043b\\u0430 \\u0441\\u0438\\u0442\\u0443\\u0430\\u0446\\u0438\\u044e \\u043e\\u0442\\u0434\\u0435\\u043b\\u0443 \\u043f\\u0440\\u043e\\u0441\\u0440\\u043e\\u0447\\u0435\\u043d\\u043d\\u043e\\u0439 \\u0437\\u0430\\u0434\\u043e\\u043b\\u0436\\u0435\\u043d\\u043d\\u043e\\u0441\\u0442\\u0438. \\u041d\\u0435\\u0443\\u0436\\u0435\\u043b\\u0438 \\u0440\\u0430\\u0437\\u043d\\u044b\\u0435 \\u043f\\u043e\\u0434\\u0440\\u0430\\u0437\\u0434\\u0435\\u043b\\u0435\\u043d\\u0438\\u044f \\u0431\\u0430\\u043d\\u043a\\u0430 \\u043d\\u0435 \\u043a\\u043e\\u043d\\u0442\\u0430\\u043a\\u0442\\u0438\\u0440\\u0443\\u044e\\u0442 \\u043c\\u0435\\u0436\\u0434\\u0443 \\u0441\\u043e\\u0431\\u043e\\u0439??? \\u0422\\u0435\\u043b\\u0435\\u0444\\u043e\\u043d \\u0438\\u043c \\u0447\\u0442\\u043e-\\u043b\\u0438 \\u043f\\u043e\\u0434\\u0430\\u0440\\u0438\\u0442\\u044c??!!! \\u0412\\u0447\\u0435\\u0440\\u0430 \\u043f\\u043e\\u0448\\u043b\\u0430 \\u043f\\u043b\\u0430\\u0442\\u0438\\u0442\\u044c \\u0432\\u0442\\u043e\\u0440\\u043e\\u0439 \\u043a\\u0440\\u0435\\u0434\\u0438\\u0442, \\u043e\\u043f\\u044f\\u0442\\u044c \\u0436\\u0435 \\u0437\\u0430\\u0440\\u0430\\u043d\\u0435\\u0435. \\u0422\\u0430\\u043a \\u043e\\u043d\\u0438 \\u0441\\u043f\\u0438\\u0441\\u0430\\u043b\\u0438 \\u0441\\u0440\\u0435\\u0434\\u0441\\u0442\\u0432\\u0430 \\u043d\\u0430 \\u043f\\u0440\\u043e\\u0441\\u0440\\u043e\\u0447\\u0435\\u043d\\u043d\\u044b\\u0439 \\u043a\\u0440\\u0435\\u0434\\u0438\\u0442. \\u0422\\u0435\\u043f\\u0435\\u0440\\u044c \\u0436\\u0434\\u0443 \\u0447\\u0442\\u043e 18.08 \\u043f\\u0440\\u043e\\u0439\\u0434\\u0435\\u0442 \\u0441\\u0440\\u043e\\u043a \\u0441\\u043f\\u0438\\u0441\\u0430\\u043d\\u0438\\u044f \\u043f\\u043e \\u0432\\u0442\\u043e\\u0440\\u043e\\u043c\\u0443 \\u043a\\u0440\\u0435\\u0434\\u0438\\u0442\\u0443 \\u0438 \\u0441\\u043d\\u043e\\u0432\\u0430 \\u043d\\u0430\\u0447\\u043d\\u0443\\u0442\\u0441\\u044f \\u0437\\u0432\\u043e\\u043d\\u043a\\u0438, \\u0438 \\u043f\\u0440\\u0438\\u0434\\u0435\\u0442\\u0441\\u044f \\u0441\\u043d\\u043e\\u0432\\u0430 \\u0432\\u0441\\u0435 \\u043e\\u0431\\u044a\\u044f\\u0441\\u043d\\u044f\\u0442\\u044c. \\u0410 \\u043f\\u0440\\u0435\\u0442\\u0435\\u043d\\u0437\\u0438\\u044e \\u0435\\u0449\\u0435 \\u0434\\u043e 26.08 \\u043c\\u043e\\u0433\\u0443\\u0442 \\u0440\\u0430\\u0441\\u0441\\u043c\\u0430\\u0442\\u0440\\u0438\\u0432\\u0430\\u0442\\u044c!!! \\u0410, \\u043a\\u0441\\u0442\\u0430\\u0442\\u0438, \\u0441\\u043d\\u044f\\u043b\\u0438 \\u043e\\u043d\\u0438 \\u0434\\u0435\\u043d\\u044c\\u0433\\u0438 \\u0441\\u043e \\u0432\\u0442\\u043e\\u0440\\u043e\\u0433\\u043e \\u043a\\u0440\\u0435\\u0434\\u0438\\u0442\\u0430 \\u0432 \\u0441\\u0447\\u0435\\u0442 \\u043f\\u043e\\u0433\\u0430\\u0448\\u0435\\u043d\\u0438\\u044f \\u043f\\u0435\\u0440\\u0432\\u043e\\u0433\\u043e, \\u043f\\u043e\\u0437\\u0432\\u043e\\u043d\\u0438\\u043b\\u0438 \\u0438 \\u0441\\u043a\\u0430\\u0437\\u0430\\u043b\\u0438 \\u0447\\u0442\\u043e \\u0434\\u043e\\u043b\\u0433 \\u0437\\u0430\\u043a\\u0440\\u044b\\u0442...\\u041d\\u041e!!!...\\u0437\\u0432\\u043e\\u043d\\u043a\\u0438 \\u0441 \\u0430\\u0432\\u0442\\u043e\\u043e\\u0442\\u0432\\u0435\\u0442\\u0447\\u0438\\u043a\\u0430 \\u043f\\u0440\\u043e\\u0434\\u043e\\u043b\\u0436\\u0430\\u044e\\u0442\\u0441\\u044f. \\u0410\\u0432\\u0442\\u043e\\u043e\\u0442\\u0432\\u0435\\u0442\\u0447\\u0438\\u043a \\u0435\\u0449\\u0435 2 \\u0434\\u043d\\u044f \\u0431\\u0443\\u0434\\u0435\\u0442 \\u0442\\u0440\\u0435\\u0431\\u043e\\u0432\\u0430\\u0442\\u044c \\u043f\\u043e\\u0433\\u0430\\u0441\\u0438\\u0442\\u044c \\u0437\\u0430\\u0434\\u043e\\u043b\\u0436\\u0435\\u043d\\u043d\\u043e\\u0441\\u0442\\u044c. \\u0412\\u0438\\u0434\\u0438\\u0442\\u0435-\\u043b\\u0438 \\u0441\\u0438\\u0441\\u0442\\u0435\\u043c\\u0430 \\u0443 \\u043d\\u0438\\u0445 \\u0442\\u0430\\u043a\\u0430\\u044f!!! \\u0414\\u043e\\u0441\\u0442\\u0430\\u043b\\u0438 \\u0437\\u0432\\u043e\\u043d\\u043a\\u0430\\u043c\\u0438 \\u043c\\u0435\\u043d\\u044f(\\u0430 \\u0431\\u044b\\u043b\\u0438 \\u0432\\u044b\\u0445\\u043e\\u0434\\u043d\\u044b\\u0435 \\u0438 \\u0437\\u0432\\u043e\\u043d\\u0438\\u043b\\u0438 \\u0441 9 \\u0443\\u0442\\u0440\\u0430!! \\u041f\\u043e\\u0441\\u043f\\u0430\\u0442\\u044c \\u043d\\u0435 \\u0434\\u0430\\u043b\\u0438 \\u043d\\u0438 \\u0441\\u0443\\u0431\\u0431\\u043e\\u0442\\u0443, \\u043d\\u0438 \\u0432\\u043e\\u0441\\u043a\\u0440\\u0435\\u0441\\u0435\\u043d\\u044c\\u0435. \\u0417\\u0432\\u043e\\u043d\\u0438\\u043b\\u0438 \\u043c\\u043e\\u0435\\u0439 \\u043c\\u0430\\u043c\\u0435, \\u0431\\u043b\\u0430\\u0433\\u043e \\u043f\\u0440\\u0435\\u0434\\u0443\\u043f\\u0440\\u0435\\u0434\\u0438\\u043b\\u0430 \\u0435\\u0435 \\u043e \\u0437\\u0432\\u043e\\u043d\\u043a\\u0430\\u0445) \\u0412 \\u043e\\u0431\\u0449\\u0435\\u043c \\u043e\\u0447\\u0435\\u043d\\u044c \\u0440\\u0435\\u043a\\u043e\\u043c\\u0435\\u043d\\u0434\\u0443\\u044e \\u0441\\u043e\\u0442\\u0440\\u0443\\u0434\\u043d\\u0438\\u043a\\u0430\\u043c \\u0431\\u0430\\u043d\\u043a\\u0430 \\u0438\\u043c\\u0435\\u0442\\u044c \\u0442\\u0435\\u043b\\u0435\\u0444\\u043e\\u043d, \\u0441\\u043a\\u0430\\u0439\\u043f, \\u0432\\u043e\\u0442\\u0441\\u0430\\u043f, \\u043a\\u043e\\u043d\\u0442\\u0430\\u043a\\u0442 \\u0438\\u043b\\u0438 \\u0435\\u0449\\u0435 \\u043a\\u0430\\u043a\\u0438\\u0435-\\u043d\\u0438\\u0431\\u0443\\u0434\\u044c \\u0441\\u0440\\u0435\\u0434\\u0441\\u0442\\u0432\\u0430 \\u0441\\u0432\\u044f\\u0437\\u0438, \\u0447\\u0442\\u043e\\u0431 \\u043c\\u043e\\u0433\\u043b\\u0438 \\u0434\\u0440\\u0443\\u0433 \\u0441 \\u0434\\u0440\\u0443\\u0433\\u043e\\u043c \\u043e\\u0431\\u0449\\u0430\\u0442\\u044c\\u0441\\u044f!! \\u0414\\u0430\\u043d\\u043d\\u044b\\u0439 \\u0431\\u0430\\u043d\\u043a \\u0432 \\u043c\\u043e\\u0438\\u0445 \\u0433\\u043b\\u0430\\u0437\\u0430\\u0445 \\u043e\\u043a\\u043e\\u043d\\u0447\\u0430\\u0442\\u0435\\u043b\\u044c\\u043d\\u043e \\u043f\\u043e\\u0442\\u0435\\u0440\\u044f\\u043b \\u0441\\u0432\\u043e\\u044e \\u0440\\u0435\\u043f\\u0443\\u0442\\u0430\\u0446\\u0438\\u044e.\",\n          \"\\n\\t\\t\\u0421\\u043e\\u0431\\u0441\\u0442\\u0432\\u0435\\u043d\\u043d\\u043e \\u0432\\u0441\\u0435 \\u043d\\u0430\\u0447\\u0438\\u043d\\u0430\\u043b\\u043e\\u0441\\u044c \\u043f\\u0435\\u0447\\u0430\\u043b\\u044c\\u043d\\u043e: \\u0432 \\u043f\\u0440\\u043e\\u0441\\u0442\\u043e\\u043c \\u0434\\u0435\\u043b\\u0435 - \\u043f\\u0435\\u0440\\u0435\\u0432\\u043e\\u0434\\u0435 \\u0434\\u0435\\u043d. \\u0441\\u0440\\u0435\\u0434\\u0441\\u0442\\u0432 \\u0441\\u043e \\u0441\\u0432\\u043e\\u0435\\u0433\\u043e \\u0441\\u0447\\u0435\\u0442\\u0430 \\u043d\\u0430 \\u0441\\u0447\\u0435\\u0442 3-\\u0433\\u043e \\u0444\\u0438\\u0437\\u043b\\u0438\\u0446\\u0430 \\u0447\\u0435\\u0440\\u0435\\u0437 \\u0438\\u043d\\u0442\\u0435\\u0440\\u043d\\u0435\\u0442-\\u0431\\u0430\\u043d\\u043a \\u043f\\u0440\\u043e\\u0438\\u0441\\u0445\\u043e\\u0434\\u0438\\u043b\\u043e \\u043e\\u0442\\u043a\\u043b\\u043e\\u043d\\u0435\\u043d\\u0438\\u0435 \\u043e\\u043f\\u0435\\u0440\\u0430\\u0446\\u0438\\u0438 \\u0442\\u0440\\u0438 \\u0440\\u0430\\u0437\\u0430, \\u0430 \\u043f\\u043e\\u0442\\u043e\\u043c \\u0418\\u0411 \\u0441\\u043e\\u0432\\u0441\\u0435\\u043c \\\"\\u043e\\u0442\\u0432\\u0430\\u043b\\u0438\\u043b\\u0441\\u044f\\\". \\u00a0\\u041f\\u0440\\u0438 \\u044d\\u0442\\u043e\\u043c \\u0445\\u043e\\u0442\\u0435\\u043b\\u043e\\u0441\\u044c \\u0431\\u044b \\u043e\\u0442\\u043c\\u0435\\u0442\\u0438\\u0442\\u044c, \\u0447\\u0442\\u043e \\u043a\\u043e\\u043c\\u0438\\u0441\\u0441\\u0438\\u0438 \\u043f\\u0440\\u0438 \\u043f\\u0435\\u0440\\u0435\\u0432\\u043e\\u0434\\u0435 \\u0432 \\u0418\\u0411 \\u043d\\u0435 \\u0431\\u044b\\u043b\\u043e. \\u00a0\\u0423\\u0436\\u0435 \\u043f\\u0440\\u0438 \\u043b\\u0438\\u0447\\u043d\\u043e\\u043c \\u043e\\u0431\\u0440\\u0430\\u0449\\u0435\\u043d\\u0438\\u0438 \\u0432 \\u043e\\u0444\\u0438\\u0441 \\\"\\u041a\\u0440\\u0430\\u0441\\u043d\\u043e\\u0430\\u0440\\u043c\\u0435\\u0439\\u0441\\u043a\\u0438\\u0439\\\" \\u041e\\u041a\\u0410\\u0417\\u0410\\u041b\\u041e\\u0421\\u042c, \\u0447\\u0442\\u043e \\u0434\\u043b\\u044f \\u0444\\u0438\\u0437\\u0438\\u043a\\u043e\\u0432 \\u0432\\u043d\\u0443\\u0442\\u0440\\u0438\\u0431\\u0430\\u043d\\u043a\\u043e\\u0432\\u0441\\u043a\\u0438\\u0439 \\u043f\\u0435\\u0440\\u0435\\u0432\\u043e\\u0434 \\u043c\\u0435\\u0436\\u0434\\u0443 \\u0441\\u0432\\u043e\\u0438\\u043c\\u0438 \\u0436\\u0435 \\u0444\\u0438\\u043b\\u0438\\u0430\\u043b\\u0430\\u043c\\u0438 \\u043e\\u0431\\u043b\\u0430\\u0433\\u0430\\u0435\\u0442\\u0441\\u044f \\u043a\\u043e\\u043c\\u0438\\u0441\\u0441\\u0438\\u0435\\u0439 (\\u043f\\u043e-\\u043c\\u043e\\u0435\\u043c\\u0443 1,5 %, \\u043d\\u043e \\u0442\\u043e\\u0447\\u043d\\u043e \\u043c\\u0430\\u043a\\u0441 2000 \\u0440\\u0443\\u0431\\u043b\\u0435\\u0439). \\u0420\\u0435\\u0431\\u044f\\u0442\\u0430, \\u043d\\u0430 \\u0434\\u0432\\u043e\\u0440\\u0435 \\u0441\\u043a\\u043e\\u0440\\u043e 2019 \\u0433\\u043e\\u0434!!!!\\u00a0\\u0418 \\u0442\\u043e\\u043b\\u044c\\u043a\\u043e \\u0431\\u043b\\u0430\\u0433\\u043e\\u0434\\u0430\\u0440\\u044f \\u043d\\u0435\\u043a\\u043e\\u0442\\u043e\\u0440\\u044b\\u043c \\u0441\\u043e\\u0442\\u0440\\u0443\\u0434\\u043d\\u0438\\u043a\\u0430\\u043c \\u0431\\u0430\\u043d\\u043a\\u0430 \\u0438 \\u043f\\u043e\\u0442\\u0440\\u0430\\u0447\\u0435\\u043d\\u043d\\u044b\\u043c 1,5 \\u0447\\u0430\\u0441\\u0430\\u043c \\u0432\\u0440\\u0435\\u043c\\u0435\\u043d\\u0438 \\u0443\\u0434\\u0430\\u043b\\u043e\\u0441\\u044c \\u0432\\u0441\\u0435 \\u0436\\u0435 \\u043e\\u0442\\u043f\\u0440\\u0430\\u0432\\u0438\\u0442\\u044c \\u0434\\u0435\\u043d\\u044c\\u0433\\u0438 \\u043d\\u0430 \\u0441\\u0447\\u0435\\u0442 \\u0431\\u0435\\u0437 %. \\u00a0\\u0421\\u043e\\u0442\\u0440\\u0443\\u0434\\u043d\\u0438\\u043a\\u0430\\u043c \\u0441\\u043f\\u0430\\u0441\\u0438\\u0431\\u043e \\u0437\\u0430 \\u0440\\u0435\\u0448\\u0435\\u043d\\u0438\\u0435 \\u043f\\u0440\\u043e\\u0431\\u043b\\u0435\\u043c\\u044b. \\u0410 \\u0440\\u0443\\u043a\\u043e\\u0432\\u043e\\u0434\\u0441\\u0442\\u0432\\u0443 \\u041e\\u0442\\u043a\\u0440\\u044b\\u0442\\u0438\\u044f \\u043f\\u043e\\u0441\\u043e\\u0432\\u0435\\u0442\\u043e\\u0432\\u0430\\u043b \\u0431\\u044b \\u0432\\u0441\\u0435 \\u0436\\u0435 \\u043f\\u043e\\u0432\\u044b\\u0448\\u0430\\u0442\\u044c \\u041a\\u041f\\u0414 \\u0431\\u0430\\u043d\\u043a\\u0430 - \\u043d\\u0435 \\u0436\\u0430\\u043b\\u043a\\u043e \\u0442\\u0440\\u0430\\u0442\\u0438\\u0442\\u044c \\u00a01,5 \\u0447\\u0430\\u0441\\u0430 \\u0440\\u0430\\u0431\\u043e\\u0447\\u0435\\u0433\\u043e \\u0432\\u0440\\u0435\\u043c\\u0435\\u043d\\u0438 \\u0441\\u043e\\u0442\\u0440\\u0443\\u0434\\u043d\\u0438\\u043a\\u043e\\u0432 \\u0441\\u0432\\u043e\\u0435\\u0433\\u043e \\u0431\\u0430\\u043d\\u043a\\u0430 \\u043d\\u0430 \\u043f\\u0440\\u043e\\u0441\\u0442\\u0435\\u0439\\u0448\\u0438\\u0439 \\u043f\\u0435\\u0440\\u0435\\u0432\\u043e\\u0434 \\u043c\\u0435\\u0436\\u0434\\u0443 \\u0441\\u0447\\u0435\\u0442\\u0430\\u043c\\u0438???\\n\\t\",\n          \"\\n\\t\\t\\u0412 2017 \\u0433\\u043e\\u0434\\u0443 \\u0437\\u0430\\u043a\\u0440\\u044b\\u043b \\u043a\\u0440\\u0435\\u0434\\u0438\\u0442\\u043d\\u0443\\u044e \\u043a\\u0430\\u0440\\u0442\\u0443 \\u0432 \\u043e\\u0442\\u0434\\u0435\\u043b\\u0435\\u043d\\u0438\\u0438 \\u0431\\u0430\\u043d\\u043a\\u0430 \\\"\\u0412\\u0430\\u0440\\u0448\\u0430\\u0432\\u0441\\u043a\\u0438\\u0439\\\", \\u0433.\\u041c\\u043e\\u0441\\u043a\\u0432\\u0430.\\u0412 2018-\\u0433\\u043e\\u0434\\u0443 \\u043e\\u0431\\u043d\\u0430\\u0440\\u0443\\u0436\\u0438\\u043b \\u0432 \\u043e\\u0442\\u0447\\u0435\\u0442\\u0435 \\u0438\\u0437 \\u0411\\u041a\\u0418 - \\u0437\\u0430\\u043f\\u0438\\u0441\\u044c \\u043e\\u0431 \\u044d\\u0442\\u043e\\u0439 \\u043a\\u0430\\u0440\\u0442\\u0435 \\u0438 \\u043d\\u0430\\u043b\\u0438\\u0447\\u0438\\u0438 \\u0434\\u043e\\u043b\\u0433\\u0430 \\u0438\\u00a0 \\u043f\\u0440\\u043e\\u0441\\u0440\\u043e\\u0447\\u043a\\u0438 \\u0431\\u043e\\u043b\\u0435\\u0435 120 \\u0434\\u043d\\u0435\\u0439, \\u043e\\u0431\\u0440\\u0430\\u0442\\u0438\\u043b\\u0441\\u044f \\u0432 \\u043e\\u0444\\u0438\\u0441 \\u00a0\\\"\\u0412\\u0430\\u0440\\u0448\\u0430\\u0432\\u0441\\u043a\\u0438\\u0439\\\", \\u0433.\\u041c\\u043e\\u0441\\u043a\\u0432\\u0430 -\\u00a0\\u0440\\u0430\\u0437\\u0432\\u0435\\u043b\\u0438 \\u0440\\u0443\\u043a\\u0430\\u043c\\u0438, \\u0441\\u043a\\u0430\\u0437\\u0430\\u043b\\u0438 \\u0447\\u0442\\u043e \\u043d\\u0435 \\u0432 \\u043a\\u0443\\u0440\\u0441\\u0435 \\u0438 \\u043d\\u0438\\u0447\\u0435\\u0433\\u043e \\u0441\\u0434\\u0435\\u043b\\u0430\\u0442\\u044c \\u043d\\u0435 \\u043c\\u043e\\u0433\\u0443\\u0442. \\u041f\\u043e\\u0440\\u0435\\u043a\\u043e\\u043c\\u0435\\u043d\\u0434\\u043e\\u0432\\u0430\\u043b\\u0438 \\u043e\\u0431\\u0440\\u0430\\u0442\\u0438\\u0442\\u044c\\u0441\\u044f \\u0432 \\u0411\\u041a\\u0418 \\u043c\\u043d\\u0435 \\u0441\\u0430\\u043c\\u043e\\u0441\\u0442\\u043e\\u044f\\u0442\\u0435\\u043b\\u044c\\u043d\\u043e \\u0438 \\u0432\\u044b\\u0434\\u0430\\u043b\\u0438 \\u043d\\u0430 \\u0432\\u0441\\u044f\\u043a\\u0438\\u0439 \\u0441\\u043b\\u0443\\u0447\\u0430\\u0439 \\u0441\\u043f\\u0440\\u0430\\u0432\\u043e\\u0447\\u043a\\u0438 \\u043e \\u0437\\u0430\\u043a\\u0440\\u044b\\u0442\\u0438\\u0438 \\u0441\\u0447\\u0435\\u0442\\u043e\\u0432.\\u00a0\\u041e\\u0442\\u043f\\u0440\\u0430\\u0432\\u0438\\u043b \\u0441\\u043f\\u0440\\u0430\\u0432\\u043e\\u0447\\u043a\\u0438 \\u0432 \\u0411\\u041a\\u0418, \\u0441\\u043f\\u0440\\u0430\\u0432\\u043a\\u0438 \\u043f\\u0440\\u0438\\u043d\\u044f\\u043b\\u0438, \\u043d\\u043e \\u0438\\u043d\\u0444\\u043e\\u0440\\u043c\\u0430\\u0446\\u0438\\u044f \\u0438\\u0437 \\u043a\\u0440\\u0435\\u0434\\u0438\\u0442\\u043d\\u043e\\u0439 \\u0438\\u0441\\u0442\\u043e\\u0440\\u0438\\u0438 \\u043d\\u0435 \\u043f\\u0440\\u043e\\u043f\\u0430\\u043b\\u0430. \\u0412 \\u0411\\u041a\\u0418 \\u0441\\u043a\\u0430\\u0437\\u0430\\u043b\\u0438 \\u0447\\u0442\\u043e \\u0442\\u0430\\u043a\\u0438\\u0435 \\u0434\\u0430\\u043d\\u043d\\u044b\\u0435 \\u0438\\u043c \\u043f\\u0435\\u0440\\u0435\\u0434\\u0430\\u0435\\u0442 \\u0431\\u0430\\u043d\\u043a.\\u041f\\u0440\\u043e\\u0448\\u0435\\u043b \\u0435\\u0449\\u0435 \\u0433\\u043e\\u0434.\\u0412 2019-\\u0433\\u043e\\u0434\\u0443 \\u0432 \\u043e\\u0442\\u0447\\u0435\\u0442\\u0435 \\u0438\\u0437 \\u0411\\u041a\\u0418 - \\u0432\\u0441\\u0435 \\u0442\\u0430 \\u0436\\u0435 \\u0437\\u0430\\u043f\\u0438\\u0441\\u044c \\u043e \\u043d\\u0430\\u043b\\u0438\\u0447\\u0438\\u0438 \\u0434\\u043e\\u043b\\u0433\\u0430 \\u043f\\u043e \\u043a\\u0440\\u0435\\u0434\\u0438\\u0442\\u043d\\u043e\\u0439 \\u043a\\u0430\\u0440\\u0442\\u0435 \\u0438 \\u043f\\u0440\\u043e\\u0441\\u0440\\u043e\\u0447\\u043a\\u0435.\\u00a0\\u041d\\u0443\\u0436\\u043d\\u043e \\u043b\\u0438 \\u0433\\u043e\\u0432\\u043e\\u0440\\u0438\\u0442\\u044c \\u043e \\u0442\\u043e\\u043c, \\u0447\\u0442\\u043e \\u044d\\u0442\\u043e \\u0435\\u0434\\u0438\\u043d\\u0441\\u0442\\u0432\\u0435\\u043d\\u043d\\u0430\\u044f \\u043f\\u0430\\u0440\\u0448\\u0438\\u0432\\u0430\\u044f \\u0437\\u0430\\u043f\\u0438\\u0441\\u044c \\u0432 \\u043c\\u043e\\u0435\\u0439 \\u0431\\u0435\\u0437\\u043e\\u0431\\u043b\\u0430\\u0447\\u043d\\u043e\\u0439 \\u043a\\u0440\\u0435\\u0434\\u0438\\u0442\\u043d\\u043e\\u0439 \\u0438\\u0441\\u0442\\u043e\\u0440\\u0438\\u0438 - \\u0438 \\u0438\\u0437 \\u0437\\u0430 \\u043d\\u0435\\u0435 \\u044f \\u043b\\u0438\\u0448\\u0430\\u044e\\u0441\\u044c \\u0432\\u043e\\u0437\\u043c\\u043e\\u0436\\u043d\\u043e\\u0441\\u0442\\u0438 \\u043f\\u043e\\u043b\\u044c\\u0437\\u043e\\u0432\\u0430\\u0442\\u044c\\u0441\\u044f \\u0432\\u044b\\u0433\\u043e\\u0434\\u043d\\u044b\\u043c\\u0438 \\u043a\\u0440\\u0435\\u0434\\u0438\\u0442\\u043d\\u044b\\u043c\\u0438 \\u043f\\u0440\\u043e\\u0434\\u0443\\u043a\\u0442\\u0430\\u043c\\u0438 \\u0434\\u0440\\u0443\\u0433\\u0438\\u0445 \\u0431\\u0430\\u043d\\u043a\\u043e\\u0432?\\u0421\\u0430\\u043c\\u0438 \\u0448\\u0435\\u0432\\u0435\\u043b\\u0438\\u0442\\u044c\\u0441\\u044f \\u043d\\u0435 \\u0445\\u043e\\u0442\\u044f\\u0442\\u00a0 - \\u043f\\u043e\\u0441\\u043b\\u0430\\u0442\\u044c \\u043a\\u043b\\u0438\\u0435\\u043d\\u0442\\u0430 \\u0432 \\u0411\\u041a\\u0418 \\u0441\\u0430\\u043c\\u043e\\u0441\\u0442\\u043e\\u044f\\u0442\\u0435\\u043b\\u044c\\u043d\\u043e \\u0438\\u0441\\u043f\\u0440\\u0430\\u0432\\u043b\\u044f\\u0442\\u044c \\u0438\\u0445 \\u043e\\u0448\\u0438\\u0431\\u043a\\u0438 - \\u044d\\u0442\\u043e \\u043a\\u043e\\u043d\\u0435\\u0447\\u043d\\u043e \\u0432\\u044b\\u0441\\u0448\\u0438\\u0439 \\u043a\\u043b\\u0430\\u0441\\u0441.\\n\\t\"\n        ],\n        \"semantic_type\": \"\",\n        \"description\": \"\"\n      }\n    },\n    {\n      \"column\": \"bank_name\",\n      \"properties\": {\n        \"dtype\": \"category\",\n        \"num_unique_values\": 475,\n        \"samples\": [\n          \"\\u0431\\u0430\\u043d\\u043a \\u0442\\u0430\\u0432\\u0440\\u0438\\u0447\\u0435\\u0441\\u043a\\u0438\\u0439\",\n          \"\\u043b\\u0435\\u043d\\u043e\\u0431\\u043b\\u0431\\u0430\\u043d\\u043a\",\n          \"\\u0440\\u0443\\u0441\\u0444\\u0438\\u043d\\u0430\\u043d\\u0441 \\u0431\\u0430\\u043d\\u043a\"\n        ],\n        \"semantic_type\": \"\",\n        \"description\": \"\"\n      }\n    },\n    {\n      \"column\": \"site\",\n      \"properties\": {\n        \"dtype\": \"category\",\n        \"num_unique_values\": 3,\n        \"samples\": [\n          \"http://bankireview.ru\",\n          \"http://banki.ru\",\n          \"https://www.sravni.ru\"\n        ],\n        \"semantic_type\": \"\",\n        \"description\": \"\"\n      }\n    },\n    {\n      \"column\": \"date\",\n      \"properties\": {\n        \"dtype\": \"category\",\n        \"num_unique_values\": 11027,\n        \"samples\": [\n          \"29.01.2019 20:04\",\n          \"16.01.2019 18:07\",\n          \"15.01.2019 0:03\"\n        ],\n        \"semantic_type\": \"\",\n        \"description\": \"\"\n      }\n    },\n    {\n      \"column\": \"message_href\",\n      \"properties\": {\n        \"dtype\": \"category\",\n        \"num_unique_values\": 7673,\n        \"samples\": [\n          \"/bank/tatfondbank/otzyv/185768/?page\",\n          \"/bank/russkij-standart/otzyv/175724/?page\",\n          \"/bank/khanty-mansijskij-bank-otkrytie/otzyv/192725/?page\"\n        ],\n        \"semantic_type\": \"\",\n        \"description\": \"\"\n      }\n    },\n    {\n      \"column\": \"score\",\n      \"properties\": {\n        \"dtype\": \"category\",\n        \"num_unique_values\": 6,\n        \"samples\": [\n          \"\\u0411\\u0435\\u0437 \\u043e\\u0446\\u0435\\u043d\\u043a\\u0438\",\n          \"1\",\n          \"4\"\n        ],\n        \"semantic_type\": \"\",\n        \"description\": \"\"\n      }\n    },\n    {\n      \"column\": \"status\",\n      \"properties\": {\n        \"dtype\": \"category\",\n        \"num_unique_values\": 1157,\n        \"samples\": [\n          \"=message_href =/services/responses/bank/response/10224330/\",\n          \"=message_href =/services/responses/bank/response/10224139/\",\n          \"=message_href =/services/responses/bank/response/10233063/\"\n        ],\n        \"semantic_type\": \"\",\n        \"description\": \"\"\n      }\n    },\n    {\n      \"column\": \"user_href\",\n      \"properties\": {\n        \"dtype\": \"category\",\n        \"num_unique_values\": 10347,\n        \"samples\": [\n          \"/profile/?UID=135067\",\n          \"/profile/?UID=1599446\",\n          \"/profile/?UID=963445\"\n        ],\n        \"semantic_type\": \"\",\n        \"description\": \"\"\n      }\n    }\n  ]\n}"
            }
          },
          "metadata": {},
          "execution_count": 70
        }
      ]
    },
    {
      "cell_type": "code",
      "source": [
        "print(data['review'].isnull().value_counts())\n",
        "print(data['bank_name'].value_counts())"
      ],
      "metadata": {
        "colab": {
          "base_uri": "https://localhost:8080/"
        },
        "id": "2fYJC-pvoOuL",
        "outputId": "045f17f1-9f43-43ab-e1c9-6d116178179a"
      },
      "execution_count": null,
      "outputs": [
        {
          "output_type": "stream",
          "name": "stdout",
          "text": [
            "False    23810\n",
            "Name: review, dtype: int64\n",
            "втб                             2603\n",
            "сбербанк                        2481\n",
            "тинькофф банк                   1476\n",
            "почта банк                      1264\n",
            "альфа-банк                      1260\n",
            "                                ... \n",
            "национальный банк сбережений       1\n",
            "электронный платежный сервис       1\n",
            "внешфинбанк                        1\n",
            "металлург                          1\n",
            "банк развитие-столица              1\n",
            "Name: bank_name, Length: 475, dtype: int64\n"
          ]
        },
        {
          "output_type": "stream",
          "name": "stderr",
          "text": [
            "/usr/local/lib/python3.10/dist-packages/ipykernel/ipkernel.py:283: DeprecationWarning: `should_run_async` will not call `transform_cell` automatically in the future. Please pass the result to `transformed_cell` argument and any exception that happen during thetransform in `preprocessing_exc_tuple` in IPython 7.17 and above.\n",
            "  and should_run_async(code)\n"
          ]
        }
      ]
    },
    {
      "cell_type": "code",
      "source": [
        "data = data[data['bank_name'] == 'втб']\n",
        "data.head()"
      ],
      "metadata": {
        "colab": {
          "base_uri": "https://localhost:8080/",
          "height": 365
        },
        "id": "rLx5kmU1on27",
        "outputId": "5e055aa0-e54d-4b89-e0d9-1969db36f810"
      },
      "execution_count": null,
      "outputs": [
        {
          "output_type": "stream",
          "name": "stderr",
          "text": [
            "/usr/local/lib/python3.10/dist-packages/ipykernel/ipkernel.py:283: DeprecationWarning: `should_run_async` will not call `transform_cell` automatically in the future. Please pass the result to `transformed_cell` argument and any exception that happen during thetransform in `preprocessing_exc_tuple` in IPython 7.17 and above.\n",
            "  and should_run_async(code)\n"
          ]
        },
        {
          "output_type": "execute_result",
          "data": {
            "text/plain": [
              "              bank_href login  \\\n",
              "1051  /bank-moskvy.html   NaN   \n",
              "1052  /bank-moskvy.html   NaN   \n",
              "1053  /bank-moskvy.html   NaN   \n",
              "1054  /bank-moskvy.html   NaN   \n",
              "1055  /bank-moskvy.html   NaN   \n",
              "\n",
              "                                                                                                   review  \\\n",
              "1051  Сменила пароль в интернет-банке - по-новому не пускает. После нескольких попыток заблокировали в...   \n",
              "1052  Вeб-чат: 17:19:23Спасибо за проявленный интерес к нашей услуге. В течение нескольких секунд наш ...   \n",
              "1053  Воруют деньги с карты, давно заметил, что пропадают деньги со счёта, не много, когда 100, когда ...   \n",
              "1054  В \"рекламе\" и договоре написано, что на социальную карту москвича на перечисленные пенсии и проч...   \n",
              "1055  Суть проблемы: открытая на мое имя карта Банка Москвы была уничтожена сотрудниками банка потому ...   \n",
              "\n",
              "     bank_name                   site date message_href score status user_href  \n",
              "1051       втб  http://bankireview.ru  NaN          NaN   NaN    NaN       NaN  \n",
              "1052       втб  http://bankireview.ru  NaN          NaN   NaN    NaN       NaN  \n",
              "1053       втб  http://bankireview.ru  NaN          NaN   NaN    NaN       NaN  \n",
              "1054       втб  http://bankireview.ru  NaN          NaN   NaN    NaN       NaN  \n",
              "1055       втб  http://bankireview.ru  NaN          NaN   NaN    NaN       NaN  "
            ],
            "text/html": [
              "\n",
              "  <div id=\"df-824fce31-d808-4751-9d61-77807af70a33\" class=\"colab-df-container\">\n",
              "    <div>\n",
              "<style scoped>\n",
              "    .dataframe tbody tr th:only-of-type {\n",
              "        vertical-align: middle;\n",
              "    }\n",
              "\n",
              "    .dataframe tbody tr th {\n",
              "        vertical-align: top;\n",
              "    }\n",
              "\n",
              "    .dataframe thead th {\n",
              "        text-align: right;\n",
              "    }\n",
              "</style>\n",
              "<table border=\"1\" class=\"dataframe\">\n",
              "  <thead>\n",
              "    <tr style=\"text-align: right;\">\n",
              "      <th></th>\n",
              "      <th>bank_href</th>\n",
              "      <th>login</th>\n",
              "      <th>review</th>\n",
              "      <th>bank_name</th>\n",
              "      <th>site</th>\n",
              "      <th>date</th>\n",
              "      <th>message_href</th>\n",
              "      <th>score</th>\n",
              "      <th>status</th>\n",
              "      <th>user_href</th>\n",
              "    </tr>\n",
              "  </thead>\n",
              "  <tbody>\n",
              "    <tr>\n",
              "      <th>1051</th>\n",
              "      <td>/bank-moskvy.html</td>\n",
              "      <td>NaN</td>\n",
              "      <td>Сменила пароль в интернет-банке - по-новому не пускает. После нескольких попыток заблокировали в...</td>\n",
              "      <td>втб</td>\n",
              "      <td>http://bankireview.ru</td>\n",
              "      <td>NaN</td>\n",
              "      <td>NaN</td>\n",
              "      <td>NaN</td>\n",
              "      <td>NaN</td>\n",
              "      <td>NaN</td>\n",
              "    </tr>\n",
              "    <tr>\n",
              "      <th>1052</th>\n",
              "      <td>/bank-moskvy.html</td>\n",
              "      <td>NaN</td>\n",
              "      <td>Вeб-чат: 17:19:23Спасибо за проявленный интерес к нашей услуге. В течение нескольких секунд наш ...</td>\n",
              "      <td>втб</td>\n",
              "      <td>http://bankireview.ru</td>\n",
              "      <td>NaN</td>\n",
              "      <td>NaN</td>\n",
              "      <td>NaN</td>\n",
              "      <td>NaN</td>\n",
              "      <td>NaN</td>\n",
              "    </tr>\n",
              "    <tr>\n",
              "      <th>1053</th>\n",
              "      <td>/bank-moskvy.html</td>\n",
              "      <td>NaN</td>\n",
              "      <td>Воруют деньги с карты, давно заметил, что пропадают деньги со счёта, не много, когда 100, когда ...</td>\n",
              "      <td>втб</td>\n",
              "      <td>http://bankireview.ru</td>\n",
              "      <td>NaN</td>\n",
              "      <td>NaN</td>\n",
              "      <td>NaN</td>\n",
              "      <td>NaN</td>\n",
              "      <td>NaN</td>\n",
              "    </tr>\n",
              "    <tr>\n",
              "      <th>1054</th>\n",
              "      <td>/bank-moskvy.html</td>\n",
              "      <td>NaN</td>\n",
              "      <td>В \"рекламе\" и договоре написано, что на социальную карту москвича на перечисленные пенсии и проч...</td>\n",
              "      <td>втб</td>\n",
              "      <td>http://bankireview.ru</td>\n",
              "      <td>NaN</td>\n",
              "      <td>NaN</td>\n",
              "      <td>NaN</td>\n",
              "      <td>NaN</td>\n",
              "      <td>NaN</td>\n",
              "    </tr>\n",
              "    <tr>\n",
              "      <th>1055</th>\n",
              "      <td>/bank-moskvy.html</td>\n",
              "      <td>NaN</td>\n",
              "      <td>Суть проблемы: открытая на мое имя карта Банка Москвы была уничтожена сотрудниками банка потому ...</td>\n",
              "      <td>втб</td>\n",
              "      <td>http://bankireview.ru</td>\n",
              "      <td>NaN</td>\n",
              "      <td>NaN</td>\n",
              "      <td>NaN</td>\n",
              "      <td>NaN</td>\n",
              "      <td>NaN</td>\n",
              "    </tr>\n",
              "  </tbody>\n",
              "</table>\n",
              "</div>\n",
              "    <div class=\"colab-df-buttons\">\n",
              "\n",
              "  <div class=\"colab-df-container\">\n",
              "    <button class=\"colab-df-convert\" onclick=\"convertToInteractive('df-824fce31-d808-4751-9d61-77807af70a33')\"\n",
              "            title=\"Convert this dataframe to an interactive table.\"\n",
              "            style=\"display:none;\">\n",
              "\n",
              "  <svg xmlns=\"http://www.w3.org/2000/svg\" height=\"24px\" viewBox=\"0 -960 960 960\">\n",
              "    <path d=\"M120-120v-720h720v720H120Zm60-500h600v-160H180v160Zm220 220h160v-160H400v160Zm0 220h160v-160H400v160ZM180-400h160v-160H180v160Zm440 0h160v-160H620v160ZM180-180h160v-160H180v160Zm440 0h160v-160H620v160Z\"/>\n",
              "  </svg>\n",
              "    </button>\n",
              "\n",
              "  <style>\n",
              "    .colab-df-container {\n",
              "      display:flex;\n",
              "      gap: 12px;\n",
              "    }\n",
              "\n",
              "    .colab-df-convert {\n",
              "      background-color: #E8F0FE;\n",
              "      border: none;\n",
              "      border-radius: 50%;\n",
              "      cursor: pointer;\n",
              "      display: none;\n",
              "      fill: #1967D2;\n",
              "      height: 32px;\n",
              "      padding: 0 0 0 0;\n",
              "      width: 32px;\n",
              "    }\n",
              "\n",
              "    .colab-df-convert:hover {\n",
              "      background-color: #E2EBFA;\n",
              "      box-shadow: 0px 1px 2px rgba(60, 64, 67, 0.3), 0px 1px 3px 1px rgba(60, 64, 67, 0.15);\n",
              "      fill: #174EA6;\n",
              "    }\n",
              "\n",
              "    .colab-df-buttons div {\n",
              "      margin-bottom: 4px;\n",
              "    }\n",
              "\n",
              "    [theme=dark] .colab-df-convert {\n",
              "      background-color: #3B4455;\n",
              "      fill: #D2E3FC;\n",
              "    }\n",
              "\n",
              "    [theme=dark] .colab-df-convert:hover {\n",
              "      background-color: #434B5C;\n",
              "      box-shadow: 0px 1px 3px 1px rgba(0, 0, 0, 0.15);\n",
              "      filter: drop-shadow(0px 1px 2px rgba(0, 0, 0, 0.3));\n",
              "      fill: #FFFFFF;\n",
              "    }\n",
              "  </style>\n",
              "\n",
              "    <script>\n",
              "      const buttonEl =\n",
              "        document.querySelector('#df-824fce31-d808-4751-9d61-77807af70a33 button.colab-df-convert');\n",
              "      buttonEl.style.display =\n",
              "        google.colab.kernel.accessAllowed ? 'block' : 'none';\n",
              "\n",
              "      async function convertToInteractive(key) {\n",
              "        const element = document.querySelector('#df-824fce31-d808-4751-9d61-77807af70a33');\n",
              "        const dataTable =\n",
              "          await google.colab.kernel.invokeFunction('convertToInteractive',\n",
              "                                                    [key], {});\n",
              "        if (!dataTable) return;\n",
              "\n",
              "        const docLinkHtml = 'Like what you see? Visit the ' +\n",
              "          '<a target=\"_blank\" href=https://colab.research.google.com/notebooks/data_table.ipynb>data table notebook</a>'\n",
              "          + ' to learn more about interactive tables.';\n",
              "        element.innerHTML = '';\n",
              "        dataTable['output_type'] = 'display_data';\n",
              "        await google.colab.output.renderOutput(dataTable, element);\n",
              "        const docLink = document.createElement('div');\n",
              "        docLink.innerHTML = docLinkHtml;\n",
              "        element.appendChild(docLink);\n",
              "      }\n",
              "    </script>\n",
              "  </div>\n",
              "\n",
              "\n",
              "<div id=\"df-c00d3d3e-59a5-4e47-a702-39b391316cd1\">\n",
              "  <button class=\"colab-df-quickchart\" onclick=\"quickchart('df-c00d3d3e-59a5-4e47-a702-39b391316cd1')\"\n",
              "            title=\"Suggest charts\"\n",
              "            style=\"display:none;\">\n",
              "\n",
              "<svg xmlns=\"http://www.w3.org/2000/svg\" height=\"24px\"viewBox=\"0 0 24 24\"\n",
              "     width=\"24px\">\n",
              "    <g>\n",
              "        <path d=\"M19 3H5c-1.1 0-2 .9-2 2v14c0 1.1.9 2 2 2h14c1.1 0 2-.9 2-2V5c0-1.1-.9-2-2-2zM9 17H7v-7h2v7zm4 0h-2V7h2v10zm4 0h-2v-4h2v4z\"/>\n",
              "    </g>\n",
              "</svg>\n",
              "  </button>\n",
              "\n",
              "<style>\n",
              "  .colab-df-quickchart {\n",
              "      --bg-color: #E8F0FE;\n",
              "      --fill-color: #1967D2;\n",
              "      --hover-bg-color: #E2EBFA;\n",
              "      --hover-fill-color: #174EA6;\n",
              "      --disabled-fill-color: #AAA;\n",
              "      --disabled-bg-color: #DDD;\n",
              "  }\n",
              "\n",
              "  [theme=dark] .colab-df-quickchart {\n",
              "      --bg-color: #3B4455;\n",
              "      --fill-color: #D2E3FC;\n",
              "      --hover-bg-color: #434B5C;\n",
              "      --hover-fill-color: #FFFFFF;\n",
              "      --disabled-bg-color: #3B4455;\n",
              "      --disabled-fill-color: #666;\n",
              "  }\n",
              "\n",
              "  .colab-df-quickchart {\n",
              "    background-color: var(--bg-color);\n",
              "    border: none;\n",
              "    border-radius: 50%;\n",
              "    cursor: pointer;\n",
              "    display: none;\n",
              "    fill: var(--fill-color);\n",
              "    height: 32px;\n",
              "    padding: 0;\n",
              "    width: 32px;\n",
              "  }\n",
              "\n",
              "  .colab-df-quickchart:hover {\n",
              "    background-color: var(--hover-bg-color);\n",
              "    box-shadow: 0 1px 2px rgba(60, 64, 67, 0.3), 0 1px 3px 1px rgba(60, 64, 67, 0.15);\n",
              "    fill: var(--button-hover-fill-color);\n",
              "  }\n",
              "\n",
              "  .colab-df-quickchart-complete:disabled,\n",
              "  .colab-df-quickchart-complete:disabled:hover {\n",
              "    background-color: var(--disabled-bg-color);\n",
              "    fill: var(--disabled-fill-color);\n",
              "    box-shadow: none;\n",
              "  }\n",
              "\n",
              "  .colab-df-spinner {\n",
              "    border: 2px solid var(--fill-color);\n",
              "    border-color: transparent;\n",
              "    border-bottom-color: var(--fill-color);\n",
              "    animation:\n",
              "      spin 1s steps(1) infinite;\n",
              "  }\n",
              "\n",
              "  @keyframes spin {\n",
              "    0% {\n",
              "      border-color: transparent;\n",
              "      border-bottom-color: var(--fill-color);\n",
              "      border-left-color: var(--fill-color);\n",
              "    }\n",
              "    20% {\n",
              "      border-color: transparent;\n",
              "      border-left-color: var(--fill-color);\n",
              "      border-top-color: var(--fill-color);\n",
              "    }\n",
              "    30% {\n",
              "      border-color: transparent;\n",
              "      border-left-color: var(--fill-color);\n",
              "      border-top-color: var(--fill-color);\n",
              "      border-right-color: var(--fill-color);\n",
              "    }\n",
              "    40% {\n",
              "      border-color: transparent;\n",
              "      border-right-color: var(--fill-color);\n",
              "      border-top-color: var(--fill-color);\n",
              "    }\n",
              "    60% {\n",
              "      border-color: transparent;\n",
              "      border-right-color: var(--fill-color);\n",
              "    }\n",
              "    80% {\n",
              "      border-color: transparent;\n",
              "      border-right-color: var(--fill-color);\n",
              "      border-bottom-color: var(--fill-color);\n",
              "    }\n",
              "    90% {\n",
              "      border-color: transparent;\n",
              "      border-bottom-color: var(--fill-color);\n",
              "    }\n",
              "  }\n",
              "</style>\n",
              "\n",
              "  <script>\n",
              "    async function quickchart(key) {\n",
              "      const quickchartButtonEl =\n",
              "        document.querySelector('#' + key + ' button');\n",
              "      quickchartButtonEl.disabled = true;  // To prevent multiple clicks.\n",
              "      quickchartButtonEl.classList.add('colab-df-spinner');\n",
              "      try {\n",
              "        const charts = await google.colab.kernel.invokeFunction(\n",
              "            'suggestCharts', [key], {});\n",
              "      } catch (error) {\n",
              "        console.error('Error during call to suggestCharts:', error);\n",
              "      }\n",
              "      quickchartButtonEl.classList.remove('colab-df-spinner');\n",
              "      quickchartButtonEl.classList.add('colab-df-quickchart-complete');\n",
              "    }\n",
              "    (() => {\n",
              "      let quickchartButtonEl =\n",
              "        document.querySelector('#df-c00d3d3e-59a5-4e47-a702-39b391316cd1 button');\n",
              "      quickchartButtonEl.style.display =\n",
              "        google.colab.kernel.accessAllowed ? 'block' : 'none';\n",
              "    })();\n",
              "  </script>\n",
              "</div>\n",
              "    </div>\n",
              "  </div>\n"
            ],
            "application/vnd.google.colaboratory.intrinsic+json": {
              "type": "dataframe",
              "variable_name": "data",
              "summary": "{\n  \"name\": \"data\",\n  \"rows\": 2603,\n  \"fields\": [\n    {\n      \"column\": \"bank_href\",\n      \"properties\": {\n        \"dtype\": \"category\",\n        \"num_unique_values\": 5,\n        \"samples\": [\n          \"/bank-vtb24.html\",\n          \"/bank/vtb/\",\n          \"/bank-vtb.html\"\n        ],\n        \"semantic_type\": \"\",\n        \"description\": \"\"\n      }\n    },\n    {\n      \"column\": \"login\",\n      \"properties\": {\n        \"dtype\": \"string\",\n        \"num_unique_values\": 1693,\n        \"samples\": [\n          \"\\u0414\\u043c\\u0438\\u0442\\u0440\\u0438\\u0439, \",\n          \"\\u041f\\u0435\\u0442\\u0440\\u043e\\u0432\\u0430 \\u041d\\u0430\\u0442\\u0430\\u043b\\u0438\\u044f \\u0415\\u0432\\u0433\\u0435\\u043d\\u044c\\u0435\\u0432\\u043d\\u0430, \",\n          \"\\u041a\\u0438\\u0440\\u0438\\u043b\\u043b, \"\n        ],\n        \"semantic_type\": \"\",\n        \"description\": \"\"\n      }\n    },\n    {\n      \"column\": \"review\",\n      \"properties\": {\n        \"dtype\": \"string\",\n        \"num_unique_values\": 2533,\n        \"samples\": [\n          \"\\u0412\\u044b\\u0441\\u043e\\u043a\\u0430\\u044f \\u043e\\u043f\\u0435\\u0440\\u0430\\u0442\\u0438\\u0432\\u043d\\u043e\\u0441\\u0442\\u044c \\u0440\\u0430\\u0431\\u043e\\u0442\\u044b \\u0441\\u043f\\u0435\\u0446\\u0438\\u0430\\u043b\\u0438\\u0441\\u0442\\u043e\\u0432 \\u0431\\u0430\\u043d\\u043a\\u0430 \\u0412\\u0422\\u0411 24\\u041e\\u0447\\u0435\\u043d\\u044c \\u043f\\u043e\\u0440\\u0430\\u0434\\u043e\\u0432\\u0430\\u043b\\u0438 \\u0441\\u043f\\u0435\\u0446\\u0438\\u0430\\u043b\\u0438\\u0441\\u0442\\u044b \\u0431\\u0430\\u043d\\u043a\\u0430 \\u0412\\u0422\\u0411 24 \\u0432\\u044b\\u0441\\u043e\\u043a\\u043e\\u0439 \\u043e\\u043f\\u0435\\u0440\\u0430\\u0442\\u0438\\u0432\\u043d\\u043e\\u0441\\u0442\\u044c\\u044e \\u0440\\u0430\\u0431\\u043e\\u0442\\u044b!\\n\\u0411\\u043b\\u0430\\u0433\\u043e\\u0434\\u0430\\u0440\\u044e \\u0437\\u0430 \\u0431\\u044b\\u0441\\u0442\\u0440\\u043e\\u0435 \\u0440\\u0435\\u0448\\u0435\\u043d\\u0438\\u0435 \\u0432\\u043e\\u043f\\u0440\\u043e\\u0441\\u0430!\\n\\u041e\\u0448\\u0438\\u0431\\u043e\\u0447\\u043d\\u043e \\u0441\\u043f\\u0438\\u0441\\u0430\\u043d\\u043d\\u044b\\u0435 \\u0441\\u0440\\u0435\\u0434\\u0441\\u0442\\u0432\\u0430 \\u0432\\u043e\\u0437\\u0432\\u0440\\u0430\\u0449\\u0435\\u043d\\u044b \\u043d\\u0430 \\u043c\\u043e\\u044e \\u043a\\u0430\\u0440\\u0442\\u0443 \\u043d\\u0430 \\u0441\\u043b\\u0435\\u0434\\u0443\\u044e\\u0449\\u0438\\u0439 \\u0434\\u0435\\u043d\\u044c \\u043f\\u043e\\u0441\\u043b\\u0435 \\u0441\\u043f\\u0438\\u0441\\u0430\\u043d\\u0438\\u044f.\",\n          \"\\u0417\\u0434\\u0440\\u0430\\u0432\\u0441\\u0442\\u0432\\u0443\\u0439\\u0442\\u0435! \\u041f\\u043e\\u0441\\u0435\\u0442\\u0438\\u043b \\u043e\\u0442\\u0434\\u0435\\u043b\\u0435\\u043d\\u0438\\u0435 \\u0431\\u0430\\u043d\\u043a\\u0430 \\u0412\\u0422\\u0411 24 \\u0432 \\u0433. \\u041d\\u0438\\u0436\\u043d\\u0435\\u043c \\u041d\\u043e\\u0432\\u0433\\u043e\\u0440\\u043e\\u0434\\u0435 \\u043f-\\u0442 \\u0413\\u0430\\u0433\\u0430\\u0440\\u0438\\u043d\\u0430 162\\u0430. 31 \\u0430\\u0432\\u0433\\u0443\\u0441\\u0442\\u0430 2015\\u0433. \\u0412 18:40 \\u044f \\u043f\\u0440\\u0438\\u0448\\u0451\\u043b \\u0432 \\u0431\\u0430\\u043d\\u043a \\u0432\\u043d\\u0435\\u0441\\u0442\\u0438 \\u043e\\u0447\\u0435\\u0440\\u0435\\u0434\\u043d\\u043e\\u0439 \\u043f\\u043b\\u0430\\u0442\\u0451\\u0436 \\u043f\\u043e \\u0438\\u043f\\u043e\\u0442\\u0435\\u043a\\u0435. \\u041d\\u0430 \\u0432\\u0445\\u043e\\u0434\\u0435 \\u0431\\u044b\\u043b\\u0430 \\u0434\\u0435\\u0432\\u0443\\u0448\\u043a\\u0430 \\u043a\\u043e\\u0442\\u043e\\u0440\\u0430\\u044f \\u0434\\u0430\\u043b\\u0430 \\u0442\\u0430\\u043b\\u043e\\u043d \\u0438 \\u043f\\u043e\\u043f\\u0440\\u043e\\u0441\\u0438\\u043b\\u0430 \\u043c\\u0435\\u043d\\u044f \\u043f\\u0440\\u043e\\u0439\\u0442\\u0438 \\u0432 \\u0437\\u0430\\u043b \\u0433\\u0434\\u0435 \\u0431\\u044b\\u043b\\u043e \\u0434\\u0432\\u0430 \\u043a\\u043b\\u0438\\u0435\\u043d\\u0442\\u0430. \\u041a\\u043e\\u0433\\u0434\\u0430 \\u043f\\u043e\\u0434\\u043e\\u0448\\u043b\\u0430 \\u043c\\u043e\\u044f \\u043e\\u0447\\u0435\\u0440\\u0435\\u0434\\u044c \\u0432 \\u043a\\u0430\\u0441\\u0441\\u0443 , \\u043a\\u0430\\u0441\\u0441\\u0438\\u0440 \\u0432\\u0437\\u044f\\u043b\\u0430 \\u0434\\u043e\\u043a\\u0443\\u043c\\u0435\\u043d\\u0442\\u044b , \\u043d\\u043e \\u0443 \\u043d\\u0435\\u0451 \\u043d\\u0435 \\u043f\\u043e\\u043b\\u0443\\u0447\\u0438\\u043b\\u043e\\u0441\\u044c \\u043f\\u0440\\u043e\\u0432\\u0435\\u0441\\u0442\\u0438 \\u043f\\u043b\\u0430\\u0442\\u0451\\u0436 \\u043f\\u043e \\u043a\\u0430\\u043a\\u0438\\u043c \\u0442\\u043e \\u043f\\u0440\\u0438\\u0447\\u0438\\u043d\\u0430\\u043c. \\u041e\\u043d\\u0430 \\u043f\\u043e\\u043f\\u0440\\u043e\\u0441\\u0438\\u043b\\u0430 \\u043c\\u0435\\u043d\\u044f \\u043f\\u0440\\u043e\\u0439\\u0442\\u0438 \\u0432 \\u0437\\u0430\\u043b \\u0438 \\u043e\\u0431\\u0440\\u0430\\u0442\\u0438\\u0442\\u044c\\u0441\\u044f \\u043a \\u043e\\u043f\\u0435\\u0440\\u0430\\u0446\\u0438\\u043e\\u043d\\u0438\\u0441\\u0442\\u0430\\u043c. \\u041a\\u043e\\u0433\\u0434\\u0430 \\u044f \\u0432\\u044b\\u0448\\u0435\\u043b \\u0432 \\u0437\\u0430\\u043b \\u0442\\u0430\\u043c \\u043d\\u0438\\u043a\\u043e\\u0433\\u043e \\u043d\\u0435 \\u0431\\u044b\\u043b\\u043e! \\u042f \\u0436\\u0434\\u0430\\u043b \\u043c\\u0438\\u043d\\u0443\\u0442\\u0443 \\u043a\\u043e \\u043c\\u043d\\u0435 \\u0432\\u044b\\u0448\\u0435\\u043b \\u043c\\u043e\\u043b\\u043e\\u0434\\u043e\\u0439 \\u0447\\u0435\\u043b\\u043e\\u0432\\u0435\\u043a \\u0438 \\u0441\\u043a\\u0430\\u0437\\u0430\\u043b \\u0447\\u0442\\u043e \\u043d\\u0438 \\u0447\\u0435\\u043c \\u043d\\u0435 \\u043c\\u043e\\u0436\\u0435\\u0442 \\u043f\\u043e\\u043c\\u043e\\u0447\\u044c \\u0442\\u0430\\u043a \\u043a\\u0430\\u043a \\u0432\\u0441\\u0435 \\u043a\\u043e\\u043c\\u043f\\u044c\\u044e\\u0442\\u0435\\u0440\\u044b \\u0432\\u044b\\u043a\\u043b\\u044e\\u0447\\u0435\\u043d\\u044b. \\u041d\\u0430 \\u043c\\u043e\\u044e \\u043f\\u0440\\u043e\\u0441\\u044c\\u0431\\u0443 \\u043f\\u0440\\u043e\\u0438\\u0437\\u0432\\u0435\\u0441\\u0442\\u0438 \\u043f\\u043b\\u0430\\u0442\\u0451\\u0436 \\u043e\\u043d \\u043e\\u0442\\u0432\\u0435\\u0442\\u0438\\u043b \\u043d\\u0430\\u0434\\u043e \\u0431\\u044b\\u043b\\u043e \\u0440\\u0430\\u043d\\u044c\\u0448\\u0435 \\u043f\\u0440\\u0438\\u0445\\u043e\\u0434\\u0438\\u0442\\u044c \\u0438 \\u043e\\u043f\\u043b\\u0430\\u0447\\u0438\\u0432\\u0430\\u0442\\u044c. \\u0422\\u0430\\u043a \\u0441 \\u043a\\u043b\\u0438\\u0435\\u043d\\u0442\\u0430\\u043c\\u0438 \\u0440\\u0430\\u0437\\u0433\\u043e\\u0432\\u0430\\u0440\\u0438\\u0432\\u0430\\u0442\\u044c \\u043d\\u0435\\u043b\\u044c\\u0437\\u044f! \\u042f \\u043f\\u0440\\u0438\\u0448\\u0451\\u043b \\u0432 \\u0431\\u0430\\u043d\\u043a \\u0432 18:40. \\u0420\\u0430\\u0431\\u043e\\u0447\\u0438\\u0439 \\u043f\\u0435\\u0440\\u0441\\u043e\\u043d\\u0430\\u043b \\u0447\\u0442\\u043e \\u0442\\u043e \\u043f\\u0440\\u0430\\u0437\\u0434\\u043d\\u043e\\u0432\\u0430\\u043b \\u0432 \\u043f\\u043e\\u0434\\u0441\\u043e\\u0431\\u043d\\u043e\\u0435 \\u043f\\u043e\\u043c\\u0435\\u0449\\u0435\\u043d\\u0438\\u0435 \\u0434\\u0432\\u0435\\u0440\\u044c \\u0431\\u044b\\u043b\\u0430 \\u043e\\u0442\\u043a\\u0440\\u044b\\u0442\\u0430. \\u0418 \\u0438\\u043c \\u043d\\u0435 \\u0437\\u0430\\u0445\\u043e\\u0442\\u0435\\u043b\\u043e\\u0441\\u044c \\u043f\\u043e \\u0432\\u0441\\u0435\\u0439 \\u0432\\u0438\\u0434\\u0438\\u043c\\u043e\\u0441\\u0442\\u0438 \\u0442\\u0440\\u0430\\u0442\\u0438\\u0442\\u044c \\u0432\\u0440\\u0435\\u043c\\u044f \\u043d\\u0430 \\u043a\\u043b\\u0438\\u0435\\u043d\\u0442\\u043e\\u0432. \\u0415\\u0441\\u043b\\u0438 \\u0433\\u0430 \\u0441\\u0447\\u0451\\u0442\\u0435 \\u043d\\u0435 \\u0431\\u044b\\u043b\\u043e \\u0441\\u0440\\u0435\\u0434\\u0441\\u0442\\u0432 \\u043c\\u043e\\u0439 \\u043f\\u043b\\u0430\\u0442\\u0451\\u0436 \\u0431\\u044b\\u043b \\u0431\\u044b \\u043f\\u0440\\u043e\\u0441\\u0440\\u043e\\u0447\\u0435\\u043d \\u043d\\u0435 \\u043f\\u043e \\u043c\\u043e\\u0435\\u0439 \\u0432\\u0438\\u043d\\u0435! \\u0422\\u0430\\u043a \\u0436\\u0435 \\u043d\\u0430 \\u0443\\u043b \\u041a\\u043e\\u043c\\u0438\\u043d\\u0442\\u0435\\u0440\\u043d\\u0430 \\u0431\\u0430\\u043d\\u043a \\u0412\\u0422\\u041124 \\u043a\\u0430\\u0441\\u0441\\u0438\\u0440 \\u0437\\u0430\\u043a\\u0440\\u044b\\u0432\\u0430\\u0435\\u0442 \\u043d\\u0430 \\u043e\\u0431\\u0435\\u0434 \\u043a\\u0430\\u0441\\u0441\\u0443 \\u043a\\u043e\\u0433\\u0434\\u0430 \\u0432 \\u043a\\u0430\\u0441\\u0441\\u0443 \\u043e\\u0447\\u0435\\u0440\\u0435\\u0434\\u044c . \\u0441\\u0434\\u0435\\u043b\\u0430\\u0439\\u0442\\u0435 \\u0442\\u043e\\u0433\\u0434\\u0430 \\u043e\\u0444\\u0438\\u0446\\u0438\\u0430\\u043b\\u044c\\u043d\\u043e \\u043e\\u0431\\u0435\\u0434 \\u0432\\u044b\\u0434\\u0435\\u043b\\u0435\\u043d\\u0430 \\u043d\\u0430 \\u044d\\u0442\\u043e 30 \\u043c\\u0438\\u043d\\u0443\\u0442. \\u0421\\u043a\\u043e\\u043b\\u044c\\u043a\\u043e \\u0440\\u0430\\u0437 \\u0431\\u044b\\u043b\\u043e , \\u0447\\u0442\\u043e \\u043e\\u0442\\u043f\\u0440\\u043e\\u0441\\u0438\\u0448\\u044c\\u0441\\u044f \\u0441 \\u0440\\u0430\\u0431\\u043e\\u0442\\u044b \\u0438 \\u043f\\u043e\\u043f\\u0430\\u0434\\u0430\\u0435\\u0442 \\u043d\\u0430 \\u043e\\u0431\\u0435\\u0434 , \\u0431\\u0430\\u043d\\u043a \\u043e\\u0442\\u043a\\u0440\\u044b\\u0442 ,\\u0430 \\u0441\\u043e\\u0442\\u0440\\u0443\\u0434\\u043d\\u0438\\u043a\\u043e\\u0432 \\u043d\\u0435\\u0442! \\u0418 \\u043f\\u0440\\u0438\\u0445\\u043e\\u0434\\u0438\\u0442\\u044c\\u0441\\u044f \\u0436\\u0434\\u0430\\u0442\\u044c \\u043f\\u043e 30 \\u043c\\u0438\\u043d\\u0443\\u0442. \\u0412\\u0438\\u0434\\u0438\\u043c\\u043e \\u043a\\u043b\\u0438\\u0435\\u043d\\u0442\\u043e\\u0432 \\u0432 \\u044d\\u0442\\u043e\\u043c \\u0431\\u0430\\u043d\\u043a\\u0435 \\u043d\\u0435 \\u043b\\u044e\\u0431\\u044f\\u0442!\",\n          \"10 .02.2017 \\u041e\\u0441\\u0442\\u0430\\u0432\\u0438\\u043b\\u0430 \\u0437\\u0430\\u044f\\u0432\\u043a\\u0443 \\u043d\\u0430 \\u043f\\u043e\\u0442\\u0440\\u0435\\u0431\\u0438\\u0442\\u0435\\u043b\\u044c\\u0441\\u043a\\u0438\\u0439 \\u043a\\u0440\\u0435\\u0434\\u0438\\u0442 \\u043d\\u0430 \\u0441\\u0443\\u043c\\u043c\\u0443 120000,\\u043e\\u0434\\u043e\\u0431\\u0440\\u0438\\u043b\\u0438 97000 \\u0438 30000 \\u0444\\u0438\\u043d \\u0440\\u0435\\u0437\\u0435\\u0440\\u0432 \\u041f\\u0440\\u043e\\u0444\\u0438,\\u0432 \\u0434\\u043e\\u0433\\u043e\\u0432\\u043e\\u0440\\u0435 \\u044d\\u0442\\u043e\\u0433\\u043e \\u0440\\u0435\\u0437\\u0435\\u0440\\u0432\\u0430 \\u0443\\u043a\\u0430\\u0437\\u0430\\u043d\\u043e,\\u0447\\u0442\\u043e \\u044f \\u043f\\u043e\\u0434\\u0442\\u0432\\u0435\\u0440\\u0436\\u0434\\u0430\\u044e,\\u0447\\u0442\\u043e \\u043d\\u0435 \\u044f\\u0432\\u043b\\u044f\\u044e\\u0441\\u044c \\u043e\\u043d\\u043a\\u043e\\u0431\\u043e\\u043b\\u044c\\u043d\\u043e\\u0439,\\u0432\\u043e\\u0435\\u043d\\u043d\\u043e\\u0441\\u043b\\u0443\\u0436\\u0430\\u0449\\u0438\\u0439 \\u0438 \\u0442.\\u0434. \\u042f \\u044f\\u0432\\u043b\\u044f\\u044e\\u0441\\u044c \\u0432\\u043e\\u0435\\u043d\\u043d\\u043e\\u0441\\u043b\\u0443\\u0436\\u0430\\u0449\\u0435\\u0439 \\u0438 \\u0434\\u043e\\u043b\\u0433\\u043e \\u043e\\u0431\\u044a\\u044f\\u0441\\u043d\\u044f\\u043b\\u0430 \\u043a\\u0440\\u0435\\u0434\\u0438\\u0442\\u043d\\u043e\\u043c\\u0443 \\u0441\\u043f\\u0435\\u0446\\u0438\\u0430\\u043b\\u0438\\u0441\\u0442\\u0443 \\u043e \\u0442\\u043e\\u043c ,\\u0447\\u0442\\u043e \\u043c\\u044b \\u043d\\u0435 \\u043c\\u043e\\u0436\\u0435\\u043c \\u0437\\u0430\\u043a\\u043b\\u044e\\u0447\\u0430\\u0442\\u044c \\u044d\\u0442\\u043e\\u0442 \\u0434\\u043e\\u0433\\u043e\\u0432\\u043e\\u0440, \\u043d\\u043e \\u043e\\u043d\\u0430 \\u043f\\u043e\\u0436\\u0438\\u043c\\u0430\\u043b\\u0430 \\u043f\\u043b\\u0435\\u0447\\u0430\\u043c\\u0438 \\u0438 \\u043d\\u0430\\u0441\\u0442\\u0430\\u0438\\u0432\\u0430\\u043b\\u0430 \\u043d\\u0430 \\u043f\\u043e\\u0434\\u043f\\u0438\\u0441\\u0430\\u043d\\u0438\\u0438, \\u043d\\u0435 \\u043f\\u0440\\u0435\\u0434\\u043b\\u043e\\u0436\\u0438\\u0432 \\u0434\\u0440\\u0443\\u0433\\u043e\\u0433\\u043e \\u0432\\u0438\\u0434\\u0430 \\u0441\\u0442\\u0440\\u0430\\u0445\\u043e\\u0432\\u0430\\u043d\\u0438\\u044f. \\u0412 \\u0438\\u0442\\u043e\\u0433\\u0435, \\u0442.\\u043a \\u044f \\u0442\\u043e\\u0440\\u043e\\u043f\\u0438\\u043b\\u0430\\u0441\\u044c - \\u044f \\u043f\\u043e\\u0434\\u043f\\u0438\\u0441\\u0430\\u043b\\u0430 \\u044d\\u0442\\u043e\\u0442 \\u0434\\u043e\\u0433\\u043e\\u0432\\u043e\\u0440.13.02.2017 \\u042f \\u043d\\u0430\\u043f\\u0438\\u0441\\u0430\\u043b\\u0430 \\u0437\\u0430\\u044f\\u0432\\u043b\\u0435\\u043d\\u0438\\u0435 \\u043e \\u0432\\u043e\\u0437\\u0432\\u0440\\u0430\\u0442\\u0435 \\u0434\\u0435\\u043d\\u0435\\u0433 \\u0444\\u0438\\u043d \\u0440\\u0435\\u0437\\u0435\\u0440\\u0432 \\u0432 2\\u0445 \\u044d\\u043a\\u0437\\u0435\\u043c\\u043f\\u043b\\u044f\\u0440\\u0430\\u0445,\\u0437\\u0430\\u0432\\u0435\\u0440\\u0438\\u043b\\u0430 \\u0432 \\u0431\\u0430\\u043d\\u043a\\u0435,\\u0441 \\u0442\\u0440\\u0435\\u0431\\u043e\\u0432\\u0430\\u043d\\u0438\\u0435\\u043c \\u0434\\u0430\\u0442\\u044c \\u043e\\u0442\\u0432\\u0435\\u0442 \\u043f\\u0438\\u0441\\u044c\\u043c\\u0435\\u043d\\u043d\\u043e \\u0432 \\u0442\\u0435\\u0447\\u0435\\u043d\\u0438\\u0438 10 \\u0434\\u043d\\u0435\\u0439,\\u0434\\u043d\\u044f \\u0447\\u0435\\u0440\\u0435\\u0437 3 \\u043c\\u043d\\u0435 \\u043f\\u043e\\u0437\\u0432\\u043e\\u043d\\u0438\\u043b \\u0441\\u043e\\u0442\\u0440\\u0443\\u0434\\u043d\\u0438\\u043a \\u0431\\u0430\\u043d\\u043a\\u0430 \\u0438 \\u0441\\u043e\\u043e\\u0431\\u0449\\u0438\\u043b,\\u0447\\u0442\\u043e \\u043c\\u043d\\u0435 \\u043e\\u0442\\u043a\\u0430\\u0437\\u0430\\u043d\\u043e \\u0432 \\u0432\\u043e\\u0437\\u0432\\u0440\\u0430\\u0442\\u0435 \\u0441\\u0442\\u0440\\u0430\\u0445\\u043e\\u0432\\u043a\\u0438. \\u0416\\u0434\\u0443 \\u043f\\u0438\\u0441\\u044c\\u043c\\u0435\\u043d\\u043d\\u043e\\u0433\\u043e \\u043e\\u0442\\u0432\\u0435\\u0442\\u0430 \\u0434\\u043b\\u044f \\u043e\\u0431\\u0440\\u0430\\u0449\\u0435\\u043d\\u0438\\u044f \\u0432 \\u0441\\u0443\\u0434,\\u0442.\\u043a \\u0441\\u0447\\u0438\\u0442\\u0430\\u044e \\u043c\\u043e\\u0448\\u0435\\u043d\\u043d\\u0438\\u0447\\u0435\\u0441\\u0442\\u0432\\u043e\\u043c,\\u0442\\u043e ,\\u0447\\u0442\\u043e \\u043e\\u043d\\u0438 \\u0437\\u0430\\u043a\\u043b\\u044e\\u0447\\u0438\\u043b\\u0438 \\u0441\\u043e \\u043c\\u043d\\u043e\\u0439 \\u044d\\u0442\\u043e\\u0442 \\u0434\\u043e\\u0433\\u043e\\u0432\\u043e\\u0440,\\u0432\\u0441\\u0435 \\u0434\\u0430\\u043d\\u043d\\u044b\\u0435 \\u043c\\u043d\\u043e\\u044e \\u0431\\u044b\\u043b\\u0438 \\u043f\\u0440\\u0435\\u0434\\u043e\\u0441\\u0442\\u0430\\u0432\\u043b\\u0435\\u043d\\u044b \\u0434\\u043b\\u044f \\u0430\\u043d\\u043a\\u0435\\u0442\\u044b,\\u0433\\u0434\\u0435 \\u0431\\u044b\\u043b\\u043e \\u0443\\u043a\\u0430\\u0437\\u0430\\u043d\\u043e,\\u0447\\u0442\\u043e \\u044f \\u0432\\u043e\\u0435\\u043d\\u043d\\u043e\\u0441\\u043b\\u0443\\u0436\\u0430\\u0449\\u0438\\u0439.\\u041e\\u0447\\u0435\\u043d\\u044c \\u0438\\u043d\\u0442\\u0435\\u0440\\u0435\\u0441\\u0443\\u0435\\u0442,\\u043a\\u0430\\u043a \\u0441\\u043e\\u0442\\u0440\\u0443\\u0434\\u043d\\u0438\\u043a \\u0431\\u0430\\u043d\\u043a\\u0430 \\u0441\\u0442\\u0430\\u0432\\u0438\\u0442 \\u0433\\u0430\\u043b\\u043e\\u0447\\u043a\\u0443 \\u043d\\u0435 \\u0432 \\u0442\\u043e\\u043c \\u0432\\u0438\\u0434\\u0435 \\u0441\\u0442\\u0440\\u0430\\u0445\\u043e\\u0432\\u0430\\u043d\\u0438\\u044f?\\u0421\\u0447\\u0438\\u0442\\u0430\\u044e \\u0435\\u0435 \\u043d\\u0435\\u043a\\u043e\\u043c\\u043f\\u0435\\u0442\\u0435\\u043d\\u0442\\u043d\\u043e\\u0439,\\u0435\\u0451 \\u0434\\u0435\\u0439\\u0441\\u0442\\u0432\\u0438\\u044f \\u043d\\u0435 \\u043f\\u0440\\u0430\\u0432\\u043e\\u043c\\u0435\\u0440\\u043d\\u044b\\u043c \\u0438 \\u0440\\u0430\\u0441\\u0441\\u043c\\u0430\\u0442\\u0440\\u0438\\u0432\\u0430\\u044e ,\\u043a\\u0430\\u043a \\u043c\\u043e\\u0448\\u0435\\u043d\\u043d\\u0438\\u0447\\u0435\\u0441\\u0442\\u0432\\u043e,\\u0442.\\u043a \\u0441\\u043b\\u0443\\u0447\\u0438\\u0441\\u044c \\u0441\\u043e \\u043c\\u043d\\u043e\\u0439 - \\u0441\\u0442\\u0440\\u0430\\u0445\\u043e\\u0432\\u043e\\u0439 \\u0441\\u043b\\u0443\\u0447\\u0430\\u0439. \\u041e\\u043d\\u0438 \\u043c\\u043d\\u0435 \\u043e\\u0442\\u043a\\u0430\\u0436\\u0443\\u0442, \\u0442.\\u043a \\u044f \\u044f\\u0432\\u043b\\u044f\\u044e\\u0441\\u044c \\u0432\\u043e\\u0435\\u043d\\u043d\\u043e\\u0441\\u043b\\u0443\\u0436\\u0430\\u0449\\u0435\\u0439. \\u041e\\u0442\\u0432\\u0440\\u0430\\u0442\\u0438\\u0442\\u0435\\u043b\\u044c\\u043d\\u043e\\u0435 \\u043e\\u0431\\u0441\\u043b\\u0443\\u0436\\u0438\\u0432\\u0430\\u043d\\u0438\\u0435,\\u0441\\u043f\\u0435\\u0446\\u0438\\u0430\\u043b\\u0438\\u0441\\u0442\\u044b \\u043d\\u0435 \\u0433\\u0440\\u0430\\u043c\\u043e\\u0442\\u043d\\u044b\\u0435! \\u0412 \\u0441\\u0443\\u0434 \\u0438 \\u0442\\u043e\\u043b\\u044c\\u043a\\u043e \\u0432 \\u0441\\u0443\\u0434!\"\n        ],\n        \"semantic_type\": \"\",\n        \"description\": \"\"\n      }\n    },\n    {\n      \"column\": \"bank_name\",\n      \"properties\": {\n        \"dtype\": \"category\",\n        \"num_unique_values\": 1,\n        \"samples\": [\n          \"\\u0432\\u0442\\u0431\"\n        ],\n        \"semantic_type\": \"\",\n        \"description\": \"\"\n      }\n    },\n    {\n      \"column\": \"site\",\n      \"properties\": {\n        \"dtype\": \"category\",\n        \"num_unique_values\": 3,\n        \"samples\": [\n          \"http://bankireview.ru\"\n        ],\n        \"semantic_type\": \"\",\n        \"description\": \"\"\n      }\n    },\n    {\n      \"column\": \"date\",\n      \"properties\": {\n        \"dtype\": \"string\",\n        \"num_unique_values\": 1872,\n        \"samples\": [\n          \"18 \\u0430\\u0432\\u0433, 2016\"\n        ],\n        \"semantic_type\": \"\",\n        \"description\": \"\"\n      }\n    },\n    {\n      \"column\": \"message_href\",\n      \"properties\": {\n        \"dtype\": \"category\",\n        \"num_unique_values\": 836,\n        \"samples\": [\n          \"/bank/vtb/otzyv/205643/?page\"\n        ],\n        \"semantic_type\": \"\",\n        \"description\": \"\"\n      }\n    },\n    {\n      \"column\": \"score\",\n      \"properties\": {\n        \"dtype\": \"category\",\n        \"num_unique_values\": 6,\n        \"samples\": [\n          \"3\"\n        ],\n        \"semantic_type\": \"\",\n        \"description\": \"\"\n      }\n    },\n    {\n      \"column\": \"status\",\n      \"properties\": {\n        \"dtype\": \"category\",\n        \"num_unique_values\": 137,\n        \"samples\": [\n          \"=message_href =/services/responses/bank/response/10232187/\"\n        ],\n        \"semantic_type\": \"\",\n        \"description\": \"\"\n      }\n    },\n    {\n      \"column\": \"user_href\",\n      \"properties\": {\n        \"dtype\": \"string\",\n        \"num_unique_values\": 1322,\n        \"samples\": [\n          \"/profile/?UID=995904\"\n        ],\n        \"semantic_type\": \"\",\n        \"description\": \"\"\n      }\n    }\n  ]\n}"
            }
          },
          "metadata": {},
          "execution_count": 72
        }
      ]
    },
    {
      "cell_type": "code",
      "source": [
        "import re\n",
        "\n",
        "def remove_non_russian(text):\n",
        "    cleaned_text = re.sub(r'[^а-яА-ЯёЁ]', ' ', text)\n",
        "    return cleaned_text\n",
        "\n",
        "data['review'] = data['review'].apply(remove_non_russian)\n",
        "\n",
        "print(data['review'])"
      ],
      "metadata": {
        "colab": {
          "base_uri": "https://localhost:8080/"
        },
        "id": "iWCBNl5on4m7",
        "outputId": "ab44d56d-c7f4-4e9b-e9e4-4be1ce86d426"
      },
      "execution_count": null,
      "outputs": [
        {
          "output_type": "stream",
          "name": "stderr",
          "text": [
            "/usr/local/lib/python3.10/dist-packages/ipykernel/ipkernel.py:283: DeprecationWarning: `should_run_async` will not call `transform_cell` automatically in the future. Please pass the result to `transformed_cell` argument and any exception that happen during thetransform in `preprocessing_exc_tuple` in IPython 7.17 and above.\n",
            "  and should_run_async(code)\n"
          ]
        },
        {
          "output_type": "stream",
          "name": "stdout",
          "text": [
            "1051     Сменила пароль в интернет банке   по новому не пускает  После нескольких попыток заблокировали в...\n",
            "1052     В б чат          Спасибо за проявленный интерес к нашей услуге  В течение нескольких секунд наш ...\n",
            "1053     Воруют деньги с карты  давно заметил  что пропадают деньги со счёта  не много  когда      когда ...\n",
            "1054     В  рекламе  и договоре написано  что на социальную карту москвича на перечисленные пенсии и проч...\n",
            "1055     Суть проблемы  открытая на мое имя карта Банка Москвы была уничтожена сотрудниками банка потому ...\n",
            "                                                        ...                                                 \n",
            "16850    Санкт Петербург  Отделение      ул  Бутлерова     Три банкомата поставили  Лучше бы один постави...\n",
            "16851    неправомерное подключение доп услуг           получила карту в офисе банка ВТБ   по адресу Мясни...\n",
            "16852    Добрый день  Оформлен кредит в Банке ВТБ              года  В Банке проинформировали о том  что ...\n",
            "16853    Самый неудобный интернет банк  Нужно прийти в офис отстоять очередь и получить код к заветному о...\n",
            "16854    Решил взять в ВТБ   кредит под        на   года на сумму         Все возможные калькуляторы в то...\n",
            "Name: review, Length: 2603, dtype: object\n"
          ]
        }
      ]
    },
    {
      "cell_type": "code",
      "source": [
        "data['review'] = data['review'].str.lower()\n",
        "print(data['review'])"
      ],
      "metadata": {
        "colab": {
          "base_uri": "https://localhost:8080/"
        },
        "id": "4ikSjnnxn3H2",
        "outputId": "c948f8c5-7b76-4ddd-99e3-b6f915694729"
      },
      "execution_count": null,
      "outputs": [
        {
          "output_type": "stream",
          "name": "stdout",
          "text": [
            "1051     сменила пароль в интернет банке   по новому не пускает  после нескольких попыток заблокировали в...\n",
            "1052     в б чат          спасибо за проявленный интерес к нашей услуге  в течение нескольких секунд наш ...\n",
            "1053     воруют деньги с карты  давно заметил  что пропадают деньги со счёта  не много  когда      когда ...\n",
            "1054     в  рекламе  и договоре написано  что на социальную карту москвича на перечисленные пенсии и проч...\n",
            "1055     суть проблемы  открытая на мое имя карта банка москвы была уничтожена сотрудниками банка потому ...\n",
            "                                                        ...                                                 \n",
            "16850    санкт петербург  отделение      ул  бутлерова     три банкомата поставили  лучше бы один постави...\n",
            "16851    неправомерное подключение доп услуг           получила карту в офисе банка втб   по адресу мясни...\n",
            "16852    добрый день  оформлен кредит в банке втб              года  в банке проинформировали о том  что ...\n",
            "16853    самый неудобный интернет банк  нужно прийти в офис отстоять очередь и получить код к заветному о...\n",
            "16854    решил взять в втб   кредит под        на   года на сумму         все возможные калькуляторы в то...\n",
            "Name: review, Length: 2603, dtype: object\n"
          ]
        },
        {
          "output_type": "stream",
          "name": "stderr",
          "text": [
            "/usr/local/lib/python3.10/dist-packages/ipykernel/ipkernel.py:283: DeprecationWarning: `should_run_async` will not call `transform_cell` automatically in the future. Please pass the result to `transformed_cell` argument and any exception that happen during thetransform in `preprocessing_exc_tuple` in IPython 7.17 and above.\n",
            "  and should_run_async(code)\n"
          ]
        }
      ]
    },
    {
      "cell_type": "code",
      "source": [
        "import nltk\n",
        "nltk.download('stopwords')"
      ],
      "metadata": {
        "colab": {
          "base_uri": "https://localhost:8080/"
        },
        "id": "fkuCw8CuoIdC",
        "outputId": "26f8ce1f-1578-4311-df40-4a0de9cad0d6"
      },
      "execution_count": null,
      "outputs": [
        {
          "output_type": "stream",
          "name": "stderr",
          "text": [
            "[nltk_data] Downloading package stopwords to /root/nltk_data...\n",
            "[nltk_data]   Unzipping corpora/stopwords.zip.\n"
          ]
        },
        {
          "output_type": "execute_result",
          "data": {
            "text/plain": [
              "True"
            ]
          },
          "metadata": {},
          "execution_count": 7
        }
      ]
    },
    {
      "cell_type": "code",
      "source": [
        "from nltk.corpus import stopwords\n",
        "from nltk.tokenize import word_tokenize\n",
        "import nltk\n",
        "nltk.download('punkt')\n",
        "\n",
        "stop_words = set(stopwords.words('russian'))\n",
        "\n",
        "def remove_stopwords(text):\n",
        "    tokens = word_tokenize(text)\n",
        "    filtered_tokens = [word for word in tokens if word.lower() not in stop_words]\n",
        "    return ' '.join(filtered_tokens)\n",
        "\n",
        "data['review'] = data['review'].apply(remove_stopwords)\n",
        "\n",
        "print(data['review'])"
      ],
      "metadata": {
        "colab": {
          "base_uri": "https://localhost:8080/"
        },
        "id": "WhgNxIgknGTz",
        "outputId": "ff2e6759-882e-4ddd-e6d6-fb4fd8459242"
      },
      "execution_count": null,
      "outputs": [
        {
          "output_type": "stream",
          "name": "stderr",
          "text": [
            "/usr/local/lib/python3.10/dist-packages/ipykernel/ipkernel.py:283: DeprecationWarning: `should_run_async` will not call `transform_cell` automatically in the future. Please pass the result to `transformed_cell` argument and any exception that happen during thetransform in `preprocessing_exc_tuple` in IPython 7.17 and above.\n",
            "  and should_run_async(code)\n",
            "[nltk_data] Downloading package punkt to /root/nltk_data...\n",
            "[nltk_data]   Package punkt is already up-to-date!\n"
          ]
        },
        {
          "output_type": "stream",
          "name": "stdout",
          "text": [
            "1051     сменила пароль интернет банке новому пускает нескольких попыток заблокировали вход почему пользо...\n",
            "1052     б чат спасибо проявленный интерес нашей услуге течение нескольких секунд наш специалист готов от...\n",
            "1053     воруют деньги карты давно заметил пропадают деньги счёта р причём распечатке тишина списаний ден...\n",
            "1054     рекламе договоре написано социальную карту москвича перечисленные пенсии прочие социальные выпла...\n",
            "1055     суть проблемы открытая мое имя карта банка москвы уничтожена сотрудниками банка течении трех мес...\n",
            "                                                        ...                                                 \n",
            "16850    санкт петербург отделение ул бутлерова банкомата поставили поставили работал нормально получилос...\n",
            "16851    неправомерное подключение доп услуг получила карту офисе банка втб адресу мясницкая оформленным ...\n",
            "16852    добрый день оформлен кредит банке втб года банке проинформировали начиная первого месяца имею пр...\n",
            "16853    самый неудобный интернет банк нужно прийти офис отстоять очередь получить код заветному онлайнба...\n",
            "16854    решил взять втб кредит года сумму возможные калькуляторы числе офф сайте втб выдают р зато втб н...\n",
            "Name: review, Length: 2603, dtype: object\n"
          ]
        }
      ]
    },
    {
      "cell_type": "code",
      "source": [
        "from gensim import corpora\n",
        "from gensim.models import LdaModel\n",
        "from gensim.models.coherencemodel import CoherenceModel\n",
        "from gensim.utils import simple_preprocess\n",
        "from nltk.stem import WordNetLemmatizer\n",
        "\n",
        "nltk.download('wordnet')\n",
        "\n",
        "review = data['review'].tolist()\n",
        "print(review[0])"
      ],
      "metadata": {
        "colab": {
          "base_uri": "https://localhost:8080/"
        },
        "id": "yq8iNSlFmmwN",
        "outputId": "c4eadf1d-2759-4716-fc07-4bd21bbd0f47"
      },
      "execution_count": null,
      "outputs": [
        {
          "output_type": "stream",
          "name": "stdout",
          "text": [
            "сменила пароль интернет банке новому пускает нескольких попыток заблокировали вход почему пользователи должны страдать оттого система глючная кроме несколько транзакции списывали суммы превышающие стоимость купленных товаров рублей никому рекомендую связываться\n"
          ]
        },
        {
          "output_type": "stream",
          "name": "stderr",
          "text": [
            "[nltk_data] Downloading package wordnet to /root/nltk_data...\n",
            "[nltk_data]   Package wordnet is already up-to-date!\n"
          ]
        }
      ]
    },
    {
      "cell_type": "code",
      "source": [
        "#!pip install pyLDAvis"
      ],
      "metadata": {
        "id": "cHyEfyuYBaaB"
      },
      "execution_count": null,
      "outputs": []
    },
    {
      "cell_type": "code",
      "source": [
        "# tokenize\n",
        "import gensim\n",
        "def sent_to_words(sentences):\n",
        "    for sentence in sentences:\n",
        "        yield(gensim.utils.simple_preprocess(str(sentence), deacc=True))  # deacc=True removes punctuations\n",
        "\n",
        "review = list(sent_to_words(review))\n",
        "\n",
        "print(review[0])\n",
        "print(len(review))"
      ],
      "metadata": {
        "colab": {
          "base_uri": "https://localhost:8080/"
        },
        "id": "nNknQSDqB5aa",
        "outputId": "e24da6d5-fade-448f-865e-e65379f53cb0"
      },
      "execution_count": null,
      "outputs": [
        {
          "output_type": "stream",
          "name": "stdout",
          "text": [
            "['сменила', 'пароль', 'интернет', 'банке', 'новому', 'пускает', 'нескольких', 'попыток', 'заблокировали', 'вход', 'почему', 'пользователи', 'должны', 'страдать', 'оттого', 'система', 'глючная', 'кроме', 'несколько', 'транзакции', 'списывали', 'суммы', 'превышающие', 'стоимость', 'купленных', 'товаров', 'рублеи', 'никому', 'рекомендую', 'связываться']\n",
            "2603\n"
          ]
        }
      ]
    },
    {
      "cell_type": "code",
      "source": [
        "#!pip install pymorphy2"
      ],
      "metadata": {
        "colab": {
          "base_uri": "https://localhost:8080/"
        },
        "id": "Qc9fYIO7Mqz2",
        "outputId": "188a157d-3f88-4582-da5d-f34c5d658a6d"
      },
      "execution_count": null,
      "outputs": [
        {
          "output_type": "stream",
          "name": "stdout",
          "text": [
            "Collecting pymorphy2\n",
            "  Downloading pymorphy2-0.9.1-py3-none-any.whl (55 kB)\n",
            "\u001b[?25l     \u001b[90m━━━━━━━━━━━━━━━━━━━━━━━━━━━━━━━━━━━━━━━━\u001b[0m \u001b[32m0.0/55.5 kB\u001b[0m \u001b[31m?\u001b[0m eta \u001b[36m-:--:--\u001b[0m\r\u001b[2K     \u001b[90m━━━━━━━━━━━━━━━━━━━━━━━━━━━━━━━━━━━━━━━━\u001b[0m \u001b[32m55.5/55.5 kB\u001b[0m \u001b[31m1.8 MB/s\u001b[0m eta \u001b[36m0:00:00\u001b[0m\n",
            "\u001b[?25hCollecting dawg-python>=0.7.1 (from pymorphy2)\n",
            "  Downloading DAWG_Python-0.7.2-py2.py3-none-any.whl (11 kB)\n",
            "Collecting pymorphy2-dicts-ru<3.0,>=2.4 (from pymorphy2)\n",
            "  Downloading pymorphy2_dicts_ru-2.4.417127.4579844-py2.py3-none-any.whl (8.2 MB)\n",
            "\u001b[2K     \u001b[90m━━━━━━━━━━━━━━━━━━━━━━━━━━━━━━━━━━━━━━━━\u001b[0m \u001b[32m8.2/8.2 MB\u001b[0m \u001b[31m55.7 MB/s\u001b[0m eta \u001b[36m0:00:00\u001b[0m\n",
            "\u001b[?25hCollecting docopt>=0.6 (from pymorphy2)\n",
            "  Downloading docopt-0.6.2.tar.gz (25 kB)\n",
            "  Preparing metadata (setup.py) ... \u001b[?25l\u001b[?25hdone\n",
            "Building wheels for collected packages: docopt\n",
            "  Building wheel for docopt (setup.py) ... \u001b[?25l\u001b[?25hdone\n",
            "  Created wheel for docopt: filename=docopt-0.6.2-py2.py3-none-any.whl size=13706 sha256=6adcf84dfa22538b2db9ba309dfac46c740fb59cde41e207e66f8d1d7b162ce2\n",
            "  Stored in directory: /root/.cache/pip/wheels/fc/ab/d4/5da2067ac95b36618c629a5f93f809425700506f72c9732fac\n",
            "Successfully built docopt\n",
            "Installing collected packages: pymorphy2-dicts-ru, docopt, dawg-python, pymorphy2\n",
            "Successfully installed dawg-python-0.7.2 docopt-0.6.2 pymorphy2-0.9.1 pymorphy2-dicts-ru-2.4.417127.4579844\n"
          ]
        }
      ]
    },
    {
      "cell_type": "code",
      "source": [
        "from pymorphy2 import MorphAnalyzer\n",
        "\n",
        "morph = MorphAnalyzer()\n",
        "review = [[morph.parse(token)[0].normal_form for token in review_list] for review_list in review]\n",
        "print(review[0])"
      ],
      "metadata": {
        "colab": {
          "base_uri": "https://localhost:8080/"
        },
        "id": "ZSXmMSlmKcUg",
        "outputId": "d7182eb3-9df1-4583-c9b6-d6020ba46529"
      },
      "execution_count": null,
      "outputs": [
        {
          "output_type": "stream",
          "name": "stdout",
          "text": [
            "['сменить', 'пароль', 'интернет', 'банк', 'новый', 'пускать', 'несколько', 'попытка', 'заблокировать', 'вход', 'почему', 'пользователь', 'должный', 'страдать', 'оттого', 'система', 'глючный', 'кроме', 'несколько', 'транзакция', 'списывать', 'сумма', 'превышать', 'стоимость', 'купить', 'товар', 'рублей', 'никто', 'рекомендовать', 'связываться']\n"
          ]
        }
      ]
    },
    {
      "cell_type": "code",
      "source": [
        "from gensim import corpora\n",
        "\n",
        "dictionary = corpora.Dictionary(review)\n",
        "corpus = [dictionary.doc2bow(review) for review in review]"
      ],
      "metadata": {
        "id": "0eEu_ezWN5yZ"
      },
      "execution_count": null,
      "outputs": []
    },
    {
      "cell_type": "code",
      "source": [
        "from gensim.models import LdaModel\n",
        "\n",
        "num_topics = 5\n",
        "lda_model = LdaModel(corpus, num_topics=num_topics, id2word=dictionary, passes=15)"
      ],
      "metadata": {
        "id": "dKlCTfImOh5Y"
      },
      "execution_count": null,
      "outputs": []
    },
    {
      "cell_type": "code",
      "source": [
        "from pprint import pprint\n",
        "# Print the Keyword in the topics\n",
        "pprint(lda_model.print_topics())"
      ],
      "metadata": {
        "colab": {
          "base_uri": "https://localhost:8080/"
        },
        "id": "AG4AE5qpO0LQ",
        "outputId": "dee320af-0471-4b88-d842-d65fb89e1af9"
      },
      "execution_count": null,
      "outputs": [
        {
          "output_type": "stream",
          "name": "stdout",
          "text": [
            "[(0,\n",
            "  '0.030*\"банк\" + 0.018*\"страхование\" + 0.015*\"сумма\" + 0.014*\"договор\" + '\n",
            "  '0.014*\"деньга\" + 0.013*\"условие\" + 0.011*\"являться\" + 0.011*\"отделение\" + '\n",
            "  '0.011*\"сотрудник\" + 0.011*\"банкомат\"'),\n",
            " (1,\n",
            "  '0.032*\"банк\" + 0.019*\"кредит\" + 0.016*\"втб\" + 0.012*\"страховка\" + '\n",
            "  '0.012*\"договор\" + 0.009*\"сотрудник\" + 0.008*\"год\" + 0.008*\"страхование\" + '\n",
            "  '0.008*\"документ\" + 0.007*\"это\"'),\n",
            " (2,\n",
            "  '0.036*\"банк\" + 0.025*\"карта\" + 0.014*\"деньга\" + 0.013*\"втб\" + 0.012*\"счёт\" '\n",
            "  '+ 0.009*\"это\" + 0.008*\"сумма\" + 0.007*\"клиент\" + 0.007*\"день\" + '\n",
            "  '0.006*\"мой\"'),\n",
            " (3,\n",
            "  '0.031*\"банк\" + 0.016*\"втб\" + 0.013*\"сотрудник\" + 0.013*\"клиент\" + '\n",
            "  '0.011*\"отделение\" + 0.010*\"офис\" + 0.009*\"вопрос\" + 0.009*\"очень\" + '\n",
            "  '0.008*\"карта\" + 0.007*\"работа\"'),\n",
            " (4,\n",
            "  '0.033*\"кредит\" + 0.031*\"банк\" + 0.022*\"заявка\" + 0.014*\"сказать\" + '\n",
            "  '0.011*\"страховка\" + 0.011*\"одобрить\" + 0.010*\"это\" + 0.008*\"позвонить\" + '\n",
            "  '0.008*\"день\" + 0.008*\"прийти\"')]\n"
          ]
        }
      ]
    },
    {
      "cell_type": "markdown",
      "source": [
        "2. Найдите оптимальное количество тем в соответствии с метриками: 1) Perplexity score 2) Coherence score. Есть ли различия?"
      ],
      "metadata": {
        "id": "0Yu16Pb5rS-O"
      }
    },
    {
      "cell_type": "code",
      "source": [
        "def compute_coherence_values(dictionary, corpus, texts, limit, start=2, step=3):\n",
        "    coherence_values = []\n",
        "    perplexity_values = []\n",
        "    for num_topics in range(start, limit, step):\n",
        "        model = gensim.models.ldamodel.LdaModel(corpus, num_topics=num_topics, id2word=dictionary, passes=15)\n",
        "        perplexity_values.append(model.log_perplexity(corpus))\n",
        "\n",
        "        coherencemodel = CoherenceModel(model=model, texts=review, dictionary=dictionary, coherence='c_v')\n",
        "        coherence_values.append(coherencemodel.get_coherence())\n",
        "\n",
        "    return coherence_values, perplexity_values"
      ],
      "metadata": {
        "id": "UbJqOKhmdP4D"
      },
      "execution_count": null,
      "outputs": []
    },
    {
      "cell_type": "code",
      "source": [
        "%%time\n",
        "from gensim.models import CoherenceModel\n",
        "from gensim.models.ldamodel import LdaModel\n",
        "\n",
        "coherence_values, perplexity_values  = compute_coherence_values(dictionary=dictionary, corpus=corpus, texts=review, start=2, limit=11, step=1)\n",
        "\n",
        "for i, (perplexity, coherence) in enumerate(zip(perplexity_values, coherence_values)):\n",
        "    print(\"Num:\", i+2, \" Perplexity Score:\", perplexity, \" Coherence Score:\", coherence)"
      ],
      "metadata": {
        "colab": {
          "base_uri": "https://localhost:8080/"
        },
        "id": "JtU2S310RTcS",
        "outputId": "f3a0b516-232e-41ab-de29-a59851d0ef75"
      },
      "execution_count": null,
      "outputs": [
        {
          "output_type": "stream",
          "name": "stdout",
          "text": [
            "Num: 2  Perplexity Score: -7.456472017039962  Coherence Score: 0.32490715518613233\n",
            "Num: 3  Perplexity Score: -7.437062173141724  Coherence Score: 0.33026411043612147\n",
            "Num: 4  Perplexity Score: -7.439853697506803  Coherence Score: 0.345039436173757\n",
            "Num: 5  Perplexity Score: -7.443173242096757  Coherence Score: 0.3205593677542808\n",
            "Num: 6  Perplexity Score: -7.415018556224503  Coherence Score: 0.39729587325772275\n",
            "Num: 7  Perplexity Score: -7.450693740976757  Coherence Score: 0.3262806183604905\n",
            "Num: 8  Perplexity Score: -7.426568625532874  Coherence Score: 0.40700990015872435\n",
            "Num: 9  Perplexity Score: -7.416017220819642  Coherence Score: 0.42591912525628267\n",
            "Num: 10  Perplexity Score: -7.483450065241494  Coherence Score: 0.3448516589011146\n",
            "CPU times: user 4min 46s, sys: 2.3 s, total: 4min 49s\n",
            "Wall time: 5min 1s\n"
          ]
        }
      ]
    },
    {
      "cell_type": "markdown",
      "source": [
        "Лучше всего 9 тем"
      ],
      "metadata": {
        "id": "yL3oA17YYbTk"
      }
    },
    {
      "cell_type": "code",
      "source": [
        "num_topics = 9\n",
        "lda_model = LdaModel(corpus, num_topics=num_topics, id2word=dictionary, passes=15)\n",
        "\n",
        "pprint(lda_model.print_topics())"
      ],
      "metadata": {
        "colab": {
          "base_uri": "https://localhost:8080/"
        },
        "id": "XFF7CSXVYzKl",
        "outputId": "27648b85-9fae-4f5a-a9b7-e2ee9e95f8d3"
      },
      "execution_count": null,
      "outputs": [
        {
          "output_type": "stream",
          "name": "stdout",
          "text": [
            "[(0,\n",
            "  '0.007*\"заказ\" + 0.006*\"доставка\" + 0.005*\"нпф\" + 0.004*\"балл\" + '\n",
            "  '0.003*\"коллекция\" + 0.003*\"ужаснеишие\" + 0.003*\"выбрать\" + 0.002*\"подарок\" '\n",
            "  '+ 0.002*\"озон\" + 0.002*\"вознаграждение\"'),\n",
            " (1,\n",
            "  '0.052*\"кредит\" + 0.051*\"страховка\" + 0.035*\"банк\" + 0.033*\"страхование\" + '\n",
            "  '0.023*\"сумма\" + 0.020*\"договор\" + 0.015*\"условие\" + 0.014*\"год\" + '\n",
            "  '0.012*\"сотрудник\" + 0.012*\"это\"'),\n",
            " (2,\n",
            "  '0.032*\"банк\" + 0.017*\"карта\" + 0.012*\"кредит\" + 0.009*\"это\" + '\n",
            "  '0.009*\"звонок\" + 0.009*\"год\" + 0.009*\"смс\" + 0.008*\"претензия\" + '\n",
            "  '0.008*\"мой\" + 0.008*\"задолженность\"'),\n",
            " (3,\n",
            "  '0.054*\"банк\" + 0.014*\"втб\" + 0.014*\"кредит\" + 0.012*\"платёж\" + '\n",
            "  '0.009*\"карта\" + 0.008*\"год\" + 0.008*\"клиент\" + 0.006*\"ипотека\" + '\n",
            "  '0.006*\"кредитный\" + 0.006*\"оплата\"'),\n",
            " (4,\n",
            "  '0.024*\"карта\" + 0.023*\"банк\" + 0.015*\"втб\" + 0.009*\"это\" + 0.009*\"клиент\" + '\n",
            "  '0.008*\"отделение\" + 0.006*\"сотрудник\" + 0.006*\"сказать\" + 0.006*\"комиссия\" '\n",
            "  '+ 0.006*\"пакет\"'),\n",
            " (5,\n",
            "  '0.033*\"банк\" + 0.017*\"кредит\" + 0.012*\"заявка\" + 0.011*\"втб\" + 0.010*\"это\" '\n",
            "  '+ 0.009*\"сказать\" + 0.009*\"клиент\" + 0.008*\"сотрудник\" + 0.007*\"менеджер\" + '\n",
            "  '0.007*\"день\"'),\n",
            " (6,\n",
            "  '0.033*\"банк\" + 0.033*\"карта\" + 0.030*\"деньга\" + 0.025*\"счёт\" + 0.018*\"втб\" '\n",
            "  '+ 0.015*\"средство\" + 0.013*\"сумма\" + 0.011*\"банкомат\" + 0.010*\"операция\" + '\n",
            "  '0.008*\"перевод\"'),\n",
            " (7,\n",
            "  '0.036*\"банк\" + 0.017*\"втб\" + 0.010*\"счёт\" + 0.009*\"мой\" + 0.008*\"клиент\" + '\n",
            "  '0.007*\"сотрудник\" + 0.007*\"вопрос\" + 0.007*\"договор\" + 0.007*\"документ\" + '\n",
            "  '0.006*\"отделение\"'),\n",
            " (8,\n",
            "  '0.043*\"карта\" + 0.020*\"банк\" + 0.016*\"сказать\" + 0.014*\"деньга\" + '\n",
            "  '0.012*\"это\" + 0.012*\"офис\" + 0.010*\"отделение\" + 0.009*\"позвонить\" + '\n",
            "  '0.007*\"сотрудник\" + 0.007*\"работать\"')]\n"
          ]
        }
      ]
    },
    {
      "cell_type": "markdown",
      "source": [
        "3. Как бы вы назвали каждую тему? Обоснуйте."
      ],
      "metadata": {
        "id": "nQRhWEJcrQFM"
      }
    },
    {
      "cell_type": "markdown",
      "source": [
        "1. Тема 0: Обращения клиентов\n",
        "\n",
        "Эта тема содержит слова, связанные с клиентскими запросами и обращениями в банк, такие как \"звонок\", \"перевод\", \"сделать\", \"поддержка\". Это может указывать на тему, связанную с коммуникацией клиентов с банком и решением их проблем.\n",
        "\n",
        "2. Тема 1: Благодарность и обслуживание\n",
        "\n",
        "Эта тема включает слова, связанные с благодарностью и обслуживанием клиентов, такие как \"спасибо\", \"благодарность\", \"работа\". Это может отражать тему, связанную с положительными отзывами о работе сотрудников и качеством обслуживания.\n",
        "\n",
        "3. Тема 2: Кредитные продукты и услуги\n",
        "\n",
        "Эта тема содержит слова, связанные с кредитными продуктами и услугами банка, такие как \"кредит\", \"страховка\", \"заявка\", \"одобрить\". Это может указывать на тему, связанную с кредитованием и страхованием.\n",
        "\n",
        "4. Тема 3: Клиентская поддержка и обратная связь\n",
        "\n",
        "Эта тема включает слова, связанные с клиентской поддержкой и обратной связью, такие как \"звонить\", \"телефон\", \"клиент\", \"деньга\". Это может указывать на тему, связанную с вопросами клиентов и обратной связью с банком.\n",
        "\n",
        "5. Тема 4: Ипотечное кредитование\n",
        "\n",
        "Эта тема содержит слова, связанные с ипотечным кредитованием и недвижимостью, такие как \"закладная\", \"ипотека\", \"отделение\", \"процент\". Это может указывать на тему, связанную с обсуждением условий ипотечного кредита и процесса покупки недвижимости.\n",
        "\n",
        "6. Тема 5: Различные банковские услуги\n",
        "\n",
        "Эта тема включает различные слова, связанные с различными банковскими услугами, такие как \"страхование\", \"рефинансирование\", \"договор\", \"отделение\". Это может указывать на тему, связанную с различными аспектами банковского обслуживания и услуг.\n",
        "\n",
        "7. Тема 6: Банковские операции и счета\n",
        "\n",
        "Эта тема содержит слова, связанные с банковскими операциями и управлением счетами, такие как \"карта\", \"деньга\", \"счёт\", \"клиент\". Это может указывать на тему, связанную с процессами банковских операций и управлением финансами.\n",
        "\n",
        "8. Тема 7: Финансовые инструменты и продукты\n",
        "\n",
        "Эта тема включает слова, связанные с различными финансовыми инструментами и продуктами, такие как \"пакет\", \"вклад\", \"платиновый\", \"сайт\". Это может указывать на тему, связанную с обсуждением различных финансовых инструментов и услуг банка.\n",
        "\n",
        "9. Тема 8: Заявки на кредит и страхование\n",
        "\n",
        "Эта тема содержит слова, связанные с процессом оформления заявок на кредит и страхование, такие как \"заявка\", \"страховка\", \"сказать\". Это может указывать на тему, связанную с процессом оформления различных заявок и страховых полисов."
      ],
      "metadata": {
        "id": "tvO0fWe1bRWl"
      }
    },
    {
      "cell_type": "markdown",
      "source": [
        "4. Визуализируйте темы с помощью пакета pyLDAvis."
      ],
      "metadata": {
        "id": "TiNm7V3irM4Y"
      }
    },
    {
      "cell_type": "code",
      "source": [
        "#!pip install pyLDAvis\n",
        "#!pip install pandas==1.5.3"
      ],
      "metadata": {
        "colab": {
          "base_uri": "https://localhost:8080/",
          "height": 428
        },
        "id": "H-hJ8fFacg9R",
        "outputId": "73dce9f7-22fd-4470-8a3c-c25e69bde4f7"
      },
      "execution_count": null,
      "outputs": [
        {
          "output_type": "stream",
          "name": "stderr",
          "text": [
            "/usr/local/lib/python3.10/dist-packages/ipykernel/ipkernel.py:283: DeprecationWarning: `should_run_async` will not call `transform_cell` automatically in the future. Please pass the result to `transformed_cell` argument and any exception that happen during thetransform in `preprocessing_exc_tuple` in IPython 7.17 and above.\n",
            "  and should_run_async(code)\n"
          ]
        },
        {
          "output_type": "stream",
          "name": "stdout",
          "text": [
            "Collecting pandas==1.5.3\n",
            "  Downloading pandas-1.5.3-cp310-cp310-manylinux_2_17_x86_64.manylinux2014_x86_64.whl (12.1 MB)\n",
            "\u001b[2K     \u001b[90m━━━━━━━━━━━━━━━━━━━━━━━━━━━━━━━━━━━━━━━━\u001b[0m \u001b[32m12.1/12.1 MB\u001b[0m \u001b[31m17.0 MB/s\u001b[0m eta \u001b[36m0:00:00\u001b[0m\n",
            "\u001b[?25hRequirement already satisfied: python-dateutil>=2.8.1 in /usr/local/lib/python3.10/dist-packages (from pandas==1.5.3) (2.8.2)\n",
            "Requirement already satisfied: pytz>=2020.1 in /usr/local/lib/python3.10/dist-packages (from pandas==1.5.3) (2023.4)\n",
            "Requirement already satisfied: numpy>=1.21.0 in /usr/local/lib/python3.10/dist-packages (from pandas==1.5.3) (1.25.2)\n",
            "Requirement already satisfied: six>=1.5 in /usr/local/lib/python3.10/dist-packages (from python-dateutil>=2.8.1->pandas==1.5.3) (1.16.0)\n",
            "Installing collected packages: pandas\n",
            "  Attempting uninstall: pandas\n",
            "    Found existing installation: pandas 2.2.1\n",
            "    Uninstalling pandas-2.2.1:\n",
            "      Successfully uninstalled pandas-2.2.1\n",
            "\u001b[31mERROR: pip's dependency resolver does not currently take into account all the packages that are installed. This behaviour is the source of the following dependency conflicts.\n",
            "pyldavis 3.4.1 requires pandas>=2.0.0, but you have pandas 1.5.3 which is incompatible.\u001b[0m\u001b[31m\n",
            "\u001b[0mSuccessfully installed pandas-1.5.3\n"
          ]
        },
        {
          "output_type": "display_data",
          "data": {
            "application/vnd.colab-display-data+json": {
              "pip_warning": {
                "packages": [
                  "pandas"
                ]
              },
              "id": "5ea1e44e11154a67a66592996bcaf42c"
            }
          },
          "metadata": {}
        }
      ]
    },
    {
      "cell_type": "code",
      "source": [
        "import pyLDAvis\n",
        "import pyLDAvis.gensim_models\n",
        "\n",
        "pyLDAvis.enable_notebook()\n",
        "vis = pyLDAvis.gensim_models.prepare(lda_model, corpus, dictionary)\n",
        "vis"
      ],
      "metadata": {
        "colab": {
          "base_uri": "https://localhost:8080/",
          "height": 968
        },
        "id": "Mb3GBWdcPWkM",
        "outputId": "93a7c13c-a8f3-4b48-d6fb-d78018d1008e"
      },
      "execution_count": null,
      "outputs": [
        {
          "output_type": "stream",
          "name": "stderr",
          "text": [
            "/usr/local/lib/python3.10/dist-packages/ipykernel/ipkernel.py:283: DeprecationWarning: `should_run_async` will not call `transform_cell` automatically in the future. Please pass the result to `transformed_cell` argument and any exception that happen during thetransform in `preprocessing_exc_tuple` in IPython 7.17 and above.\n",
            "  and should_run_async(code)\n",
            "/usr/local/lib/python3.10/dist-packages/pandas/core/dtypes/cast.py:1641: DeprecationWarning: np.find_common_type is deprecated.  Please use `np.result_type` or `np.promote_types`.\n",
            "See https://numpy.org/devdocs/release/1.25.0-notes.html and the docs for more information.  (Deprecated NumPy 1.25)\n",
            "  return np.find_common_type(types, [])\n"
          ]
        },
        {
          "output_type": "execute_result",
          "data": {
            "text/plain": [
              "PreparedData(topic_coordinates=              x         y  topics  cluster       Freq\n",
              "topic                                                \n",
              "5     -0.079383  0.020705       1        1  32.899950\n",
              "6     -0.114799 -0.044827       2        1  14.791813\n",
              "7     -0.037562 -0.023615       3        1  13.592988\n",
              "2     -0.099658 -0.013408       4        1  13.079070\n",
              "1      0.048528  0.295546       5        1   8.218186\n",
              "8     -0.048391 -0.097118       6        1   6.322327\n",
              "4     -0.014933 -0.095856       7        1   5.684065\n",
              "3      0.024310  0.043229       8        1   5.200993\n",
              "0      0.321888 -0.084656       9        1   0.210609, topic_info=               Term         Freq        Total Category  logprob  loglift\n",
              "523          кредит  3247.000000  3247.000000  Default  30.0000  30.0000\n",
              "655       страховка  1239.000000  1239.000000  Default  29.0000  29.0000\n",
              "97            карта  3266.000000  3266.000000  Default  28.0000  28.0000\n",
              "0              банк  8876.000000  8876.000000  Default  27.0000  27.0000\n",
              "888     страхование   740.000000   740.000000  Default  26.0000  26.0000\n",
              "...             ...          ...          ...      ...      ...      ...\n",
              "543   предусмотреть     0.805604    24.108053   Topic9  -6.5489   2.7642\n",
              "889         хватать     0.758451    44.245861   Topic9  -6.6092   2.0967\n",
              "1909          пункт     0.693588    88.608450   Topic9  -6.6986   1.3128\n",
              "3703       заказать     0.560511    73.600807   Topic9  -6.9117   1.2854\n",
              "3131        активно     0.421294    22.808574   Topic9  -7.1972   2.1714\n",
              "\n",
              "[716 rows x 6 columns], token_table=       Topic      Freq          Term\n",
              "term                                \n",
              "9973       6  0.898985     автокарта\n",
              "4836       5  0.981574     автосалон\n",
              "13392      5  0.896693         адиле\n",
              "323        3  0.087259  активировать\n",
              "323        4  0.017452  активировать\n",
              "...      ...       ...           ...\n",
              "254        2  0.341955        январь\n",
              "254        3  0.050516        январь\n",
              "254        4  0.470189        январь\n",
              "254        5  0.003886        январь\n",
              "254        8  0.007772        январь\n",
              "\n",
              "[1697 rows x 3 columns], R=30, lambda_step=0.01, plot_opts={'xlab': 'PC1', 'ylab': 'PC2'}, topic_order=[6, 7, 8, 3, 2, 9, 5, 4, 1])"
            ],
            "text/html": [
              "\n",
              "<link rel=\"stylesheet\" type=\"text/css\" href=\"https://cdn.jsdelivr.net/gh/bmabey/pyLDAvis@3.4.0/pyLDAvis/js/ldavis.v1.0.0.css\">\n",
              "\n",
              "\n",
              "<div id=\"ldavis_el1901395539722765766195960198\" style=\"background-color:white;\"></div>\n",
              "<script type=\"text/javascript\">\n",
              "\n",
              "var ldavis_el1901395539722765766195960198_data = {\"mdsDat\": {\"x\": [-0.07938303870301591, -0.1147988913510014, -0.03756214208769216, -0.09965781555330917, 0.048527565602628116, -0.04839057777015124, -0.014933134424240158, 0.024309753750382898, 0.3218882805363989], \"y\": [0.020705453556116436, -0.04482671154379365, -0.023614841422386474, -0.013408179372527087, 0.29554551310106014, -0.09711823780333667, -0.09585588200127361, 0.04322854551868956, -0.08465566003254883], \"topics\": [1, 2, 3, 4, 5, 6, 7, 8, 9], \"cluster\": [1, 1, 1, 1, 1, 1, 1, 1, 1], \"Freq\": [32.89994985257615, 14.791813042195098, 13.592987822249059, 13.079070174897037, 8.218185654112451, 6.322327351726427, 5.684064550275501, 5.20099297481805, 0.21060857715022294]}, \"tinfo\": {\"Term\": [\"\\u043a\\u0440\\u0435\\u0434\\u0438\\u0442\", \"\\u0441\\u0442\\u0440\\u0430\\u0445\\u043e\\u0432\\u043a\\u0430\", \"\\u043a\\u0430\\u0440\\u0442\\u0430\", \"\\u0431\\u0430\\u043d\\u043a\", \"\\u0441\\u0442\\u0440\\u0430\\u0445\\u043e\\u0432\\u0430\\u043d\\u0438\\u0435\", \"\\u0434\\u0435\\u043d\\u044c\\u0433\\u0430\", \"\\u0441\\u0443\\u043c\\u043c\\u0430\", \"\\u0441\\u0447\\u0451\\u0442\", \"\\u0434\\u043e\\u0433\\u043e\\u0432\\u043e\\u0440\", \"\\u0437\\u0430\\u044f\\u0432\\u043a\\u0430\", \"\\u0441\\u043a\\u0430\\u0437\\u0430\\u0442\\u044c\", \"\\u0443\\u0441\\u043b\\u043e\\u0432\\u0438\\u0435\", \"\\u043e\\u0434\\u043e\\u0431\\u0440\\u0438\\u0442\\u044c\", \"\\u0441\\u0440\\u0435\\u0434\\u0441\\u0442\\u0432\\u043e\", \"\\u043f\\u043b\\u0430\\u0442\\u0451\\u0436\", \"\\u0431\\u0430\\u043d\\u043a\\u043e\\u043c\\u0430\\u0442\", \"\\u0432\\u0442\\u0431\", \"\\u0433\\u043e\\u0434\", \"\\u0441\\u0442\\u0440\\u0430\\u0445\\u043e\\u0432\\u043e\\u0439\", \"\\u043e\\u0442\\u0434\\u0435\\u043b\\u0435\\u043d\\u0438\\u0435\", \"\\u043e\\u0444\\u0438\\u0441\", \"\\u043e\\u043f\\u0435\\u0440\\u0430\\u0446\\u0438\\u044f\", \"\\u043f\\u043e\\u0437\\u0432\\u043e\\u043d\\u0438\\u0442\\u044c\", \"\\u044d\\u0442\\u043e\", \"\\u044f\\u0432\\u043b\\u044f\\u0442\\u044c\\u0441\\u044f\", \"\\u043f\\u043e\\u0433\\u0430\\u0448\\u0435\\u043d\\u0438\\u0435\", \"\\u043a\\u043b\\u0438\\u0435\\u043d\\u0442\", \"\\u0438\\u043f\\u043e\\u0442\\u0435\\u043a\\u0430\", \"\\u043f\\u0440\\u0435\\u0442\\u0435\\u043d\\u0437\\u0438\\u044f\", \"\\u0437\\u0430\\u0434\\u043e\\u043b\\u0436\\u0435\\u043d\\u043d\\u043e\\u0441\\u0442\\u044c\", \"\\u043e\\u0434\\u043e\\u0431\\u0440\\u0435\\u043d\\u0438\\u0435\", \"\\u0435\\u043b\\u0435\\u043d\\u0430\", \"\\u043d\\u0430\\u0442\\u0430\\u043b\\u044c\\u044f\", \"\\u043d\\u0434\\u0444\\u043b\", \"\\u043f\\u0440\\u043e\\u0444\\u0435\\u0441\\u0441\\u0438\\u043e\\u043d\\u0430\\u043b\\u0438\\u0437\\u043c\", \"\\u043c\\u043b\\u043d\", \"\\u043f\\u043e\\u0431\\u043b\\u0430\\u0433\\u043e\\u0434\\u0430\\u0440\\u0438\\u0442\\u044c\", \"\\u0435\\u043a\\u0430\\u0442\\u0435\\u0440\\u0438\\u043d\\u0430\", \"\\u0432\\u044b\\u0440\\u0430\\u0436\\u0430\\u0442\\u044c\", \"\\u0430\\u043d\\u0430\\u0441\\u0442\\u0430\\u0441\\u0438\\u044f\", \"\\u0442\\u0438\\u0448\\u0438\\u043d\\u0430\", \"\\u0442\\u0440\\u0443\\u0434\\u043e\\u0432\\u043e\\u0439\", \"\\u043f\\u0440\\u0438\\u043e\\u0431\\u0440\\u0435\\u0441\\u0442\\u0438\", \"\\u0447\\u0435\\u0442\\u0432\\u0435\\u0440\\u0433\", \"\\u0432\\u044b\\u0441\\u043e\\u043a\\u0438\\u044f\", \"\\u0441\\u043e\\u0433\\u043b\\u0430\\u0441\\u043e\\u0432\\u0430\\u0442\\u044c\", \"\\u0441\\u0442\\u0440\\u0430\\u0442\\u0435\\u0433\\u0438\\u044f\", \"\\u0434\\u043e\\u0440\\u043e\\u0436\\u0438\\u0442\\u044c\", \"\\u043d\\u0430\\u0437\\u043d\\u0430\\u0447\\u0438\\u0442\\u044c\", \"\\u043e\\u0438\", \"\\u043f\\u0440\\u0435\\u0434\\u0432\\u0430\\u0440\\u0438\\u0442\\u0435\\u043b\\u044c\\u043d\\u044b\\u0439\", \"\\u0434\\u0430\\u0440\\u044c\\u044f\", \"\\u043f\\u043e\\u0434\\u0435\\u043b\\u0438\\u0442\\u044c\\u0441\\u044f\", \"\\u043f\\u0440\\u0438\\u0433\\u043b\\u0430\\u0448\\u0430\\u0442\\u044c\", \"\\u043c\\u0430\\u0442\", \"\\u043d\\u043e\\u0433\\u043e\\u0439\", \"\\u0443\\u0434\\u0438\\u0432\\u0438\\u0442\\u044c\\u0441\\u044f\", \"\\u043d\\u0438\\u0437\\u043a\\u0438\\u044f\", \"\\u043a\\u043e\\u043b\\u043b\\u0435\\u043a\\u0442\\u0438\\u0432\", \"\\u043f\\u043e\\u0434\\u0433\\u043e\\u0442\\u043e\\u0432\\u043a\\u0430\", \"\\u0431\\u043b\\u0430\\u0433\\u043e\\u0434\\u0430\\u0440\\u043d\\u043e\\u0441\\u0442\\u044c\", \"\\u043c\\u0435\\u0441\", \"\\u0437\\u0430\\u044f\\u0432\\u043a\\u0430\", \"\\u0443\\u0440\\u043e\\u0432\\u0435\\u043d\\u044c\", \"\\u0441\\u0434\\u0435\\u043b\\u043a\\u0430\", \"\\u0432\\u044b\\u0440\\u0430\\u0437\\u0438\\u0442\\u044c\", \"\\u0441\\u0442\\u0430\\u0440\\u0430\\u0442\\u044c\\u0441\\u044f\", \"\\u0441\\u043f\\u0430\\u0441\\u0438\\u0431\\u043e\", \"\\u043c\\u0435\\u043d\\u0435\\u0434\\u0436\\u0435\\u0440\", \"\\u043c\\u044b\", \"\\u0431\\u043e\\u043b\\u044c\\u0448\\u043e\\u0439\", \"\\u0431\\u044b\\u0441\\u0442\\u0440\\u043e\", \"\\u043f\\u043e\\u0434\\u0430\\u0442\\u044c\", \"\\u0445\\u043e\\u0440\\u043e\\u0448\\u0438\\u0439\", \"\\u043f\\u043e\\u0434\\u0430\\u0432\\u0430\\u0442\\u044c\", \"\\u0434\\u0435\\u0432\\u0443\\u0448\\u043a\\u0430\", \"\\u043f\\u043e\\u043b\\u043e\\u0436\\u0438\\u0442\\u0435\\u043b\\u044c\\u043d\\u044b\\u0439\", \"\\u043e\\u0433\\u0440\\u043e\\u043c\\u043d\\u044b\\u0439\", \"\\u043f\\u0440\\u0438\\u044f\\u0442\\u043d\\u043e\", \"\\u043f\\u0440\\u0435\\u0434\\u043b\\u043e\\u0436\\u0435\\u043d\\u0438\\u0435\", \"\\u043e\\u0434\\u043e\\u0431\\u0440\\u0438\\u0442\\u044c\", \"\\u0445\\u043e\\u0442\\u0435\\u0442\\u044c\", \"\\u043a\\u0432\\u0430\\u0440\\u0442\\u0438\\u0440\\u0430\", \"\\u043e\\u0447\\u0435\\u043d\\u044c\", \"\\u0447\\u0435\\u043b\\u043e\\u0432\\u0435\\u043a\", \"\\u0440\\u0435\\u0448\\u0435\\u043d\\u0438\\u0435\", \"\\u043c\\u0443\\u0436\", \"\\u0441\\u0442\\u0430\\u0432\\u043a\\u0430\", \"\\u0441\\u043a\\u0430\\u0437\\u0430\\u0442\\u044c\", \"\\u0438\\u043f\\u043e\\u0442\\u0435\\u043a\\u0430\", \"\\u043a\\u0440\\u0435\\u0434\\u0438\\u0442\", \"\\u043e\\u0442\\u043d\\u043e\\u0448\\u0435\\u043d\\u0438\\u0435\", \"\\u0442\\u0430\\u043a\\u043e\\u0439\", \"\\u0434\\u043e\\u043a\\u0443\\u043c\\u0435\\u043d\\u0442\", \"\\u043d\\u0430\\u0448\", \"\\u0431\\u0430\\u043d\\u043a\", \"\\u0440\\u0430\\u0431\\u043e\\u0442\\u0430\", \"\\u0432\\u043e\\u043f\\u0440\\u043e\\u0441\", \"\\u043a\\u043b\\u0438\\u0435\\u043d\\u0442\", \"\\u043f\\u043e\\u0437\\u0432\\u043e\\u043d\\u0438\\u0442\\u044c\", \"\\u043f\\u0440\\u0438\\u0439\\u0442\\u0438\", \"\\u044d\\u0442\\u043e\", \"\\u043f\\u0440\\u043e\\u0446\\u0435\\u043d\\u0442\", \"\\u0434\\u0435\\u043d\\u044c\", \"\\u043e\\u0442\\u0432\\u0435\\u0442\", \"\\u0441\\u043e\\u0442\\u0440\\u0443\\u0434\\u043d\\u0438\\u043a\", \"\\u0432\\u0442\\u0431\", \"\\u043f\\u043e\\u043b\\u0443\\u0447\\u0438\\u0442\\u044c\", \"\\u0433\\u043e\\u0434\", \"\\u0441\\u0432\\u043e\\u0439\", \"\\u043a\\u043e\\u0442\\u043e\\u0440\\u044b\\u0439\", \"\\u043e\\u0442\\u0434\\u0435\\u043b\\u0435\\u043d\\u0438\\u0435\", \"\\u043e\\u0444\\u0438\\u0441\", \"\\u043c\\u043e\\u0439\", \"\\u043c\\u043e\\u0447\\u044c\", \"\\u0432\\u0440\\u0435\\u043c\\u044f\", \"\\u043a\\u043e\\u043d\\u0432\\u0435\\u0440\\u0442\\u0430\\u0446\\u0438\\u044f\", \"\\u0431\\u0430\\u043d\\u043a\\u0445\\u043e\\u0440\\u043e\\u0448\\u0438\\u0435\", \"\\u0441\\u0448\\u0430\", \"\\u043c\\u0430\\u0441\\u0442\\u0435\\u0440\", \"\\u043e\\u0442\\u043f\\u0440\\u0430\\u0432\\u0438\\u0442\\u0435\\u043b\\u044c\", \"\\u0434\\u043e\\u043b\\u043b\\u0430\\u0440\\u043e\\u0432\\u044b\\u044f\", \"\\u0440\\u0443\\u0431\\u043b\\u0435\\u0432\\u044b\\u044f\", \"\\u043e\\u043f\\u0440\\u0435\\u0434\\u0435\\u043b\\u0438\\u0442\\u044c\", \"\\u0434\\u043e\\u043b\\u043b\\u0430\\u0440\", \"\\u043f\\u0440\\u043e\\u044f\\u0441\\u043d\\u0438\\u0442\\u044c\", \"\\u043f\\u0440\\u043e\\u0441\\u0440\\u043e\\u0447\\u0435\\u043d\\u043d\\u044b\\u0439\", \"\\u043c\\u0443\\u043b\\u044c\\u0442\\u0438\\u0432\\u0430\\u043b\\u044e\\u0442\\u043d\\u044b\\u0439\", \"\\u043d\\u0435\\u0434\\u043e\\u0441\\u0442\\u0430\\u0442\\u043e\\u0447\\u043d\\u043e\", \"\\u0437\\u0430\\u0444\\u0438\\u043a\\u0441\\u0438\\u0440\\u043e\\u0432\\u0430\\u0442\\u044c\", \"\\u0434\\u043e\\u043b\\u043b\\u0430\\u0440\\u043e\\u0432\\u044b\\u0439\", \"\\u0445\\u0440\\u0430\\u043d\\u0438\\u0442\\u044c\", \"\\u0437\\u0430\\u0447\\u0438\\u0441\\u043b\\u0438\\u0442\\u044c\\u0441\\u044f\", \"\\u0440\\u0443\\u0431\\u0435\\u0436\", \"\\u043e\\u043f\\u0443\\u0431\\u043b\\u0438\\u043a\\u043e\\u0432\\u0430\\u0442\\u044c\", \"\\u0432\\u043e\\u0437\\u0432\\u0440\\u0430\\u0442\\u0438\\u0442\\u044c\", \"\\u0431\\u0440\\u0430\\u0442\", \"\\u043f\\u043e\\u0441\\u0442\", \"\\u0440\\u0430\\u0441\\u0441\\u043b\\u0435\\u0434\\u043e\\u0432\\u0430\\u043d\\u0438\\u0435\", \"\\u0441\\u0431\\u0435\\u0440\\u0435\\u0436\\u0435\\u043d\\u0438\\u0435\", \"\\u043e\\u0440\\u0434\\u0436\\u043e\\u043d\\u0438\\u043a\\u0438\\u0434\\u0437\\u0435\", \"\\u0434\\u0435\\u043d\", \"\\u043a\\u0432\\u0430\\u0440\\u0442\\u0430\\u043b\", \"\\u0434\\u043a\\u043e\", \"\\u0448\\u0442\\u0440\\u0430\\u0444\\u043d\\u043e\\u0439\", \"\\u043d\\u0430\\u0445\\u043e\\u0436\\u0434\\u0435\\u043d\\u0438\\u0435\", \"\\u0442\\u0440\\u0430\\u043d\\u0437\\u0430\\u043a\\u0446\\u0438\\u044f\", \"\\u0447\\u0435\\u043a\", \"\\u0432\\u0430\\u043b\\u044e\\u0442\\u0430\", \"\\u0440\\u0443\\u0431\\u043b\\u044c\", \"\\u043a\\u0443\\u0440\\u0441\", \"\\u043e\\u043f\\u0435\\u0440\\u0430\\u0446\\u0438\\u044f\", \"\\u044d\\u043a\\u0440\\u0430\\u043d\", \"\\u0441\\u0440\\u0435\\u0434\\u0441\\u0442\\u0432\\u043e\", \"\\u0431\\u0430\\u043d\\u043a\\u043e\\u043c\\u0430\\u0442\", \"\\u043e\\u0431\\u0440\\u0430\\u0431\\u043e\\u0442\\u043a\\u0430\", \"\\u043c\\u0430\\u0433\\u0430\\u0437\\u0438\\u043d\", \"\\u0437\\u0430\\u0447\\u0438\\u0441\\u043b\\u0438\\u0442\\u044c\", \"\\u0434\\u0435\\u043d\\u0435\\u0436\\u043d\\u044b\\u0439\", \"\\u043f\\u0435\\u0440\\u0435\\u0432\\u043e\\u0434\", \"\\u0441\\u0447\\u0451\\u0442\", \"\\u0434\\u0435\\u043d\\u044c\\u0433\\u0430\", \"\\u043e\\u0441\\u0443\\u0449\\u0435\\u0441\\u0442\\u0432\\u043b\\u044f\\u0442\\u044c\\u0441\\u044f\", \"\\u043a\\u0443\\u043f\\u044e\\u0440\\u0430\", \"\\u0441\\u043f\\u0438\\u0441\\u0430\\u043d\\u0438\\u0435\", \"\\u043d\\u0430\\u043b\\u0438\\u0447\\u043d\\u044b\\u0439\", \"\\u0434\\u0435\\u0431\\u0435\\u0442\\u043e\\u0432\\u043e\\u0439\", \"\\u043a\\u0430\\u0440\\u0442\\u0430\", \"\\u043f\\u0435\\u0440\\u0435\\u0432\\u0435\\u0441\\u0442\\u0438\", \"\\u0441\\u043d\\u044f\\u0442\\u044c\", \"\\u0444\\u0435\\u0432\\u0440\\u0430\\u043b\\u044c\", \"\\u0440\\u0443\\u0431\\u043b\\u0435\\u0439\", \"\\u0441\\u043d\\u044f\\u0442\\u0438\\u0435\", \"\\u0441\\u043f\\u0438\\u0441\\u0430\\u0442\\u044c\", \"\\u0441\\u0443\\u043c\\u043c\\u0430\", \"\\u043f\\u043e\\u0441\\u0442\\u0443\\u043f\\u0438\\u0442\\u044c\", \"\\u043f\\u043e\\u043a\\u0443\\u043f\\u043a\\u0430\", \"\\u0431\\u0430\\u043d\\u043a\", \"\\u0432\\u0442\\u0431\", \"\\u0437\\u0430\\u0431\\u043b\\u043e\\u043a\\u0438\\u0440\\u043e\\u0432\\u0430\\u0442\\u044c\", \"\\u043e\\u043d\\u043b\\u0430\\u0438\\u043d\", \"\\u0438\\u043d\\u0442\\u0435\\u0440\\u043d\\u0435\\u0442\", \"\\u043a\\u0430\\u0440\\u0442\\u043e\\u0439\", \"\\u043c\\u043e\\u0439\", \"\\u043c\\u0435\\u0441\\u044f\\u0446\", \"\\u0434\\u0435\\u043d\\u044c\", \"\\u043a\\u043e\\u0442\\u043e\\u0440\\u044b\\u0439\", \"\\u043e\\u0431\\u0440\\u0430\\u0449\\u0435\\u043d\\u0438\\u0435\", \"\\u043a\\u043b\\u0438\\u0435\\u043d\\u0442\", \"\\u043f\\u043b\\u0430\\u0442\\u0451\\u0436\", \"\\u043c\\u043e\\u0447\\u044c\", \"\\u044d\\u0442\\u043e\", \"\\u0441\\u0432\\u043e\\u0439\", \"\\u0433\\u043e\\u0434\", \"\\u043b\\u0438\\u043d\\u0438\\u044f\", \"\\u0443\\u0441\\u043b\\u043e\\u0432\\u0438\\u0435\", \"\\u0442\\u0430\\u043a\\u043e\\u0439\", \"\\u0430\\u0440\\u0435\\u0441\\u0442\", \"\\u0437\\u0430\\u043a\\u043b\\u0430\\u0434\\u043d\\u043e\\u0439\", \"\\u0437\\u0430\\u043a\\u043b\\u0430\\u0434\\u043d\\u0430\\u044f\", \"\\u0434\\u043e\\u0432\\u0435\\u0440\\u0435\\u043d\\u043d\\u043e\\u0441\\u0442\\u044c\", \"\\u0444\\u0437\", \"\\u043e\\u043e\\u043e\", \"\\u0438\\u0441\\u043f\\u043e\\u043b\\u043d\\u0435\\u043d\\u0438\\u0435\", \"\\u043b\\u043e\\u0433\\u0438\\u043d\", \"\\u0443\\u043d\\u043a\", \"\\u043d\\u0430\\u043b\\u043e\\u0433\\u043e\\u0432\\u044b\\u0439\", \"\\u043f\\u0440\\u0438\\u0441\\u0442\\u0430\\u0442\\u044c\", \"\\u043e\\u0431\\u0449\\u0435\\u0441\\u0442\\u0432\\u043e\", \"\\u0438\\u0441\\u043f\\u043e\\u043b\\u043d\\u0438\\u0442\\u0435\\u043b\\u044c\\u043d\\u044b\\u0439\", \"\\u0438\\u0444\\u043d\\u0441\", \"\\u0438\\u0441\\u043f\\u043e\\u043b\\u043d\\u0438\\u0442\\u0435\\u043b\\u044c\", \"\\u043f\\u0440\\u0435\\u0434\\u044a\\u044f\\u0432\\u0438\\u0442\\u044c\", \"\\u0441\\u043e\\u0446\\u0438\\u0430\\u043b\\u044c\\u043d\\u044b\\u0439\", \"\\u043e\\u0446\\u0435\\u043d\\u043e\\u0447\\u043d\\u044b\\u0439\", \"\\u0442\\u0443\\u043b\\u044c\\u0441\\u043a\\u043e\\u0439\", \"\\u0441\\u0438\\u0442\\u0438\", \"\\u0437\\u0430\\u0438\\u043c\\u0430\", \"\\u0438\\u043d\\u0442\\u0435\\u0440\\u0444\\u0435\\u0438\\u0441\", \"\\u0441\\u043a\\u0430\\u043d\", \"\\u0444\\u0435\\u0434\\u0435\\u0440\\u0430\\u0446\\u0438\\u044f\", \"\\u0433\\u0435\\u043d\\u0435\\u0440\\u0430\\u043b\\u044c\\u043d\\u044b\\u0439\", \"\\u0434\\u043e\\u043b\\u0436\\u043d\\u043e\\u0441\\u0442\\u043d\\u043e\\u0439\", \"\\u043a\\u0440\\u0435\\u0434\\u0438\\u0442\\u043e\\u0440\", \"\\u0434\\u0432\\u043e\\u0440\\u043d\\u0438\\u043a\", \"\\u0434\\u0435\\u0442\\u0441\\u043a\\u0438\\u0439\", \"\\u0430\\u0441\\u0432\", \"\\u043f\\u0440\\u0438\\u0441\\u0442\\u0430\\u0432\", \"\\u043f\\u043e\\u0441\\u0442\\u0430\\u043d\\u043e\\u0432\\u043b\\u0435\\u043d\\u0438\\u0435\", \"\\u0438\\u043f\", \"\\u0440\\u0444\", \"\\u0444\\u0435\\u0434\\u0435\\u0440\\u0430\\u043b\\u044c\\u043d\\u044b\\u0439\", \"\\u043f\\u0430\\u043e\", \"\\u0440\\u0435\\u0433\\u0438\\u0441\\u0442\\u0440\\u0430\\u0446\\u0438\\u044f\", \"\\u0441\\u0443\\u0434\\u0435\\u0431\\u043d\\u044b\\u0439\", \"\\u043f\\u0430\\u0440\\u043e\\u043b\\u044c\", \"\\u043e\\u0431\\u044f\\u0437\\u0430\\u0442\\u0435\\u043b\\u044c\\u0441\\u0442\\u0432\\u043e\", \"\\u0440\\u0430\\u0437\\u0431\\u043b\\u043e\\u043a\\u0438\\u0440\\u043e\\u0432\\u043a\\u0430\", \"\\u0431\\u043b\\u043e\\u043a\\u0438\\u0440\\u043e\\u0432\\u043a\\u0430\", \"\\u043d\\u0430\\u043f\\u0440\\u0430\\u0432\\u0438\\u0442\\u044c\", \"\\u043d\\u0430\\u0441\\u0442\\u043e\\u044f\\u0449\\u0438\\u0439\", \"\\u043f\\u043e\\u0447\\u0442\\u0430\", \"\\u043f\\u0440\\u0438\\u0447\\u0438\\u043d\\u0430\", \"\\u0434\\u043e\\u043a\\u0443\\u043c\\u0435\\u043d\\u0442\", \"\\u0437\\u0430\\u043f\\u0440\\u043e\\u0441\", \"\\u0431\\u0430\\u043d\\u043a\", \"\\u0432\\u0442\\u0431\", \"\\u0441\\u0447\\u0451\\u0442\", \"\\u0441\\u043f\\u0440\\u0430\\u0432\\u043a\\u0430\", \"\\u0434\\u043e\\u0433\\u043e\\u0432\\u043e\\u0440\", \"\\u043c\\u043e\\u0439\", \"\\u0441\\u043f\\u0438\\u0441\\u043e\\u043a\", \"\\u0432\\u043e\\u043f\\u0440\\u043e\\u0441\", \"\\u0442\\u0435\\u043b\\u0435\\u0444\\u043e\\u043d\", \"\\u043a\\u043b\\u0438\\u0435\\u043d\\u0442\", \"\\u043c\\u043e\\u0441\\u043a\\u0432\\u0430\", \"\\u0441\\u043e\\u0442\\u0440\\u0443\\u0434\\u043d\\u0438\\u043a\", \"\\u043e\\u0442\\u0434\\u0435\\u043b\\u0435\\u043d\\u0438\\u0435\", \"\\u043e\\u0444\\u0438\\u0441\", \"\\u0434\\u0430\\u043d\\u043d\\u044b\\u0439\", \"\\u043e\\u0431\\u0440\\u0430\\u0442\\u0438\\u0442\\u044c\\u0441\\u044f\", \"\\u043a\\u043e\\u0442\\u043e\\u0440\\u044b\\u0439\", \"\\u043e\\u0442\\u0432\\u0435\\u0442\", \"\\u0441\\u0432\\u043e\\u0439\", \"\\u0441\\u043f\\u0435\\u0446\\u0438\\u0430\\u043b\\u0438\\u0441\\u0442\", \"\\u044d\\u0442\\u043e\", \"\\u043f\\u0440\\u043e\\u0431\\u043b\\u0435\\u043c\\u0430\", \"\\u0437\\u0430\\u044f\\u0432\\u043b\\u0435\\u043d\\u0438\\u0435\", \"\\u043e\\u0431\\u0440\\u0430\\u0449\\u0435\\u043d\\u0438\\u0435\", \"\\u043c\\u043e\\u0447\\u044c\", \"\\u0443\\u0441\\u043b\\u0443\\u0433\\u0430\", \"\\u0438\\u043d\\u0444\\u043e\\u0440\\u043c\\u0430\\u0446\\u0438\\u044f\", \"\\u043f\\u043e\\u043b\\u0443\\u0447\\u0438\\u0442\\u044c\", \"\\u0434\\u0430\\u0442\\u044c\", \"\\u0432\\u0440\\u0435\\u043c\\u044f\", \"\\u0434\\u0435\\u043d\\u044c\", \"\\u0441\\u044b\\u043d\", \"\\u0443\\u0433\\u0440\\u043e\\u0437\\u0430\", \"\\u043a\\u043e\\u043b\\u043b\\u0435\\u043a\\u0442\\u043e\\u0440\", \"\\u043f\\u0440\\u043e\\u0441\\u0440\\u043e\\u0447\\u0435\\u043d\\u043d\\u043e\\u0438\\u0442\\u044c\", \"\\u0432\\u0435\\u0434\\u043e\\u043c\\u043e\", \"\\u0431\\u043e\\u043b\\u044c\\u043d\\u0438\\u0447\\u043d\\u044b\\u0439\", \"\\u043f\\u0440\\u0435\\u043a\\u0440\\u0430\\u0442\\u0438\\u0442\\u044c\\u0441\\u044f\", \"\\u0437\\u0430\\u0434\\u043e\\u043b\\u0436\\u0435\\u043d\\u043d\\u043e\\u0441\\u0442\\u0435\\u044f\", \"\\u043f\\u0440\\u0435\\u043a\\u0440\\u0430\\u0442\\u0438\\u0442\\u044c\", \"\\u043f\\u0435\\u043d\\u0438\\u0442\\u044c\", \"\\u043c\\u0435\\u0441\\u044f\\u0447\\u043d\\u044b\\u0439\", \"\\u0447\\u0435\\u0440\\u043d\\u044b\\u0439\", \"\\u0438\\u0441\\u043f\\u043e\\u0440\\u0447\\u0435\\u043d\\u043d\\u043e\\u0438\\u0442\\u044c\", \"\\u043c\\u043f\\u0441\", \"\\u043f\\u0440\\u0435\\u0434\\u043c\\u0435\\u0442\", \"\\u043f\\u0440\\u0435\\u043c\\u0438\\u0443\\u043c\", \"\\u0441\\u043f\\u0430\\u043c\", \"\\u0433\\u043e\\u0440\\u043e\\u0434\\u0441\\u043a\\u043e\\u0439\", \"\\u0443\\u0432\\u043e\\u043b\\u0438\\u0442\\u044c\", \"\\u043a\\u043e\\u043c\\u0435\\u043d\\u0434\\u0430\\u043d\\u0442\\u0441\\u043a\\u0438\\u0439\", \"\\u043e\\u0431\\u0437\\u0432\\u043e\\u043d\", \"\\u0441\\u0442\\u0438\\u043f\\u0435\\u043d\\u0434\\u0438\\u044f\", \"\\u043e\\u0442\\u043a\\u043b\\u044e\\u0447\\u0430\\u0442\\u044c\", \"\\u0438\\u0441\\u043f\\u043e\\u0440\\u0442\\u0438\\u0442\\u044c\\u0441\\u044f\", \"\\u0436\\u0443\\u043a\\u043e\\u0432\", \"\\u0442\\u0432\\u043e\\u0440\\u0438\\u0442\\u044c\\u0441\\u044f\", \"\\u0441\\u0438\\u0434\\u0435\\u043b\\u044c\\u043d\\u0438\\u043a\\u043e\\u0432\\u043e\\u0439\", \"\\u0437\\u0430\\u0436\\u0435\\u0432\\u0430\\u0442\\u044c\", \"\\u0432\\u044b\\u043f\\u0443\\u0441\\u043a\\u0430\\u0442\\u044c\", \"\\u0448\\u043a\\u043e\\u043b\\u0430\", \"\\u043d\\u0435\\u0441\\u0443\\u0449\\u0435\\u0441\\u0442\\u0432\\u0443\\u044e\\u0449\\u0438\\u0439\", \"\\u043f\\u0440\\u043e\\u0438\\u0437\\u043e\\u0438\\u0442\\u044c\", \"\\u043a\\u044d\\u0448\\u0431\\u0435\\u043a\", \"\\u0437\\u0430\\u0434\\u043e\\u043b\\u0436\\u0435\\u043d\\u043d\\u043e\\u0441\\u0442\\u044c\", \"\\u0440\\u0430\\u0437\\u0443\\u043c\\u043d\\u044b\\u0439\", \"\\u043f\\u0440\\u0435\\u0442\\u0435\\u043d\\u0437\\u0438\\u044f\", \"\\u0434\\u0435\\u043b\\u0430\\u0438\\u0442\", \"\\u043e\\u0442\\u043a\\u043b\\u044e\\u0447\\u0438\\u0442\\u044c\", \"\\u0437\\u043e\\u043b\\u043e\\u0442\\u043e\\u0439\", \"\\u043e\\u0432\\u0435\\u0440\\u0434\\u0440\\u0430\\u0444\\u0442\", \"\\u043e\\u0442\\u043a\\u043b\\u044e\\u0447\\u0435\\u043d\\u0438\\u0435\", \"\\u043f\\u0435\\u043d\\u044f\", \"\\u0434\\u043e\\u043b\\u0433\", \"\\u043d\\u0435\\u0437\\u0430\\u043a\\u043e\\u043d\\u043d\\u043e\", \"\\u0431\\u0430\\u0437\\u0430\", \"\\u0438\\u0441\\u043f\\u0440\\u0430\\u0432\\u043d\\u043e\", \"\\u0437\\u0432\\u043e\\u043d\\u043e\\u043a\", \"\\u0433\\u0440\\u0430\\u0444\\u0438\\u043a\", \"\\u043f\\u043e\\u0433\\u0430\\u0441\\u0438\\u0442\\u044c\", \"\\u043d\\u043e\\u043c\\u0435\\u0440\", \"\\u0441\\u043c\\u0441\", \"\\u0432\\u043d\\u0435\\u0441\\u0442\\u0438\", \"\\u043f\\u0440\\u043e\\u0441\\u0440\\u043e\\u0447\\u043a\\u0430\", \"\\u0443\\u0433\\u0440\\u043e\\u0436\\u0430\\u0442\\u044c\", \"\\u043f\\u043e\\u0433\\u0430\\u0448\\u0435\\u043d\\u0438\\u0435\", \"\\u043f\\u043b\\u0430\\u0442\\u0438\\u0442\\u044c\", \"\\u0437\\u0430\\u044f\\u0432\\u043b\\u0435\\u043d\\u0438\\u0435\", \"\\u044f\\u043d\\u0432\\u0430\\u0440\\u044c\", \"\\u0437\\u0432\\u043e\\u043d\\u0438\\u0442\\u044c\", \"\\u0441\\u0440\\u043e\\u043a\", \"\\u0447\\u0438\\u0441\\u043b\\u043e\", \"\\u0432\\u0430\\u0448\", \"\\u0431\\u0430\\u043d\\u043a\", \"\\u043f\\u0438\\u0441\\u0430\\u0442\\u044c\", \"\\u043a\\u0430\\u0440\\u0442\\u0430\", \"\\u043f\\u043e\\u0447\\u0435\\u043c\\u0443\", \"\\u043d\\u0430\\u043f\\u0438\\u0441\\u0430\\u0442\\u044c\", \"\\u043f\\u043b\\u0430\\u0442\\u0451\\u0436\", \"\\u0442\\u0435\\u043b\\u0435\\u0444\\u043e\\u043d\", \"\\u043c\\u043e\\u0439\", \"\\u0433\\u043e\\u0434\", \"\\u043c\\u0435\\u0441\\u044f\\u0446\", \"\\u043a\\u0440\\u0435\\u0434\\u0438\\u0442\", \"\\u0433\\u043e\\u0432\\u043e\\u0440\\u0438\\u0442\\u044c\", \"\\u0434\\u043d\\u0435\\u044f\", \"\\u044d\\u0442\\u043e\", \"\\u043a\\u0440\\u0435\\u0434\\u0438\\u0442\\u043d\\u044b\\u0439\", \"\\u0434\\u0435\\u043d\\u044c\", \"\\u0441\\u043e\\u0442\\u0440\\u0443\\u0434\\u043d\\u0438\\u043a\", \"\\u0432\\u0442\\u0431\", \"\\u0434\\u0435\\u043d\\u044c\\u0433\\u0430\", \"\\u043a\\u043b\\u0438\\u0435\\u043d\\u0442\", \"\\u0441\\u0443\\u043c\\u043c\\u0430\", \"\\u043b\\u0438\\u043d\\u0438\\u044f\", \"\\u0440\\u0443\\u0431\\u043b\\u0435\\u0439\", \"\\u043c\\u043e\\u0447\\u044c\", \"\\u0434\\u043e\\u0431\\u0440\\u043e\\u0432\\u043e\\u043b\\u044c\\u043d\\u044b\\u0439\", \"\\u0441\\u0442\\u0440\\u0430\\u0445\\u043e\\u0432\\u0430\\u043d\\u0438\\u0435\", \"\\u043c\\u043e\\u043b\\u043e\\u0434\\u0435\\u0446\", \"\\u043f\\u043e\\u0434\\u043b\\u0435\\u0436\\u0430\\u0442\\u044c\", \"\\u0441\\u0442\\u0440\\u043e\\u0433\\u043e\", \"\\u043e\\u0441\\u043e\\u0437\\u043d\\u0430\\u043d\\u043d\\u043e\", \"\\u043c\\u0435\\u0436\\u0434\\u0443\\u043d\\u0430\\u0440\\u043e\\u0434\\u043d\\u044b\\u0439\", \"\\u0432\\u0435\\u0448\\u043d\\u044f\\u043a\\u043e\\u0432\\u0441\\u043a\\u0438\\u0439\", \"\\u0442\\u0432\\u0435\\u0440\\u0441\\u043a\\u0430\\u044f\", \"\\u043d\\u0435\\u043e\\u0431\\u044f\\u0437\\u0430\\u0442\\u0435\\u043b\\u044c\\u043d\\u044b\\u0439\", \"\\u043c\\u0430\\u0440\\u0441\\u0435\\u043b\\u0435\\u0432\\u0438\\u0447\", \"\\u0431\\u0430\\u0438\\u043c\\u0443\\u0445\\u0431\\u0435\\u0442\\u043e\\u0432\", \"\\u043f\\u044f\\u0442\\u043d\\u0438\\u0446\\u043a\\u0438\\u0439\", \"\\u0440\\u0430\\u0437\\u0432\\u0435\\u0441\\u0442\\u0438\", \"\\u043f\\u043e\\u043b\\u0438\\u0441\", \"\\u0441\\u0442\\u0440\", \"\\u0440\\u0435\\u0437\\u0435\\u0440\\u0432\", \"\\u0440\\u0430\\u0437\\u0443\\u043c\\u0435\\u0435\\u0442\\u0441\\u044f\", \"\\u044d\\u043b\\u044c\\u0432\\u0438\\u0440\\u0430\", \"\\u043a\\u043e\\u0440\\u043e\\u0431\\u043e\\u0447\\u043d\\u044b\\u0439\", \"\\u0430\\u0432\\u0442\\u043e\\u0441\\u0430\\u043b\\u043e\\u043d\", \"\\u043a\\u0430\\u0441\\u043a\\u043e\", \"\\u043d\\u0430\\u0432\\u044f\\u0437\\u0430\\u043d\\u043d\\u043e\\u0438\\u0442\\u044c\", \"\\u0434\\u043e\\u0431\\u0440\\u043e\\u0432\\u043e\\u043b\\u044c\\u043d\\u043e\\u0438\\u0442\\u044c\", \"\\u0441\\u0442\\u0440\\u0430\\u0445\\u043e\\u0432\\u043a\\u043e\\u0439\", \"\\u043b\\u0430\\u0438\\u0444\", \"\\u043a\\u0440\\u0430\\u0441\\u0438\\u0432\\u043e\", \"\\u0441\\u0442\\u0440\\u0430\\u0445\\u043e\\u0432\\u043e\\u0439\", \"\\u0441\\u0436\", \"\\u0430\\u0434\\u0438\\u043b\\u0435\", \"\\u0441\\u0442\\u0440\\u0430\\u0445\\u043e\\u0432\\u043a\\u0430\", \"\\u0443\\u043c\\u043e\\u043b\\u0447\\u0430\\u043d\\u0438\\u0435\", \"\\u0432\\u0435\\u0448\\u043d\\u044f\\u043a\", \"\\u043e\\u0431\\u044f\\u0437\\u0430\\u0442\\u0435\\u043b\\u044c\\u043d\\u044b\\u0439\", \"\\u043f\\u0440\\u0438\\u0432\\u044b\\u043a\\u043d\\u0443\\u0442\\u044c\", \"\\u0440\\u0430\\u0437\\u0432\\u043e\\u0434\", \"\\u0438\\u043d\\u0438\\u0446\\u0438\\u0430\\u0442\\u0438\\u0432\\u0430\", \"\\u043f\\u043e\\u0434\\u043f\\u0438\\u0441\\u0430\\u0442\\u044c\", \"\\u0436\\u0438\\u0437\\u043d\\u044c\", \"\\u043e\\u0431\\u043c\\u0430\\u043d\\u044b\\u0432\\u0430\\u0442\\u044c\", \"\\u0434\\u043e\\u0433\\u043e\\u0432\\u043e\\u0440\", \"\\u043a\\u0440\\u0435\\u0434\\u0438\\u0442\", \"\\u0443\\u0441\\u043b\\u043e\\u0432\\u0438\\u0435\", \"\\u0433\\u043e\\u0434\\u043e\\u0432\\u043e\\u0439\", \"\\u0441\\u0443\\u043c\\u043c\\u0430\", \"\\u0432\\u0430\\u0440\\u0438\\u0430\\u043d\\u0442\", \"\\u043e\\u0442\\u043a\\u0430\\u0437\\u044b\\u0432\\u0430\\u0442\\u044c\\u0441\\u044f\", \"\\u044f\\u0432\\u043b\\u044f\\u0442\\u044c\\u0441\\u044f\", \"\\u043e\\u0442\\u043a\\u0430\\u0437\\u0430\\u0442\\u044c\\u0441\\u044f\", \"\\u0434\\u0430\\u043b\\u044c\\u043d\\u0435\\u0438\\u0441\\u0430\\u0442\\u044c\", \"\\u043e\\u0444\\u043e\\u0440\\u043c\\u043b\\u0435\\u043d\\u0438\\u0435\", \"\\u0435\\u0436\\u0435\\u043c\\u0435\\u0441\\u044f\\u0447\\u043d\\u044b\\u0439\", \"\\u043f\\u0440\\u0435\\u0434\\u043b\\u043e\\u0436\\u0438\\u0442\\u044c\", \"\\u0433\\u043e\\u0434\", \"\\u0431\\u0430\\u043d\\u043a\", \"\\u043e\\u0434\\u043e\\u0431\\u0440\\u0438\\u0442\\u044c\", \"\\u0434\\u043e\\u0441\\u0440\\u043e\\u0447\\u043d\\u044b\\u0439\", \"\\u043e\\u0436\\u0438\\u0434\\u0430\\u043d\\u0438\\u0435\", \"\\u0431\\u0440\\u0430\\u0442\\u044c\", \"\\u0441\\u043e\\u0442\\u0440\\u0443\\u0434\\u043d\\u0438\\u043a\", \"\\u044d\\u0442\\u043e\", \"\\u043e\\u0442\\u0434\\u0435\\u043b\\u0435\\u043d\\u0438\\u0435\", \"\\u0442\\u043e\\u0442\", \"\\u043a\\u043e\\u0442\\u043e\\u0440\\u044b\\u0439\", \"\\u0432\\u0442\\u0431\", \"\\u0432\\u0440\\u0435\\u043c\\u044f\", \"\\u0434\\u0430\\u0442\\u044c\", \"\\u043f\\u043e\\u0433\\u0430\\u0448\\u0435\\u043d\\u0438\\u0435\", \"\\u043f\\u043b\\u0430\\u0442\\u0451\\u0436\", \"\\u0434\\u0435\\u043d\\u044c\\u0433\\u0430\", \"\\u043f\\u0438\\u043d\", \"\\u0442\\u0440\\u0430\\u043d\\u0441\\u043a\\u0440\\u0435\\u0434\\u0438\\u0442\", \"\\u0444\\u043e\\u0442\\u043e\", \"\\u0436\\u0443\\u043a\\u043e\\u0432\\u0441\\u043a\\u0438\\u0439\", \"\\u0430\\u0432\\u0442\\u043e\\u043a\\u0430\\u0440\\u0442\\u0430\", \"\\u0443\\u0445\\u0442\\u0430\", \"\\u043f\\u0440\\u0438\\u0432\\u0435\\u0442\\u043b\\u0438\\u0432\\u044b\\u044f\", \"\\u0438\\u0437\\u0431\\u0430\\u0432\\u0438\\u0442\\u044c\\u0441\\u044f\", \"\\u0434\\u043e\\u0432\\u043e\\u0434\\u0438\\u0442\\u044c\", \"\\u043e\\u043b\\u0435\\u0433\", \"\\u0430\\u0440\\u0435\\u043a\\u0435\\u043b\\u044f\\u043d\", \"\\u043f\\u0443\\u0448\\u043a\\u0438\\u043d\", \"\\u0434\\u043e\\u043f\\u0440\\u043e\\u0441\", \"\\u0441\\u0438\\u0433\\u043d\\u0430\\u043b\", \"\\u0432\\u044b\\u0433\\u0440\\u0443\\u0436\\u0430\\u0442\\u044c\\u0441\\u044f\", \"\\u043e\\u0441\\u043d\\u043e\\u0432\\u0430\\u0442\\u044c\", \"\\u0434\\u043e\\u0441\\u0442\\u0430\\u0432\\u0438\\u0442\\u044c\", \"\\u043f\\u0435\\u0440\\u0435\\u0443\\u0441\\u0442\\u0430\\u043d\\u043e\\u0432\\u0438\\u0442\\u044c\", \"\\u0434\\u043e\\u0437\\u0432\\u0430\\u043d\\u0438\\u0432\\u0430\\u0442\\u044c\\u0441\\u044f\", \"\\u0434\\u0435\\u0444\\u043e\\u043b\\u0442\", \"\\u0436\\u0430\\u0440\\u0438\\u043d\\u043e\\u0432\", \"\\u043a\\u0440\\u0435\\u0434\\u0438\\u0442\\u043a\\u043e\\u0439\", \"\\u043d\\u0435\\u0438\\u0441\\u043f\\u0440\\u0430\\u0432\\u043d\\u043e\\u0441\\u0442\\u044c\", \"\\u043f\\u044b\\u0442\\u043a\\u0430\", \"\\u043f\\u0430\\u0434\\u044b\", \"\\u0432\\u043d\\u0443\\u0442\\u0440\\u044c\", \"\\u0441\\u043b\\u0438\\u043f\", \"\\u0441\\u043e\\u0436\\u0440\\u0430\\u0442\\u044c\", \"\\u043b\\u0435\\u043d\\u0438\\u043d\\u0433\\u0440\\u0430\\u0434\\u0441\\u043a\\u0438\\u044f\", \"\\u043d\\u0430\\u0447\", \"\\u043f\\u0440\\u0435\\u0434\\u044a\\u044f\\u0432\\u043b\\u044f\\u0442\\u044c\", \"\\u0431\\u0435\\u0434\\u0430\", \"\\u043f\\u0435\\u0440\\u0435\\u0432\\u044b\\u043f\\u0443\\u0441\\u043a\", \"\\u0437\\u0430\\u0435\\u0445\\u0430\\u0442\\u044c\", \"\\u043a\\u043e\\u0434\", \"\\u043f\\u0435\\u0440\\u0435\\u0432\\u044b\\u043f\\u0443\\u0441\\u0442\\u0438\\u0442\\u044c\", \"\\u0430\\u043a\\u0442\\u0438\\u0432\\u0438\\u0440\\u043e\\u0432\\u0430\\u0442\\u044c\", \"\\u0441\\u0432\\u0435\\u0440\\u0438\\u0442\\u044c\", \"\\u043a\\u043d\\u043e\\u043f\\u043a\\u0430\", \"\\u043f\\u043e\\u043a\\u0443\\u043f\\u0430\\u0442\\u0435\\u043b\\u044c\", \"\\u043a\\u0430\\u0440\\u0442\\u0430\", \"\\u0437\\u0430\\u0434\\u0443\\u043c\\u044b\\u0432\\u0430\\u0442\\u044c\\u0441\\u044f\", \"\\u0437\\u0430\\u0431\\u0440\\u0430\\u0442\\u044c\", \"\\u0435\\u0445\\u0430\\u0442\\u044c\", \"\\u043f\\u0440\\u043e\\u0436\\u0434\\u0430\\u0442\\u044c\", \"\\u043f\\u043e\\u0442\\u0435\\u0440\\u044f\\u0442\\u044c\", \"\\u043f\\u0440\\u0438\\u0438\\u0442\\u044c\", \"\\u0434\\u0430\\u0431\\u044b\", \"\\u043f\\u043e\\u0434\\u043e\\u0436\\u0434\\u0430\\u0442\\u044c\", \"\\u0441\\u043a\\u0430\\u0437\\u0430\\u0442\\u044c\", \"\\u043e\\u0447\\u0435\\u0440\\u0435\\u0434\\u044c\", \"\\u043c\\u0438\\u043d\\u0443\\u0442\\u0430\", \"\\u043e\\u0444\\u0438\\u0441\", \"\\u043f\\u043e\\u0437\\u0432\\u043e\\u043d\\u0438\\u0442\\u044c\", \"\\u0447\\u0430\\u0441\", \"\\u0442\\u0443\\u0434\\u0430\", \"\\u043f\\u043e\\u0434\\u0434\\u0435\\u0440\\u0436\\u043a\\u0430\", \"\\u0440\\u0430\\u0431\\u043e\\u0442\\u0430\\u0442\\u044c\", \"\\u043f\\u0440\\u0438\\u043b\\u043e\\u0436\\u0435\\u043d\\u0438\\u0435\", \"\\u043d\\u0443\\u0436\\u043d\\u043e\", \"\\u0434\\u0435\\u043d\\u044c\\u0433\\u0430\", \"\\u043d\\u0435\\u0434\\u0435\\u043b\\u044f\", \"\\u0441\\u043b\\u0443\\u0436\\u0431\\u0430\", \"\\u043e\\u0442\\u0434\\u0435\\u043b\\u0435\\u043d\\u0438\\u0435\", \"\\u0437\\u0430\\u0440\\u043f\\u043b\\u0430\\u0442\\u043d\\u044b\\u0439\", \"\\u0431\\u0430\\u043d\\u043a\\u043e\\u043c\\u0430\\u0442\", \"\\u043f\\u0440\\u0438\\u0435\\u0445\\u0430\\u0442\\u044c\", \"\\u044d\\u0442\\u043e\", \"\\u043f\\u0440\\u0438\\u0439\\u0442\\u0438\", \"\\u0431\\u0430\\u043d\\u043a\", \"\\u0436\\u0434\\u0430\\u0442\\u044c\", \"\\u0434\\u0435\\u043d\\u044c\", \"\\u043a\\u043e\\u0442\\u043e\\u0440\\u044b\\u0439\", \"\\u0441\\u043e\\u0442\\u0440\\u0443\\u0434\\u043d\\u0438\\u043a\", \"\\u043c\\u043e\\u0447\\u044c\", \"\\u043f\\u043e\\u043b\\u0443\\u0447\\u0438\\u0442\\u044c\", \"\\u0432\\u0440\\u0435\\u043c\\u044f\", \"\\u043f\\u0440\\u043e\\u0431\\u043b\\u0435\\u043c\\u0430\", \"\\u0437\\u0430\\u044f\\u0432\\u043a\\u0430\", \"\\u0432\\u0442\\u0431\", \"\\u0437\\u0432\\u043e\\u043d\\u0438\\u0442\\u044c\", \"\\u0441\\u0434\\u0435\\u043b\\u0430\\u0442\\u044c\", \"\\u0442\\u0435\\u043b\\u0435\\u0444\\u043e\\u043d\", \"\\u043b\\u043a\", \"\\u043c\\u0438\\u043b\\u044f\", \"\\u0431\\u043e\\u043d\\u0443\\u0441\\u043d\\u044b\\u0439\", \"\\u043f\\u0440\\u043e\\u0445\\u043e\\u0434\", \"\\u043e\\u043a\\u043e\\u0448\\u043a\\u043e\", \"\\u0442\\u0438\\u043d\\u044c\\u043a\\u043e\\u0444\", \"\\u0441\\u0435\\u0440\\u0434\\u0446\\u0435\", \"\\u043a\\u043e\\u043d\\u0432\\u0435\\u0440\\u0442\\u0430\\u0446\\u0438\\u0435\\u0439\", \"\\u0431\\u043e\\u043d\\u0443\\u0441\\u043d\\u043e\\u0439\", \"\\u0437\\u0430\\u0441\\u043b\\u0443\\u0436\\u0438\\u0442\\u044c\", \"\\u043e\\u0442\\u043f\\u0440\\u0430\\u0432\\u043a\\u0430\", \"\\u043a\\u043e\\u043b\\u0445\\u043e\\u0437\", \"\\u043d\\u0435\\u0432\\u043d\\u0438\\u043c\\u0430\\u0442\\u0435\\u043b\\u044c\\u043d\\u044b\\u0439\", \"\\u0443\\u0432\\u0430\\u0436\\u0438\\u0442\\u0435\\u043b\\u044c\\u043d\\u044b\\u0439\", \"\\u043f\\u0443\\u0442\\u0435\\u0448\\u0435\\u0441\\u0442\\u0432\\u0438\\u0435\", \"\\u043e\\u0441\\u0442\\u043e\\u0440\\u043e\\u0436\\u043d\\u044b\\u0439\", \"\\u0437\\u0430\\u043c\\u0435\\u0447\\u0430\\u0442\\u044c\", \"\\u0432\\u0438\\u0434\\u043d\\u044b\\u0439\", \"\\u0442\\u0441\\u043f\", \"\\u0432\\u0430\\u043b\\u044e\\u0442\\u043d\\u043e\\u0439\", \"\\u043f\\u0435\\u0442\\u0440\\u043e\\u043a\\u043e\\u043c\\u043c\\u0435\\u0440\\u0435\\u0446\", \"\\u043d\\u0435\\u043f\\u043e\\u043b\\u0430\\u0434\\u043a\\u0430\", \"\\u0443\\u043b\\u0443\\u0447\\u0448\\u0435\\u043d\\u0438\\u0435\", \"\\u0430\\u043b\\u044c\\u0444\", \"\\u0438\\u0431\", \"\\u0440\\u0443\\u043a\\u043e\\u0432\\u043e\\u0434\\u0438\\u0442\\u0435\\u043b\\u0435\\u0439\", \"\\u0432\\u043f\\u0440\\u0435\\u0434\\u044c\", \"\\u0441\\u043e\\u043a\\u0440\\u0430\\u0442\\u0438\\u0442\\u044c\", \"\\u043f\\u043e\\u043b\\u0430\\u0433\\u0430\\u0442\\u044c\\u0441\\u044f\", \"\\u0437\\u0430\\u0441\\u043b\\u0430\\u0442\\u044c\", \"\\u0441\\u0430\\u0432\\u0443\\u0448\\u043a\\u0438\\u043d\\u0430\", \"\\u043a\\u0435\\u0448\\u0431\\u0435\\u043a\", \"\\u043e\\u0431\\u043e\\u0440\\u043e\\u0442\", \"\\u0433\\u0440\\u0430\\u043d\\u0438\\u0446\\u0435\\u0439\", \"\\u0431\\u043e\\u043d\\u0443\\u0441\", \"\\u043e\\u0433\\u0440\\u0430\\u043d\\u0438\\u0447\\u0435\\u043d\\u0438\\u0435\", \"\\u043a\\u044d\\u0448\\u0431\\u044d\\u043a\", \"\\u043c\\u0443\\u043b\\u044c\\u0442\\u0438\\u043a\\u0430\\u0440\\u0442\\u0430\", \"\\u043e\\u043f\\u0435\\u0440\\u0430\\u0446\\u0438\\u043e\\u043d\\u0438\\u0441\\u0442\\u043a\\u0430\", \"\\u0442\\u0430\\u0440\\u0438\\u0444\", \"\\u0435\\u0432\\u0440\\u043e\", \"\\u0431\\u0435\\u0441\\u043f\\u043b\\u0430\\u0442\\u043d\\u043e\\u0441\\u0442\\u044c\", \"\\u0430\\u043a\\u0446\\u0438\\u044f\", \"\\u043e\\u043f\\u0446\\u0438\\u044f\", \"\\u043f\\u0440\\u0438\\u0432\\u0438\\u043b\\u0435\\u0433\\u0438\\u044f\", \"\\u043f\\u0430\\u043a\\u0435\\u0442\", \"\\u043a\\u043e\\u043c\\u0438\\u0441\\u0441\\u0438\\u044f\", \"\\u043a\\u0435\\u043c\\u0435\\u0440\\u043e\\u0432\\u043e\", \"\\u043e\\u043f\\u0435\\u0440\\u0430\\u0446\\u0438\\u043e\\u043d\\u0438\\u0441\\u0442\", \"\\u043a\\u0430\\u0440\\u0442\\u0430\", \"\\u0431\\u0435\\u0441\\u043f\\u043b\\u0430\\u0442\\u043d\\u044b\\u0439\", \"\\u043f\\u043e\\u0434\\u043a\\u043b\\u044e\\u0447\\u0438\\u0442\\u044c\", \"\\u043e\\u0431\\u0449\\u0435\\u043d\\u0438\\u0435\", \"\\u0432\\u0442\\u0431\", \"\\u0431\\u0430\\u043d\\u043a\", \"\\u0441\\u0442\\u043e\\u0440\\u043e\\u043d\\u043d\\u0438\\u0439\", \"\\u043b\\u0438\\u0447\\u043d\\u044b\\u0439\", \"\\u043d\\u0430\\u0447\\u0438\\u0441\\u043b\\u0435\\u043d\\u0438\\u0435\", \"\\u0438\\u043d\\u0444\\u043e\\u0440\\u043c\\u0430\\u0446\\u0438\\u044f\", \"\\u0441\\u0434\\u0435\\u043b\\u0430\\u0442\\u044c\", \"\\u043a\\u043b\\u0438\\u0435\\u043d\\u0442\", \"\\u043e\\u0442\\u0434\\u0435\\u043b\\u0435\\u043d\\u0438\\u0435\", \"\\u044d\\u0442\\u043e\", \"\\u043a\\u0430\\u0431\\u0438\\u043d\\u0435\\u0442\", \"\\u043f\\u0440\\u043e\\u0433\\u0440\\u0430\\u043c\\u043c\\u0430\", \"\\u043f\\u0435\\u0440\\u0435\\u0432\\u043e\\u0434\", \"\\u0441\\u043a\\u0430\\u0437\\u0430\\u0442\\u044c\", \"\\u043a\\u0430\\u043a\\u043e\\u0439\", \"\\u0441\\u043e\\u0442\\u0440\\u0443\\u0434\\u043d\\u0438\\u043a\", \"\\u043c\\u043e\\u0447\\u044c\", \"\\u0442\\u0435\\u043b\\u0435\\u0444\\u043e\\u043d\", \"\\u043e\\u043f\\u0435\\u0440\\u0430\\u0446\\u0438\\u044f\", \"\\u0432\\u0440\\u0435\\u043c\\u044f\", \"\\u0441\\u0447\\u0451\\u0442\", \"\\u0440\\u0435\\u0448\\u0438\\u0442\\u044c\", \"\\u0440\\u0430\\u0431\\u043e\\u0442\\u0430\\u0442\\u044c\", \"\\u043a\\u043e\\u0442\\u043e\\u0440\\u044b\\u0439\", \"\\u0441\\u0443\\u043c\\u043c\\u0430\", \"\\u043f\\u0440\\u0438\\u0439\\u0442\\u0438\", \"\\u043f\\u043b\\u0430\\u0442\\u0435\\u043b\\u044c\\u0449\\u0438\\u043a\", \"\\u0437\\u0430\\u0441\\u0442\\u0440\\u043e\\u0438\\u0449\\u0438\\u043a\", \"\\u0434\\u043e\\u043d\", \"\\u0440\\u043e\\u0441\\u0442\\u043e\\u0432\", \"\\u0444\\u0438\\u0437\\u043b\\u0438\\u0446\\u043e\", \"\\u0441\\u043f\\u0435\\u0446\\u0441\\u0447\\u0451\\u0442\", \"\\u0431\\u044e\\u0440\\u043e\", \"\\u043d\\u0431\\u043a\\u0430\", \"\\u0436\\u043a\\u0445\", \"\\u0437\\u0430\\u043d\\u044f\\u0442\\u044c\\u0441\\u044f\", \"\\u0440\\u0435\\u0433\\u0438\\u0441\\u0442\\u0440\\u0430\\u0442\\u043e\\u0440\", \"\\u043f\\u043b\\u043e\\u0442\\u0438\\u0442\\u044c\", \"\\u0441\\u0442\\u0440\\u043e\\u0438\\u0442\\u0435\\u043b\\u044c\\u0441\\u0442\\u0432\\u043e\", \"\\u0432\\u0441\\u044f\\u043a\\u043e\\u0439\", \"\\u043f\\u0440\\u0438\\u0448\\u043e\\u043b\", \"\\u0447\\u0435\\u0441\\u0442\\u043d\\u043e\\u0441\\u0442\\u044c\", \"\\u043f\\u0440\\u0438\\u043d\\u0446\\u0438\\u043f\\u0438\\u0430\\u043b\\u044c\\u043d\\u043e\", \"\\u043d\\u0435\\u043c\\u0430\\u043b\\u043e\", \"\\u0432\\u043e\\u0441\\u0441\\u0442\\u0430\\u043d\\u043e\\u0432\\u043b\\u0435\\u043d\\u0438\\u0435\", \"\\u043c\\u0435\\u0442\\u043e\\u0434\\u0438\\u0447\\u043d\\u043e\", \"\\u0441\\u043e\\u0437\\u0430\\u0451\\u043c\\u0449\\u0438\\u043a\", \"\\u044d\\u043a\\u0432\\u0438\\u0444\\u0430\\u043a\\u0441\", \"\\u0434\\u0434\\u0443\", \"\\u0434\\u043e\\u0441\\u0442\\u043e\\u0432\\u0435\\u0440\\u043d\\u044b\\u0439\", \"\\u043a\\u0430\\u043f\\u0440\\u0435\\u043c\\u043e\\u043d\\u0442\", \"\\u043d\\u0430\\u0441\\u0442\\u0430\\u0442\\u044c\", \"\\u043a\\u0440\\u0435\\u0434\\u0438\\u0442\\u043e\\u0432\\u0430\\u0442\\u044c\", \"\\u0441\\u043e\\u0437\\u0432\\u043e\\u043d\\u0438\\u0442\\u044c\\u0441\\u044f\", \"\\u0436\\u0441\\u043a\", \"\\u043c\\u0430\\u0441\\u0442\\u0435\\u0440\\u0441\\u0447\\u0451\\u0442\", \"\\u043f\\u043e\\u0432\\u044b\\u0448\\u0435\\u043d\\u0438\\u0435\", \"\\u0444\\u0438\\u0437\", \"\\u0447\\u0430\\u0441\\u0442\\u0438\\u0447\\u043d\\u044b\\u0439\", \"\\u0431\\u0435\\u0437\\u043e\\u0431\\u0440\\u0430\\u0437\\u043d\\u044b\\u0439\", \"\\u043f\\u0440\\u043e\\u0446\\u0435\\u043d\\u0442\\u043d\\u044b\\u0439\", \"\\u0440\\u0430\\u0441\\u0441\\u0447\\u0438\\u0442\\u044b\\u0432\\u0430\\u0442\\u044c\", \"\\u0431\\u0435\\u0437\\u0432\\u044b\\u0445\\u043e\\u0434\\u043d\\u044b\\u0439\", \"\\u043f\\u0435\\u0440\\u0435\\u043f\\u043b\\u0430\\u0447\\u0438\\u0432\\u0430\\u0442\\u044c\", \"\\u043a\\u0430\\u0441\\u0441\\u0430\", \"\\u043f\\u043b\\u0430\\u0442\\u0451\\u0436\", \"\\u043e\\u043f\\u043b\\u0430\\u0442\\u0430\", \"\\u0447\\u0430\\u0441\\u0442\\u0438\\u0447\\u043d\\u043e\", \"\\u0431\\u0430\\u043d\\u043a\", \"\\u043b\\u0438\\u0446\\u043e\", \"\\u0443\\u0436\\u0430\\u0441\\u043d\\u044b\\u0439\", \"\\u0434\\u043e\\u0441\\u0440\\u043e\\u0447\\u043d\\u044b\\u0439\", \"\\u0438\\u0441\\u0442\\u043e\\u0440\\u0438\\u044f\", \"\\u043e\\u043f\\u043b\\u0430\\u0442\\u0438\\u0442\\u044c\", \"\\u043a\\u0440\\u0435\\u0434\\u0438\\u0442\\u043d\\u043e\\u0438\\u0442\\u044c\", \"\\u0435\\u0436\\u0435\\u043c\\u0435\\u0441\\u044f\\u0447\\u043d\\u044b\\u0439\", \"\\u043f\\u043e\\u0433\\u0430\\u0448\\u0435\\u043d\\u0438\\u0435\", \"\\u0438\\u043f\\u043e\\u0442\\u0435\\u043a\\u0430\", \"\\u043a\\u043e\\u043c\\u0438\\u0441\\u0441\\u0438\\u044f\", \"\\u043a\\u0440\\u0435\\u0434\\u0438\\u0442\\u043d\\u044b\\u0439\", \"\\u043a\\u0440\\u0435\\u0434\\u0438\\u0442\", \"\\u0432\\u0442\\u0431\", \"\\u043e\\u0431\\u0441\\u043b\\u0443\\u0436\\u0438\\u0432\\u0430\\u043d\\u0438\\u0435\", \"\\u0433\\u043e\\u0434\", \"\\u043a\\u043b\\u0438\\u0435\\u043d\\u0442\", \"\\u0443\\u0441\\u043b\\u043e\\u0432\\u0438\\u0435\", \"\\u0434\\u043e\\u0433\\u043e\\u0432\\u043e\\u0440\", \"\\u0432\\u043e\\u0437\\u043c\\u043e\\u0436\\u043d\\u043e\\u0441\\u0442\\u044c\", \"\\u043e\\u0447\\u0435\\u043d\\u044c\", \"\\u043a\\u0430\\u0440\\u0442\\u0430\", \"\\u0440\\u0443\\u0431\\u043b\\u0435\\u0439\", \"\\u043f\\u0440\\u043e\\u0441\\u0440\\u043e\\u0447\\u043a\\u0430\", \"\\u043e\\u0434\\u0438\\u043d\", \"\\u0441\\u043e\\u0442\\u0440\\u0443\\u0434\\u043d\\u0438\\u043a\", \"\\u0434\\u0435\\u043d\\u044c\", \"\\u043e\\u0442\\u0434\\u0435\\u043b\\u0435\\u043d\\u0438\\u0435\", \"\\u0441\\u0443\\u043c\\u043c\\u0430\", \"\\u044d\\u0442\\u043e\", \"\\u0441\\u0447\\u0451\\u0442\", \"\\u043f\\u0440\\u043e\\u0446\\u0435\\u043d\\u0442\", \"\\u043d\\u043f\\u0444\", \"\\u0443\\u0436\\u0430\\u0441\\u043d\\u0435\\u0438\\u0448\\u0438\\u0435\", \"\\u043e\\u0437\\u043e\\u043d\", \"\\u0435\\u0432\\u0433\\u0435\\u043d\\u0438\\u0435\\u0439\", \"\\u0430\\u0440\\u0438\\u0444\\u043c\\u0435\\u0442\\u0438\\u043a\\u0430\", \"\\u0441\\u0435\\u0445\", \"\\u0437\\u0430\\u0432\\u043b\\u0430\\u0434\\u0435\\u0442\\u044c\", \"\\u0432\\u0442\\u0431\\u043e\\u0444\\u043e\\u0440\\u043c\\u0438\\u0442\\u044c\", \"\\u043f\\u043e\\u043b\\u043e\\u0449\\u0430\\u0434\\u044c\\u044f\", \"\\u043c\\u0430\\u0441\\u0441\\u0430\\u0436\\u0451\\u0440\", \"\\u044d\\u0434\\u0443\\u0430\\u0440\\u0434\\u043e\\u0432\\u0438\\u0447\", \"\\u0441\\u043a\\u0430\\u0447\\u043a\\u043e\\u0432\\u043e\\u0439\", \"\\u043a\\u043e\\u043d\\u0441\\u0442\\u0430\\u043d\\u0442\\u0438\\u043d\\u043e\\u0432\", \"\\u0434\\u043e\\u0441\\u0442\\u0430\\u0432\\u043a\\u0430\", \"\\u043d\\u0430\\u043a\\u043e\\u043f\\u0438\\u0442\\u0435\\u043b\\u044c\\u043d\\u043e\\u0438\\u0442\\u044c\", \"\\u043e\\u0447\\u0435\\u043d\\u044c\\u0431\\u043b\\u0430\\u0433\\u043e\\u0434\\u0430\\u0440\\u043d\\u044b\\u0439\", \"\\u0431\\u0430\\u043d\\u043a\\u0430\\u043e\\u0442\\u043c\\u0435\\u0442\\u0438\\u0442\\u044c\", \"\\u0434\\u0430\\u043b\\u0430\\u043d\\u0435\\u0441\\u043a\\u043e\\u043b\\u044c\\u043a\\u043e\", \"\\u0447\\u0435\\u0440\\u043d\\u0438\\u0447\\u043a\\u0430\", \"\\u0431\\u0443\\u0434\\u0435\\u043c\\u043e\\u0431\\u0440\\u0430\\u0449\\u0430\\u0442\\u044c\\u0441\\u044f\", \"\\u043f\\u0440\\u043e\\u0442\\u0430\\u0435\\u0432\\u0430\\u0432\\u0435\\u0440\", \"\\u0441\\u0432\\u043e\\u0435\\u0438\\u0440\\u0430\\u0431\\u043e\\u0442\\u0430\", \"\\u0441\\u043e\\u0437\\u0434\\u0430\\u0435\\u0442\\u0431\\u0430\\u043d\\u043a\", \"\\u0442\\u0435\\u043f\\u0435\\u0440\\u044c\\u0432\\u0441\\u0435\\u0433\\u0434\\u0430\", \"\\u0431\\u0430\\u043d\\u043a\\u0435\\u043c\", \"\\u0436\\u0435\\u043b\\u0430\\u043d\\u0438\\u0435\\u0432\\u0435\\u0441\\u0442\\u0438\", \"\\u0443\\u0448\\u0430\\u043a\\u043e\\u0432\", \"\\u0432\\u0441\\u0435\\u043d\\u0430\\u0448\\u0430\", \"\\u0431\\u043b\\u0430\\u0433\\u043e\\u0434\\u0430\\u0440\\u0438\\u043c\\u0432\\u0435\\u0440\", \"\\u043e\\u043f\\u0435\\u0440\\u0430\\u0446\\u0438\\u0438\\u0442\\u043e\\u043b\\u044c\\u043a\\u043e\", \"\\u0437\\u0430\\u043a\\u0430\\u0437\", \"\\u0431\\u0430\\u043b\\u043b\", \"\\u043a\\u043e\\u043b\\u043b\\u0435\\u043a\\u0446\\u0438\\u044f\", \"\\u0437\\u0430\\u0431\\u0438\\u0442\\u044c\", \"\\u0432\\u043e\\u0437\\u043d\\u0430\\u0433\\u0440\\u0430\\u0436\\u0434\\u0435\\u043d\\u0438\\u0435\", \"\\u0435\\u0432\\u0433\\u0435\\u043d\\u0438\\u0439\", \"\\u0435\\u0432\\u0433\\u0435\\u043d\\u0438\\u044f\", \"\\u0438\\u0432\\u0430\\u043d\\u043e\\u0432\\u0438\\u0447\", \"\\u043f\\u043e\\u0434\\u0430\\u0440\\u043e\\u043a\", \"\\u0432\\u044b\\u0431\\u0440\\u0430\\u0442\\u044c\", \"\\u0437\\u0430\\u0434\\u043e\\u043b\\u0436\\u043d\\u0438\\u043a\", \"\\u0441\\u0435\\u0440\\u0442\\u0438\\u0444\\u0438\\u043a\\u0430\\u0442\", \"\\u0432\\u0435\\u0440\\u0430\", \"\\u043f\\u0440\\u0435\\u0434\\u0443\\u0441\\u043c\\u043e\\u0442\\u0440\\u0435\\u0442\\u044c\", \"\\u0445\\u0432\\u0430\\u0442\\u0430\\u0442\\u044c\", \"\\u043f\\u0443\\u043d\\u043a\\u0442\", \"\\u0437\\u0430\\u043a\\u0430\\u0437\\u0430\\u0442\\u044c\", \"\\u0430\\u043a\\u0442\\u0438\\u0432\\u043d\\u043e\"], \"Freq\": [3247.0, 1239.0, 3266.0, 8876.0, 740.0, 2067.0, 1671.0, 1654.0, 944.0, 1188.0, 1525.0, 717.0, 606.0, 783.0, 746.0, 579.0, 3298.0, 1593.0, 274.0, 1471.0, 1050.0, 500.0, 789.0, 2271.0, 671.0, 430.0, 1857.0, 505.0, 388.0, 351.0, 132.54100126295486, 58.19355426894935, 57.014319619055016, 42.96432231965707, 43.87348475830755, 41.59963463949668, 40.78310917457961, 37.21212908246771, 43.70660517265083, 30.022338440886294, 42.59631740047301, 28.3084341855103, 28.272441101184004, 26.344021235547153, 26.126734958549115, 25.2660323253794, 24.947195867896035, 24.604799789006684, 24.466732067425788, 36.71173336643942, 23.361842362482925, 22.253654975707903, 21.13390779424041, 20.550369051165394, 19.998604713331165, 20.018559653820546, 20.295691564843953, 19.44304893680395, 20.819637948138272, 19.176714439413292, 152.100956730281, 41.79193886599743, 1077.4588864817524, 79.00453100541752, 146.96178182325116, 90.03908608095085, 36.36995128571897, 274.5091052786008, 638.3512601437297, 294.51109849432663, 94.30212653416586, 131.57698320456424, 281.5783117964609, 137.59002077218398, 100.23683840203907, 281.53148420277915, 113.12757645863769, 105.40385812602871, 50.829562113547034, 281.9457283007331, 421.71547327243496, 467.1953409734406, 128.5124160105359, 480.36126277603915, 311.10857419650756, 273.58990908654016, 105.5777219408567, 275.2886782870527, 823.0828834945441, 327.4353585726243, 1467.3703188684497, 239.2067484257152, 560.3879011832771, 430.09282335575074, 182.22276543285545, 2921.3911714150095, 363.4461465127914, 607.6959279655889, 820.3512465743012, 431.2307666287863, 424.850998188183, 868.2589858347873, 322.41833860129793, 616.7042635004818, 453.6707214405682, 706.9025593066294, 989.4241564899777, 447.7930807024946, 580.7236024038023, 470.26267115922894, 519.3047925033709, 506.1718628690481, 412.96698176262225, 436.2014911381773, 344.97499399838284, 330.60729357978835, 52.77782563286709, 38.238884036596, 35.28804931569114, 95.46658617882731, 30.410059845414555, 19.938414521052263, 19.914328853665094, 18.15079446109816, 130.8947395442683, 15.189883787647378, 15.032456230900488, 13.742011965045377, 13.422024557001377, 13.424482583324508, 13.122110838892471, 13.389312217913929, 13.121343640222594, 12.830064645374218, 11.928432524610805, 25.511002892622997, 10.743118631209725, 12.64085297941483, 10.480329507207236, 10.177715065744698, 9.871563688885047, 9.577853697951534, 15.760681898482312, 8.97998739176692, 8.999200139866328, 8.692140662032362, 69.69183027541719, 53.72214482564926, 73.46733110239849, 121.74264602630075, 126.99546553217722, 387.4928302312175, 28.97812666144598, 577.3032746235451, 432.5166030623096, 49.87778245448767, 56.892076303729056, 70.54720043140925, 269.72886960556616, 305.3581555470334, 1005.4364426517031, 1190.4212143118361, 21.574385744075766, 48.035732696996405, 143.56500602351238, 72.72578700393433, 46.45907616813821, 1288.8657919740808, 162.6892007628058, 183.08524756510587, 54.942577324430715, 293.5295025579767, 107.24488701050387, 139.22581316273138, 522.176900882537, 106.95355855607109, 101.15194470330985, 1323.539583157134, 694.1905445616529, 114.51279580595022, 164.32599554542097, 130.17781941750542, 99.76383731202446, 268.1562296550516, 206.31373204500466, 261.6211416676461, 246.5862745695611, 151.670764779839, 247.70399676485619, 173.37589405975837, 189.58869982205215, 238.190770065503, 188.89860289316263, 166.57614438547995, 141.44970931547212, 141.79767474517445, 143.581072336887, 98.8828870188285, 65.62059051738164, 61.26867089435853, 46.43287953696792, 40.50340659682068, 37.5262397913259, 58.8712608521142, 30.146863354417842, 24.775931047200174, 24.432422533041017, 22.439750976918198, 22.100233699710593, 21.177708323218905, 19.802773701465018, 19.520264732982337, 18.101923295377638, 18.41904694280354, 16.406091531516424, 16.1140663802279, 16.102472132843992, 15.785726891887542, 14.772589020981334, 16.980822253531535, 14.161027088273155, 13.785727145673317, 13.775329423773828, 14.096502443223411, 13.412356230466646, 13.407755103758454, 13.115848336616796, 92.29835231400688, 76.85705141341673, 32.51240480712576, 97.01905546654552, 18.962417492912998, 87.32456922349542, 46.94738972327299, 73.30524795902353, 87.57484176598535, 47.23324515790732, 25.806057043181976, 61.39365072940942, 59.156384841841096, 36.24269773095428, 71.36325750177606, 112.18638162724062, 238.72476088367384, 86.87936027116595, 1290.0216306182133, 631.3709321473684, 372.82979818335804, 123.03290628351797, 239.7993337847968, 310.51924955243845, 47.011625806964744, 262.3872319515075, 174.283331433168, 297.1682575331007, 141.9357258144933, 264.15699038708266, 230.93090675056175, 193.95745750503184, 134.75646297984764, 153.75526668590163, 207.03883808588768, 163.72062431299676, 161.26437312175366, 116.41959577499688, 189.4296190397625, 126.5661572508948, 129.93597044750956, 118.3522000605998, 139.9213519074464, 122.4105269993897, 115.37079679384924, 126.56977642338478, 121.41564354113005, 117.10442269659814, 117.4614861955737, 45.50309141088699, 23.585655736307498, 23.856340579692564, 21.870625452518095, 20.97246029181724, 18.613998456131352, 21.374603486194527, 17.131658484901617, 14.764461304035063, 13.320475895321719, 13.308624343640464, 12.726551752053073, 11.553477986349348, 10.705671495647408, 10.678235860347181, 10.634186898288753, 10.087241805501575, 9.48434636407963, 9.184360636464154, 9.148894463785124, 8.94177657167285, 8.915654950340887, 8.632331367340017, 8.524785121158043, 8.316343553210091, 13.34273073561085, 8.016445290920675, 8.01392506908371, 8.028740271464287, 7.734285708683488, 12.66121311940821, 16.78395737080388, 12.805522771099337, 280.35219467130935, 21.305896421457643, 296.25519720987285, 16.03478329081576, 50.46492613153876, 35.26018980207987, 34.47511323982109, 25.495815060306782, 48.52854551641735, 140.89738116405476, 25.480819842080706, 47.687507418098384, 34.58139378137187, 310.04311730178574, 76.10150544671518, 132.29634204267106, 276.41112912364497, 300.43843187054904, 143.97964298182302, 126.06798092357417, 23.28003968258652, 189.8980767150131, 129.5544464560755, 254.20549723377206, 121.03216680969365, 255.9593926334928, 211.82168784842796, 99.56405068547589, 213.48025824720636, 1135.288281075768, 121.70989697387012, 579.0817737509817, 178.35488302374665, 172.76393665574417, 212.17786292876687, 189.69839540969335, 286.88115987753616, 303.21903188096525, 207.1152071301724, 412.22855669531873, 180.3382060759572, 176.43881470504488, 311.51110278915473, 163.72234892553303, 220.00460202969344, 235.74681482187407, 280.06827001845147, 226.28583288727813, 212.38976497080694, 192.97392712097337, 163.9583507160189, 165.31828601454242, 170.29464811562968, 136.0067547429415, 731.6633885236342, 56.47075455720743, 52.813896699284605, 51.64239585916641, 44.01726729802376, 43.44425191642337, 43.44083170737926, 43.43598002070832, 43.98206317324391, 42.308722064099406, 42.307505308116596, 42.307040077887876, 66.0192675819613, 37.642189355561605, 49.437168788092436, 46.89396473690354, 50.22783011801231, 44.5251964593842, 23.37461606199536, 27.516588906601005, 19.65519240693983, 17.997754758608416, 16.270347250740514, 143.1407177682179, 17.0826647921863, 94.98948111924852, 255.90930438531157, 11.45955610625378, 10.312936775689462, 1120.3219158152294, 43.44900646711248, 42.87758104816189, 134.5425576274971, 48.58175354523884, 60.0275010048138, 52.71562576020265, 137.18205922361096, 148.22033657670846, 87.30161805111, 438.1104760861845, 1132.7620289834424, 330.4492073696606, 144.44638896133094, 504.2608567939234, 77.98091957824619, 99.06280183059738, 252.10042871583937, 163.2165575444322, 59.978641605957996, 172.11778194843353, 97.74455408404862, 152.73267102652602, 309.68987792599523, 761.9921459026656, 183.91262590183183, 105.67039008280763, 99.92609531281865, 126.04706510714067, 261.53394807537785, 257.3957098536522, 216.0890323531748, 127.81451053298902, 169.9759233244473, 202.9681084256409, 143.45783096192176, 132.46012577470475, 115.81403481849644, 119.88506516564236, 126.3672662025824, 55.61126223217394, 15.146430684172286, 11.73874687554371, 8.059551558248863, 8.057687300720627, 7.765657651774552, 7.986863704924095, 7.16994035315268, 6.278865568240682, 6.078527203657487, 5.805254187943832, 5.770897671897983, 5.767233068623857, 5.762389538779922, 5.750928681317294, 5.728177561688002, 18.623458776650537, 5.21448710267951, 5.2144866110504156, 5.209812693244255, 5.209812693244255, 4.939013555136638, 4.93239966892161, 4.91329692880631, 7.311142620414767, 5.106784933579783, 5.104077040524525, 4.369625944326559, 4.371184408557707, 4.369155946911739, 7.870298446499717, 19.315605680852894, 66.93073110011287, 11.28040303679207, 60.90052267879921, 29.89189654452851, 39.1991216270854, 6.877395476915045, 12.647714009739119, 17.260275521585104, 733.1561333626398, 7.003781518141134, 65.09223100342003, 42.70895612907296, 22.83894621733829, 40.94517185572177, 28.340942439435352, 12.013841868683432, 45.584797549247476, 265.30480146681975, 92.03941675763012, 106.31796968410886, 194.75228208720603, 159.57205919133276, 97.64464132406242, 36.54870984561557, 61.598026373620684, 118.24082477292255, 58.97742698047163, 93.91934348838399, 234.71241408908855, 96.02652085201042, 56.08919257407037, 175.96498693138872, 75.26436342067846, 99.56221504439497, 61.33576388311864, 203.5305122970271, 107.27982430982793, 336.2355684730278, 87.31349245928457, 116.01786679090735, 114.41114424779383, 123.30218956930261, 97.78070852542723, 91.2800582565922, 89.83921530316425, 79.3783314197652, 82.2288283768343, 89.63472119784103, 72.92340658979788, 70.96068951944609, 70.04619647422288, 41.15552680731774, 36.46446466928954, 21.564683224639264, 20.218225133894887, 18.132438188122208, 14.193002153525843, 11.013462875518059, 10.484049138051462, 10.048097494033277, 9.985200396688722, 10.017155032249866, 9.497003789842738, 8.192359526050824, 8.176946196803172, 8.17309286449126, 8.17195604747976, 8.139814889065253, 7.682712791067982, 7.418329464345733, 7.4029930426252974, 7.149895674523418, 6.882410410870106, 6.863862436892461, 6.374164365276626, 6.378417705129522, 6.116671776194056, 6.115610982715209, 6.274105904378919, 6.09714610422674, 5.845731419780682, 9.248440429868365, 10.654383398933675, 36.415997015241004, 17.670506827812485, 45.855329883611645, 16.717832956307547, 16.694373508522837, 85.98117982079492, 15.085445055296397, 39.45646803616104, 36.96490106489229, 11.357094547066728, 29.149743788017393, 24.59939767294742, 68.2760062620937, 90.41076343824378, 91.17672704953681, 11.498725504400463, 30.7073510527372, 361.5697034198911, 38.59719349449034, 48.55394252608181, 34.16968549628176, 221.28697923798902, 350.6455673112431, 17.280560912977343, 55.317024278516385, 28.747616428066816, 70.22965546817376, 76.91541951991341, 132.194654798735, 116.39799014761063, 138.06150750067408, 47.02665097099833, 52.920603410343716, 58.39930824239431, 92.37366983541591, 61.71470864520547, 92.46762077785917, 76.5770476160307, 61.38272271806541, 55.24791358336948, 60.02762269644669, 63.61618802799582, 50.642425655279894, 49.553478717503964, 53.31782460045462, 51.3978237635236, 48.32546175465115, 16.935513394608478, 12.03215563814257, 11.745240167373993, 11.745238549640947, 15.014513642241141, 9.465009850533807, 9.251188411930597, 8.745298213944444, 8.74194303560943, 8.195498696788507, 7.4425580145914445, 7.441068891323662, 7.430014921428215, 7.4335545213303424, 6.93334984613031, 6.6815015701416405, 6.6669537013025835, 6.67043951158097, 6.6507812240532385, 6.896738929592355, 7.523747991779751, 6.62475675256077, 5.669806509587453, 5.682919044782468, 5.666301690945789, 5.653798636675421, 5.6357051014353186, 5.6040703317433165, 5.431503916816556, 5.183096559014279, 12.756684074872968, 19.42932006349558, 25.016868083218604, 10.355657631573987, 36.71905875653614, 18.457429728943136, 7.429007073741275, 11.526817895991233, 66.40565078101719, 166.44289738968166, 78.92023948799562, 23.524297426317485, 756.8778626432243, 51.71705857985548, 32.03013717723049, 57.37648086102806, 56.522835487922684, 63.16645096345377, 46.77391672348415, 46.48435545032072, 78.68896837190415, 86.23177811215135, 62.97208357358137, 81.23598551610239, 188.4696269817225, 189.67523929792935, 69.39764804746349, 112.17738835415021, 108.44896665102823, 69.25922833721413, 77.11534120079094, 41.49546410344109, 67.39614342785234, 118.7753449322235, 62.254593084462584, 40.689405965582964, 49.09455154085246, 72.96141041034868, 65.28495003686832, 64.1160343770508, 65.78522427458928, 64.85177289491547, 58.63908914787099, 48.82182116228763, 2.605401138455126, 1.7390191793299374, 1.068366401586967, 0.9779384822671756, 0.9733371759435714, 0.9711377986868988, 0.9603330483865529, 0.8045955994694947, 0.8045955994694947, 0.7236487687818438, 0.5494587320351759, 0.547005542686379, 0.37850444735572414, 3.195931377046179, 0.378507002181274, 0.2064913348796466, 0.2064913021254729, 0.2064913021254729, 0.2064913021254729, 0.20649117110877804, 0.20649117110877804, 0.2064911383546043, 0.2064911383546043, 0.20649085994412772, 0.20649089269830145, 0.20649089269830145, 0.20649085994412772, 0.20649089269830145, 0.20649084356704087, 0.20649069617325916, 3.933373255921509, 2.486037592499616, 1.8815559101393344, 0.8017681281776466, 1.042409767050706, 0.8152824347444635, 1.0084599349775212, 0.8116051236613838, 1.2603824388200602, 1.5553247329794433, 0.33782114326672746, 0.8051607399827881, 0.37900358820898017, 0.8056037729364689, 0.7584511264885051, 0.6935877742455958, 0.5605109073637714, 0.42129374655212953], \"Total\": [3247.0, 1239.0, 3266.0, 8876.0, 740.0, 2067.0, 1671.0, 1654.0, 944.0, 1188.0, 1525.0, 717.0, 606.0, 783.0, 746.0, 579.0, 3298.0, 1593.0, 274.0, 1471.0, 1050.0, 500.0, 789.0, 2271.0, 671.0, 430.0, 1857.0, 505.0, 388.0, 351.0, 134.10591954167913, 59.078669071582596, 57.91323930938026, 43.82078584704857, 44.74874239452603, 42.44254631412425, 41.65664566960356, 38.05799119560441, 44.72755245347434, 30.86699404894111, 43.84324751620408, 29.15104354124195, 29.176082595074774, 27.18710732188258, 26.977196001227124, 26.108527781862715, 25.789335979422702, 25.449203292128043, 25.310235673647178, 38.02855695719411, 24.20472995881369, 23.096471047702206, 21.977952718131455, 21.397264465920568, 20.84099484690163, 20.86596803492377, 21.158636756492903, 20.2855348519018, 21.747828486004455, 20.04067173550644, 159.88852427669272, 43.6922364462173, 1188.848336017585, 83.73978718853435, 158.1221316469851, 99.39484525316101, 38.69112623988558, 322.4108922856289, 801.7329290043112, 354.1314602351243, 105.8677645659243, 151.06341732393855, 339.9615316139205, 158.7455785131376, 115.00998000001785, 355.93645898362405, 132.7721401873522, 125.29056334885004, 55.749407758056186, 381.80863997883085, 606.3944825849138, 683.091489680745, 160.4484896012649, 747.9289344435458, 453.7446759611765, 395.33064577260814, 127.9687980788836, 406.0152009085541, 1525.391980263766, 505.3142660654134, 3247.6786087608925, 350.86223867330455, 1031.687361480806, 739.4731580755542, 249.82847214316158, 8876.026540411689, 609.4262415492893, 1223.3208501256527, 1857.5604525382507, 789.9700916564627, 786.795431412878, 2271.2646420481747, 544.7443034956736, 1430.2316254872067, 908.7016031316466, 1875.580983826027, 3298.6537437363454, 944.6385844209406, 1593.6968231312048, 1131.8720739268765, 1496.7951886191393, 1471.5150679481833, 1050.9565655523056, 1431.6989595661994, 1069.8287185106922, 928.9846078714471, 53.61234561381904, 39.07321538538054, 36.15026153000025, 98.66750127305136, 31.625050052788502, 20.773175195409284, 20.76616892042651, 18.986261375881444, 137.5541633661154, 16.037855060707265, 15.929300868374307, 14.576790576343077, 14.257541243257425, 14.260824491846698, 13.956584475569981, 14.256997205777758, 13.976120591920605, 13.666443334651445, 12.764491204816476, 27.30329157138649, 11.577489180564855, 13.639933013527415, 11.321816874985087, 11.012248899062078, 10.705899883560736, 10.412634699005851, 17.13777421473313, 9.814472270803204, 9.836308443469404, 9.533472615423223, 77.18833262458848, 59.53635727105608, 82.20836266913753, 137.91534782693785, 146.21812480721823, 500.208153803043, 32.91778353632371, 783.117446223401, 579.884514667096, 58.531866127829915, 67.32729228033725, 85.16647525974942, 364.93195751383286, 420.1583780022371, 1654.7235381308226, 2067.918419103939, 24.251797054601756, 60.94265279679562, 226.61504124638736, 102.43147014642472, 60.23750377566627, 3266.711310397013, 272.55101706494395, 334.36262287322853, 74.02888341242877, 688.4242734416214, 181.34533524846069, 263.2671595690036, 1671.848653860287, 188.49202165445166, 174.55192975830542, 8876.026540411689, 3298.6537437363454, 216.02417188819823, 401.418838477234, 281.8391416235949, 186.07525883236556, 1431.6989595661994, 851.4654362062662, 1430.2316254872067, 1496.7951886191393, 487.1896874494076, 1857.5604525382507, 746.7917468581809, 1069.8287185106922, 2271.2646420481747, 1131.8720739268765, 1593.6968231312048, 616.2539243067389, 717.5404495060777, 1031.687361480806, 99.70255309328219, 66.45036983847449, 62.09030871156833, 47.348439238515425, 41.34395960966504, 38.349950874701086, 60.275349735117985, 30.97203739815073, 25.595502026843352, 25.26455376969017, 23.25941796094226, 22.919610037894625, 21.997293460820586, 20.62488617420286, 20.339922234450746, 18.922618216468646, 19.30255699903211, 17.22580607613424, 16.933437902797646, 16.92190900124462, 16.607445967914387, 15.592071567959321, 17.944232899064453, 14.983005272095932, 14.605334317507252, 14.59502519496749, 14.943262186368875, 14.232525378021665, 14.229014771071737, 13.935360420148953, 99.75181781381886, 83.83187205413103, 34.849288674878636, 116.25508080179202, 20.535858365127662, 108.7713349590829, 56.298620605985725, 92.99329496830447, 118.40555669451994, 63.64847734607216, 30.278269843529227, 88.67650295327239, 86.5631598413694, 48.02418174662262, 129.4887372244025, 247.62339869210655, 739.4731580755542, 172.1079448359929, 8876.026540411689, 3298.6537437363454, 1654.7235381308226, 311.3592054954414, 944.3680505621622, 1431.6989595661994, 72.3425332392279, 1223.3208501256527, 681.6026043419174, 1857.5604525382507, 485.7977882033725, 1875.580983826027, 1471.5150679481833, 1050.9565655523056, 532.876110674676, 738.3354600849048, 1496.7951886191393, 908.7016031316466, 1131.8720739268765, 443.74997504976034, 2271.2646420481747, 600.1807189064494, 666.7477432910257, 487.1896874494076, 1069.8287185106922, 586.5638433890757, 474.2394220918112, 944.6385844209406, 699.610026403239, 928.9846078714471, 1430.2316254872067, 46.42328092689429, 24.421441603291093, 24.725390464626432, 22.70728592042026, 21.809016364693345, 19.45037898176756, 22.3668768404729, 17.967428503122896, 15.62825655636836, 14.155904995359577, 14.144587360656216, 13.564204401026137, 12.388983435703905, 11.541444700187359, 11.51388081970578, 11.474672974651885, 10.922878836808204, 10.334330572282468, 10.020957410018637, 9.985860743095783, 9.77768012566529, 9.75112789703282, 9.470275846636742, 9.361032487920951, 9.152003147585352, 14.715178161232762, 8.85189362373186, 8.849393428866772, 8.866217630831358, 8.569993182352361, 14.08660773865981, 18.745660259720253, 14.296909475139696, 351.19232563636086, 24.36479154496933, 388.31446415652124, 18.151724431197362, 61.40470595822218, 41.968941225870694, 41.111420286814855, 30.064525067460394, 61.581160112306534, 199.72305526277202, 30.51620052500624, 61.682445945359106, 43.368568136350696, 582.2949760080313, 114.89879235028738, 223.6492424956575, 559.8835817666269, 637.6606125234465, 260.7573668067821, 226.94332134041866, 28.534595659795613, 430.76830904185204, 266.0510116368391, 666.7477432910257, 257.3435340810982, 725.5162885665645, 591.6053185064371, 219.64182191775535, 688.8331082808096, 8876.026540411689, 305.54068054870334, 3266.711310397013, 558.1253002307359, 536.4139563364789, 746.7917468581809, 681.6026043419174, 1431.6989595661994, 1593.6968231312048, 851.4654362062662, 3247.6786087608925, 694.8196712068946, 677.1376167130632, 2271.2646420481747, 611.3673363012844, 1430.2316254872067, 1875.580983826027, 3298.6537437363454, 2067.918419103939, 1857.5604525382507, 1671.848653860287, 616.2539243067389, 688.4242734416214, 1069.8287185106922, 136.85668897274064, 740.0447954172975, 57.37469466192321, 53.66007306363369, 52.518511749738025, 44.86308438821998, 44.293131101908486, 44.292064338654114, 44.291612705271184, 44.85822546504576, 43.15257260953454, 43.15278434103672, 43.152854635971565, 67.34621753184014, 38.49856998570034, 50.599986189905394, 48.131166601186706, 51.75789766432367, 46.10379622014941, 24.21535592531836, 28.525615030308654, 20.54659462849882, 18.837647484702728, 17.12600118671276, 150.89545955846103, 18.012921649631, 100.29037268726405, 274.02523074798927, 12.298680320535729, 11.15209006143064, 1239.1608145271475, 47.16441019650067, 46.8435847938389, 157.91119875364092, 54.04375682447358, 70.90306434136924, 62.55003122460161, 193.02015277672817, 221.9952783746544, 115.84742516832489, 944.3680505621622, 3247.6786087608925, 717.5404495060777, 260.4080161843059, 1671.848653860287, 108.7200456761595, 157.29223309295782, 671.5819489459508, 361.86236313724993, 74.1694637939339, 412.89472313032945, 169.93382213078687, 415.0261672997561, 1593.6968231312048, 8876.026540411689, 606.3944825849138, 226.64288050963683, 209.57544393324403, 363.4917409133203, 1875.580983826027, 2271.2646420481747, 1471.5150679481833, 417.1847484766086, 1496.7951886191393, 3298.6537437363454, 928.9846078714471, 699.610026403239, 430.76830904185204, 746.7917468581809, 2067.918419103939, 57.19468460768113, 15.98566492781195, 12.58113807319055, 8.898810551456148, 8.89892042010527, 8.604797056416825, 8.874989315721388, 8.048457388117455, 7.121338060932364, 6.917818228844801, 6.6445741454707425, 6.610260644177206, 6.606617823565213, 6.602170900775768, 6.590651855213309, 6.568448149255283, 21.534386257948935, 6.053611242693081, 6.053610729240803, 6.04898670930956, 6.04898670930956, 5.778317318223373, 5.771848125771549, 5.752746508424286, 8.565192568949614, 6.041741492338321, 6.040887371451385, 5.208845553377645, 5.2108413712868895, 5.208595379712615, 9.402057512894087, 24.12166106575265, 91.16371080038633, 14.149253640934761, 92.69212340593984, 42.28807818653884, 57.30062502649379, 8.388101146836972, 17.093634201111183, 26.336971431035483, 3266.711310397013, 8.795126785808785, 154.5401367472556, 95.12777511425016, 43.652858059535944, 99.08063724082751, 60.63345613664166, 18.41693875780177, 122.64738307136079, 1525.391980263766, 337.31696544571463, 418.4047178376509, 1050.9565655523056, 789.9700916564627, 399.91779924839256, 93.81275618609696, 209.5964987004177, 593.8956854917253, 206.08065432857057, 448.3956032323564, 2067.918419103939, 487.0094365515165, 203.24004053048773, 1471.5150679481833, 339.77687788832384, 579.884514667096, 244.40469246045697, 2271.2646420481747, 786.795431412878, 8876.026540411689, 560.1192561837678, 1430.2316254872067, 1496.7951886191393, 1875.580983826027, 1069.8287185106922, 944.6385844209406, 928.9846078714471, 600.1807189064494, 1188.848336017585, 3298.6537437363454, 725.5162885665645, 584.624903323135, 681.6026043419174, 42.07267848570456, 37.31336674173541, 22.414163516515117, 21.067243089091694, 18.982111450530013, 15.041307648443526, 11.862938788260402, 11.333599032434886, 10.896398200485446, 10.833893093827289, 10.898600084066228, 10.345301811344056, 9.041913560106318, 9.025342092229005, 9.022009164481764, 9.020998051980122, 8.989256999134462, 8.531386692995953, 8.267405235529848, 8.251712544611546, 7.998096279717124, 7.731629118354757, 7.712468009398387, 7.22241541818314, 7.2457000721096465, 6.96510020408362, 6.964066948255058, 7.14482060333358, 6.94930466487383, 6.6940552729553575, 10.674564212745256, 12.501139049193274, 47.33860153720365, 22.10399948908892, 65.35458121691822, 21.412831185074573, 21.9406350552975, 150.41285143225966, 19.969497820397343, 67.20962277192166, 63.03811590614946, 14.240063748162127, 50.781593672485855, 41.244896716999996, 176.91394420817846, 287.59986967035724, 296.63784718201373, 14.974841396215668, 69.0703990225788, 3266.711310397013, 111.34091021888979, 179.2821952123122, 100.75342284747305, 3298.6537437363454, 8876.026540411689, 30.53918910308049, 291.84104065767167, 81.27811634069938, 474.2394220918112, 584.624903323135, 1857.5604525382507, 1471.5150679481833, 2271.2646420481747, 220.92552678071763, 316.16684720242284, 420.1583780022371, 1525.391980263766, 541.9296193135813, 1875.580983826027, 1069.8287185106922, 681.6026043419174, 500.208153803043, 928.9846078714471, 1654.7235381308226, 694.2793622522166, 593.8956854917253, 1496.7951886191393, 1671.848653860287, 786.795431412878, 17.977529317224672, 12.88472661020576, 12.59680232629292, 12.596802694246648, 16.324553331975068, 10.324617429743045, 10.105428820397885, 9.597595822210438, 9.596747344705513, 9.047849641756564, 8.293951019835186, 8.292482809709744, 8.281667179092096, 8.285777728688734, 7.784741829663314, 7.5358941902606915, 7.5199709373117285, 7.524486695282428, 7.510337719101919, 7.788167085661523, 8.560233352745152, 7.566433004389733, 6.521245615444194, 6.536463143770205, 6.517959194059169, 6.505632389989942, 6.490587728524457, 6.456245235845457, 6.282908721192617, 6.034730592679353, 16.435835147132874, 27.20656149192098, 38.108408780403344, 14.089462433025904, 78.95565646233831, 31.642430411699877, 9.403018749396253, 17.314176858816143, 197.76834121014207, 746.7917468581809, 261.1974091445853, 49.1914800085144, 8876.026540411689, 182.87484118695986, 88.42679800816761, 226.64288050963683, 226.1870118017148, 274.18671456779805, 170.8059730153078, 169.93382213078687, 430.76830904185204, 505.3142660654134, 296.63784718201373, 611.3673363012844, 3247.6786087608925, 3298.6537437363454, 536.254827271195, 1593.6968231312048, 1857.5604525382507, 717.5404495060777, 944.3680505621622, 229.41164407485886, 747.9289344435458, 3266.711310397013, 688.4242734416214, 226.94332134041866, 423.71267099308955, 1875.580983826027, 1430.2316254872067, 1471.5150679481833, 1671.848653860287, 2271.2646420481747, 1654.7235381308226, 544.7443034956736, 3.5246215081543992, 2.6590283440558724, 1.987290514126586, 1.8968629892952333, 1.8925575328239002, 1.8902202782557755, 1.8804314955892671, 1.723639485272159, 1.723639485272159, 1.6425709526855068, 1.4691511445774252, 1.4660701803965628, 1.2974512609028204, 12.617884120955727, 1.863378614288868, 1.125403274175692, 1.1254031748803348, 1.1254032009762904, 1.1254032549295878, 1.12540327322031, 1.125403355842205, 1.1254031857663997, 1.1254032255300057, 1.125403102506845, 1.1254034633935426, 1.1254035112519674, 1.1254034282045227, 1.1254036228616207, 1.1254034371478154, 1.1254036775861607, 25.087039875693275, 17.879267885682914, 13.964589220515236, 6.043655371603616, 8.60854607659323, 10.244208992749419, 14.701487720454843, 11.015411868514557, 32.09997397309764, 72.66405595223337, 3.1509427856115053, 20.055859700985966, 4.216028184899544, 24.10805320110519, 44.24586145161553, 88.60845038978836, 73.60080670594917, 22.8085735565788], \"Category\": [\"Default\", \"Default\", \"Default\", \"Default\", \"Default\", \"Default\", \"Default\", \"Default\", \"Default\", \"Default\", \"Default\", \"Default\", \"Default\", \"Default\", \"Default\", \"Default\", \"Default\", \"Default\", \"Default\", \"Default\", \"Default\", \"Default\", \"Default\", \"Default\", \"Default\", \"Default\", \"Default\", \"Default\", \"Default\", \"Default\", \"Topic1\", \"Topic1\", \"Topic1\", \"Topic1\", \"Topic1\", \"Topic1\", \"Topic1\", \"Topic1\", \"Topic1\", \"Topic1\", \"Topic1\", \"Topic1\", \"Topic1\", \"Topic1\", \"Topic1\", \"Topic1\", \"Topic1\", \"Topic1\", \"Topic1\", \"Topic1\", \"Topic1\", \"Topic1\", \"Topic1\", \"Topic1\", \"Topic1\", \"Topic1\", \"Topic1\", \"Topic1\", \"Topic1\", \"Topic1\", \"Topic1\", \"Topic1\", \"Topic1\", \"Topic1\", \"Topic1\", \"Topic1\", \"Topic1\", \"Topic1\", \"Topic1\", \"Topic1\", \"Topic1\", \"Topic1\", \"Topic1\", \"Topic1\", \"Topic1\", \"Topic1\", \"Topic1\", \"Topic1\", \"Topic1\", \"Topic1\", \"Topic1\", \"Topic1\", \"Topic1\", \"Topic1\", \"Topic1\", \"Topic1\", \"Topic1\", \"Topic1\", \"Topic1\", \"Topic1\", \"Topic1\", \"Topic1\", \"Topic1\", \"Topic1\", \"Topic1\", \"Topic1\", \"Topic1\", \"Topic1\", \"Topic1\", \"Topic1\", \"Topic1\", \"Topic1\", \"Topic1\", \"Topic1\", \"Topic1\", \"Topic1\", \"Topic1\", \"Topic1\", \"Topic1\", \"Topic1\", \"Topic1\", \"Topic1\", \"Topic1\", \"Topic1\", \"Topic1\", \"Topic1\", \"Topic2\", \"Topic2\", \"Topic2\", \"Topic2\", \"Topic2\", \"Topic2\", \"Topic2\", \"Topic2\", \"Topic2\", \"Topic2\", \"Topic2\", \"Topic2\", \"Topic2\", \"Topic2\", \"Topic2\", \"Topic2\", \"Topic2\", \"Topic2\", \"Topic2\", \"Topic2\", \"Topic2\", \"Topic2\", \"Topic2\", \"Topic2\", \"Topic2\", \"Topic2\", \"Topic2\", \"Topic2\", \"Topic2\", \"Topic2\", \"Topic2\", \"Topic2\", \"Topic2\", \"Topic2\", \"Topic2\", \"Topic2\", \"Topic2\", \"Topic2\", \"Topic2\", \"Topic2\", \"Topic2\", \"Topic2\", \"Topic2\", \"Topic2\", \"Topic2\", \"Topic2\", \"Topic2\", \"Topic2\", \"Topic2\", \"Topic2\", \"Topic2\", \"Topic2\", \"Topic2\", \"Topic2\", \"Topic2\", \"Topic2\", \"Topic2\", \"Topic2\", \"Topic2\", \"Topic2\", \"Topic2\", \"Topic2\", \"Topic2\", \"Topic2\", \"Topic2\", \"Topic2\", \"Topic2\", \"Topic2\", \"Topic2\", \"Topic2\", \"Topic2\", \"Topic2\", \"Topic2\", \"Topic2\", \"Topic2\", \"Topic2\", \"Topic2\", \"Topic2\", \"Topic2\", \"Topic2\", \"Topic2\", \"Topic3\", \"Topic3\", \"Topic3\", \"Topic3\", \"Topic3\", \"Topic3\", \"Topic3\", \"Topic3\", \"Topic3\", \"Topic3\", \"Topic3\", \"Topic3\", \"Topic3\", \"Topic3\", \"Topic3\", \"Topic3\", \"Topic3\", \"Topic3\", \"Topic3\", \"Topic3\", \"Topic3\", \"Topic3\", \"Topic3\", \"Topic3\", \"Topic3\", \"Topic3\", \"Topic3\", \"Topic3\", \"Topic3\", \"Topic3\", \"Topic3\", \"Topic3\", \"Topic3\", \"Topic3\", \"Topic3\", \"Topic3\", \"Topic3\", \"Topic3\", \"Topic3\", \"Topic3\", \"Topic3\", \"Topic3\", \"Topic3\", \"Topic3\", \"Topic3\", \"Topic3\", \"Topic3\", \"Topic3\", \"Topic3\", \"Topic3\", \"Topic3\", \"Topic3\", \"Topic3\", \"Topic3\", \"Topic3\", \"Topic3\", \"Topic3\", \"Topic3\", \"Topic3\", \"Topic3\", \"Topic3\", \"Topic3\", \"Topic3\", \"Topic3\", \"Topic3\", \"Topic3\", \"Topic3\", \"Topic3\", \"Topic3\", \"Topic3\", \"Topic3\", \"Topic3\", \"Topic3\", \"Topic3\", \"Topic3\", \"Topic3\", \"Topic3\", \"Topic3\", \"Topic3\", \"Topic4\", \"Topic4\", \"Topic4\", \"Topic4\", \"Topic4\", \"Topic4\", \"Topic4\", \"Topic4\", \"Topic4\", \"Topic4\", \"Topic4\", \"Topic4\", \"Topic4\", \"Topic4\", \"Topic4\", \"Topic4\", \"Topic4\", \"Topic4\", \"Topic4\", \"Topic4\", \"Topic4\", \"Topic4\", \"Topic4\", \"Topic4\", \"Topic4\", \"Topic4\", \"Topic4\", \"Topic4\", \"Topic4\", \"Topic4\", \"Topic4\", \"Topic4\", \"Topic4\", \"Topic4\", \"Topic4\", \"Topic4\", \"Topic4\", \"Topic4\", \"Topic4\", \"Topic4\", \"Topic4\", \"Topic4\", \"Topic4\", \"Topic4\", \"Topic4\", \"Topic4\", \"Topic4\", \"Topic4\", \"Topic4\", \"Topic4\", \"Topic4\", \"Topic4\", \"Topic4\", \"Topic4\", \"Topic4\", \"Topic4\", \"Topic4\", \"Topic4\", \"Topic4\", \"Topic4\", \"Topic4\", \"Topic4\", \"Topic4\", \"Topic4\", \"Topic4\", \"Topic4\", \"Topic4\", \"Topic4\", \"Topic4\", \"Topic4\", \"Topic4\", \"Topic4\", \"Topic4\", \"Topic4\", \"Topic4\", \"Topic4\", \"Topic4\", \"Topic4\", \"Topic4\", \"Topic4\", \"Topic4\", \"Topic4\", \"Topic4\", \"Topic4\", \"Topic4\", \"Topic4\", \"Topic5\", \"Topic5\", \"Topic5\", \"Topic5\", \"Topic5\", \"Topic5\", \"Topic5\", \"Topic5\", \"Topic5\", \"Topic5\", \"Topic5\", \"Topic5\", \"Topic5\", \"Topic5\", \"Topic5\", \"Topic5\", \"Topic5\", \"Topic5\", \"Topic5\", \"Topic5\", \"Topic5\", \"Topic5\", \"Topic5\", \"Topic5\", \"Topic5\", \"Topic5\", \"Topic5\", \"Topic5\", \"Topic5\", \"Topic5\", \"Topic5\", \"Topic5\", \"Topic5\", \"Topic5\", \"Topic5\", \"Topic5\", \"Topic5\", \"Topic5\", \"Topic5\", \"Topic5\", \"Topic5\", \"Topic5\", \"Topic5\", \"Topic5\", \"Topic5\", \"Topic5\", \"Topic5\", \"Topic5\", \"Topic5\", \"Topic5\", \"Topic5\", \"Topic5\", \"Topic5\", \"Topic5\", \"Topic5\", \"Topic5\", \"Topic5\", \"Topic5\", \"Topic5\", \"Topic5\", \"Topic5\", \"Topic5\", \"Topic5\", \"Topic5\", \"Topic5\", \"Topic5\", \"Topic5\", \"Topic5\", \"Topic5\", \"Topic5\", \"Topic6\", \"Topic6\", \"Topic6\", \"Topic6\", \"Topic6\", \"Topic6\", \"Topic6\", \"Topic6\", \"Topic6\", \"Topic6\", \"Topic6\", \"Topic6\", \"Topic6\", \"Topic6\", \"Topic6\", \"Topic6\", \"Topic6\", \"Topic6\", \"Topic6\", \"Topic6\", \"Topic6\", \"Topic6\", \"Topic6\", \"Topic6\", \"Topic6\", \"Topic6\", \"Topic6\", \"Topic6\", \"Topic6\", \"Topic6\", \"Topic6\", \"Topic6\", \"Topic6\", \"Topic6\", \"Topic6\", \"Topic6\", \"Topic6\", \"Topic6\", \"Topic6\", \"Topic6\", \"Topic6\", \"Topic6\", \"Topic6\", \"Topic6\", \"Topic6\", \"Topic6\", \"Topic6\", \"Topic6\", \"Topic6\", \"Topic6\", \"Topic6\", \"Topic6\", \"Topic6\", \"Topic6\", \"Topic6\", \"Topic6\", \"Topic6\", \"Topic6\", \"Topic6\", \"Topic6\", \"Topic6\", \"Topic6\", \"Topic6\", \"Topic6\", \"Topic6\", \"Topic6\", \"Topic6\", \"Topic6\", \"Topic6\", \"Topic6\", \"Topic6\", \"Topic6\", \"Topic6\", \"Topic6\", \"Topic6\", \"Topic6\", \"Topic6\", \"Topic6\", \"Topic6\", \"Topic6\", \"Topic6\", \"Topic6\", \"Topic6\", \"Topic7\", \"Topic7\", \"Topic7\", \"Topic7\", \"Topic7\", \"Topic7\", \"Topic7\", \"Topic7\", \"Topic7\", \"Topic7\", \"Topic7\", \"Topic7\", \"Topic7\", \"Topic7\", \"Topic7\", \"Topic7\", \"Topic7\", \"Topic7\", \"Topic7\", \"Topic7\", \"Topic7\", \"Topic7\", \"Topic7\", \"Topic7\", \"Topic7\", \"Topic7\", \"Topic7\", \"Topic7\", \"Topic7\", \"Topic7\", \"Topic7\", \"Topic7\", \"Topic7\", \"Topic7\", \"Topic7\", \"Topic7\", \"Topic7\", \"Topic7\", \"Topic7\", \"Topic7\", \"Topic7\", \"Topic7\", \"Topic7\", \"Topic7\", \"Topic7\", \"Topic7\", \"Topic7\", \"Topic7\", \"Topic7\", \"Topic7\", \"Topic7\", \"Topic7\", \"Topic7\", \"Topic7\", \"Topic7\", \"Topic7\", \"Topic7\", \"Topic7\", \"Topic7\", \"Topic7\", \"Topic7\", \"Topic7\", \"Topic7\", \"Topic7\", \"Topic7\", \"Topic7\", \"Topic7\", \"Topic7\", \"Topic7\", \"Topic7\", \"Topic7\", \"Topic7\", \"Topic7\", \"Topic7\", \"Topic7\", \"Topic7\", \"Topic7\", \"Topic7\", \"Topic7\", \"Topic8\", \"Topic8\", \"Topic8\", \"Topic8\", \"Topic8\", \"Topic8\", \"Topic8\", \"Topic8\", \"Topic8\", \"Topic8\", \"Topic8\", \"Topic8\", \"Topic8\", \"Topic8\", \"Topic8\", \"Topic8\", \"Topic8\", \"Topic8\", \"Topic8\", \"Topic8\", \"Topic8\", \"Topic8\", \"Topic8\", \"Topic8\", \"Topic8\", \"Topic8\", \"Topic8\", \"Topic8\", \"Topic8\", \"Topic8\", \"Topic8\", \"Topic8\", \"Topic8\", \"Topic8\", \"Topic8\", \"Topic8\", \"Topic8\", \"Topic8\", \"Topic8\", \"Topic8\", \"Topic8\", \"Topic8\", \"Topic8\", \"Topic8\", \"Topic8\", \"Topic8\", \"Topic8\", \"Topic8\", \"Topic8\", \"Topic8\", \"Topic8\", \"Topic8\", \"Topic8\", \"Topic8\", \"Topic8\", \"Topic8\", \"Topic8\", \"Topic8\", \"Topic8\", \"Topic8\", \"Topic8\", \"Topic8\", \"Topic8\", \"Topic8\", \"Topic8\", \"Topic8\", \"Topic8\", \"Topic8\", \"Topic8\", \"Topic8\", \"Topic8\", \"Topic8\", \"Topic8\", \"Topic8\", \"Topic9\", \"Topic9\", \"Topic9\", \"Topic9\", \"Topic9\", \"Topic9\", \"Topic9\", \"Topic9\", \"Topic9\", \"Topic9\", \"Topic9\", \"Topic9\", \"Topic9\", \"Topic9\", \"Topic9\", \"Topic9\", \"Topic9\", \"Topic9\", \"Topic9\", \"Topic9\", \"Topic9\", \"Topic9\", \"Topic9\", \"Topic9\", \"Topic9\", \"Topic9\", \"Topic9\", \"Topic9\", \"Topic9\", \"Topic9\", \"Topic9\", \"Topic9\", \"Topic9\", \"Topic9\", \"Topic9\", \"Topic9\", \"Topic9\", \"Topic9\", \"Topic9\", \"Topic9\", \"Topic9\", \"Topic9\", \"Topic9\", \"Topic9\", \"Topic9\", \"Topic9\", \"Topic9\", \"Topic9\"], \"logprob\": [30.0, 29.0, 28.0, 27.0, 26.0, 25.0, 24.0, 23.0, 22.0, 21.0, 20.0, 19.0, 18.0, 17.0, 16.0, 15.0, 14.0, 13.0, 12.0, 11.0, 10.0, 9.0, 8.0, 7.0, 6.0, 5.0, 4.0, 3.0, 2.0, 1.0, -6.4971, -7.3202, -7.3407, -7.6236, -7.6027, -7.6559, -7.6757, -7.7674, -7.6065, -7.9821, -7.6322, -8.0408, -8.0421, -8.1128, -8.121, -8.1545, -8.1672, -8.1811, -8.1867, -7.7809, -8.2329, -8.2815, -8.3331, -8.3611, -8.3883, -8.3873, -8.3736, -8.4165, -8.3481, -8.4303, -6.3594, -7.6513, -4.4016, -7.0145, -6.3938, -6.8837, -7.7903, -5.769, -4.9251, -5.6987, -6.8375, -6.5044, -5.7436, -6.4597, -6.7765, -5.7437, -6.6555, -6.7262, -7.4555, -5.7423, -5.3397, -5.2372, -6.528, -5.2095, -5.6439, -5.7724, -6.7245, -5.7662, -4.6709, -5.5927, -4.0928, -5.9067, -5.0554, -5.32, -6.1788, -3.4042, -5.4884, -4.9743, -4.6743, -5.3174, -5.3323, -4.6175, -5.6081, -4.9596, -5.2666, -4.8231, -4.4869, -5.2797, -5.0197, -5.2307, -5.1315, -5.1571, -5.3606, -5.3059, -5.5405, -5.5831, -6.6185, -6.9407, -7.0211, -6.0258, -7.1698, -7.5919, -7.5932, -7.6859, -5.7102, -7.864, -7.8744, -7.9641, -7.9877, -7.9875, -8.0103, -7.9901, -8.0104, -8.0328, -8.1057, -7.3455, -8.2103, -8.0477, -8.2351, -8.2644, -8.2949, -8.3251, -7.8271, -8.3896, -8.3875, -8.4222, -6.3405, -6.6008, -6.2878, -5.7827, -5.7404, -4.6249, -7.2181, -4.2262, -4.515, -6.675, -6.5434, -6.3283, -4.9872, -4.8631, -3.6714, -3.5025, -7.5131, -6.7127, -5.6178, -6.2979, -6.746, -3.4231, -5.4928, -5.3746, -6.5783, -4.9026, -5.9095, -5.6485, -4.3266, -5.9122, -5.968, -3.3965, -4.0419, -5.8439, -5.4827, -5.7157, -5.9818, -4.993, -5.2552, -5.0177, -5.0769, -5.5629, -5.0724, -5.4291, -5.3397, -5.1115, -5.3434, -5.4691, -5.6327, -5.6302, -5.6177, -5.9061, -6.3162, -6.3848, -6.6621, -6.7987, -6.875, -6.4247, -7.094, -7.2902, -7.3042, -7.3892, -7.4045, -7.4471, -7.5143, -7.5286, -7.6041, -7.5867, -7.7024, -7.7204, -7.7211, -7.741, -7.8073, -7.668, -7.8496, -7.8764, -7.8772, -7.8541, -7.9039, -7.9042, -7.9263, -5.9751, -6.1581, -7.0185, -5.9252, -7.5576, -6.0304, -6.651, -6.2054, -6.0276, -6.645, -7.2495, -6.3828, -6.4199, -6.9098, -6.2323, -5.7799, -5.0248, -6.0356, -3.3377, -4.0522, -4.579, -5.6876, -5.0203, -4.7618, -6.6497, -4.9303, -5.3394, -4.8058, -5.5447, -4.9235, -5.058, -5.2324, -5.5966, -5.4647, -5.1672, -5.4019, -5.417, -5.7429, -5.2561, -5.6593, -5.633, -5.7264, -5.559, -5.6927, -5.7519, -5.6593, -5.7009, -5.737, -5.734, -6.6438, -7.3009, -7.2895, -7.3764, -7.4183, -7.5376, -7.3993, -7.6206, -7.7693, -7.8722, -7.8731, -7.9178, -8.0145, -8.0908, -8.0933, -8.0975, -8.1503, -8.2119, -8.244, -8.2479, -8.2708, -8.2737, -8.306, -8.3186, -8.3433, -7.8706, -8.38, -8.3804, -8.3785, -8.4159, -7.923, -7.6411, -7.9117, -4.8255, -7.4026, -4.7703, -7.6868, -6.5403, -6.8988, -6.9213, -7.223, -6.5794, -5.5135, -7.2236, -6.5969, -6.9182, -4.7248, -6.1295, -5.5765, -4.8396, -4.7563, -5.4919, -5.6247, -7.3139, -5.215, -5.5974, -4.9234, -5.6655, -4.9165, -5.1058, -5.8607, -5.098, -3.4269, -5.6599, -4.1001, -5.2778, -5.3096, -5.1041, -5.2161, -4.8025, -4.7471, -5.1283, -4.44, -5.2667, -5.2886, -4.7201, -5.3634, -5.0679, -4.9988, -4.8265, -5.0397, -5.1031, -5.199, -5.3619, -5.3537, -5.324, -5.0842, -3.4016, -5.9631, -6.0301, -6.0525, -6.2123, -6.2254, -6.2255, -6.2256, -6.2131, -6.2519, -6.2519, -6.2519, -5.8069, -6.3687, -6.0962, -6.149, -6.0803, -6.2008, -6.8452, -6.6821, -7.0185, -7.1066, -7.2075, -5.033, -7.1588, -5.4431, -4.452, -7.558, -7.6635, -2.9755, -6.2253, -6.2385, -5.095, -6.1136, -5.9021, -6.032, -5.0756, -4.9982, -5.5275, -3.9144, -2.9645, -4.1964, -5.024, -3.7738, -5.6404, -5.4011, -4.467, -4.9018, -5.9029, -4.8487, -5.4145, -4.9682, -4.2613, -3.3609, -4.7824, -5.3365, -5.3924, -5.1602, -4.4303, -4.4463, -4.6212, -5.1463, -4.8612, -4.6838, -5.0308, -5.1106, -5.2449, -5.2103, -5.1577, -5.7162, -7.0168, -7.2717, -7.6478, -7.648, -7.6849, -7.6568, -7.7647, -7.8974, -7.9298, -7.9758, -7.9818, -7.9824, -7.9833, -7.9852, -7.9892, -6.8102, -8.0832, -8.0832, -8.0841, -8.0841, -8.1374, -8.1388, -8.1427, -7.7452, -8.104, -8.1046, -8.2599, -8.2596, -8.26, -7.6715, -6.7737, -5.531, -7.3115, -5.6254, -6.337, -6.066, -7.8064, -7.1971, -6.8862, -3.1373, -7.7882, -5.5588, -5.9802, -6.6061, -6.0224, -6.3903, -7.2486, -5.915, -4.1537, -5.2124, -5.0682, -4.4629, -4.6621, -5.1533, -6.136, -5.614, -4.9619, -5.6575, -5.1922, -4.2762, -5.17, -5.7077, -4.5643, -5.4136, -5.1338, -5.6182, -4.4188, -5.0592, -3.9168, -5.2651, -4.9809, -4.9948, -4.92, -5.1519, -5.2207, -5.2366, -5.3604, -5.3251, -5.2389, -5.4452, -5.4725, -5.4855, -5.9108, -6.0319, -6.5571, -6.6216, -6.7305, -6.9754, -7.2291, -7.2783, -7.3208, -7.3271, -7.3239, -7.3772, -7.525, -7.5269, -7.5273, -7.5275, -7.5314, -7.5892, -7.6242, -7.6263, -7.6611, -7.6992, -7.7019, -7.7759, -7.7753, -7.8172, -7.8173, -7.7918, -7.8204, -7.8625, -7.4037, -7.2622, -6.0332, -6.7563, -5.8027, -6.8117, -6.8131, -5.1741, -6.9145, -5.953, -6.0182, -7.1983, -6.2557, -6.4255, -5.4046, -5.1238, -5.1154, -7.186, -6.2037, -3.7377, -5.975, -5.7455, -6.0969, -4.2287, -3.7684, -6.7786, -5.6151, -6.2696, -5.3764, -5.2855, -4.7439, -4.8712, -4.7005, -5.7775, -5.6594, -5.5609, -5.1023, -5.5057, -5.1013, -5.2899, -5.5111, -5.6164, -5.5334, -5.4753, -5.7034, -5.7251, -5.6519, -5.6886, -5.7502, -6.71, -7.0518, -7.0759, -7.0759, -6.8304, -7.2918, -7.3146, -7.3709, -7.3712, -7.4358, -7.5322, -7.5324, -7.5338, -7.5334, -7.603, -7.64, -7.6422, -7.6417, -7.6446, -7.6083, -7.5213, -7.6486, -7.8042, -7.8019, -7.8048, -7.807, -7.8102, -7.8159, -7.8472, -7.894, -6.9933, -6.5726, -6.3198, -7.2018, -5.9361, -6.6239, -7.534, -7.0947, -5.3436, -4.4247, -5.1709, -6.3813, -2.9102, -5.5936, -6.0727, -5.4897, -5.5047, -5.3936, -5.694, -5.7003, -5.1739, -5.0823, -5.3967, -5.142, -4.3004, -4.2941, -5.2995, -4.8193, -4.8531, -5.3015, -5.1941, -5.8138, -5.3288, -4.7621, -5.4081, -5.8334, -5.6456, -5.2494, -5.3606, -5.3787, -5.353, -5.3673, -5.468, -5.6512, -5.3752, -5.7794, -6.2666, -6.3551, -6.3598, -6.3621, -6.3732, -6.5502, -6.5502, -6.6562, -6.9316, -6.9361, -7.3043, -5.1709, -7.3043, -7.9103, -7.9103, -7.9103, -7.9103, -7.9103, -7.9103, -7.9103, -7.9103, -7.9103, -7.9103, -7.9103, -7.9103, -7.9103, -7.9103, -7.9103, -4.9633, -5.4221, -5.7007, -6.5537, -6.2912, -6.537, -6.3243, -6.5415, -6.1014, -5.8911, -7.418, -6.5495, -7.303, -6.5489, -6.6092, -6.6986, -6.9117, -7.1972], \"loglift\": [30.0, 29.0, 28.0, 27.0, 26.0, 25.0, 24.0, 23.0, 22.0, 21.0, 20.0, 19.0, 18.0, 17.0, 16.0, 15.0, 14.0, 13.0, 12.0, 11.0, 10.0, 9.0, 8.0, 7.0, 6.0, 5.0, 4.0, 3.0, 2.0, 1.0, 1.1, 1.0966, 1.0961, 1.092, 1.0919, 1.0916, 1.0905, 1.0892, 1.0886, 1.084, 1.0828, 1.0824, 1.0802, 1.0802, 1.0797, 1.0789, 1.0785, 1.078, 1.0778, 1.0765, 1.0763, 1.0745, 1.0725, 1.0713, 1.0704, 1.0702, 1.0701, 1.0693, 1.0681, 1.0676, 1.0618, 1.0672, 1.0133, 1.0535, 1.0385, 1.0128, 1.0498, 0.9509, 0.8838, 0.9273, 0.996, 0.9736, 0.9233, 0.9687, 0.9742, 0.8772, 0.9516, 0.9389, 1.0193, 0.8085, 0.7485, 0.7318, 0.8898, 0.6689, 0.7343, 0.7436, 0.9194, 0.7231, 0.4947, 0.6778, 0.3172, 0.7286, 0.5014, 0.5698, 0.7962, 0.0004, 0.5948, 0.412, 0.2944, 0.5063, 0.4955, 0.1501, 0.5872, 0.2705, 0.4171, 0.1359, -0.0924, 0.3652, 0.1022, 0.2334, 0.0531, 0.0445, 0.1776, -0.0768, -0.0201, 0.0785, 1.8954, 1.8895, 1.887, 1.8781, 1.8719, 1.8701, 1.8692, 1.8661, 1.8615, 1.8568, 1.8531, 1.8521, 1.8507, 1.8507, 1.8494, 1.8483, 1.848, 1.8479, 1.8434, 1.8432, 1.8363, 1.835, 1.8339, 1.8323, 1.83, 1.8275, 1.8273, 1.8222, 1.8222, 1.8187, 1.8089, 1.8083, 1.7987, 1.7864, 1.7701, 1.6558, 1.7836, 1.6062, 1.6179, 1.7511, 1.7427, 1.7228, 1.6088, 1.5919, 1.4129, 1.3589, 1.7941, 1.6731, 1.4546, 1.5686, 1.6514, 0.9811, 1.3951, 1.3088, 1.6129, 1.0587, 1.3858, 1.274, 0.7474, 1.3444, 1.3655, 0.0081, 0.3526, 1.2764, 1.0179, 1.1387, 1.2878, 0.236, 0.4935, 0.2124, 0.1077, 0.7442, -0.1037, 0.4508, 0.1807, -0.3439, 0.1207, -0.3473, 0.4394, 0.2897, -0.061, 1.9874, 1.9831, 1.9823, 1.9761, 1.9751, 1.9739, 1.972, 1.9686, 1.9631, 1.9621, 1.9597, 1.9592, 1.9576, 1.9549, 1.9545, 1.9513, 1.9488, 1.9469, 1.946, 1.946, 1.9449, 1.9416, 1.9404, 1.9392, 1.9379, 1.9378, 1.9373, 1.9363, 1.9362, 1.935, 1.918, 1.9088, 1.9262, 1.8147, 1.9159, 1.776, 1.814, 1.7577, 1.694, 1.6973, 1.8358, 1.6279, 1.6149, 1.7141, 1.3998, 1.2039, 0.865, 1.312, 0.0669, 0.3422, 0.5053, 1.0671, 0.6249, 0.4672, 1.5646, 0.4561, 0.6319, 0.1629, 0.7652, 0.0355, 0.1437, 0.3058, 0.6208, 0.4266, 0.0174, 0.2818, 0.047, 0.6576, -0.4885, 0.4392, 0.3602, 0.5806, -0.0386, 0.4287, 0.5821, -0.0144, 0.2443, -0.0754, -0.5039, 2.0141, 1.9993, 1.9984, 1.9966, 1.995, 1.9902, 1.9888, 1.9865, 1.9773, 1.9733, 1.9732, 1.9704, 1.9643, 1.959, 1.9588, 1.9581, 1.9546, 1.9483, 1.947, 1.9466, 1.9448, 1.9446, 1.9415, 1.9406, 1.9384, 1.9362, 1.935, 1.935, 1.9349, 1.9316, 1.9275, 1.9236, 1.924, 1.8089, 1.9, 1.7636, 1.9102, 1.8379, 1.86, 1.8581, 1.8693, 1.796, 1.6853, 1.8538, 1.7768, 1.8077, 1.4039, 1.6222, 1.5091, 1.3283, 1.2816, 1.4402, 1.4463, 1.8306, 1.2151, 1.3146, 1.0699, 1.2798, 0.9923, 1.0071, 1.243, 0.8627, -0.0223, 1.1137, 0.3041, 0.8933, 0.9012, 0.7758, 0.7551, 0.4266, 0.3748, 0.6205, -0.03, 0.6853, 0.6893, 0.0475, 0.7166, 0.1622, -0.0398, -0.4321, -0.1783, -0.1344, -0.125, 0.7101, 0.6076, 0.1964, 2.4926, 2.4874, 2.4829, 2.4829, 2.482, 2.4798, 2.4795, 2.4794, 2.4793, 2.4791, 2.4791, 2.479, 2.479, 2.4789, 2.4763, 2.4756, 2.4728, 2.4688, 2.464, 2.4635, 2.4628, 2.4545, 2.4532, 2.4476, 2.4461, 2.4458, 2.4445, 2.4304, 2.4282, 2.4206, 2.398, 2.4168, 2.4104, 2.3387, 2.3923, 2.3323, 2.3278, 2.1573, 2.0949, 2.2159, 1.7308, 1.4455, 1.7234, 1.9095, 1.3002, 2.1665, 2.0365, 1.519, 1.7026, 2.2865, 1.6238, 1.9458, 1.4992, 0.8606, 0.0436, 1.3058, 1.7358, 1.7582, 1.4397, 0.5287, 0.3213, 0.5805, 1.3159, 0.3234, -0.2894, 0.6308, 0.8346, 1.1852, 0.6696, -0.2963, 2.733, 2.7072, 2.6918, 2.662, 2.6618, 2.6585, 2.6556, 2.6455, 2.6352, 2.6317, 2.626, 2.6253, 2.6252, 2.625, 2.6248, 2.6242, 2.6159, 2.6119, 2.6119, 2.6117, 2.6117, 2.6041, 2.6039, 2.6034, 2.6028, 2.593, 2.5926, 2.5854, 2.5854, 2.5853, 2.5833, 2.5389, 2.4521, 2.5345, 2.341, 2.4142, 2.3814, 2.5625, 2.4599, 2.3385, 1.2669, 2.5333, 1.8964, 1.9603, 2.1133, 1.8774, 2.0005, 2.3339, 1.7713, 1.012, 1.4623, 1.3911, 1.0754, 1.1616, 1.3512, 1.8184, 1.5365, 1.1471, 1.51, 1.1978, 0.5851, 1.1374, 1.4736, 0.6373, 1.2538, 0.999, 1.3786, 0.3488, 0.7686, -0.5122, 0.9024, 0.2492, 0.1898, 0.039, 0.3686, 0.4242, 0.425, 0.7381, 0.0898, -0.8444, 0.4636, 0.6522, 0.4858, 2.8455, 2.8445, 2.8289, 2.8264, 2.8217, 2.8095, 2.7932, 2.7896, 2.7865, 2.7859, 2.7832, 2.7819, 2.7688, 2.7688, 2.7687, 2.7687, 2.7682, 2.7627, 2.7591, 2.759, 2.7554, 2.7512, 2.7509, 2.7426, 2.74, 2.7376, 2.7376, 2.7375, 2.7367, 2.732, 2.7241, 2.7077, 2.6052, 2.6436, 2.5132, 2.62, 2.5942, 2.3082, 2.587, 2.3349, 2.3337, 2.6413, 2.3124, 2.3507, 1.9154, 1.7103, 1.6878, 2.6034, 2.0569, 0.6664, 1.8081, 1.5612, 1.7862, 0.1657, -0.3638, 2.2981, 1.2044, 1.8282, 0.9576, 0.8392, 0.2248, 0.3305, 0.0671, 1.3204, 1.08, 0.8942, 0.0633, 0.6949, -0.1423, 0.2305, 0.4602, 0.6643, 0.1282, -0.391, 0.2494, 0.3839, -0.4673, -0.6146, 0.0775, 2.8966, 2.8879, 2.8863, 2.8863, 2.8727, 2.8694, 2.868, 2.8633, 2.863, 2.8574, 2.848, 2.848, 2.8478, 2.8478, 2.8405, 2.836, 2.8359, 2.8358, 2.8348, 2.8348, 2.8273, 2.8234, 2.8164, 2.8164, 2.8163, 2.816, 2.8151, 2.8148, 2.8107, 2.8042, 2.7029, 2.6196, 2.5354, 2.6484, 2.1907, 2.4173, 2.7207, 2.5495, 1.865, 1.4552, 1.7595, 2.2186, 0.4944, 1.6933, 1.9408, 1.5826, 1.5696, 1.4883, 1.6611, 1.66, 1.2563, 1.1882, 1.4065, 0.938, 0.1096, 0.1004, 0.9116, 0.3026, 0.1156, 0.6183, 0.4511, 1.2464, 0.5496, -0.358, 0.5531, 1.2376, 0.801, -0.2904, -0.1305, -0.177, -0.279, -0.5997, -0.3837, 0.5442, 5.8607, 5.7383, 5.5423, 5.5004, 5.498, 5.4969, 5.4909, 5.4011, 5.4011, 5.3432, 5.1794, 5.177, 4.931, 4.7897, 4.569, 4.4673, 4.4673, 4.4673, 4.4673, 4.4673, 4.4673, 4.4673, 4.4673, 4.4673, 4.4673, 4.4673, 4.4673, 4.4673, 4.4673, 4.4673, 4.3101, 4.19, 4.1585, 4.143, 4.0517, 3.632, 3.4834, 3.5549, 2.9255, 2.3188, 3.93, 2.9477, 3.7538, 2.7642, 2.0967, 1.3128, 1.2854, 2.1714]}, \"token.table\": {\"Topic\": [6, 5, 5, 3, 4, 6, 7, 8, 1, 4, 7, 1, 7, 7, 1, 6, 3, 9, 3, 1, 3, 4, 6, 5, 4, 7, 9, 1, 2, 3, 4, 5, 6, 7, 8, 2, 3, 4, 6, 7, 2, 1, 6, 1, 2, 8, 1, 8, 2, 7, 1, 2, 3, 4, 7, 8, 1, 5, 6, 2, 3, 4, 7, 4, 1, 2, 7, 1, 4, 7, 7, 7, 2, 1, 3, 4, 5, 6, 7, 8, 1, 3, 4, 6, 7, 8, 1, 2, 7, 7, 1, 2, 3, 5, 7, 1, 2, 3, 4, 5, 6, 7, 8, 4, 3, 6, 5, 6, 5, 7, 1, 2, 3, 4, 5, 6, 7, 8, 6, 2, 4, 1, 3, 4, 5, 6, 7, 8, 4, 5, 9, 1, 2, 3, 4, 5, 6, 7, 8, 8, 7, 1, 2, 3, 4, 5, 6, 7, 8, 8, 1, 2, 3, 4, 5, 6, 7, 8, 9, 1, 2, 3, 5, 8, 9, 6, 4, 1, 1, 5, 6, 8, 1, 3, 1, 2, 3, 4, 5, 6, 7, 8, 1, 2, 3, 4, 5, 6, 7, 8, 1, 2, 5, 8, 4, 3, 7, 1, 3, 4, 7, 8, 6, 8, 3, 5, 8, 1, 2, 3, 4, 5, 6, 7, 8, 1, 1, 2, 3, 4, 5, 6, 7, 8, 3, 8, 2, 7, 8, 1, 2, 4, 6, 7, 8, 1, 4, 2, 1, 2, 3, 4, 7, 8, 1, 2, 3, 4, 5, 6, 7, 8, 1, 2, 3, 4, 5, 6, 7, 8, 3, 6, 2, 1, 2, 3, 4, 6, 7, 8, 5, 5, 3, 6, 1, 2, 3, 4, 5, 7, 8, 6, 1, 2, 3, 4, 5, 6, 8, 1, 2, 3, 4, 5, 7, 8, 3, 2, 7, 2, 2, 8, 6, 1, 1, 4, 5, 8, 3, 6, 7, 3, 6, 9, 8, 9, 1, 7, 9, 1, 3, 9, 2, 7, 1, 2, 4, 5, 8, 1, 1, 1, 2, 3, 6, 7, 8, 6, 1, 2, 3, 4, 6, 7, 1, 3, 4, 5, 8, 8, 8, 4, 6, 3, 9, 2, 3, 4, 6, 7, 1, 3, 4, 6, 9, 4, 2, 3, 4, 8, 4, 6, 8, 1, 6, 7, 4, 3, 1, 2, 6, 9, 1, 2, 3, 6, 7, 9, 3, 3, 7, 8, 1, 2, 3, 6, 7, 8, 1, 2, 3, 4, 5, 6, 7, 8, 7, 7, 8, 2, 2, 4, 7, 2, 1, 5, 6, 7, 1, 2, 3, 4, 5, 6, 7, 8, 1, 2, 3, 4, 5, 6, 7, 8, 1, 2, 3, 4, 6, 7, 8, 1, 4, 7, 1, 4, 9, 6, 1, 5, 1, 2, 3, 6, 7, 8, 3, 1, 2, 3, 4, 6, 7, 8, 3, 8, 1, 2, 3, 4, 7, 8, 3, 4, 3, 3, 4, 4, 1, 4, 6, 1, 2, 3, 4, 5, 6, 7, 8, 3, 1, 2, 3, 4, 6, 7, 8, 1, 2, 3, 4, 5, 6, 7, 8, 8, 1, 2, 3, 4, 6, 7, 8, 2, 4, 6, 7, 8, 5, 1, 2, 3, 4, 6, 8, 2, 8, 1, 3, 8, 5, 7, 6, 7, 8, 1, 2, 3, 4, 5, 6, 7, 8, 1, 4, 6, 2, 3, 6, 7, 8, 1, 4, 3, 7, 9, 7, 4, 1, 2, 3, 4, 7, 8, 7, 2, 5, 1, 2, 3, 4, 5, 6, 7, 8, 1, 5, 1, 2, 3, 4, 5, 6, 8, 6, 1, 2, 4, 6, 7, 8, 1, 2, 3, 4, 5, 6, 7, 8, 8, 3, 2, 6, 7, 1, 2, 3, 7, 4, 3, 4, 7, 5, 6, 1, 2, 3, 4, 5, 6, 7, 1, 2, 3, 7, 8, 1, 2, 3, 4, 6, 7, 8, 7, 3, 2, 3, 6, 7, 5, 9, 2, 4, 7, 8, 1, 5, 1, 2, 3, 5, 6, 7, 8, 1, 8, 1, 2, 3, 4, 6, 7, 8, 4, 8, 7, 1, 2, 3, 5, 6, 7, 8, 1, 1, 2, 3, 4, 5, 6, 7, 8, 5, 1, 2, 3, 4, 5, 6, 7, 8, 1, 2, 3, 4, 5, 6, 7, 8, 4, 1, 4, 7, 2, 1, 2, 3, 4, 6, 7, 8, 1, 2, 3, 4, 6, 5, 1, 2, 1, 2, 4, 7, 3, 1, 2, 3, 4, 5, 6, 7, 8, 1, 2, 3, 8, 8, 1, 3, 7, 1, 2, 6, 2, 3, 4, 6, 7, 1, 2, 3, 4, 6, 7, 8, 8, 1, 7, 1, 2, 3, 4, 5, 6, 7, 8, 2, 3, 4, 6, 8, 5, 7, 1, 4, 1, 1, 1, 2, 3, 4, 6, 7, 9, 1, 2, 3, 4, 5, 6, 7, 8, 4, 2, 4, 5, 6, 7, 1, 2, 7, 8, 2, 3, 7, 8, 1, 2, 3, 4, 5, 6, 7, 8, 1, 2, 3, 4, 6, 7, 8, 1, 2, 3, 4, 6, 7, 8, 1, 3, 7, 8, 3, 1, 4, 5, 8, 2, 3, 4, 4, 7, 3, 7, 1, 4, 6, 8, 1, 2, 3, 4, 5, 6, 7, 8, 1, 5, 1, 5, 1, 2, 3, 5, 6, 7, 8, 9, 1, 7, 6, 1, 2, 3, 4, 6, 7, 8, 3, 1, 2, 6, 7, 8, 2, 4, 7, 1, 2, 3, 6, 7, 1, 2, 3, 4, 7, 8, 1, 2, 3, 4, 5, 6, 7, 8, 2, 2, 1, 2, 3, 4, 7, 8, 2, 6, 5, 7, 2, 3, 1, 2, 3, 4, 6, 7, 8, 1, 2, 3, 4, 5, 6, 7, 8, 1, 2, 3, 4, 5, 6, 7, 8, 1, 2, 3, 4, 5, 4, 4, 5, 7, 2, 4, 5, 1, 2, 3, 4, 5, 6, 7, 8, 2, 7, 1, 2, 3, 4, 5, 6, 7, 8, 1, 3, 5, 7, 8, 3, 1, 2, 3, 4, 5, 6, 7, 8, 1, 3, 5, 6, 7, 8, 6, 7, 1, 2, 3, 4, 7, 1, 2, 3, 4, 3, 6, 7, 4, 2, 4, 8, 1, 2, 3, 4, 6, 7, 8, 2, 3, 4, 6, 7, 8, 3, 4, 6, 4, 6, 1, 8, 6, 7, 6, 7, 1, 2, 3, 4, 5, 7, 8, 1, 2, 4, 5, 6, 7, 8, 1, 2, 3, 4, 5, 6, 7, 8, 8, 1, 1, 3, 8, 1, 3, 4, 5, 8, 1, 2, 3, 4, 5, 8, 1, 3, 4, 5, 1, 2, 4, 7, 8, 9, 1, 2, 3, 5, 6, 1, 1, 2, 3, 6, 7, 1, 2, 3, 4, 7, 5, 1, 2, 3, 6, 1, 3, 5, 6, 1, 2, 3, 4, 6, 7, 1, 6, 1, 2, 4, 5, 7, 7, 5, 1, 4, 8, 9, 1, 2, 3, 4, 5, 6, 7, 8, 2, 3, 4, 1, 2, 3, 4, 6, 7, 8, 1, 2, 3, 4, 6, 1, 2, 3, 4, 5, 6, 7, 8, 1, 2, 3, 4, 1, 1, 2, 3, 4, 5, 7, 8, 1, 2, 3, 4, 5, 6, 7, 8, 4, 2, 3, 5, 9, 3, 6, 7, 4, 4, 4, 1, 2, 3, 4, 7, 8, 6, 1, 2, 3, 6, 7, 3, 5, 1, 1, 3, 6, 7, 8, 1, 2, 6, 7, 1, 2, 3, 4, 5, 6, 7, 8, 1, 2, 3, 4, 6, 7, 8, 8, 1, 3, 4, 3, 1, 2, 3, 4, 6, 8, 8, 1, 2, 1, 2, 3, 4, 6, 7, 8, 1, 2, 3, 4, 5, 6, 7, 1, 2, 6, 7, 1, 4, 4, 2, 1, 2, 3, 4, 7, 8, 1, 7, 1, 2, 4, 5, 8, 1, 5, 8, 2, 1, 2, 3, 4, 5, 7, 9, 7, 6, 6, 5, 1, 2, 3, 4, 6, 7, 8, 1, 2, 3, 4, 6, 7, 8, 3, 7, 3, 5, 2, 5, 8, 3, 5, 3, 4, 2, 1, 8, 8, 1, 3, 6, 5, 1, 2, 3, 4, 7, 8, 1, 2, 3, 4, 5, 6, 7, 8, 8, 2, 2, 1, 2, 3, 4, 5, 6, 7, 8, 1, 2, 7, 7, 1, 2, 3, 2, 7, 2, 3, 6, 1, 2, 3, 4, 5, 6, 7, 8, 1, 2, 3, 4, 5, 6, 7, 8, 1, 3, 7, 3, 9, 9, 5, 6, 4, 3, 1, 2, 3, 4, 5, 6, 7, 8, 3, 9, 6, 1, 2, 3, 4, 6, 7, 1, 2, 3, 4, 6, 7, 2, 3, 7, 8, 1, 2, 3, 4, 6, 7, 8, 1, 6, 8, 8, 7, 1, 2, 3, 4, 5, 6, 7, 8, 3, 4, 1, 2, 3, 4, 6, 8, 1, 2, 3, 4, 6, 7, 8, 8, 2, 4, 7, 1, 2, 4, 7, 8, 1, 3, 4, 8, 1, 3, 7, 8, 1, 2, 3, 4, 7, 8, 1, 2, 3, 4, 5, 6, 7, 8, 1, 2, 3, 4, 5, 8, 1, 8, 4, 1, 2, 3, 7, 5, 1, 1, 3, 5, 1, 5, 1, 5, 1, 3, 5, 5, 8, 1, 3, 4, 1, 2, 3, 4, 5, 7, 8, 1, 2, 3, 4, 5, 6, 7, 8, 2, 4, 1, 2, 3, 4, 5, 6, 7, 8, 1, 6, 7, 8, 5, 4, 5, 1, 2, 3, 4, 5, 6, 7, 8, 7, 1, 2, 1, 2, 3, 4, 5, 6, 7, 2, 7, 6, 1, 7, 1, 2, 3, 4, 6, 7, 3, 7, 4, 1, 4, 4, 1, 9, 1, 2, 3, 6, 7, 8, 7, 5, 7, 3, 1, 2, 3, 1, 2, 3, 4, 5, 7, 8, 1, 2, 3, 4, 5, 7, 8, 6, 2, 3, 3, 4, 3, 3, 2, 7, 8, 3, 8, 6, 1, 4, 5, 9, 1, 2, 3, 5, 8, 1, 2, 3, 4, 5, 6, 7, 8, 2, 1, 2, 3, 4, 6, 7, 8, 4, 8, 4, 8, 1, 2, 1, 2, 3, 4, 6, 7, 8, 4, 8, 1, 1, 2, 3, 4, 5, 6, 8, 4, 2, 9, 8, 2, 4, 3, 5, 1, 2, 3, 4, 5, 6, 7, 8, 1, 2, 3, 4, 5, 7, 8, 1, 2, 3, 4, 5, 8], \"Freq\": [0.8989854524292245, 0.9815739282132854, 0.8966929019507179, 0.08725908308483854, 0.017451816616967708, 0.6806208480617406, 0.15706634955270937, 0.052355449850903124, 0.5699611143043332, 0.2192158131939743, 0.17537265055517942, 0.4135356628513626, 0.5710730582233103, 0.830747008112329, 0.9719119377945761, 0.9029924068331581, 0.9929535094991512, 0.5283855220548525, 0.9328786344990024, 0.17833274656041137, 0.016212067869128308, 0.7781792577181588, 0.032424135738256615, 0.9732859800673287, 0.2796535088555736, 0.5593070177111472, 0.11186140354222945, 0.32908869601740937, 0.1491658450965594, 0.14533530224664776, 0.12787253337205054, 0.08584922504801984, 0.037854776399126856, 0.039544721774087875, 0.08528590992303282, 0.746700401628382, 0.015520331673569141, 0.06380580799133981, 0.1724481297063238, 0.0017244812970632379, 0.9725332206526803, 0.16582605937031022, 0.7876737820089736, 0.10634882548375306, 0.10634882548375306, 0.7444417783862713, 0.21292508598255364, 0.7097502866085121, 0.14044880945551436, 0.7724684520053289, 0.044907123447888914, 0.2155541925498668, 0.09879567158535561, 0.18860991848113343, 0.3502755628935335, 0.09879567158535561, 0.9506623485808066, 0.006254357556452674, 0.037526145338716045, 0.25936972291430715, 0.6878936129466408, 0.022553888949070188, 0.011276944474535094, 0.9768447194684619, 0.8879001118557274, 0.06612022109563927, 0.03778298348322244, 0.2754206310381861, 0.015301146168788117, 0.7038527237642533, 0.917734449127831, 0.9815222407827107, 0.9501196527538728, 0.4236684982526837, 0.041266412167469194, 0.04401750631196714, 0.3466378622067412, 0.01375547072248973, 0.01925765901148562, 0.11004376577991784, 0.8738052027311206, 0.013239472768653343, 0.006619736384326671, 0.07281710022759338, 0.03309868192163336, 0.8906103996134663, 0.04865685035108564, 0.887987518907313, 0.04865685035108564, 0.8483087555650581, 0.04598967898609352, 0.04598967898609352, 0.11957316536384315, 0.7174389921830588, 0.07358348637774963, 0.42245356168532333, 0.06097267900612914, 0.16840073249311857, 0.30921858638822636, 0.0029034609050537685, 0.005806921810107537, 0.005806921810107537, 0.024679417692957034, 0.9629045000854296, 0.2371900651854459, 0.4743801303708918, 0.9179485342388991, 0.06404292099341156, 0.9708285364896276, 0.9377139130931426, 0.05368975830459978, 0.24543889510674186, 0.023009896416257048, 0.5522375139901692, 0.023009896416257048, 0.05368975830459978, 0.0038349827360428415, 0.049854775568556935, 0.8275759574190026, 0.9522661372904824, 0.03662562066501855, 0.2528206457605706, 0.25717962241161496, 0.1438462294844626, 0.004358976651044321, 0.13512827618237394, 0.017435906604177286, 0.17871804269281716, 0.23232726899586806, 0.5808181724896702, 0.11616363449793403, 0.49700779639090564, 0.0907366207226818, 0.21417112278687053, 0.12016471393003805, 0.0057221292347637166, 0.015531493637215801, 0.017983834737828823, 0.03842001057627067, 0.9320486324065138, 0.8615655255157163, 0.3563029970522437, 0.08719197208831342, 0.1259439596831194, 0.06351020189148755, 0.15393150627936814, 0.09687996898701491, 0.06458664599134327, 0.05166931679307462, 0.8448211174870347, 0.299819282905326, 0.21038885979403057, 0.19129015926517765, 0.08488311346156853, 0.06154025725963718, 0.027283857898361314, 0.06699702883930944, 0.05759925556320721, 0.5801677256436848, 0.5504784927818301, 0.13761962319545754, 0.06880981159772877, 0.13761962319545754, 0.08257177391727452, 0.027523924639091507, 0.9103803586975855, 0.9023013344699351, 0.9837336850874829, 0.9054795524935713, 0.010060883916595237, 0.07042618741616666, 0.010060883916595237, 0.9637769618020096, 0.9585538883021908, 0.40154303564172256, 0.1367261232471815, 0.06620422809863526, 0.2590600229946597, 0.02302755759952531, 0.04317667049910995, 0.06764345044860559, 0.0014392223499703318, 0.3645611835119833, 0.10478781006282481, 0.06086477590475453, 0.19012399071278993, 0.19451629412859694, 0.003764831499263167, 0.011921966414333362, 0.07027685465291245, 0.2726490568160896, 0.1420847197492298, 0.5529783687537592, 0.030721020486319955, 0.8708836955669627, 0.18096272586210016, 0.8143322663794507, 0.20887948001082687, 0.0609231816698245, 0.6614516867009518, 0.008703311667117786, 0.0609231816698245, 0.6515740839349085, 0.3257870419674542, 0.04044791274661151, 0.8089582549322303, 0.13482637582203838, 0.32090010524865975, 0.11447313696004821, 0.2533421883542051, 0.14825209540727555, 0.07506435210494965, 0.0018766088026237412, 0.04691522006559353, 0.039408784855098564, 0.9525264684185902, 0.3487657277503969, 0.13007246403805783, 0.17295349613851646, 0.07146838683409772, 0.18867654124201796, 0.031446090207002994, 0.051457238520550355, 0.004288103210045863, 0.9134007953412842, 0.9200696237832641, 0.7636438616598569, 0.18261048865779186, 0.03320190702868943, 0.7922762416787831, 0.011237960874876355, 0.03652337284334816, 0.126427059842359, 0.016856941312314536, 0.016856941312314536, 0.055091184520259705, 0.8814589523241553, 0.9603717300247508, 0.016441421137452915, 0.7398639511853811, 0.10138876368095963, 0.12057042167465469, 0.005480473712484305, 0.016441421137452915, 0.4313986552981023, 0.18318711132593646, 0.08180493139364338, 0.15382123851796192, 0.0013983748956178357, 0.08110574394583446, 0.021674810882076453, 0.045447184107579655, 0.10638717560982382, 0.5754579044349561, 0.014023764057658594, 0.10928864403554628, 0.060930836940171824, 0.11364084667412999, 0.005802936851444935, 0.01354018598670485, 0.9136261511534598, 0.8265847224138979, 0.9170131364855801, 0.37510838820764025, 0.1949382174937343, 0.062025796475279095, 0.2599176233249791, 0.06940981986519328, 0.03692011694957089, 0.0014768046779828356, 0.9342519497437399, 0.9937402477060417, 0.9715209358491685, 0.8425382910714462, 0.10906764575388408, 0.05929891419628649, 0.25413820369837065, 0.03070836628021979, 0.46380222174952646, 0.0010589091820765444, 0.08153600701989393, 0.8259533398552472, 0.5814950756550187, 0.010818513035442208, 0.323203076933836, 0.024341654329744968, 0.02975091084746607, 0.001352314129430276, 0.02704628258860552, 0.08511786472339614, 0.12517333047558254, 0.03504853253316312, 0.7059775838822856, 0.005006933219023302, 0.015020799657069907, 0.030041599314139814, 0.9592309580135112, 0.9523521265679848, 0.04361918136952602, 0.9314599874170922, 0.962780114829044, 0.9526227124285952, 0.9081802762373417, 0.9823490233870311, 0.008824455440659474, 0.269145890940114, 0.46769613835495216, 0.25149698005879506, 0.04643735781561327, 0.8823097984966521, 0.04643735781561327, 0.1585051804904761, 0.5547681317166664, 0.23775777073571416, 0.9179276113135436, 0.5271862046143582, 0.7809290112747787, 0.09761612640934733, 0.09761612640934733, 0.8162439222599125, 0.06802032685499271, 0.06802032685499271, 0.39658545691974295, 0.5869464762412197, 0.023538574898418183, 0.07650036841985909, 0.047077149796836366, 0.5766950850112454, 0.2706936113318091, 0.9722005507288413, 0.9817418183494346, 0.0946095920901213, 0.04204870759560947, 0.32587748386597337, 0.4520236066528018, 0.04204870759560947, 0.052560884494511836, 0.8265847224138979, 0.4998935439351074, 0.11604671555636421, 0.08034003384671369, 0.0874813701886438, 0.1553240654369798, 0.058916024820923375, 0.19820241368261263, 0.03153220217677928, 0.05405520373162163, 0.6666808460233334, 0.04504600310968469, 0.9378177497780291, 0.7958097470260406, 0.874125573493788, 0.8989965517010505, 0.6618511073272275, 0.16546277683180688, 0.5323478340170072, 0.24997202640798602, 0.06943667400221834, 0.07869489720251412, 0.06943667400221834, 0.4400151406052615, 0.12294540693382305, 0.01294162178250769, 0.4206027079314999, 0.5317928370938245, 0.9461565408230371, 0.1309823610656866, 0.06264373790098055, 0.7972839369215705, 0.005694885263725504, 0.6347306619253192, 0.7958952918444248, 0.11369932740634639, 0.07067510593681997, 0.7774261653050197, 0.07067510593681997, 0.9040167627652257, 0.96342327597585, 0.2790285356377286, 0.3587509743913654, 0.15944487750727349, 0.15944487750727349, 0.10869446080885631, 0.1766284988143915, 0.3260833824265689, 0.3124965748254619, 0.06793403800553519, 0.013586807601107039, 0.9824399534453403, 0.9932224630266283, 0.8899511940497737, 0.88418799126362, 0.27308442991860593, 0.13363706144953058, 0.5054967107003983, 0.034861842117268844, 0.04067214913681365, 0.005810307019544807, 0.33551429605362654, 0.11183809868454218, 0.07063458864286874, 0.11478120654466172, 0.0470897257619125, 0.22073308950896484, 0.017658647160717186, 0.0765208043631078, 0.8963176662494244, 0.9230292299725196, 0.9313352438921766, 0.9115882470492821, 0.8336613647970865, 0.09393367490671396, 0.07045025618003548, 0.9301579729868039, 0.9059187512578302, 0.021028754671723077, 0.0689743153232517, 0.0033646007474756926, 0.221973004767112, 0.026996716796000107, 0.19497628797111188, 0.38095367034355704, 0.08848923838688924, 0.05699306879155578, 0.026996716796000107, 0.0014998175997777837, 0.36112214726101505, 0.035836548964833556, 0.08683471479940438, 0.3528521744229765, 0.001378328806339752, 0.1006180028628019, 0.05926813867260934, 0.001378328806339752, 0.2576013982266114, 0.07041104884860712, 0.06869370619376304, 0.5323762230016635, 0.058389650264698584, 0.0034346853096881517, 0.010304055929064455, 0.142962863125588, 0.8339500348992634, 0.8280773341827065, 0.5446913898108385, 0.27234569490541927, 0.09078189830180643, 0.8697318830729759, 0.14388482025985308, 0.8473217193080237, 0.17030991410024063, 0.46125601735481836, 0.10644369631265038, 0.16321366767939727, 0.09225120347096367, 0.0035481232104216795, 0.962027395437564, 0.23616762922403606, 0.259362664237111, 0.2424935478639656, 0.08434558186572716, 0.02319503501307497, 0.14760476826502253, 0.004217279093286358, 0.9469346794383293, 0.05738998057201996, 0.6471220425778946, 0.013852765437447285, 0.0930114250800032, 0.06926382718723642, 0.005936899473191693, 0.17019111823149521, 0.9788412719175824, 0.016590530032501397, 0.9832879285115946, 0.9546629014793631, 0.9614324073346812, 0.9686024735021527, 0.13834904535321552, 0.8070360978937572, 0.06917452267660776, 0.3006361835648269, 0.013263361039624716, 0.013263361039624716, 0.27410946148557747, 0.01768448138616629, 0.06189568485158201, 0.07073792554466515, 0.2520038597528696, 0.9697023213158649, 0.027158473207830682, 0.28063755648091704, 0.2987432052861375, 0.09052824402610228, 0.08600183182479716, 0.21274137346134037, 0.004526412201305114, 0.3063128385753465, 0.1365490967143111, 0.11440599994982821, 0.2546456127915531, 0.012916806445948347, 0.047976709656379575, 0.11440599994982821, 0.012916806445948347, 0.9205335322548098, 0.03765254664791651, 0.3945864441395478, 0.01897933245667336, 0.17724247568409476, 0.22438468856034796, 0.11081481208573801, 0.036428073586195646, 0.5374169603605904, 0.09673505286490627, 0.06449003524327085, 0.1451025792973594, 0.16122508810817712, 0.9733973128695168, 0.16180547303068019, 0.34889305122240416, 0.0455077892898788, 0.020225684128835023, 0.08090273651534009, 0.3337237881257779, 0.9336101526092577, 0.05835063453807861, 0.8039963499848554, 0.155813246121096, 0.04362770891390688, 0.20033601162267656, 0.734565375949814, 0.07999271074938825, 0.8799198182432708, 0.07999271074938825, 0.4414391999353327, 0.13350844095605185, 0.1598871248546266, 0.11412818339791529, 0.0016150214631780466, 0.019918598045862573, 0.07106094437983405, 0.058140772674409674, 0.17550393115379662, 0.05850131038459887, 0.7605170349997853, 0.1726144510675294, 0.05394201595860294, 0.6580925946949558, 0.10788403191720589, 0.010788403191720588, 0.9656136479793507, 0.9706621229838931, 0.286438787194946, 0.5012678775911554, 0.143219393597473, 0.8699601194941576, 0.9012743349362842, 0.006742228002931878, 0.4079047941773786, 0.006742228002931878, 0.057308938024920965, 0.30677137413340044, 0.21238018209235415, 0.8823322557452098, 0.9885782722839643, 0.9498105281183316, 0.3467408259635046, 0.16501923701924015, 0.13829547393920125, 0.10689505232015556, 0.11357599309016528, 0.07616272477811084, 0.03540898608105153, 0.017370446002025277, 0.04985523401724235, 0.9472494463276047, 0.45170725823751195, 0.0015395612073534832, 0.012008577417357167, 0.12685984348592702, 0.34886456958629924, 0.0009237367244120899, 0.057887501396490966, 0.8653038115839097, 0.12880111632880858, 0.16392869350939274, 0.3629849641993696, 0.040982173377348184, 0.023418384787056105, 0.27516602124790923, 0.2993290434963912, 0.006542711333254453, 0.08832660299893512, 0.2682511646634326, 0.10631905916538487, 0.0490703349994084, 0.0490703349994084, 0.13248990449840267, 0.9244155153517992, 0.9368770905171354, 0.7876257070733201, 0.11486208228152585, 0.09845321338416502, 0.0683909741913633, 0.8685653722303139, 0.03419548709568165, 0.02735638967654532, 0.9092874248525642, 0.04557753216712627, 0.18231012866850507, 0.7748180468411466, 0.9437669430127261, 0.767630352756669, 0.32940966701082985, 0.2288017884163892, 0.06004018561281135, 0.2661240659594882, 0.024340615788977574, 0.05679477017428101, 0.0340768621045686, 0.14217373932491467, 0.13123729783838278, 0.3773072312853505, 0.06015042817592544, 0.28434747864982934, 0.07195698025430533, 0.27069530667095815, 0.3049605353634845, 0.09936916320832641, 0.041118274431031616, 0.18845875780889493, 0.020559137215515808, 0.9745041550879858, 0.9686156456013847, 0.8466106101915329, 0.044558453167975416, 0.014852817722658472, 0.08911690633595083, 0.9732907555717807, 0.6088017070830694, 0.9628296934073363, 0.020270098808575502, 0.010135049404287751, 0.8285374008353297, 0.9596470872393763, 0.9708051548910985, 0.7957762203834454, 0.019956770417139696, 0.0686013983089177, 0.07733248536641633, 0.013720279661783541, 0.019956770417139696, 0.003741894453213693, 0.961269173110414, 0.022887361264533668, 0.28773921944689385, 0.24193583349412298, 0.10804901301679279, 0.24311027928778375, 0.02114002428589424, 0.04932672333375323, 0.048152277540092436, 0.9190794802653675, 0.8987994123658973, 0.9648017089740017, 0.2485631628091584, 0.04063051699765089, 0.1529619463440975, 0.16013203757897704, 0.25334322363241146, 0.05736072987903656, 0.08365106440692831, 0.989573049862539, 0.3045332938791174, 0.18719018981560426, 0.21722443668900346, 0.20046113610850158, 0.01885871315306461, 0.02933577601587828, 0.020954125725627343, 0.022351067440669167, 0.9760400526743801, 0.2140808429462463, 0.04940327144913376, 0.29230268940737475, 0.061754089311417196, 0.22849013045224364, 0.051461741092847665, 0.00617540893114172, 0.0967480732545536, 0.32248152814618236, 0.17759852274717292, 0.1308620693926537, 0.15890394140536523, 0.013086206939265372, 0.0916034485748576, 0.07197413816595954, 0.03365024641525381, 0.9530869215897583, 0.828326917118176, 0.08595845366320694, 0.08595845366320694, 0.9604308936646754, 0.07313204885922922, 0.15956083387468195, 0.013296736156223496, 0.03324184039055874, 0.13296736156223496, 0.5717596547176104, 0.013296736156223496, 0.8330239843817768, 0.02259048093238717, 0.02823810116548396, 0.01411905058274198, 0.10165716419574226, 0.9555333283849299, 0.9482329722037561, 0.5366595883046752, 0.08786362225529512, 0.7126716027373937, 0.05857574817019674, 0.13667674573045907, 0.9499475121857386, 0.3430186665102007, 0.14913855065660897, 0.08202620286113493, 0.3225121157949169, 0.05406272461302076, 0.02237078259849135, 0.026099246364906573, 0.0018642318832076123, 0.12707484361890162, 0.12707484361890162, 0.681583252137745, 0.05776129255404618, 0.9222777495439265, 0.20822843068436594, 0.7496223504637174, 0.020822843068436594, 0.9842309060886473, 0.944042151591208, 0.7679613616331051, 0.33219273791757353, 0.06151717368843954, 0.24606869475375817, 0.012303434737687908, 0.35679960739294936, 0.7284998320596013, 0.060041194949967146, 0.084057672929954, 0.004002746329997809, 0.06404394127996495, 0.032021970639982474, 0.024016477979986857, 0.9377348417999118, 0.9812694859030272, 0.8847684670750086, 0.35933595299336313, 0.08829397702122636, 0.1622145159227182, 0.061600449084576535, 0.11704085326069542, 0.19712143707064492, 0.008213393211276872, 0.006160044908457654, 0.9117981689969067, 0.13107791701402127, 0.8192369813376329, 0.8662736598481838, 0.9302960166556927, 0.9808680469156207, 0.9053719329839708, 0.0709894119686149, 0.9228623555919937, 0.9366280030924953, 0.9584985449285466, 0.07322950937520042, 0.06787125259164918, 0.19825550099139627, 0.49295962408671506, 0.11430947804909335, 0.05179648224099542, 0.8511552213647169, 0.36128810994619054, 0.10481815535475898, 0.10258798183657261, 0.12042936998206351, 0.0022301735181863612, 0.20963631070951796, 0.03568277629098178, 0.06244485850921812, 0.9204637382620067, 0.07768839045773447, 0.11221656399450536, 0.7509877744247666, 0.00863204338419272, 0.0431602169209636, 0.02112440941488512, 0.08449763765954048, 0.7604787389358643, 0.1056220470744256, 0.8542355354056737, 0.0683388428324539, 0.05125413212434042, 0.017084710708113474, 0.38194020908540877, 0.06094790570511842, 0.20857727730196082, 0.14221177997860965, 0.05688471199144386, 0.07584628265525847, 0.023024764377489182, 0.05011272246865292, 0.10262943015433239, 0.31199346766917047, 0.24220545516422443, 0.25246839817965766, 0.0020525886030866476, 0.07799836691729262, 0.010262943015433238, 0.40092879180977536, 0.19393764813124018, 0.1137518897692851, 0.07272661804921507, 0.06899704789284507, 0.018647850781850016, 0.1286701703947651, 0.37715840242496596, 0.1786539800960365, 0.33745751795918005, 0.1091774322809112, 0.9598767153379063, 0.025330692386424387, 0.07599207715927316, 0.854910868041823, 0.04432871167624267, 0.06284517975584919, 0.738430862131228, 0.17282424432858526, 0.8270208074252396, 0.14594484836915994, 0.18680388246782273, 0.7939165004882466, 0.8380519425684562, 0.03192578828832214, 0.07183302364872482, 0.04788868243248321, 0.33749285728189193, 0.1274448551973578, 0.16284620386329052, 0.1534058442190418, 0.03540134866593272, 0.030681168843808358, 0.03540134866593272, 0.11564440564204688, 0.9917533875800656, 0.007456792387820043, 0.695916622132041, 0.30343283998174303, 0.286293083168235, 0.019086205544548998, 0.1240603360395685, 0.47715513861372494, 0.07634482217819599, 0.0047715513861372495, 0.009543102772274499, 0.50319769197887, 0.9729530374147017, 0.9482612114521859, 0.8673254777036739, 0.16939912500857018, 0.4085508309030222, 0.2366605422913848, 0.024911636030672084, 0.04982327206134417, 0.09217305331348671, 0.014946981618403252, 0.990874802529879, 0.1737357850803389, 0.05791192836011297, 0.20269174926039538, 0.4488174447908755, 0.11582385672022594, 0.1001527438490291, 0.1001527438490291, 0.7511455788677183, 0.007996670925070526, 0.7736779120005735, 0.06397336740056421, 0.04198252235662026, 0.10995422521971975, 0.01914260947830558, 0.41730888662706167, 0.11102713497417237, 0.053599306539255626, 0.0957130473915279, 0.3024532297572282, 0.05835439556296841, 0.1860046358569618, 0.09482589278982366, 0.3100077264282697, 0.0036471497226855257, 0.018235748613427628, 0.09482589278982366, 0.2297704325291881, 0.9480539450945141, 0.9401079766870765, 0.02424542378809808, 0.02424542378809808, 0.2182088140928827, 0.02424542378809808, 0.6061355947024519, 0.09698169515239231, 0.9340644045583997, 0.9134577701858342, 0.9807618134154279, 0.88681983455744, 0.9071492702362657, 0.08246811547602415, 0.49961395295813904, 0.1078461836781886, 0.18047728697166254, 0.12105183882245658, 0.0539230918390943, 0.023109896502468984, 0.014306126406290325, 0.34386328147189443, 0.06931631365638978, 0.15698106328064745, 0.040774302150817524, 0.14678748774294306, 0.11960461964239806, 0.07883031749158054, 0.04349258896087202, 0.35925261437231204, 0.019344371543124496, 0.0552696329803557, 0.008290444947053355, 0.450447508789899, 0.052506151331337916, 0.008290444947053355, 0.04421570638428456, 0.050860743996635205, 0.127151859991588, 0.050860743996635205, 0.1398670459907468, 0.6294017069583607, 0.9503419061648817, 0.831544817152563, 0.06652358537220504, 0.03326179268610252, 0.1139977773814694, 0.8142698384390672, 0.04885619030634403, 0.6811790317012087, 0.02850121471553175, 0.1026043729759143, 0.04845206501640397, 0.005700242943106349, 0.014250607357765874, 0.07695327973193572, 0.039901700601744444, 0.9486150994203655, 0.9175490359188441, 0.39297532698980525, 0.06279993118965412, 0.18459373713322572, 0.03139996559482706, 0.11608472128996669, 0.18554525124215987, 0.022836338614419676, 0.0038060564357366125, 0.4311026274458214, 0.09687699493164525, 0.41657107820607464, 0.021797323859620184, 0.033906948226075845, 0.9288389715571829, 0.6417722030731661, 0.07888449996107666, 0.04278481353821107, 0.017381330499898248, 0.001337025423069096, 0.07219937284573118, 0.05749209319197113, 0.08958070334562943, 0.3023862137062156, 0.11561825818178831, 0.1511931068531078, 0.272740506480116, 0.068185126620029, 0.0889371216782987, 0.8172612517056858, 0.11675160738652654, 0.3929069930717248, 0.09388043197288999, 0.045201689468428514, 0.15299033358545036, 0.31293477324296665, 0.05516159199716591, 0.13790397999291476, 0.7998430839589057, 0.009193598666194317, 0.7432083633290567, 0.16046544208240998, 0.09290104541613209, 0.9183446769571785, 0.08119366362831458, 0.7956979035574829, 0.11367112907964042, 0.11740921147388338, 0.5980531709450935, 0.011007113575676566, 0.03669037858558855, 0.11740921147388338, 0.06971171931261826, 0.05503556787838283, 0.7259167398974871, 0.04760109769819587, 0.002380054884909794, 0.0357008232736469, 0.13804318332476803, 0.04760109769819587, 0.06581566225554054, 0.18647770972403155, 0.7349415618535361, 0.2837679202886984, 0.709419800721746, 0.28878069346127005, 0.6930736643070481, 0.8259532697999353, 0.8752082689666716, 0.979111964409352, 0.01748414222159557, 0.4156565985646423, 0.026183092822969593, 0.07527639186603759, 0.39929216555028635, 0.003272886602871199, 0.08182216507177999, 0.9456249354415971, 0.2706247931816938, 0.05262148756310713, 0.48862809880028046, 0.05262148756310713, 0.0037586776830790805, 0.0037586776830790805, 0.13155371890776782, 0.0883780522182628, 0.23165762172362822, 0.00669530698623203, 0.28388101621623807, 0.1606873676695687, 0.002678122794492812, 0.001339061397246406, 0.2222841919429034, 0.8441380176035621, 0.9842367127970001, 0.06084266427887868, 0.12168532855775736, 0.7909546356254228, 0.2861623821562582, 0.004471287221191535, 0.5902099131972826, 0.04471287221191535, 0.07154059553906456, 0.06500013908237529, 0.01625003477059382, 0.02785720246387512, 0.44107237234468943, 0.26928629048412617, 0.18339324955384453, 0.8694897608014929, 0.017389795216029857, 0.09564387368816422, 0.017389795216029857, 0.09345801970164341, 0.09345801970164341, 0.03115267323388114, 0.46729009850821707, 0.3115267323388114, 0.03115267323388114, 0.829505616889193, 0.014707546398744557, 0.10001131551146299, 0.02353207423799129, 0.029415092797489113, 0.9480720132917171, 0.06202393685297804, 0.20515609882138888, 0.35783040492102713, 0.2958064680680491, 0.07633715304981913, 0.9555030111005445, 0.1506005655945124, 0.1561783643202351, 0.4183349044292011, 0.2733121375604114, 0.9876989905911807, 0.4321331501150957, 0.11414837927568565, 0.07338110096294077, 0.37505896047725285, 0.17614741005478715, 0.07771209267122962, 0.7097704463972306, 0.03108483706849185, 0.5455902755713827, 0.05443244048624005, 0.04430547481438143, 0.1329164244431443, 0.20253931343717227, 0.018988060634734898, 0.3037555028279676, 0.6454804435094311, 0.1604107158183264, 0.5786243677732488, 0.0114579082727376, 0.028644770681843998, 0.21770025718201438, 0.8633957337239486, 0.9870496492237107, 0.8510821610659276, 0.03765850270203219, 0.10544380756569015, 0.5801677256436848, 0.47425545323730567, 0.14926343505906273, 0.13444295214539692, 0.0698679908787102, 0.0031758177672141005, 0.09633313893882771, 0.038109813206569206, 0.033875389516950405, 0.9530838595106911, 0.9185050758532551, 0.07157182409246145, 0.22812636642429718, 0.5676632838930186, 0.042442114683590174, 0.09549475803807789, 0.010610528670897543, 0.015915793006346317, 0.037136850348141404, 0.3431548377848931, 0.14129905085260303, 0.04037115738645801, 0.060556736079687014, 0.41380436321119457, 0.3063828139116906, 0.17200438675744034, 0.10033589227517353, 0.3189248004460873, 0.005375137086170011, 0.043001096689360085, 0.023292260706736713, 0.030459110154963394, 0.2857391368013684, 0.07722679373009958, 0.548310235483707, 0.08494947310310953, 0.9502274984739084, 0.738589886325347, 0.020952904576605588, 0.01571467843245419, 0.04714403529736257, 0.10214540981095224, 0.020952904576605588, 0.05500137451358967, 0.3011858283858948, 0.11083638484600929, 0.024094866270871585, 0.03614229940630738, 0.36865145394433524, 0.0578276790500918, 0.04818973254174317, 0.05541819242300464, 0.9553685826913996, 0.6221987264949437, 0.20739957549831456, 0.08295983019932583, 0.041479915099662916, 0.9512425708792414, 0.850877585999523, 0.10635969824994038, 0.959799958869222, 0.938888345913385, 0.9586329845128955, 0.05665511339575616, 0.12876162135399127, 0.0309027891249579, 0.7622687984156282, 0.020601859416638602, 0.0025752324270798253, 0.9014095358772535, 0.4635021867101037, 0.039567259841106414, 0.039567259841106414, 0.06782958829903957, 0.3843676670278909, 0.09251762449156314, 0.9066727200173188, 0.9814338666256478, 0.5114468087400742, 0.08592306386833247, 0.24958604266515622, 0.03273259575936475, 0.11456408515777664, 0.31335835379698945, 0.14843290443015292, 0.46179125822714234, 0.06597017974673462, 0.5401658207862386, 0.05592304968139883, 0.005083913607399893, 0.14743349461459693, 0.03685837365364923, 0.13599468899794714, 0.061006963288798725, 0.017793697625899628, 0.02911481438929114, 0.25232839137385654, 0.19409876259527425, 0.053377159713700426, 0.28629567482802953, 0.15527901007621941, 0.02911481438929114, 0.9308546613216553, 0.9596901814613964, 0.922288956896132, 0.07017415976383613, 0.9458534189008038, 0.16153562309245162, 0.14134367020589517, 0.4522997446588645, 0.11307493616471613, 0.0848062021235371, 0.04846068692773549, 0.8991948805966692, 0.9148079244416751, 0.0717496411326804, 0.22326608599515285, 0.11996386710187318, 0.2116029322491374, 0.2082706026074187, 0.13162702084788863, 0.07664358175953008, 0.028324801954608944, 0.4111753055397637, 0.03795464358828588, 0.06958351324519078, 0.0664206262795003, 0.23721652242678676, 0.00632577393138098, 0.167633009181596, 0.2748960900483034, 0.04581601500805057, 0.5268841725925816, 0.1374480450241517, 0.05334568034121212, 0.906876565800606, 0.9688520273669425, 0.9416609130524164, 0.17184907566193308, 0.06168941177607854, 0.008812773110868363, 0.5552047059847068, 0.017625546221736725, 0.18066184877280145, 0.98326785615728, 0.9493411129031736, 0.5911030146321802, 0.1725580229050464, 0.13217210265067383, 0.012850065535482178, 0.08995045874837525, 0.41795612219044664, 0.10132269628859313, 0.4686174703347432, 0.9352871654732677, 0.3047113439093796, 0.3498537652292877, 0.21442650126956342, 0.011285605329977022, 0.09028484263981618, 0.011285605329977022, 0.011285605329977022, 0.8867204470922891, 0.9076797910057045, 0.8691500647000578, 0.9732843946084957, 0.5956422209145078, 0.06071284345409584, 0.15096166480477885, 0.08696704602883998, 0.07548083240238943, 0.0180497642701366, 0.011486213626450564, 0.3906409924630315, 0.05051392143918511, 0.18016631979976022, 0.07071949001485915, 0.1986880909941281, 0.08418986906530851, 0.025256960719592554, 0.8587016409577466, 0.13210794476273025, 0.014848643868190773, 0.980010495300591, 0.09872633947522866, 0.8462257669305314, 0.04231128834652657, 0.019320722925909962, 0.966036146295498, 0.08208566021624536, 0.8618994322705762, 0.8832504632798321, 0.3792376199889806, 0.5688564299834709, 0.8439885867735811, 0.124336971752657, 0.8348339531964112, 0.03552484907218771, 0.9764982509034216, 0.6930907151519015, 0.04047245051981906, 0.0885334855121042, 0.16441933023676494, 0.007588584472466075, 0.007588584472466075, 0.42346066437330765, 0.0691364349997237, 0.1137870492703786, 0.11522739166620617, 0.1267501308328268, 0.051852326249792774, 0.07345746218720643, 0.025926163124896387, 0.9526226846024011, 0.9512350566762554, 0.9631049461572629, 0.08860814813377266, 0.42706222215293704, 0.024694074070067788, 0.23967777773889326, 0.07843999998727415, 0.026146666662424718, 0.024694074070067788, 0.09006074072612959, 0.07975907085992544, 0.8846006040828095, 0.029003298494518343, 0.8614377143464808, 0.09461952049007083, 0.060212422130045073, 0.8343721352306246, 0.09368063932820941, 0.8431257539538847, 0.9080797293686041, 0.11921649280267503, 0.8345154496187253, 0.41524127224854906, 0.16698000096803356, 0.14224222304684342, 0.09895111168476063, 0.07509682583218441, 0.04064063515624097, 0.01855333344089262, 0.041524127224854906, 0.2890742406616059, 0.11460339718537038, 0.12828738490899672, 0.046183458567238815, 0.12315588951263684, 0.12144539104718355, 0.13170838183990327, 0.046183458567238815, 0.9296611326249018, 0.06324225392006134, 0.9272575873767157, 0.8974933145905035, 0.04986073969947242, 0.529038869968511, 0.8944049046980059, 0.9087919852688133, 0.9037614255273088, 0.9455197991445992, 0.5395334514986039, 0.03736744439297743, 0.03277845999383985, 0.09833537998151955, 0.05637895118940454, 0.1737258379673512, 0.06031236638866532, 0.001311138399753594, 0.947379589622152, 0.6820955868084748, 0.8276929683591666, 0.06396377390039877, 0.23125364410144172, 0.38378264340239265, 0.029521741800184048, 0.2755362568017178, 0.014760870900092024, 0.32619232851292335, 0.07527515273375154, 0.0047046970458594715, 0.47046970458594717, 0.06429752629341277, 0.05802459689893348, 0.5900344767809971, 0.19851627256183077, 0.17645890894384958, 0.0275717045224765, 0.08374141750471918, 0.5473099786915575, 0.05981529821765656, 0.1375751859006101, 0.026916884197945454, 0.1166398315244303, 0.026916884197945454, 0.9575415438540048, 0.7679244775084997, 0.9345539625312325, 0.9293327283616247, 0.8397691605021633, 0.37694986571989, 0.06291383897446537, 0.14075638550219371, 0.12582767794893074, 0.1396900492483892, 0.06557967960897661, 0.0490514676750069, 0.038921273263864166, 0.9325189404130538, 0.9155095601996186, 0.8529488506125691, 0.027914689656411352, 0.009304896552137117, 0.024813057472365646, 0.07443917241709694, 0.009304896552137117, 0.5295774945646995, 0.03154929754853529, 0.26140846540214957, 0.036056340055468906, 0.07211268011093781, 0.051830988829736545, 0.015774648774267645, 0.8717030012243261, 0.6354388446944963, 0.33095773161171677, 0.030889388283760234, 0.0075968457413154505, 0.5279807790214238, 0.36844701845379935, 0.0911621488957854, 0.0037984228706577253, 0.0414693799853451, 0.6496869531037398, 0.26263940657385226, 0.027646253323563397, 0.5652635184495189, 0.39504211800733424, 0.009635173609934981, 0.02569379629315995, 0.05363180223163947, 0.7367988068489518, 0.10598665679109705, 0.083001598691823, 0.0025538953443637845, 0.019154215082728382, 0.371869543964565, 0.11663181151615902, 0.09296738599114125, 0.3583470150931263, 0.01690316108929841, 0.01690316108929841, 0.001690316108929841, 0.025354741633947613, 0.6773145423733473, 0.02955554366720061, 0.0024629619722667177, 0.04433331550080091, 0.16255549016960336, 0.0837407070570684, 0.9304459057821023, 0.05169143921011679, 0.9229701522773195, 0.09823443542898098, 0.19646887085796197, 0.13097924723864132, 0.5566618007642256, 0.9683797109370637, 0.9693929312467559, 0.009458886871912707, 0.0013512695531303868, 0.9891293128914431, 0.09522573552733567, 0.9038374897509827, 0.04638973247096284, 0.9476759633353838, 0.007298597996033895, 0.05838878396827116, 0.9342205434923385, 0.9901270669624295, 0.8452404387454987, 0.05376731732867605, 0.7850028329986704, 0.15054848852029293, 0.19439558673542442, 0.31222921931043557, 0.00598140266878229, 0.1154410715074982, 0.30146269450662744, 0.03050515361078968, 0.03947725761396312, 0.0036259833511388894, 0.607352211315764, 0.2254152983291343, 0.03867715574548149, 0.036259833511388895, 0.014503933404555558, 0.03867715574548149, 0.03565550295286574, 0.9681811007357256, 0.9908821410627814, 0.5428000971110263, 0.13957716782854962, 0.08626644400514526, 0.10080573232061918, 0.004846429438491307, 0.03780214962023219, 0.04361786494642176, 0.04458715083412002, 0.16366703972329835, 0.014878821793027124, 0.5802740499280579, 0.22318232689540685, 0.9708384358486575, 0.8834415633681275, 0.06795704333600981, 0.22006958166602658, 0.04401391633320532, 0.25528071473259084, 0.2787548034436337, 0.008802783266641063, 0.10269913811081241, 0.0894949632108508, 0.0014671305444401773, 0.9307701382897198, 0.9807667642345056, 0.022808529400802455, 0.2684661901207537, 0.13423309506037684, 0.14621819283362475, 0.047940391092991724, 0.306818502995147, 0.0527344302022909, 0.04314635198369255, 0.9068728086205786, 0.07773195502462103, 0.9383406988534406, 0.9605144996057006, 0.8466985469536353, 0.3197859355127442, 0.06395718710254884, 0.11725484302133955, 0.0532976559187907, 0.3944026537990512, 0.0532976559187907, 0.9448760548120338, 0.886392994110235, 0.8981177777486694, 0.1752258927938779, 0.8060391068518383, 0.9827429678338768, 0.9452404817083806, 0.752154449376556, 0.2148669908667851, 0.04523515597195476, 0.15832304590184165, 0.1922494128808077, 0.01130878899298869, 0.36188124777563807, 0.9076212687650469, 0.9117043936487168, 0.06360728327781745, 0.9767341142119886, 0.9433986239078558, 0.0358252641990325, 0.011941754733010833, 0.210441097925478, 0.19789825102925745, 0.004180948965406848, 0.013936496551356158, 0.4599043861947532, 0.018117445516763007, 0.0961618262043575, 0.11592940950316073, 0.11592940950316073, 0.20799099940272955, 0.21310553217492784, 0.20117162237313185, 0.08012768009777287, 0.06307923752377864, 0.9297139662386562, 0.7429532564145903, 0.24314833846295683, 0.9252108999867406, 0.04869531052561792, 0.9343919824998885, 0.9916805353693159, 0.14702335689086637, 0.11026751766814978, 0.6983609452316153, 0.06125741878899007, 0.918861281834851, 0.9538087834494948, 0.542423612347222, 0.3390147577170138, 0.09040393539120369, 0.02260098384780092, 0.8693155506600727, 0.018898164144784187, 0.006299388048261396, 0.03149694024130698, 0.06929326853087536, 0.6836565922059149, 0.07466057002677015, 0.07319663728114721, 0.061485175316163654, 0.03220652040370477, 0.0629491080617866, 0.002927865491245888, 0.007319663728114721, 0.9118329626053129, 0.4850996888975798, 0.027505652463264835, 0.0775159296692009, 0.0750154158089041, 0.2450503583090867, 0.045009249485342455, 0.04250873562504565, 0.5082180897113246, 0.4878893661228716, 0.3148911325358411, 0.6560231927830023, 0.08398229635105298, 0.9070088005913722, 0.6854074912090207, 0.01101941304194567, 0.04848541738456095, 0.1564756651956285, 0.017631060867113073, 0.055097065209728346, 0.024242708692280474, 0.9584049027613109, 0.9288877767215369, 0.9563356517547901, 0.24130195031730248, 0.15935034454916203, 0.031870068909832405, 0.4552866987118915, 0.004552866987118914, 0.009105733974237829, 0.0956102067294972, 0.9334896574333208, 0.9149774076041045, 0.6806651607569159, 0.9251387008830829, 0.8809827662910364, 0.09113614823700378, 0.021690187836700427, 0.9760584526515194, 0.38216594576018115, 0.10478743674069484, 0.08321355270584589, 0.13736840446679324, 0.11315282034604442, 0.08981780292059557, 0.060759101975697005, 0.02861841759724859, 0.26355681578071277, 0.10572053062390173, 0.12656683243706546, 0.06551694855565741, 0.375233432636947, 0.02978043116166246, 0.03424749583591183, 0.12823325877540998, 0.34195535673442656, 0.05051613224485847, 0.47018861550983654, 0.003885856326527575, 0.00777171265305515], \"Term\": [\"\\u0430\\u0432\\u0442\\u043e\\u043a\\u0430\\u0440\\u0442\\u0430\", \"\\u0430\\u0432\\u0442\\u043e\\u0441\\u0430\\u043b\\u043e\\u043d\", \"\\u0430\\u0434\\u0438\\u043b\\u0435\", \"\\u0430\\u043a\\u0442\\u0438\\u0432\\u0438\\u0440\\u043e\\u0432\\u0430\\u0442\\u044c\", \"\\u0430\\u043a\\u0442\\u0438\\u0432\\u0438\\u0440\\u043e\\u0432\\u0430\\u0442\\u044c\", \"\\u0430\\u043a\\u0442\\u0438\\u0432\\u0438\\u0440\\u043e\\u0432\\u0430\\u0442\\u044c\", \"\\u0430\\u043a\\u0442\\u0438\\u0432\\u0438\\u0440\\u043e\\u0432\\u0430\\u0442\\u044c\", \"\\u0430\\u043a\\u0442\\u0438\\u0432\\u0438\\u0440\\u043e\\u0432\\u0430\\u0442\\u044c\", \"\\u0430\\u043a\\u0442\\u0438\\u0432\\u043d\\u043e\", \"\\u0430\\u043a\\u0442\\u0438\\u0432\\u043d\\u043e\", \"\\u0430\\u043a\\u0442\\u0438\\u0432\\u043d\\u043e\", \"\\u0430\\u043a\\u0446\\u0438\\u044f\", \"\\u0430\\u043a\\u0446\\u0438\\u044f\", \"\\u0430\\u043b\\u044c\\u0444\", \"\\u0430\\u043d\\u0430\\u0441\\u0442\\u0430\\u0441\\u0438\\u044f\", \"\\u0430\\u0440\\u0435\\u043a\\u0435\\u043b\\u044f\\u043d\", \"\\u0430\\u0440\\u0435\\u0441\\u0442\", \"\\u0430\\u0440\\u0438\\u0444\\u043c\\u0435\\u0442\\u0438\\u043a\\u0430\", \"\\u0430\\u0441\\u0432\", \"\\u0431\\u0430\\u0437\\u0430\", \"\\u0431\\u0430\\u0437\\u0430\", \"\\u0431\\u0430\\u0437\\u0430\", \"\\u0431\\u0430\\u0437\\u0430\", \"\\u0431\\u0430\\u0438\\u043c\\u0443\\u0445\\u0431\\u0435\\u0442\\u043e\\u0432\", \"\\u0431\\u0430\\u043b\\u043b\", \"\\u0431\\u0430\\u043b\\u043b\", \"\\u0431\\u0430\\u043b\\u043b\", \"\\u0431\\u0430\\u043d\\u043a\", \"\\u0431\\u0430\\u043d\\u043a\", \"\\u0431\\u0430\\u043d\\u043a\", \"\\u0431\\u0430\\u043d\\u043a\", \"\\u0431\\u0430\\u043d\\u043a\", \"\\u0431\\u0430\\u043d\\u043a\", \"\\u0431\\u0430\\u043d\\u043a\", \"\\u0431\\u0430\\u043d\\u043a\", \"\\u0431\\u0430\\u043d\\u043a\\u043e\\u043c\\u0430\\u0442\", \"\\u0431\\u0430\\u043d\\u043a\\u043e\\u043c\\u0430\\u0442\", \"\\u0431\\u0430\\u043d\\u043a\\u043e\\u043c\\u0430\\u0442\", \"\\u0431\\u0430\\u043d\\u043a\\u043e\\u043c\\u0430\\u0442\", \"\\u0431\\u0430\\u043d\\u043a\\u043e\\u043c\\u0430\\u0442\", \"\\u0431\\u0430\\u043d\\u043a\\u0445\\u043e\\u0440\\u043e\\u0448\\u0438\\u0435\", \"\\u0431\\u0435\\u0434\\u0430\", \"\\u0431\\u0435\\u0434\\u0430\", \"\\u0431\\u0435\\u0437\\u0432\\u044b\\u0445\\u043e\\u0434\\u043d\\u044b\\u0439\", \"\\u0431\\u0435\\u0437\\u0432\\u044b\\u0445\\u043e\\u0434\\u043d\\u044b\\u0439\", \"\\u0431\\u0435\\u0437\\u0432\\u044b\\u0445\\u043e\\u0434\\u043d\\u044b\\u0439\", \"\\u0431\\u0435\\u0437\\u043e\\u0431\\u0440\\u0430\\u0437\\u043d\\u044b\\u0439\", \"\\u0431\\u0435\\u0437\\u043e\\u0431\\u0440\\u0430\\u0437\\u043d\\u044b\\u0439\", \"\\u0431\\u0435\\u0441\\u043f\\u043b\\u0430\\u0442\\u043d\\u043e\\u0441\\u0442\\u044c\", \"\\u0431\\u0435\\u0441\\u043f\\u043b\\u0430\\u0442\\u043d\\u043e\\u0441\\u0442\\u044c\", \"\\u0431\\u0435\\u0441\\u043f\\u043b\\u0430\\u0442\\u043d\\u044b\\u0439\", \"\\u0431\\u0435\\u0441\\u043f\\u043b\\u0430\\u0442\\u043d\\u044b\\u0439\", \"\\u0431\\u0435\\u0441\\u043f\\u043b\\u0430\\u0442\\u043d\\u044b\\u0439\", \"\\u0431\\u0435\\u0441\\u043f\\u043b\\u0430\\u0442\\u043d\\u044b\\u0439\", \"\\u0431\\u0435\\u0441\\u043f\\u043b\\u0430\\u0442\\u043d\\u044b\\u0439\", \"\\u0431\\u0435\\u0441\\u043f\\u043b\\u0430\\u0442\\u043d\\u044b\\u0439\", \"\\u0431\\u043b\\u0430\\u0433\\u043e\\u0434\\u0430\\u0440\\u043d\\u043e\\u0441\\u0442\\u044c\", \"\\u0431\\u043b\\u0430\\u0433\\u043e\\u0434\\u0430\\u0440\\u043d\\u043e\\u0441\\u0442\\u044c\", \"\\u0431\\u043b\\u0430\\u0433\\u043e\\u0434\\u0430\\u0440\\u043d\\u043e\\u0441\\u0442\\u044c\", \"\\u0431\\u043b\\u043e\\u043a\\u0438\\u0440\\u043e\\u0432\\u043a\\u0430\", \"\\u0431\\u043b\\u043e\\u043a\\u0438\\u0440\\u043e\\u0432\\u043a\\u0430\", \"\\u0431\\u043b\\u043e\\u043a\\u0438\\u0440\\u043e\\u0432\\u043a\\u0430\", \"\\u0431\\u043b\\u043e\\u043a\\u0438\\u0440\\u043e\\u0432\\u043a\\u0430\", \"\\u0431\\u043e\\u043b\\u044c\\u043d\\u0438\\u0447\\u043d\\u044b\\u0439\", \"\\u0431\\u043e\\u043b\\u044c\\u0448\\u043e\\u0439\", \"\\u0431\\u043e\\u043b\\u044c\\u0448\\u043e\\u0439\", \"\\u0431\\u043e\\u043b\\u044c\\u0448\\u043e\\u0439\", \"\\u0431\\u043e\\u043d\\u0443\\u0441\", \"\\u0431\\u043e\\u043d\\u0443\\u0441\", \"\\u0431\\u043e\\u043d\\u0443\\u0441\", \"\\u0431\\u043e\\u043d\\u0443\\u0441\\u043d\\u043e\\u0439\", \"\\u0431\\u043e\\u043d\\u0443\\u0441\\u043d\\u044b\\u0439\", \"\\u0431\\u0440\\u0430\\u0442\", \"\\u0431\\u0440\\u0430\\u0442\\u044c\", \"\\u0431\\u0440\\u0430\\u0442\\u044c\", \"\\u0431\\u0440\\u0430\\u0442\\u044c\", \"\\u0431\\u0440\\u0430\\u0442\\u044c\", \"\\u0431\\u0440\\u0430\\u0442\\u044c\", \"\\u0431\\u0440\\u0430\\u0442\\u044c\", \"\\u0431\\u0440\\u0430\\u0442\\u044c\", \"\\u0431\\u044b\\u0441\\u0442\\u0440\\u043e\", \"\\u0431\\u044b\\u0441\\u0442\\u0440\\u043e\", \"\\u0431\\u044b\\u0441\\u0442\\u0440\\u043e\", \"\\u0431\\u044b\\u0441\\u0442\\u0440\\u043e\", \"\\u0431\\u044b\\u0441\\u0442\\u0440\\u043e\", \"\\u0431\\u044e\\u0440\\u043e\", \"\\u0432\\u0430\\u043b\\u044e\\u0442\\u0430\", \"\\u0432\\u0430\\u043b\\u044e\\u0442\\u0430\", \"\\u0432\\u0430\\u043b\\u044e\\u0442\\u0430\", \"\\u0432\\u0430\\u043b\\u044e\\u0442\\u043d\\u043e\\u0439\", \"\\u0432\\u0430\\u0440\\u0438\\u0430\\u043d\\u0442\", \"\\u0432\\u0430\\u0440\\u0438\\u0430\\u043d\\u0442\", \"\\u0432\\u0430\\u0440\\u0438\\u0430\\u043d\\u0442\", \"\\u0432\\u0430\\u0440\\u0438\\u0430\\u043d\\u0442\", \"\\u0432\\u0430\\u0440\\u0438\\u0430\\u043d\\u0442\", \"\\u0432\\u0430\\u0448\", \"\\u0432\\u0430\\u0448\", \"\\u0432\\u0430\\u0448\", \"\\u0432\\u0430\\u0448\", \"\\u0432\\u0430\\u0448\", \"\\u0432\\u0430\\u0448\", \"\\u0432\\u0430\\u0448\", \"\\u0432\\u0430\\u0448\", \"\\u0432\\u0435\\u0434\\u043e\\u043c\\u043e\", \"\\u0432\\u0435\\u0440\\u0430\", \"\\u0432\\u0435\\u0440\\u0430\", \"\\u0432\\u0435\\u0448\\u043d\\u044f\\u043a\", \"\\u0432\\u0435\\u0448\\u043d\\u044f\\u043a\", \"\\u0432\\u0435\\u0448\\u043d\\u044f\\u043a\\u043e\\u0432\\u0441\\u043a\\u0438\\u0439\", \"\\u0432\\u0438\\u0434\\u043d\\u044b\\u0439\", \"\\u0432\\u043d\\u0435\\u0441\\u0442\\u0438\", \"\\u0432\\u043d\\u0435\\u0441\\u0442\\u0438\", \"\\u0432\\u043d\\u0435\\u0441\\u0442\\u0438\", \"\\u0432\\u043d\\u0435\\u0441\\u0442\\u0438\", \"\\u0432\\u043d\\u0435\\u0441\\u0442\\u0438\", \"\\u0432\\u043d\\u0435\\u0441\\u0442\\u0438\", \"\\u0432\\u043d\\u0435\\u0441\\u0442\\u0438\", \"\\u0432\\u043d\\u0435\\u0441\\u0442\\u0438\", \"\\u0432\\u043d\\u0443\\u0442\\u0440\\u044c\", \"\\u0432\\u043e\\u0437\\u0432\\u0440\\u0430\\u0442\\u0438\\u0442\\u044c\", \"\\u0432\\u043e\\u0437\\u0432\\u0440\\u0430\\u0442\\u0438\\u0442\\u044c\", \"\\u0432\\u043e\\u0437\\u043c\\u043e\\u0436\\u043d\\u043e\\u0441\\u0442\\u044c\", \"\\u0432\\u043e\\u0437\\u043c\\u043e\\u0436\\u043d\\u043e\\u0441\\u0442\\u044c\", \"\\u0432\\u043e\\u0437\\u043c\\u043e\\u0436\\u043d\\u043e\\u0441\\u0442\\u044c\", \"\\u0432\\u043e\\u0437\\u043c\\u043e\\u0436\\u043d\\u043e\\u0441\\u0442\\u044c\", \"\\u0432\\u043e\\u0437\\u043c\\u043e\\u0436\\u043d\\u043e\\u0441\\u0442\\u044c\", \"\\u0432\\u043e\\u0437\\u043c\\u043e\\u0436\\u043d\\u043e\\u0441\\u0442\\u044c\", \"\\u0432\\u043e\\u0437\\u043c\\u043e\\u0436\\u043d\\u043e\\u0441\\u0442\\u044c\", \"\\u0432\\u043e\\u0437\\u043d\\u0430\\u0433\\u0440\\u0430\\u0436\\u0434\\u0435\\u043d\\u0438\\u0435\", \"\\u0432\\u043e\\u0437\\u043d\\u0430\\u0433\\u0440\\u0430\\u0436\\u0434\\u0435\\u043d\\u0438\\u0435\", \"\\u0432\\u043e\\u0437\\u043d\\u0430\\u0433\\u0440\\u0430\\u0436\\u0434\\u0435\\u043d\\u0438\\u0435\", \"\\u0432\\u043e\\u043f\\u0440\\u043e\\u0441\", \"\\u0432\\u043e\\u043f\\u0440\\u043e\\u0441\", \"\\u0432\\u043e\\u043f\\u0440\\u043e\\u0441\", \"\\u0432\\u043e\\u043f\\u0440\\u043e\\u0441\", \"\\u0432\\u043e\\u043f\\u0440\\u043e\\u0441\", \"\\u0432\\u043e\\u043f\\u0440\\u043e\\u0441\", \"\\u0432\\u043e\\u043f\\u0440\\u043e\\u0441\", \"\\u0432\\u043e\\u043f\\u0440\\u043e\\u0441\", \"\\u0432\\u043e\\u0441\\u0441\\u0442\\u0430\\u043d\\u043e\\u0432\\u043b\\u0435\\u043d\\u0438\\u0435\", \"\\u0432\\u043f\\u0440\\u0435\\u0434\\u044c\", \"\\u0432\\u0440\\u0435\\u043c\\u044f\", \"\\u0432\\u0440\\u0435\\u043c\\u044f\", \"\\u0432\\u0440\\u0435\\u043c\\u044f\", \"\\u0432\\u0440\\u0435\\u043c\\u044f\", \"\\u0432\\u0440\\u0435\\u043c\\u044f\", \"\\u0432\\u0440\\u0435\\u043c\\u044f\", \"\\u0432\\u0440\\u0435\\u043c\\u044f\", \"\\u0432\\u0440\\u0435\\u043c\\u044f\", \"\\u0432\\u0441\\u044f\\u043a\\u043e\\u0439\", \"\\u0432\\u0442\\u0431\", \"\\u0432\\u0442\\u0431\", \"\\u0432\\u0442\\u0431\", \"\\u0432\\u0442\\u0431\", \"\\u0432\\u0442\\u0431\", \"\\u0432\\u0442\\u0431\", \"\\u0432\\u0442\\u0431\", \"\\u0432\\u0442\\u0431\", \"\\u0432\\u0442\\u0431\\u043e\\u0444\\u043e\\u0440\\u043c\\u0438\\u0442\\u044c\", \"\\u0432\\u044b\\u0431\\u0440\\u0430\\u0442\\u044c\", \"\\u0432\\u044b\\u0431\\u0440\\u0430\\u0442\\u044c\", \"\\u0432\\u044b\\u0431\\u0440\\u0430\\u0442\\u044c\", \"\\u0432\\u044b\\u0431\\u0440\\u0430\\u0442\\u044c\", \"\\u0432\\u044b\\u0431\\u0440\\u0430\\u0442\\u044c\", \"\\u0432\\u044b\\u0431\\u0440\\u0430\\u0442\\u044c\", \"\\u0432\\u044b\\u0433\\u0440\\u0443\\u0436\\u0430\\u0442\\u044c\\u0441\\u044f\", \"\\u0432\\u044b\\u043f\\u0443\\u0441\\u043a\\u0430\\u0442\\u044c\", \"\\u0432\\u044b\\u0440\\u0430\\u0436\\u0430\\u0442\\u044c\", \"\\u0432\\u044b\\u0440\\u0430\\u0437\\u0438\\u0442\\u044c\", \"\\u0432\\u044b\\u0440\\u0430\\u0437\\u0438\\u0442\\u044c\", \"\\u0432\\u044b\\u0440\\u0430\\u0437\\u0438\\u0442\\u044c\", \"\\u0432\\u044b\\u0440\\u0430\\u0437\\u0438\\u0442\\u044c\", \"\\u0432\\u044b\\u0441\\u043e\\u043a\\u0438\\u044f\", \"\\u0433\\u0435\\u043d\\u0435\\u0440\\u0430\\u043b\\u044c\\u043d\\u044b\\u0439\", \"\\u0433\\u043e\\u0432\\u043e\\u0440\\u0438\\u0442\\u044c\", \"\\u0433\\u043e\\u0432\\u043e\\u0440\\u0438\\u0442\\u044c\", \"\\u0433\\u043e\\u0432\\u043e\\u0440\\u0438\\u0442\\u044c\", \"\\u0433\\u043e\\u0432\\u043e\\u0440\\u0438\\u0442\\u044c\", \"\\u0433\\u043e\\u0432\\u043e\\u0440\\u0438\\u0442\\u044c\", \"\\u0433\\u043e\\u0432\\u043e\\u0440\\u0438\\u0442\\u044c\", \"\\u0433\\u043e\\u0432\\u043e\\u0440\\u0438\\u0442\\u044c\", \"\\u0433\\u043e\\u0432\\u043e\\u0440\\u0438\\u0442\\u044c\", \"\\u0433\\u043e\\u0434\", \"\\u0433\\u043e\\u0434\", \"\\u0433\\u043e\\u0434\", \"\\u0433\\u043e\\u0434\", \"\\u0433\\u043e\\u0434\", \"\\u0433\\u043e\\u0434\", \"\\u0433\\u043e\\u0434\", \"\\u0433\\u043e\\u0434\", \"\\u0433\\u043e\\u0434\\u043e\\u0432\\u043e\\u0439\", \"\\u0433\\u043e\\u0434\\u043e\\u0432\\u043e\\u0439\", \"\\u0433\\u043e\\u0434\\u043e\\u0432\\u043e\\u0439\", \"\\u0433\\u043e\\u0434\\u043e\\u0432\\u043e\\u0439\", \"\\u0433\\u043e\\u0440\\u043e\\u0434\\u0441\\u043a\\u043e\\u0439\", \"\\u0433\\u0440\\u0430\\u043d\\u0438\\u0446\\u0435\\u0439\", \"\\u0433\\u0440\\u0430\\u043d\\u0438\\u0446\\u0435\\u0439\", \"\\u0433\\u0440\\u0430\\u0444\\u0438\\u043a\", \"\\u0433\\u0440\\u0430\\u0444\\u0438\\u043a\", \"\\u0433\\u0440\\u0430\\u0444\\u0438\\u043a\", \"\\u0433\\u0440\\u0430\\u0444\\u0438\\u043a\", \"\\u0433\\u0440\\u0430\\u0444\\u0438\\u043a\", \"\\u0434\\u0430\\u0431\\u044b\", \"\\u0434\\u0430\\u0431\\u044b\", \"\\u0434\\u0430\\u043b\\u044c\\u043d\\u0435\\u0438\\u0441\\u0430\\u0442\\u044c\", \"\\u0434\\u0430\\u043b\\u044c\\u043d\\u0435\\u0438\\u0441\\u0430\\u0442\\u044c\", \"\\u0434\\u0430\\u043b\\u044c\\u043d\\u0435\\u0438\\u0441\\u0430\\u0442\\u044c\", \"\\u0434\\u0430\\u043d\\u043d\\u044b\\u0439\", \"\\u0434\\u0430\\u043d\\u043d\\u044b\\u0439\", \"\\u0434\\u0430\\u043d\\u043d\\u044b\\u0439\", \"\\u0434\\u0430\\u043d\\u043d\\u044b\\u0439\", \"\\u0434\\u0430\\u043d\\u043d\\u044b\\u0439\", \"\\u0434\\u0430\\u043d\\u043d\\u044b\\u0439\", \"\\u0434\\u0430\\u043d\\u043d\\u044b\\u0439\", \"\\u0434\\u0430\\u043d\\u043d\\u044b\\u0439\", \"\\u0434\\u0430\\u0440\\u044c\\u044f\", \"\\u0434\\u0430\\u0442\\u044c\", \"\\u0434\\u0430\\u0442\\u044c\", \"\\u0434\\u0430\\u0442\\u044c\", \"\\u0434\\u0430\\u0442\\u044c\", \"\\u0434\\u0430\\u0442\\u044c\", \"\\u0434\\u0430\\u0442\\u044c\", \"\\u0434\\u0430\\u0442\\u044c\", \"\\u0434\\u0430\\u0442\\u044c\", \"\\u0434\\u0432\\u043e\\u0440\\u043d\\u0438\\u043a\", \"\\u0434\\u0434\\u0443\", \"\\u0434\\u0435\\u0431\\u0435\\u0442\\u043e\\u0432\\u043e\\u0439\", \"\\u0434\\u0435\\u0431\\u0435\\u0442\\u043e\\u0432\\u043e\\u0439\", \"\\u0434\\u0435\\u0431\\u0435\\u0442\\u043e\\u0432\\u043e\\u0439\", \"\\u0434\\u0435\\u0432\\u0443\\u0448\\u043a\\u0430\", \"\\u0434\\u0435\\u0432\\u0443\\u0448\\u043a\\u0430\", \"\\u0434\\u0435\\u0432\\u0443\\u0448\\u043a\\u0430\", \"\\u0434\\u0435\\u0432\\u0443\\u0448\\u043a\\u0430\", \"\\u0434\\u0435\\u0432\\u0443\\u0448\\u043a\\u0430\", \"\\u0434\\u0435\\u0432\\u0443\\u0448\\u043a\\u0430\", \"\\u0434\\u0435\\u043b\\u0430\\u0438\\u0442\", \"\\u0434\\u0435\\u043b\\u0430\\u0438\\u0442\", \"\\u0434\\u0435\\u043d\", \"\\u0434\\u0435\\u043d\\u0435\\u0436\\u043d\\u044b\\u0439\", \"\\u0434\\u0435\\u043d\\u0435\\u0436\\u043d\\u044b\\u0439\", \"\\u0434\\u0435\\u043d\\u0435\\u0436\\u043d\\u044b\\u0439\", \"\\u0434\\u0435\\u043d\\u0435\\u0436\\u043d\\u044b\\u0439\", \"\\u0434\\u0435\\u043d\\u0435\\u0436\\u043d\\u044b\\u0439\", \"\\u0434\\u0435\\u043d\\u0435\\u0436\\u043d\\u044b\\u0439\", \"\\u0434\\u0435\\u043d\\u044c\", \"\\u0434\\u0435\\u043d\\u044c\", \"\\u0434\\u0435\\u043d\\u044c\", \"\\u0434\\u0435\\u043d\\u044c\", \"\\u0434\\u0435\\u043d\\u044c\", \"\\u0434\\u0435\\u043d\\u044c\", \"\\u0434\\u0435\\u043d\\u044c\", \"\\u0434\\u0435\\u043d\\u044c\", \"\\u0434\\u0435\\u043d\\u044c\\u0433\\u0430\", \"\\u0434\\u0435\\u043d\\u044c\\u0433\\u0430\", \"\\u0434\\u0435\\u043d\\u044c\\u0433\\u0430\", \"\\u0434\\u0435\\u043d\\u044c\\u0433\\u0430\", \"\\u0434\\u0435\\u043d\\u044c\\u0433\\u0430\", \"\\u0434\\u0435\\u043d\\u044c\\u0433\\u0430\", \"\\u0434\\u0435\\u043d\\u044c\\u0433\\u0430\", \"\\u0434\\u0435\\u043d\\u044c\\u0433\\u0430\", \"\\u0434\\u0435\\u0442\\u0441\\u043a\\u0438\\u0439\", \"\\u0434\\u0435\\u0444\\u043e\\u043b\\u0442\", \"\\u0434\\u043a\\u043e\", \"\\u0434\\u043d\\u0435\\u044f\", \"\\u0434\\u043d\\u0435\\u044f\", \"\\u0434\\u043d\\u0435\\u044f\", \"\\u0434\\u043d\\u0435\\u044f\", \"\\u0434\\u043d\\u0435\\u044f\", \"\\u0434\\u043d\\u0435\\u044f\", \"\\u0434\\u043d\\u0435\\u044f\", \"\\u0434\\u043e\\u0431\\u0440\\u043e\\u0432\\u043e\\u043b\\u044c\\u043d\\u043e\\u0438\\u0442\\u044c\", \"\\u0434\\u043e\\u0431\\u0440\\u043e\\u0432\\u043e\\u043b\\u044c\\u043d\\u044b\\u0439\", \"\\u0434\\u043e\\u0432\\u0435\\u0440\\u0435\\u043d\\u043d\\u043e\\u0441\\u0442\\u044c\", \"\\u0434\\u043e\\u0432\\u043e\\u0434\\u0438\\u0442\\u044c\", \"\\u0434\\u043e\\u0433\\u043e\\u0432\\u043e\\u0440\", \"\\u0434\\u043e\\u0433\\u043e\\u0432\\u043e\\u0440\", \"\\u0434\\u043e\\u0433\\u043e\\u0432\\u043e\\u0440\", \"\\u0434\\u043e\\u0433\\u043e\\u0432\\u043e\\u0440\", \"\\u0434\\u043e\\u0433\\u043e\\u0432\\u043e\\u0440\", \"\\u0434\\u043e\\u0433\\u043e\\u0432\\u043e\\u0440\", \"\\u0434\\u043e\\u0433\\u043e\\u0432\\u043e\\u0440\", \"\\u0434\\u043e\\u0437\\u0432\\u0430\\u043d\\u0438\\u0432\\u0430\\u0442\\u044c\\u0441\\u044f\", \"\\u0434\\u043e\\u043a\\u0443\\u043c\\u0435\\u043d\\u0442\", \"\\u0434\\u043e\\u043a\\u0443\\u043c\\u0435\\u043d\\u0442\", \"\\u0434\\u043e\\u043a\\u0443\\u043c\\u0435\\u043d\\u0442\", \"\\u0434\\u043e\\u043a\\u0443\\u043c\\u0435\\u043d\\u0442\", \"\\u0434\\u043e\\u043a\\u0443\\u043c\\u0435\\u043d\\u0442\", \"\\u0434\\u043e\\u043a\\u0443\\u043c\\u0435\\u043d\\u0442\", \"\\u0434\\u043e\\u043a\\u0443\\u043c\\u0435\\u043d\\u0442\", \"\\u0434\\u043e\\u043b\\u0433\", \"\\u0434\\u043e\\u043b\\u0433\", \"\\u0434\\u043e\\u043b\\u0433\", \"\\u0434\\u043e\\u043b\\u0433\", \"\\u0434\\u043e\\u043b\\u0433\", \"\\u0434\\u043e\\u043b\\u0433\", \"\\u0434\\u043e\\u043b\\u0433\", \"\\u0434\\u043e\\u043b\\u0436\\u043d\\u043e\\u0441\\u0442\\u043d\\u043e\\u0439\", \"\\u0434\\u043e\\u043b\\u043b\\u0430\\u0440\", \"\\u0434\\u043e\\u043b\\u043b\\u0430\\u0440\", \"\\u0434\\u043e\\u043b\\u043b\\u0430\\u0440\\u043e\\u0432\\u044b\\u0439\", \"\\u0434\\u043e\\u043b\\u043b\\u0430\\u0440\\u043e\\u0432\\u044b\\u044f\", \"\\u0434\\u043e\\u043d\", \"\\u0434\\u043e\\u043f\\u0440\\u043e\\u0441\", \"\\u0434\\u043e\\u0440\\u043e\\u0436\\u0438\\u0442\\u044c\", \"\\u0434\\u043e\\u0441\\u0440\\u043e\\u0447\\u043d\\u044b\\u0439\", \"\\u0434\\u043e\\u0441\\u0440\\u043e\\u0447\\u043d\\u044b\\u0439\", \"\\u0434\\u043e\\u0441\\u0440\\u043e\\u0447\\u043d\\u044b\\u0439\", \"\\u0434\\u043e\\u0441\\u0440\\u043e\\u0447\\u043d\\u044b\\u0439\", \"\\u0434\\u043e\\u0441\\u0442\\u0430\\u0432\\u0438\\u0442\\u044c\", \"\\u0434\\u043e\\u0441\\u0442\\u0430\\u0432\\u0438\\u0442\\u044c\", \"\\u0434\\u043e\\u0441\\u0442\\u0430\\u0432\\u0438\\u0442\\u044c\", \"\\u0434\\u043e\\u0441\\u0442\\u0430\\u0432\\u043a\\u0430\", \"\\u0434\\u043e\\u0441\\u0442\\u0430\\u0432\\u043a\\u0430\", \"\\u0434\\u043e\\u0441\\u0442\\u0430\\u0432\\u043a\\u0430\", \"\\u0434\\u043e\\u0441\\u0442\\u043e\\u0432\\u0435\\u0440\\u043d\\u044b\\u0439\", \"\\u0435\\u0432\\u0433\\u0435\\u043d\\u0438\\u0435\\u0439\", \"\\u0435\\u0432\\u0433\\u0435\\u043d\\u0438\\u0439\", \"\\u0435\\u0432\\u0433\\u0435\\u043d\\u0438\\u0439\", \"\\u0435\\u0432\\u0433\\u0435\\u043d\\u0438\\u0439\", \"\\u0435\\u0432\\u0433\\u0435\\u043d\\u0438\\u044f\", \"\\u0435\\u0432\\u0433\\u0435\\u043d\\u0438\\u044f\", \"\\u0435\\u0432\\u0433\\u0435\\u043d\\u0438\\u044f\", \"\\u0435\\u0432\\u0440\\u043e\", \"\\u0435\\u0432\\u0440\\u043e\", \"\\u0435\\u0436\\u0435\\u043c\\u0435\\u0441\\u044f\\u0447\\u043d\\u044b\\u0439\", \"\\u0435\\u0436\\u0435\\u043c\\u0435\\u0441\\u044f\\u0447\\u043d\\u044b\\u0439\", \"\\u0435\\u0436\\u0435\\u043c\\u0435\\u0441\\u044f\\u0447\\u043d\\u044b\\u0439\", \"\\u0435\\u0436\\u0435\\u043c\\u0435\\u0441\\u044f\\u0447\\u043d\\u044b\\u0439\", \"\\u0435\\u0436\\u0435\\u043c\\u0435\\u0441\\u044f\\u0447\\u043d\\u044b\\u0439\", \"\\u0435\\u043a\\u0430\\u0442\\u0435\\u0440\\u0438\\u043d\\u0430\", \"\\u0435\\u043b\\u0435\\u043d\\u0430\", \"\\u0435\\u0445\\u0430\\u0442\\u044c\", \"\\u0435\\u0445\\u0430\\u0442\\u044c\", \"\\u0435\\u0445\\u0430\\u0442\\u044c\", \"\\u0435\\u0445\\u0430\\u0442\\u044c\", \"\\u0435\\u0445\\u0430\\u0442\\u044c\", \"\\u0435\\u0445\\u0430\\u0442\\u044c\", \"\\u0436\\u0430\\u0440\\u0438\\u043d\\u043e\\u0432\", \"\\u0436\\u0434\\u0430\\u0442\\u044c\", \"\\u0436\\u0434\\u0430\\u0442\\u044c\", \"\\u0436\\u0434\\u0430\\u0442\\u044c\", \"\\u0436\\u0434\\u0430\\u0442\\u044c\", \"\\u0436\\u0434\\u0430\\u0442\\u044c\", \"\\u0436\\u0434\\u0430\\u0442\\u044c\", \"\\u0436\\u0438\\u0437\\u043d\\u044c\", \"\\u0436\\u0438\\u0437\\u043d\\u044c\", \"\\u0436\\u0438\\u0437\\u043d\\u044c\", \"\\u0436\\u0438\\u0437\\u043d\\u044c\", \"\\u0436\\u0438\\u0437\\u043d\\u044c\", \"\\u0436\\u043a\\u0445\", \"\\u0436\\u0441\\u043a\", \"\\u0436\\u0443\\u043a\\u043e\\u0432\", \"\\u0436\\u0443\\u043a\\u043e\\u0432\\u0441\\u043a\\u0438\\u0439\", \"\\u0437\\u0430\\u0431\\u0438\\u0442\\u044c\", \"\\u0437\\u0430\\u0431\\u0438\\u0442\\u044c\", \"\\u0437\\u0430\\u0431\\u043b\\u043e\\u043a\\u0438\\u0440\\u043e\\u0432\\u0430\\u0442\\u044c\", \"\\u0437\\u0430\\u0431\\u043b\\u043e\\u043a\\u0438\\u0440\\u043e\\u0432\\u0430\\u0442\\u044c\", \"\\u0437\\u0430\\u0431\\u043b\\u043e\\u043a\\u0438\\u0440\\u043e\\u0432\\u0430\\u0442\\u044c\", \"\\u0437\\u0430\\u0431\\u043b\\u043e\\u043a\\u0438\\u0440\\u043e\\u0432\\u0430\\u0442\\u044c\", \"\\u0437\\u0430\\u0431\\u043b\\u043e\\u043a\\u0438\\u0440\\u043e\\u0432\\u0430\\u0442\\u044c\", \"\\u0437\\u0430\\u0431\\u0440\\u0430\\u0442\\u044c\", \"\\u0437\\u0430\\u0431\\u0440\\u0430\\u0442\\u044c\", \"\\u0437\\u0430\\u0431\\u0440\\u0430\\u0442\\u044c\", \"\\u0437\\u0430\\u0431\\u0440\\u0430\\u0442\\u044c\", \"\\u0437\\u0430\\u0432\\u043b\\u0430\\u0434\\u0435\\u0442\\u044c\", \"\\u0437\\u0430\\u0434\\u043e\\u043b\\u0436\\u0435\\u043d\\u043d\\u043e\\u0441\\u0442\\u0435\\u044f\", \"\\u0437\\u0430\\u0434\\u043e\\u043b\\u0436\\u0435\\u043d\\u043d\\u043e\\u0441\\u0442\\u044c\", \"\\u0437\\u0430\\u0434\\u043e\\u043b\\u0436\\u0435\\u043d\\u043d\\u043e\\u0441\\u0442\\u044c\", \"\\u0437\\u0430\\u0434\\u043e\\u043b\\u0436\\u0435\\u043d\\u043d\\u043e\\u0441\\u0442\\u044c\", \"\\u0437\\u0430\\u0434\\u043e\\u043b\\u0436\\u0435\\u043d\\u043d\\u043e\\u0441\\u0442\\u044c\", \"\\u0437\\u0430\\u0434\\u043e\\u043b\\u0436\\u043d\\u0438\\u043a\", \"\\u0437\\u0430\\u0434\\u0443\\u043c\\u044b\\u0432\\u0430\\u0442\\u044c\\u0441\\u044f\", \"\\u0437\\u0430\\u0434\\u0443\\u043c\\u044b\\u0432\\u0430\\u0442\\u044c\\u0441\\u044f\", \"\\u0437\\u0430\\u0435\\u0445\\u0430\\u0442\\u044c\", \"\\u0437\\u0430\\u0435\\u0445\\u0430\\u0442\\u044c\", \"\\u0437\\u0430\\u0435\\u0445\\u0430\\u0442\\u044c\", \"\\u0437\\u0430\\u0436\\u0435\\u0432\\u0430\\u0442\\u044c\", \"\\u0437\\u0430\\u0438\\u043c\\u0430\", \"\\u0437\\u0430\\u043a\\u0430\\u0437\", \"\\u0437\\u0430\\u043a\\u0430\\u0437\", \"\\u0437\\u0430\\u043a\\u0430\\u0437\", \"\\u0437\\u0430\\u043a\\u0430\\u0437\", \"\\u0437\\u0430\\u043a\\u0430\\u0437\\u0430\\u0442\\u044c\", \"\\u0437\\u0430\\u043a\\u0430\\u0437\\u0430\\u0442\\u044c\", \"\\u0437\\u0430\\u043a\\u0430\\u0437\\u0430\\u0442\\u044c\", \"\\u0437\\u0430\\u043a\\u0430\\u0437\\u0430\\u0442\\u044c\", \"\\u0437\\u0430\\u043a\\u0430\\u0437\\u0430\\u0442\\u044c\", \"\\u0437\\u0430\\u043a\\u0430\\u0437\\u0430\\u0442\\u044c\", \"\\u0437\\u0430\\u043a\\u043b\\u0430\\u0434\\u043d\\u0430\\u044f\", \"\\u0437\\u0430\\u043a\\u043b\\u0430\\u0434\\u043d\\u043e\\u0439\", \"\\u0437\\u0430\\u043c\\u0435\\u0447\\u0430\\u0442\\u044c\", \"\\u0437\\u0430\\u043d\\u044f\\u0442\\u044c\\u0441\\u044f\", \"\\u0437\\u0430\\u043f\\u0440\\u043e\\u0441\", \"\\u0437\\u0430\\u043f\\u0440\\u043e\\u0441\", \"\\u0437\\u0430\\u043f\\u0440\\u043e\\u0441\", \"\\u0437\\u0430\\u043f\\u0440\\u043e\\u0441\", \"\\u0437\\u0430\\u043f\\u0440\\u043e\\u0441\", \"\\u0437\\u0430\\u043f\\u0440\\u043e\\u0441\", \"\\u0437\\u0430\\u0440\\u043f\\u043b\\u0430\\u0442\\u043d\\u044b\\u0439\", \"\\u0437\\u0430\\u0440\\u043f\\u043b\\u0430\\u0442\\u043d\\u044b\\u0439\", \"\\u0437\\u0430\\u0440\\u043f\\u043b\\u0430\\u0442\\u043d\\u044b\\u0439\", \"\\u0437\\u0430\\u0440\\u043f\\u043b\\u0430\\u0442\\u043d\\u044b\\u0439\", \"\\u0437\\u0430\\u0440\\u043f\\u043b\\u0430\\u0442\\u043d\\u044b\\u0439\", \"\\u0437\\u0430\\u0440\\u043f\\u043b\\u0430\\u0442\\u043d\\u044b\\u0439\", \"\\u0437\\u0430\\u0440\\u043f\\u043b\\u0430\\u0442\\u043d\\u044b\\u0439\", \"\\u0437\\u0430\\u0440\\u043f\\u043b\\u0430\\u0442\\u043d\\u044b\\u0439\", \"\\u0437\\u0430\\u0441\\u043b\\u0430\\u0442\\u044c\", \"\\u0437\\u0430\\u0441\\u043b\\u0443\\u0436\\u0438\\u0442\\u044c\", \"\\u0437\\u0430\\u0441\\u0442\\u0440\\u043e\\u0438\\u0449\\u0438\\u043a\", \"\\u0437\\u0430\\u0444\\u0438\\u043a\\u0441\\u0438\\u0440\\u043e\\u0432\\u0430\\u0442\\u044c\", \"\\u0437\\u0430\\u0447\\u0438\\u0441\\u043b\\u0438\\u0442\\u044c\", \"\\u0437\\u0430\\u0447\\u0438\\u0441\\u043b\\u0438\\u0442\\u044c\", \"\\u0437\\u0430\\u0447\\u0438\\u0441\\u043b\\u0438\\u0442\\u044c\", \"\\u0437\\u0430\\u0447\\u0438\\u0441\\u043b\\u0438\\u0442\\u044c\\u0441\\u044f\", \"\\u0437\\u0430\\u044f\\u0432\\u043a\\u0430\", \"\\u0437\\u0430\\u044f\\u0432\\u043a\\u0430\", \"\\u0437\\u0430\\u044f\\u0432\\u043a\\u0430\", \"\\u0437\\u0430\\u044f\\u0432\\u043a\\u0430\", \"\\u0437\\u0430\\u044f\\u0432\\u043b\\u0435\\u043d\\u0438\\u0435\", \"\\u0437\\u0430\\u044f\\u0432\\u043b\\u0435\\u043d\\u0438\\u0435\", \"\\u0437\\u0430\\u044f\\u0432\\u043b\\u0435\\u043d\\u0438\\u0435\", \"\\u0437\\u0430\\u044f\\u0432\\u043b\\u0435\\u043d\\u0438\\u0435\", \"\\u0437\\u0430\\u044f\\u0432\\u043b\\u0435\\u043d\\u0438\\u0435\", \"\\u0437\\u0430\\u044f\\u0432\\u043b\\u0435\\u043d\\u0438\\u0435\", \"\\u0437\\u0430\\u044f\\u0432\\u043b\\u0435\\u043d\\u0438\\u0435\", \"\\u0437\\u0430\\u044f\\u0432\\u043b\\u0435\\u043d\\u0438\\u0435\", \"\\u0437\\u0432\\u043e\\u043d\\u0438\\u0442\\u044c\", \"\\u0437\\u0432\\u043e\\u043d\\u0438\\u0442\\u044c\", \"\\u0437\\u0432\\u043e\\u043d\\u0438\\u0442\\u044c\", \"\\u0437\\u0432\\u043e\\u043d\\u0438\\u0442\\u044c\", \"\\u0437\\u0432\\u043e\\u043d\\u0438\\u0442\\u044c\", \"\\u0437\\u0432\\u043e\\u043d\\u0438\\u0442\\u044c\", \"\\u0437\\u0432\\u043e\\u043d\\u0438\\u0442\\u044c\", \"\\u0437\\u0432\\u043e\\u043d\\u0438\\u0442\\u044c\", \"\\u0437\\u0432\\u043e\\u043d\\u043e\\u043a\", \"\\u0437\\u0432\\u043e\\u043d\\u043e\\u043a\", \"\\u0437\\u0432\\u043e\\u043d\\u043e\\u043a\", \"\\u0437\\u0432\\u043e\\u043d\\u043e\\u043a\", \"\\u0437\\u0432\\u043e\\u043d\\u043e\\u043a\", \"\\u0437\\u0432\\u043e\\u043d\\u043e\\u043a\", \"\\u0437\\u0432\\u043e\\u043d\\u043e\\u043a\", \"\\u0437\\u043e\\u043b\\u043e\\u0442\\u043e\\u0439\", \"\\u0437\\u043e\\u043b\\u043e\\u0442\\u043e\\u0439\", \"\\u0438\\u0431\", \"\\u0438\\u0432\\u0430\\u043d\\u043e\\u0432\\u0438\\u0447\", \"\\u0438\\u0432\\u0430\\u043d\\u043e\\u0432\\u0438\\u0447\", \"\\u0438\\u0432\\u0430\\u043d\\u043e\\u0432\\u0438\\u0447\", \"\\u0438\\u0437\\u0431\\u0430\\u0432\\u0438\\u0442\\u044c\\u0441\\u044f\", \"\\u0438\\u043d\\u0438\\u0446\\u0438\\u0430\\u0442\\u0438\\u0432\\u0430\", \"\\u0438\\u043d\\u0438\\u0446\\u0438\\u0430\\u0442\\u0438\\u0432\\u0430\", \"\\u0438\\u043d\\u0442\\u0435\\u0440\\u043d\\u0435\\u0442\", \"\\u0438\\u043d\\u0442\\u0435\\u0440\\u043d\\u0435\\u0442\", \"\\u0438\\u043d\\u0442\\u0435\\u0440\\u043d\\u0435\\u0442\", \"\\u0438\\u043d\\u0442\\u0435\\u0440\\u043d\\u0435\\u0442\", \"\\u0438\\u043d\\u0442\\u0435\\u0440\\u043d\\u0435\\u0442\", \"\\u0438\\u043d\\u0442\\u0435\\u0440\\u043d\\u0435\\u0442\", \"\\u0438\\u043d\\u0442\\u0435\\u0440\\u0444\\u0435\\u0438\\u0441\", \"\\u0438\\u043d\\u0444\\u043e\\u0440\\u043c\\u0430\\u0446\\u0438\\u044f\", \"\\u0438\\u043d\\u0444\\u043e\\u0440\\u043c\\u0430\\u0446\\u0438\\u044f\", \"\\u0438\\u043d\\u0444\\u043e\\u0440\\u043c\\u0430\\u0446\\u0438\\u044f\", \"\\u0438\\u043d\\u0444\\u043e\\u0440\\u043c\\u0430\\u0446\\u0438\\u044f\", \"\\u0438\\u043d\\u0444\\u043e\\u0440\\u043c\\u0430\\u0446\\u0438\\u044f\", \"\\u0438\\u043d\\u0444\\u043e\\u0440\\u043c\\u0430\\u0446\\u0438\\u044f\", \"\\u0438\\u043d\\u0444\\u043e\\u0440\\u043c\\u0430\\u0446\\u0438\\u044f\", \"\\u0438\\u043f\", \"\\u0438\\u043f\", \"\\u0438\\u043f\\u043e\\u0442\\u0435\\u043a\\u0430\", \"\\u0438\\u043f\\u043e\\u0442\\u0435\\u043a\\u0430\", \"\\u0438\\u043f\\u043e\\u0442\\u0435\\u043a\\u0430\", \"\\u0438\\u043f\\u043e\\u0442\\u0435\\u043a\\u0430\", \"\\u0438\\u043f\\u043e\\u0442\\u0435\\u043a\\u0430\", \"\\u0438\\u043f\\u043e\\u0442\\u0435\\u043a\\u0430\", \"\\u0438\\u0441\\u043f\\u043e\\u043b\\u043d\\u0435\\u043d\\u0438\\u0435\", \"\\u0438\\u0441\\u043f\\u043e\\u043b\\u043d\\u0435\\u043d\\u0438\\u0435\", \"\\u0438\\u0441\\u043f\\u043e\\u043b\\u043d\\u0438\\u0442\\u0435\\u043b\\u044c\", \"\\u0438\\u0441\\u043f\\u043e\\u043b\\u043d\\u0438\\u0442\\u0435\\u043b\\u044c\\u043d\\u044b\\u0439\", \"\\u0438\\u0441\\u043f\\u043e\\u0440\\u0442\\u0438\\u0442\\u044c\\u0441\\u044f\", \"\\u0438\\u0441\\u043f\\u043e\\u0440\\u0447\\u0435\\u043d\\u043d\\u043e\\u0438\\u0442\\u044c\", \"\\u0438\\u0441\\u043f\\u0440\\u0430\\u0432\\u043d\\u043e\", \"\\u0438\\u0441\\u043f\\u0440\\u0430\\u0432\\u043d\\u043e\", \"\\u0438\\u0441\\u043f\\u0440\\u0430\\u0432\\u043d\\u043e\", \"\\u0438\\u0441\\u0442\\u043e\\u0440\\u0438\\u044f\", \"\\u0438\\u0441\\u0442\\u043e\\u0440\\u0438\\u044f\", \"\\u0438\\u0441\\u0442\\u043e\\u0440\\u0438\\u044f\", \"\\u0438\\u0441\\u0442\\u043e\\u0440\\u0438\\u044f\", \"\\u0438\\u0441\\u0442\\u043e\\u0440\\u0438\\u044f\", \"\\u0438\\u0441\\u0442\\u043e\\u0440\\u0438\\u044f\", \"\\u0438\\u0441\\u0442\\u043e\\u0440\\u0438\\u044f\", \"\\u0438\\u0441\\u0442\\u043e\\u0440\\u0438\\u044f\", \"\\u0438\\u0444\\u043d\\u0441\", \"\\u043a\\u0430\\u0431\\u0438\\u043d\\u0435\\u0442\", \"\\u043a\\u0430\\u0431\\u0438\\u043d\\u0435\\u0442\", \"\\u043a\\u0430\\u0431\\u0438\\u043d\\u0435\\u0442\", \"\\u043a\\u0430\\u0431\\u0438\\u043d\\u0435\\u0442\", \"\\u043a\\u0430\\u0431\\u0438\\u043d\\u0435\\u0442\", \"\\u043a\\u0430\\u0431\\u0438\\u043d\\u0435\\u0442\", \"\\u043a\\u0430\\u0431\\u0438\\u043d\\u0435\\u0442\", \"\\u043a\\u0430\\u043a\\u043e\\u0439\", \"\\u043a\\u0430\\u043a\\u043e\\u0439\", \"\\u043a\\u0430\\u043a\\u043e\\u0439\", \"\\u043a\\u0430\\u043a\\u043e\\u0439\", \"\\u043a\\u0430\\u043a\\u043e\\u0439\", \"\\u043a\\u0430\\u043a\\u043e\\u0439\", \"\\u043a\\u0430\\u043a\\u043e\\u0439\", \"\\u043a\\u0430\\u043a\\u043e\\u0439\", \"\\u043a\\u0430\\u043f\\u0440\\u0435\\u043c\\u043e\\u043d\\u0442\", \"\\u043a\\u0430\\u0440\\u0442\\u0430\", \"\\u043a\\u0430\\u0440\\u0442\\u0430\", \"\\u043a\\u0430\\u0440\\u0442\\u0430\", \"\\u043a\\u0430\\u0440\\u0442\\u0430\", \"\\u043a\\u0430\\u0440\\u0442\\u0430\", \"\\u043a\\u0430\\u0440\\u0442\\u0430\", \"\\u043a\\u0430\\u0440\\u0442\\u0430\", \"\\u043a\\u0430\\u0440\\u0442\\u043e\\u0439\", \"\\u043a\\u0430\\u0440\\u0442\\u043e\\u0439\", \"\\u043a\\u0430\\u0440\\u0442\\u043e\\u0439\", \"\\u043a\\u0430\\u0440\\u0442\\u043e\\u0439\", \"\\u043a\\u0430\\u0440\\u0442\\u043e\\u0439\", \"\\u043a\\u0430\\u0441\\u043a\\u043e\", \"\\u043a\\u0430\\u0441\\u0441\\u0430\", \"\\u043a\\u0430\\u0441\\u0441\\u0430\", \"\\u043a\\u0430\\u0441\\u0441\\u0430\", \"\\u043a\\u0430\\u0441\\u0441\\u0430\", \"\\u043a\\u0430\\u0441\\u0441\\u0430\", \"\\u043a\\u0430\\u0441\\u0441\\u0430\", \"\\u043a\\u0432\\u0430\\u0440\\u0442\\u0430\\u043b\", \"\\u043a\\u0432\\u0430\\u0440\\u0442\\u0430\\u043b\", \"\\u043a\\u0432\\u0430\\u0440\\u0442\\u0438\\u0440\\u0430\", \"\\u043a\\u0432\\u0430\\u0440\\u0442\\u0438\\u0440\\u0430\", \"\\u043a\\u0432\\u0430\\u0440\\u0442\\u0438\\u0440\\u0430\", \"\\u043a\\u0435\\u043c\\u0435\\u0440\\u043e\\u0432\\u043e\", \"\\u043a\\u0435\\u043c\\u0435\\u0440\\u043e\\u0432\\u043e\", \"\\u043a\\u0435\\u0448\\u0431\\u0435\\u043a\", \"\\u043a\\u0435\\u0448\\u0431\\u0435\\u043a\", \"\\u043a\\u0435\\u0448\\u0431\\u0435\\u043a\", \"\\u043a\\u043b\\u0438\\u0435\\u043d\\u0442\", \"\\u043a\\u043b\\u0438\\u0435\\u043d\\u0442\", \"\\u043a\\u043b\\u0438\\u0435\\u043d\\u0442\", \"\\u043a\\u043b\\u0438\\u0435\\u043d\\u0442\", \"\\u043a\\u043b\\u0438\\u0435\\u043d\\u0442\", \"\\u043a\\u043b\\u0438\\u0435\\u043d\\u0442\", \"\\u043a\\u043b\\u0438\\u0435\\u043d\\u0442\", \"\\u043a\\u043b\\u0438\\u0435\\u043d\\u0442\", \"\\u043a\\u043d\\u043e\\u043f\\u043a\\u0430\", \"\\u043a\\u043d\\u043e\\u043f\\u043a\\u0430\", \"\\u043a\\u043d\\u043e\\u043f\\u043a\\u0430\", \"\\u043a\\u043e\\u0434\", \"\\u043a\\u043e\\u0434\", \"\\u043a\\u043e\\u0434\", \"\\u043a\\u043e\\u0434\", \"\\u043a\\u043e\\u0434\", \"\\u043a\\u043e\\u043b\\u043b\\u0435\\u043a\\u0442\\u0438\\u0432\", \"\\u043a\\u043e\\u043b\\u043b\\u0435\\u043a\\u0442\\u043e\\u0440\", \"\\u043a\\u043e\\u043b\\u043b\\u0435\\u043a\\u0446\\u0438\\u044f\", \"\\u043a\\u043e\\u043b\\u043b\\u0435\\u043a\\u0446\\u0438\\u044f\", \"\\u043a\\u043e\\u043b\\u043b\\u0435\\u043a\\u0446\\u0438\\u044f\", \"\\u043a\\u043e\\u043b\\u0445\\u043e\\u0437\", \"\\u043a\\u043e\\u043c\\u0435\\u043d\\u0434\\u0430\\u043d\\u0442\\u0441\\u043a\\u0438\\u0439\", \"\\u043a\\u043e\\u043c\\u0438\\u0441\\u0441\\u0438\\u044f\", \"\\u043a\\u043e\\u043c\\u0438\\u0441\\u0441\\u0438\\u044f\", \"\\u043a\\u043e\\u043c\\u0438\\u0441\\u0441\\u0438\\u044f\", \"\\u043a\\u043e\\u043c\\u0438\\u0441\\u0441\\u0438\\u044f\", \"\\u043a\\u043e\\u043c\\u0438\\u0441\\u0441\\u0438\\u044f\", \"\\u043a\\u043e\\u043c\\u0438\\u0441\\u0441\\u0438\\u044f\", \"\\u043a\\u043e\\u043d\\u0432\\u0435\\u0440\\u0442\\u0430\\u0446\\u0438\\u0435\\u0439\", \"\\u043a\\u043e\\u043d\\u0432\\u0435\\u0440\\u0442\\u0430\\u0446\\u0438\\u044f\", \"\\u043a\\u043e\\u0440\\u043e\\u0431\\u043e\\u0447\\u043d\\u044b\\u0439\", \"\\u043a\\u043e\\u0442\\u043e\\u0440\\u044b\\u0439\", \"\\u043a\\u043e\\u0442\\u043e\\u0440\\u044b\\u0439\", \"\\u043a\\u043e\\u0442\\u043e\\u0440\\u044b\\u0439\", \"\\u043a\\u043e\\u0442\\u043e\\u0440\\u044b\\u0439\", \"\\u043a\\u043e\\u0442\\u043e\\u0440\\u044b\\u0439\", \"\\u043a\\u043e\\u0442\\u043e\\u0440\\u044b\\u0439\", \"\\u043a\\u043e\\u0442\\u043e\\u0440\\u044b\\u0439\", \"\\u043a\\u043e\\u0442\\u043e\\u0440\\u044b\\u0439\", \"\\u043a\\u0440\\u0430\\u0441\\u0438\\u0432\\u043e\", \"\\u043a\\u0440\\u0430\\u0441\\u0438\\u0432\\u043e\", \"\\u043a\\u0440\\u0435\\u0434\\u0438\\u0442\", \"\\u043a\\u0440\\u0435\\u0434\\u0438\\u0442\", \"\\u043a\\u0440\\u0435\\u0434\\u0438\\u0442\", \"\\u043a\\u0440\\u0435\\u0434\\u0438\\u0442\", \"\\u043a\\u0440\\u0435\\u0434\\u0438\\u0442\", \"\\u043a\\u0440\\u0435\\u0434\\u0438\\u0442\", \"\\u043a\\u0440\\u0435\\u0434\\u0438\\u0442\", \"\\u043a\\u0440\\u0435\\u0434\\u0438\\u0442\\u043a\\u043e\\u0439\", \"\\u043a\\u0440\\u0435\\u0434\\u0438\\u0442\\u043d\\u043e\\u0438\\u0442\\u044c\", \"\\u043a\\u0440\\u0435\\u0434\\u0438\\u0442\\u043d\\u043e\\u0438\\u0442\\u044c\", \"\\u043a\\u0440\\u0435\\u0434\\u0438\\u0442\\u043d\\u043e\\u0438\\u0442\\u044c\", \"\\u043a\\u0440\\u0435\\u0434\\u0438\\u0442\\u043d\\u043e\\u0438\\u0442\\u044c\", \"\\u043a\\u0440\\u0435\\u0434\\u0438\\u0442\\u043d\\u043e\\u0438\\u0442\\u044c\", \"\\u043a\\u0440\\u0435\\u0434\\u0438\\u0442\\u043d\\u043e\\u0438\\u0442\\u044c\", \"\\u043a\\u0440\\u0435\\u0434\\u0438\\u0442\\u043d\\u044b\\u0439\", \"\\u043a\\u0440\\u0435\\u0434\\u0438\\u0442\\u043d\\u044b\\u0439\", \"\\u043a\\u0440\\u0435\\u0434\\u0438\\u0442\\u043d\\u044b\\u0439\", \"\\u043a\\u0440\\u0435\\u0434\\u0438\\u0442\\u043d\\u044b\\u0439\", \"\\u043a\\u0440\\u0435\\u0434\\u0438\\u0442\\u043d\\u044b\\u0439\", \"\\u043a\\u0440\\u0435\\u0434\\u0438\\u0442\\u043d\\u044b\\u0439\", \"\\u043a\\u0440\\u0435\\u0434\\u0438\\u0442\\u043d\\u044b\\u0439\", \"\\u043a\\u0440\\u0435\\u0434\\u0438\\u0442\\u043d\\u044b\\u0439\", \"\\u043a\\u0440\\u0435\\u0434\\u0438\\u0442\\u043e\\u0432\\u0430\\u0442\\u044c\", \"\\u043a\\u0440\\u0435\\u0434\\u0438\\u0442\\u043e\\u0440\", \"\\u043a\\u0443\\u043f\\u044e\\u0440\\u0430\", \"\\u043a\\u0443\\u043f\\u044e\\u0440\\u0430\", \"\\u043a\\u0443\\u043f\\u044e\\u0440\\u0430\", \"\\u043a\\u0443\\u0440\\u0441\", \"\\u043a\\u0443\\u0440\\u0441\", \"\\u043a\\u0443\\u0440\\u0441\", \"\\u043a\\u0443\\u0440\\u0441\", \"\\u043a\\u044d\\u0448\\u0431\\u0435\\u043a\", \"\\u043a\\u044d\\u0448\\u0431\\u044d\\u043a\", \"\\u043a\\u044d\\u0448\\u0431\\u044d\\u043a\", \"\\u043a\\u044d\\u0448\\u0431\\u044d\\u043a\", \"\\u043b\\u0430\\u0438\\u0444\", \"\\u043b\\u0435\\u043d\\u0438\\u043d\\u0433\\u0440\\u0430\\u0434\\u0441\\u043a\\u0438\\u044f\", \"\\u043b\\u0438\\u043d\\u0438\\u044f\", \"\\u043b\\u0438\\u043d\\u0438\\u044f\", \"\\u043b\\u0438\\u043d\\u0438\\u044f\", \"\\u043b\\u0438\\u043d\\u0438\\u044f\", \"\\u043b\\u0438\\u043d\\u0438\\u044f\", \"\\u043b\\u0438\\u043d\\u0438\\u044f\", \"\\u043b\\u0438\\u043d\\u0438\\u044f\", \"\\u043b\\u0438\\u0446\\u043e\", \"\\u043b\\u0438\\u0446\\u043e\", \"\\u043b\\u0438\\u0446\\u043e\", \"\\u043b\\u0438\\u0446\\u043e\", \"\\u043b\\u0438\\u0446\\u043e\", \"\\u043b\\u0438\\u0447\\u043d\\u044b\\u0439\", \"\\u043b\\u0438\\u0447\\u043d\\u044b\\u0439\", \"\\u043b\\u0438\\u0447\\u043d\\u044b\\u0439\", \"\\u043b\\u0438\\u0447\\u043d\\u044b\\u0439\", \"\\u043b\\u0438\\u0447\\u043d\\u044b\\u0439\", \"\\u043b\\u0438\\u0447\\u043d\\u044b\\u0439\", \"\\u043b\\u0438\\u0447\\u043d\\u044b\\u0439\", \"\\u043b\\u043a\", \"\\u043b\\u043e\\u0433\\u0438\\u043d\", \"\\u043c\\u0430\\u0433\\u0430\\u0437\\u0438\\u043d\", \"\\u043c\\u0430\\u0433\\u0430\\u0437\\u0438\\u043d\", \"\\u043c\\u0430\\u0433\\u0430\\u0437\\u0438\\u043d\", \"\\u043c\\u0430\\u0433\\u0430\\u0437\\u0438\\u043d\", \"\\u043c\\u0430\\u0440\\u0441\\u0435\\u043b\\u0435\\u0432\\u0438\\u0447\", \"\\u043c\\u0430\\u0441\\u0441\\u0430\\u0436\\u0451\\u0440\", \"\\u043c\\u0430\\u0441\\u0442\\u0435\\u0440\", \"\\u043c\\u0430\\u0441\\u0442\\u0435\\u0440\", \"\\u043c\\u0430\\u0441\\u0442\\u0435\\u0440\", \"\\u043c\\u0430\\u0441\\u0442\\u0435\\u0440\\u0441\\u0447\\u0451\\u0442\", \"\\u043c\\u0430\\u0442\", \"\\u043c\\u0435\\u0436\\u0434\\u0443\\u043d\\u0430\\u0440\\u043e\\u0434\\u043d\\u044b\\u0439\", \"\\u043c\\u0435\\u043d\\u0435\\u0434\\u0436\\u0435\\u0440\", \"\\u043c\\u0435\\u043d\\u0435\\u0434\\u0436\\u0435\\u0440\", \"\\u043c\\u0435\\u043d\\u0435\\u0434\\u0436\\u0435\\u0440\", \"\\u043c\\u0435\\u043d\\u0435\\u0434\\u0436\\u0435\\u0440\", \"\\u043c\\u0435\\u043d\\u0435\\u0434\\u0436\\u0435\\u0440\", \"\\u043c\\u0435\\u043d\\u0435\\u0434\\u0436\\u0435\\u0440\", \"\\u043c\\u0435\\u043d\\u0435\\u0434\\u0436\\u0435\\u0440\", \"\\u043c\\u0435\\u0441\", \"\\u043c\\u0435\\u0441\", \"\\u043c\\u0435\\u0441\\u044f\\u0446\", \"\\u043c\\u0435\\u0441\\u044f\\u0446\", \"\\u043c\\u0435\\u0441\\u044f\\u0446\", \"\\u043c\\u0435\\u0441\\u044f\\u0446\", \"\\u043c\\u0435\\u0441\\u044f\\u0446\", \"\\u043c\\u0435\\u0441\\u044f\\u0446\", \"\\u043c\\u0435\\u0441\\u044f\\u0446\", \"\\u043c\\u0435\\u0441\\u044f\\u0447\\u043d\\u044b\\u0439\", \"\\u043c\\u0435\\u0442\\u043e\\u0434\\u0438\\u0447\\u043d\\u043e\", \"\\u043c\\u0438\\u043b\\u044f\", \"\\u043c\\u0438\\u043d\\u0443\\u0442\\u0430\", \"\\u043c\\u0438\\u043d\\u0443\\u0442\\u0430\", \"\\u043c\\u0438\\u043d\\u0443\\u0442\\u0430\", \"\\u043c\\u0438\\u043d\\u0443\\u0442\\u0430\", \"\\u043c\\u0438\\u043d\\u0443\\u0442\\u0430\", \"\\u043c\\u0438\\u043d\\u0443\\u0442\\u0430\", \"\\u043c\\u0438\\u043d\\u0443\\u0442\\u0430\", \"\\u043c\\u043b\\u043d\", \"\\u043c\\u043e\\u0439\", \"\\u043c\\u043e\\u0439\", \"\\u043c\\u043e\\u0439\", \"\\u043c\\u043e\\u0439\", \"\\u043c\\u043e\\u0439\", \"\\u043c\\u043e\\u0439\", \"\\u043c\\u043e\\u0439\", \"\\u043c\\u043e\\u0439\", \"\\u043c\\u043e\\u043b\\u043e\\u0434\\u0435\\u0446\", \"\\u043c\\u043e\\u0441\\u043a\\u0432\\u0430\", \"\\u043c\\u043e\\u0441\\u043a\\u0432\\u0430\", \"\\u043c\\u043e\\u0441\\u043a\\u0432\\u0430\", \"\\u043c\\u043e\\u0441\\u043a\\u0432\\u0430\", \"\\u043c\\u043e\\u0441\\u043a\\u0432\\u0430\", \"\\u043c\\u043e\\u0441\\u043a\\u0432\\u0430\", \"\\u043c\\u043e\\u0441\\u043a\\u0432\\u0430\", \"\\u043c\\u043e\\u0441\\u043a\\u0432\\u0430\", \"\\u043c\\u043e\\u0447\\u044c\", \"\\u043c\\u043e\\u0447\\u044c\", \"\\u043c\\u043e\\u0447\\u044c\", \"\\u043c\\u043e\\u0447\\u044c\", \"\\u043c\\u043e\\u0447\\u044c\", \"\\u043c\\u043e\\u0447\\u044c\", \"\\u043c\\u043e\\u0447\\u044c\", \"\\u043c\\u043e\\u0447\\u044c\", \"\\u043c\\u043f\\u0441\", \"\\u043c\\u0443\\u0436\", \"\\u043c\\u0443\\u0436\", \"\\u043c\\u0443\\u0436\", \"\\u043c\\u0443\\u043b\\u044c\\u0442\\u0438\\u0432\\u0430\\u043b\\u044e\\u0442\\u043d\\u044b\\u0439\", \"\\u043c\\u0443\\u043b\\u044c\\u0442\\u0438\\u043a\\u0430\\u0440\\u0442\\u0430\", \"\\u043c\\u0443\\u043b\\u044c\\u0442\\u0438\\u043a\\u0430\\u0440\\u0442\\u0430\", \"\\u043c\\u0443\\u043b\\u044c\\u0442\\u0438\\u043a\\u0430\\u0440\\u0442\\u0430\", \"\\u043c\\u0443\\u043b\\u044c\\u0442\\u0438\\u043a\\u0430\\u0440\\u0442\\u0430\", \"\\u043c\\u0443\\u043b\\u044c\\u0442\\u0438\\u043a\\u0430\\u0440\\u0442\\u0430\", \"\\u043c\\u0443\\u043b\\u044c\\u0442\\u0438\\u043a\\u0430\\u0440\\u0442\\u0430\", \"\\u043c\\u0443\\u043b\\u044c\\u0442\\u0438\\u043a\\u0430\\u0440\\u0442\\u0430\", \"\\u043c\\u044b\", \"\\u043c\\u044b\", \"\\u043c\\u044b\", \"\\u043c\\u044b\", \"\\u043c\\u044b\", \"\\u043d\\u0430\\u0432\\u044f\\u0437\\u0430\\u043d\\u043d\\u043e\\u0438\\u0442\\u044c\", \"\\u043d\\u0430\\u0437\\u043d\\u0430\\u0447\\u0438\\u0442\\u044c\", \"\\u043d\\u0430\\u043a\\u043e\\u043f\\u0438\\u0442\\u0435\\u043b\\u044c\\u043d\\u043e\\u0438\\u0442\\u044c\", \"\\u043d\\u0430\\u043b\\u0438\\u0447\\u043d\\u044b\\u0439\", \"\\u043d\\u0430\\u043b\\u0438\\u0447\\u043d\\u044b\\u0439\", \"\\u043d\\u0430\\u043b\\u0438\\u0447\\u043d\\u044b\\u0439\", \"\\u043d\\u0430\\u043b\\u0438\\u0447\\u043d\\u044b\\u0439\", \"\\u043d\\u0430\\u043b\\u043e\\u0433\\u043e\\u0432\\u044b\\u0439\", \"\\u043d\\u0430\\u043f\\u0438\\u0441\\u0430\\u0442\\u044c\", \"\\u043d\\u0430\\u043f\\u0438\\u0441\\u0430\\u0442\\u044c\", \"\\u043d\\u0430\\u043f\\u0438\\u0441\\u0430\\u0442\\u044c\", \"\\u043d\\u0430\\u043f\\u0438\\u0441\\u0430\\u0442\\u044c\", \"\\u043d\\u0430\\u043f\\u0438\\u0441\\u0430\\u0442\\u044c\", \"\\u043d\\u0430\\u043f\\u0438\\u0441\\u0430\\u0442\\u044c\", \"\\u043d\\u0430\\u043f\\u0438\\u0441\\u0430\\u0442\\u044c\", \"\\u043d\\u0430\\u043f\\u0438\\u0441\\u0430\\u0442\\u044c\", \"\\u043d\\u0430\\u043f\\u0440\\u0430\\u0432\\u0438\\u0442\\u044c\", \"\\u043d\\u0430\\u043f\\u0440\\u0430\\u0432\\u0438\\u0442\\u044c\", \"\\u043d\\u0430\\u043f\\u0440\\u0430\\u0432\\u0438\\u0442\\u044c\", \"\\u043d\\u0430\\u043f\\u0440\\u0430\\u0432\\u0438\\u0442\\u044c\", \"\\u043d\\u0430\\u0441\\u0442\\u0430\\u0442\\u044c\", \"\\u043d\\u0430\\u0441\\u0442\\u043e\\u044f\\u0449\\u0438\\u0439\", \"\\u043d\\u0430\\u0441\\u0442\\u043e\\u044f\\u0449\\u0438\\u0439\", \"\\u043d\\u0430\\u0441\\u0442\\u043e\\u044f\\u0449\\u0438\\u0439\", \"\\u043d\\u0430\\u0442\\u0430\\u043b\\u044c\\u044f\", \"\\u043d\\u0430\\u0445\\u043e\\u0436\\u0434\\u0435\\u043d\\u0438\\u0435\", \"\\u043d\\u0430\\u0447\", \"\\u043d\\u0430\\u0447\\u0438\\u0441\\u043b\\u0435\\u043d\\u0438\\u0435\", \"\\u043d\\u0430\\u0447\\u0438\\u0441\\u043b\\u0435\\u043d\\u0438\\u0435\", \"\\u043d\\u0430\\u0447\\u0438\\u0441\\u043b\\u0435\\u043d\\u0438\\u0435\", \"\\u043d\\u0430\\u0447\\u0438\\u0441\\u043b\\u0435\\u043d\\u0438\\u0435\", \"\\u043d\\u0430\\u0447\\u0438\\u0441\\u043b\\u0435\\u043d\\u0438\\u0435\", \"\\u043d\\u0430\\u0448\", \"\\u043d\\u0430\\u0448\", \"\\u043d\\u0430\\u0448\", \"\\u043d\\u0430\\u0448\", \"\\u043d\\u0430\\u0448\", \"\\u043d\\u0430\\u0448\", \"\\u043d\\u0430\\u0448\", \"\\u043d\\u0431\\u043a\\u0430\", \"\\u043d\\u0434\\u0444\\u043b\", \"\\u043d\\u0435\\u0432\\u043d\\u0438\\u043c\\u0430\\u0442\\u0435\\u043b\\u044c\\u043d\\u044b\\u0439\", \"\\u043d\\u0435\\u0434\\u0435\\u043b\\u044f\", \"\\u043d\\u0435\\u0434\\u0435\\u043b\\u044f\", \"\\u043d\\u0435\\u0434\\u0435\\u043b\\u044f\", \"\\u043d\\u0435\\u0434\\u0435\\u043b\\u044f\", \"\\u043d\\u0435\\u0434\\u0435\\u043b\\u044f\", \"\\u043d\\u0435\\u0434\\u0435\\u043b\\u044f\", \"\\u043d\\u0435\\u0434\\u0435\\u043b\\u044f\", \"\\u043d\\u0435\\u0434\\u0435\\u043b\\u044f\", \"\\u043d\\u0435\\u0434\\u043e\\u0441\\u0442\\u0430\\u0442\\u043e\\u0447\\u043d\\u043e\", \"\\u043d\\u0435\\u0437\\u0430\\u043a\\u043e\\u043d\\u043d\\u043e\", \"\\u043d\\u0435\\u0437\\u0430\\u043a\\u043e\\u043d\\u043d\\u043e\", \"\\u043d\\u0435\\u0438\\u0441\\u043f\\u0440\\u0430\\u0432\\u043d\\u043e\\u0441\\u0442\\u044c\", \"\\u043d\\u0435\\u043c\\u0430\\u043b\\u043e\", \"\\u043d\\u0435\\u043e\\u0431\\u044f\\u0437\\u0430\\u0442\\u0435\\u043b\\u044c\\u043d\\u044b\\u0439\", \"\\u043d\\u0435\\u043f\\u043e\\u043b\\u0430\\u0434\\u043a\\u0430\", \"\\u043d\\u0435\\u0441\\u0443\\u0449\\u0435\\u0441\\u0442\\u0432\\u0443\\u044e\\u0449\\u0438\\u0439\", \"\\u043d\\u0435\\u0441\\u0443\\u0449\\u0435\\u0441\\u0442\\u0432\\u0443\\u044e\\u0449\\u0438\\u0439\", \"\\u043d\\u0438\\u0437\\u043a\\u0438\\u044f\", \"\\u043d\\u043e\\u0433\\u043e\\u0439\", \"\\u043d\\u043e\\u043c\\u0435\\u0440\", \"\\u043d\\u043e\\u043c\\u0435\\u0440\", \"\\u043d\\u043e\\u043c\\u0435\\u0440\", \"\\u043d\\u043e\\u043c\\u0435\\u0440\", \"\\u043d\\u043e\\u043c\\u0435\\u0440\", \"\\u043d\\u043e\\u043c\\u0435\\u0440\", \"\\u043d\\u043f\\u0444\", \"\\u043d\\u0443\\u0436\\u043d\\u043e\", \"\\u043d\\u0443\\u0436\\u043d\\u043e\", \"\\u043d\\u0443\\u0436\\u043d\\u043e\", \"\\u043d\\u0443\\u0436\\u043d\\u043e\", \"\\u043d\\u0443\\u0436\\u043d\\u043e\", \"\\u043d\\u0443\\u0436\\u043d\\u043e\", \"\\u043d\\u0443\\u0436\\u043d\\u043e\", \"\\u043d\\u0443\\u0436\\u043d\\u043e\", \"\\u043e\\u0431\\u0437\\u0432\\u043e\\u043d\", \"\\u043e\\u0431\\u043c\\u0430\\u043d\\u044b\\u0432\\u0430\\u0442\\u044c\", \"\\u043e\\u0431\\u043c\\u0430\\u043d\\u044b\\u0432\\u0430\\u0442\\u044c\", \"\\u043e\\u0431\\u043c\\u0430\\u043d\\u044b\\u0432\\u0430\\u0442\\u044c\", \"\\u043e\\u0431\\u043c\\u0430\\u043d\\u044b\\u0432\\u0430\\u0442\\u044c\", \"\\u043e\\u0431\\u043c\\u0430\\u043d\\u044b\\u0432\\u0430\\u0442\\u044c\", \"\\u043e\\u0431\\u043e\\u0440\\u043e\\u0442\", \"\\u043e\\u0431\\u043e\\u0440\\u043e\\u0442\", \"\\u043e\\u0431\\u043e\\u0440\\u043e\\u0442\", \"\\u043e\\u0431\\u043e\\u0440\\u043e\\u0442\", \"\\u043e\\u0431\\u0440\\u0430\\u0431\\u043e\\u0442\\u043a\\u0430\", \"\\u043e\\u0431\\u0440\\u0430\\u0431\\u043e\\u0442\\u043a\\u0430\", \"\\u043e\\u0431\\u0440\\u0430\\u0431\\u043e\\u0442\\u043a\\u0430\", \"\\u043e\\u0431\\u0440\\u0430\\u0431\\u043e\\u0442\\u043a\\u0430\", \"\\u043e\\u0431\\u0440\\u0430\\u0442\\u0438\\u0442\\u044c\\u0441\\u044f\", \"\\u043e\\u0431\\u0440\\u0430\\u0442\\u0438\\u0442\\u044c\\u0441\\u044f\", \"\\u043e\\u0431\\u0440\\u0430\\u0442\\u0438\\u0442\\u044c\\u0441\\u044f\", \"\\u043e\\u0431\\u0440\\u0430\\u0442\\u0438\\u0442\\u044c\\u0441\\u044f\", \"\\u043e\\u0431\\u0440\\u0430\\u0442\\u0438\\u0442\\u044c\\u0441\\u044f\", \"\\u043e\\u0431\\u0440\\u0430\\u0442\\u0438\\u0442\\u044c\\u0441\\u044f\", \"\\u043e\\u0431\\u0440\\u0430\\u0442\\u0438\\u0442\\u044c\\u0441\\u044f\", \"\\u043e\\u0431\\u0440\\u0430\\u0442\\u0438\\u0442\\u044c\\u0441\\u044f\", \"\\u043e\\u0431\\u0440\\u0430\\u0449\\u0435\\u043d\\u0438\\u0435\", \"\\u043e\\u0431\\u0440\\u0430\\u0449\\u0435\\u043d\\u0438\\u0435\", \"\\u043e\\u0431\\u0440\\u0430\\u0449\\u0435\\u043d\\u0438\\u0435\", \"\\u043e\\u0431\\u0440\\u0430\\u0449\\u0435\\u043d\\u0438\\u0435\", \"\\u043e\\u0431\\u0440\\u0430\\u0449\\u0435\\u043d\\u0438\\u0435\", \"\\u043e\\u0431\\u0440\\u0430\\u0449\\u0435\\u043d\\u0438\\u0435\", \"\\u043e\\u0431\\u0440\\u0430\\u0449\\u0435\\u043d\\u0438\\u0435\", \"\\u043e\\u0431\\u0441\\u043b\\u0443\\u0436\\u0438\\u0432\\u0430\\u043d\\u0438\\u0435\", \"\\u043e\\u0431\\u0441\\u043b\\u0443\\u0436\\u0438\\u0432\\u0430\\u043d\\u0438\\u0435\", \"\\u043e\\u0431\\u0441\\u043b\\u0443\\u0436\\u0438\\u0432\\u0430\\u043d\\u0438\\u0435\", \"\\u043e\\u0431\\u0441\\u043b\\u0443\\u0436\\u0438\\u0432\\u0430\\u043d\\u0438\\u0435\", \"\\u043e\\u0431\\u0441\\u043b\\u0443\\u0436\\u0438\\u0432\\u0430\\u043d\\u0438\\u0435\", \"\\u043e\\u0431\\u0441\\u043b\\u0443\\u0436\\u0438\\u0432\\u0430\\u043d\\u0438\\u0435\", \"\\u043e\\u0431\\u0441\\u043b\\u0443\\u0436\\u0438\\u0432\\u0430\\u043d\\u0438\\u0435\", \"\\u043e\\u0431\\u0449\\u0435\\u043d\\u0438\\u0435\", \"\\u043e\\u0431\\u0449\\u0435\\u043d\\u0438\\u0435\", \"\\u043e\\u0431\\u0449\\u0435\\u043d\\u0438\\u0435\", \"\\u043e\\u0431\\u0449\\u0435\\u043d\\u0438\\u0435\", \"\\u043e\\u0431\\u0449\\u0435\\u0441\\u0442\\u0432\\u043e\", \"\\u043e\\u0431\\u044f\\u0437\\u0430\\u0442\\u0435\\u043b\\u044c\\u043d\\u044b\\u0439\", \"\\u043e\\u0431\\u044f\\u0437\\u0430\\u0442\\u0435\\u043b\\u044c\\u043d\\u044b\\u0439\", \"\\u043e\\u0431\\u044f\\u0437\\u0430\\u0442\\u0435\\u043b\\u044c\\u043d\\u044b\\u0439\", \"\\u043e\\u0431\\u044f\\u0437\\u0430\\u0442\\u0435\\u043b\\u044c\\u043d\\u044b\\u0439\", \"\\u043e\\u0431\\u044f\\u0437\\u0430\\u0442\\u0435\\u043b\\u044c\\u0441\\u0442\\u0432\\u043e\", \"\\u043e\\u0431\\u044f\\u0437\\u0430\\u0442\\u0435\\u043b\\u044c\\u0441\\u0442\\u0432\\u043e\", \"\\u043e\\u0431\\u044f\\u0437\\u0430\\u0442\\u0435\\u043b\\u044c\\u0441\\u0442\\u0432\\u043e\", \"\\u043e\\u0432\\u0435\\u0440\\u0434\\u0440\\u0430\\u0444\\u0442\", \"\\u043e\\u0432\\u0435\\u0440\\u0434\\u0440\\u0430\\u0444\\u0442\", \"\\u043e\\u0433\\u0440\\u0430\\u043d\\u0438\\u0447\\u0435\\u043d\\u0438\\u0435\", \"\\u043e\\u0433\\u0440\\u0430\\u043d\\u0438\\u0447\\u0435\\u043d\\u0438\\u0435\", \"\\u043e\\u0433\\u0440\\u043e\\u043c\\u043d\\u044b\\u0439\", \"\\u043e\\u0433\\u0440\\u043e\\u043c\\u043d\\u044b\\u0439\", \"\\u043e\\u0433\\u0440\\u043e\\u043c\\u043d\\u044b\\u0439\", \"\\u043e\\u0433\\u0440\\u043e\\u043c\\u043d\\u044b\\u0439\", \"\\u043e\\u0434\\u0438\\u043d\", \"\\u043e\\u0434\\u0438\\u043d\", \"\\u043e\\u0434\\u0438\\u043d\", \"\\u043e\\u0434\\u0438\\u043d\", \"\\u043e\\u0434\\u0438\\u043d\", \"\\u043e\\u0434\\u0438\\u043d\", \"\\u043e\\u0434\\u0438\\u043d\", \"\\u043e\\u0434\\u0438\\u043d\", \"\\u043e\\u0434\\u043e\\u0431\\u0440\\u0435\\u043d\\u0438\\u0435\", \"\\u043e\\u0434\\u043e\\u0431\\u0440\\u0435\\u043d\\u0438\\u0435\", \"\\u043e\\u0434\\u043e\\u0431\\u0440\\u0438\\u0442\\u044c\", \"\\u043e\\u0434\\u043e\\u0431\\u0440\\u0438\\u0442\\u044c\", \"\\u043e\\u0436\\u0438\\u0434\\u0430\\u043d\\u0438\\u0435\", \"\\u043e\\u0436\\u0438\\u0434\\u0430\\u043d\\u0438\\u0435\", \"\\u043e\\u0436\\u0438\\u0434\\u0430\\u043d\\u0438\\u0435\", \"\\u043e\\u0436\\u0438\\u0434\\u0430\\u043d\\u0438\\u0435\", \"\\u043e\\u0436\\u0438\\u0434\\u0430\\u043d\\u0438\\u0435\", \"\\u043e\\u0436\\u0438\\u0434\\u0430\\u043d\\u0438\\u0435\", \"\\u043e\\u0436\\u0438\\u0434\\u0430\\u043d\\u0438\\u0435\", \"\\u043e\\u0437\\u043e\\u043d\", \"\\u043e\\u0438\", \"\\u043e\\u043a\\u043e\\u0448\\u043a\\u043e\", \"\\u043e\\u043b\\u0435\\u0433\", \"\\u043e\\u043d\\u043b\\u0430\\u0438\\u043d\", \"\\u043e\\u043d\\u043b\\u0430\\u0438\\u043d\", \"\\u043e\\u043d\\u043b\\u0430\\u0438\\u043d\", \"\\u043e\\u043d\\u043b\\u0430\\u0438\\u043d\", \"\\u043e\\u043d\\u043b\\u0430\\u0438\\u043d\", \"\\u043e\\u043d\\u043b\\u0430\\u0438\\u043d\", \"\\u043e\\u043d\\u043b\\u0430\\u0438\\u043d\", \"\\u043e\\u043e\\u043e\", \"\\u043e\\u043f\\u0435\\u0440\\u0430\\u0446\\u0438\\u043e\\u043d\\u0438\\u0441\\u0442\", \"\\u043e\\u043f\\u0435\\u0440\\u0430\\u0446\\u0438\\u043e\\u043d\\u0438\\u0441\\u0442\", \"\\u043e\\u043f\\u0435\\u0440\\u0430\\u0446\\u0438\\u043e\\u043d\\u0438\\u0441\\u0442\", \"\\u043e\\u043f\\u0435\\u0440\\u0430\\u0446\\u0438\\u043e\\u043d\\u0438\\u0441\\u0442\", \"\\u043e\\u043f\\u0435\\u0440\\u0430\\u0446\\u0438\\u043e\\u043d\\u0438\\u0441\\u0442\", \"\\u043e\\u043f\\u0435\\u0440\\u0430\\u0446\\u0438\\u043e\\u043d\\u0438\\u0441\\u0442\\u043a\\u0430\", \"\\u043e\\u043f\\u0435\\u0440\\u0430\\u0446\\u0438\\u043e\\u043d\\u0438\\u0441\\u0442\\u043a\\u0430\", \"\\u043e\\u043f\\u0435\\u0440\\u0430\\u0446\\u0438\\u043e\\u043d\\u0438\\u0441\\u0442\\u043a\\u0430\", \"\\u043e\\u043f\\u0435\\u0440\\u0430\\u0446\\u0438\\u044f\", \"\\u043e\\u043f\\u0435\\u0440\\u0430\\u0446\\u0438\\u044f\", \"\\u043e\\u043f\\u0435\\u0440\\u0430\\u0446\\u0438\\u044f\", \"\\u043e\\u043f\\u0435\\u0440\\u0430\\u0446\\u0438\\u044f\", \"\\u043e\\u043f\\u0435\\u0440\\u0430\\u0446\\u0438\\u044f\", \"\\u043e\\u043f\\u043b\\u0430\\u0442\\u0430\", \"\\u043e\\u043f\\u043b\\u0430\\u0442\\u0430\", \"\\u043e\\u043f\\u043b\\u0430\\u0442\\u0430\", \"\\u043e\\u043f\\u043b\\u0430\\u0442\\u0430\", \"\\u043e\\u043f\\u043b\\u0430\\u0442\\u0430\", \"\\u043e\\u043f\\u043b\\u0430\\u0442\\u0430\", \"\\u043e\\u043f\\u043b\\u0430\\u0442\\u0438\\u0442\\u044c\", \"\\u043e\\u043f\\u043b\\u0430\\u0442\\u0438\\u0442\\u044c\", \"\\u043e\\u043f\\u043b\\u0430\\u0442\\u0438\\u0442\\u044c\", \"\\u043e\\u043f\\u043b\\u0430\\u0442\\u0438\\u0442\\u044c\", \"\\u043e\\u043f\\u043b\\u0430\\u0442\\u0438\\u0442\\u044c\", \"\\u043e\\u043f\\u043b\\u0430\\u0442\\u0438\\u0442\\u044c\", \"\\u043e\\u043f\\u043b\\u0430\\u0442\\u0438\\u0442\\u044c\", \"\\u043e\\u043f\\u043b\\u0430\\u0442\\u0438\\u0442\\u044c\", \"\\u043e\\u043f\\u0440\\u0435\\u0434\\u0435\\u043b\\u0438\\u0442\\u044c\", \"\\u043e\\u043f\\u0443\\u0431\\u043b\\u0438\\u043a\\u043e\\u0432\\u0430\\u0442\\u044c\", \"\\u043e\\u043f\\u0446\\u0438\\u044f\", \"\\u043e\\u043f\\u0446\\u0438\\u044f\", \"\\u043e\\u043f\\u0446\\u0438\\u044f\", \"\\u043e\\u043f\\u0446\\u0438\\u044f\", \"\\u043e\\u043f\\u0446\\u0438\\u044f\", \"\\u043e\\u043f\\u0446\\u0438\\u044f\", \"\\u043e\\u0440\\u0434\\u0436\\u043e\\u043d\\u0438\\u043a\\u0438\\u0434\\u0437\\u0435\", \"\\u043e\\u0441\\u043d\\u043e\\u0432\\u0430\\u0442\\u044c\", \"\\u043e\\u0441\\u043e\\u0437\\u043d\\u0430\\u043d\\u043d\\u043e\", \"\\u043e\\u0441\\u0442\\u043e\\u0440\\u043e\\u0436\\u043d\\u044b\\u0439\", \"\\u043e\\u0441\\u0443\\u0449\\u0435\\u0441\\u0442\\u0432\\u043b\\u044f\\u0442\\u044c\\u0441\\u044f\", \"\\u043e\\u0441\\u0443\\u0449\\u0435\\u0441\\u0442\\u0432\\u043b\\u044f\\u0442\\u044c\\u0441\\u044f\", \"\\u043e\\u0442\\u0432\\u0435\\u0442\", \"\\u043e\\u0442\\u0432\\u0435\\u0442\", \"\\u043e\\u0442\\u0432\\u0435\\u0442\", \"\\u043e\\u0442\\u0432\\u0435\\u0442\", \"\\u043e\\u0442\\u0432\\u0435\\u0442\", \"\\u043e\\u0442\\u0432\\u0435\\u0442\", \"\\u043e\\u0442\\u0432\\u0435\\u0442\", \"\\u043e\\u0442\\u0434\\u0435\\u043b\\u0435\\u043d\\u0438\\u0435\", \"\\u043e\\u0442\\u0434\\u0435\\u043b\\u0435\\u043d\\u0438\\u0435\", \"\\u043e\\u0442\\u0434\\u0435\\u043b\\u0435\\u043d\\u0438\\u0435\", \"\\u043e\\u0442\\u0434\\u0435\\u043b\\u0435\\u043d\\u0438\\u0435\", \"\\u043e\\u0442\\u0434\\u0435\\u043b\\u0435\\u043d\\u0438\\u0435\", \"\\u043e\\u0442\\u0434\\u0435\\u043b\\u0435\\u043d\\u0438\\u0435\", \"\\u043e\\u0442\\u0434\\u0435\\u043b\\u0435\\u043d\\u0438\\u0435\", \"\\u043e\\u0442\\u0434\\u0435\\u043b\\u0435\\u043d\\u0438\\u0435\", \"\\u043e\\u0442\\u043a\\u0430\\u0437\\u0430\\u0442\\u044c\\u0441\\u044f\", \"\\u043e\\u0442\\u043a\\u0430\\u0437\\u0430\\u0442\\u044c\\u0441\\u044f\", \"\\u043e\\u0442\\u043a\\u0430\\u0437\\u0430\\u0442\\u044c\\u0441\\u044f\", \"\\u043e\\u0442\\u043a\\u0430\\u0437\\u0430\\u0442\\u044c\\u0441\\u044f\", \"\\u043e\\u0442\\u043a\\u0430\\u0437\\u0430\\u0442\\u044c\\u0441\\u044f\", \"\\u043e\\u0442\\u043a\\u0430\\u0437\\u0430\\u0442\\u044c\\u0441\\u044f\", \"\\u043e\\u0442\\u043a\\u0430\\u0437\\u0430\\u0442\\u044c\\u0441\\u044f\", \"\\u043e\\u0442\\u043a\\u0430\\u0437\\u0430\\u0442\\u044c\\u0441\\u044f\", \"\\u043e\\u0442\\u043a\\u0430\\u0437\\u044b\\u0432\\u0430\\u0442\\u044c\\u0441\\u044f\", \"\\u043e\\u0442\\u043a\\u0430\\u0437\\u044b\\u0432\\u0430\\u0442\\u044c\\u0441\\u044f\", \"\\u043e\\u0442\\u043a\\u0430\\u0437\\u044b\\u0432\\u0430\\u0442\\u044c\\u0441\\u044f\", \"\\u043e\\u0442\\u043a\\u0430\\u0437\\u044b\\u0432\\u0430\\u0442\\u044c\\u0441\\u044f\", \"\\u043e\\u0442\\u043a\\u0430\\u0437\\u044b\\u0432\\u0430\\u0442\\u044c\\u0441\\u044f\", \"\\u043e\\u0442\\u043a\\u043b\\u044e\\u0447\\u0430\\u0442\\u044c\", \"\\u043e\\u0442\\u043a\\u043b\\u044e\\u0447\\u0435\\u043d\\u0438\\u0435\", \"\\u043e\\u0442\\u043a\\u043b\\u044e\\u0447\\u0435\\u043d\\u0438\\u0435\", \"\\u043e\\u0442\\u043a\\u043b\\u044e\\u0447\\u0435\\u043d\\u0438\\u0435\", \"\\u043e\\u0442\\u043a\\u043b\\u044e\\u0447\\u0438\\u0442\\u044c\", \"\\u043e\\u0442\\u043a\\u043b\\u044e\\u0447\\u0438\\u0442\\u044c\", \"\\u043e\\u0442\\u043a\\u043b\\u044e\\u0447\\u0438\\u0442\\u044c\", \"\\u043e\\u0442\\u043d\\u043e\\u0448\\u0435\\u043d\\u0438\\u0435\", \"\\u043e\\u0442\\u043d\\u043e\\u0448\\u0435\\u043d\\u0438\\u0435\", \"\\u043e\\u0442\\u043d\\u043e\\u0448\\u0435\\u043d\\u0438\\u0435\", \"\\u043e\\u0442\\u043d\\u043e\\u0448\\u0435\\u043d\\u0438\\u0435\", \"\\u043e\\u0442\\u043d\\u043e\\u0448\\u0435\\u043d\\u0438\\u0435\", \"\\u043e\\u0442\\u043d\\u043e\\u0448\\u0435\\u043d\\u0438\\u0435\", \"\\u043e\\u0442\\u043d\\u043e\\u0448\\u0435\\u043d\\u0438\\u0435\", \"\\u043e\\u0442\\u043d\\u043e\\u0448\\u0435\\u043d\\u0438\\u0435\", \"\\u043e\\u0442\\u043f\\u0440\\u0430\\u0432\\u0438\\u0442\\u0435\\u043b\\u044c\", \"\\u043e\\u0442\\u043f\\u0440\\u0430\\u0432\\u043a\\u0430\", \"\\u043e\\u0444\\u0438\\u0441\", \"\\u043e\\u0444\\u0438\\u0441\", \"\\u043e\\u0444\\u0438\\u0441\", \"\\u043e\\u0444\\u0438\\u0441\", \"\\u043e\\u0444\\u0438\\u0441\", \"\\u043e\\u0444\\u0438\\u0441\", \"\\u043e\\u0444\\u0438\\u0441\", \"\\u043e\\u0444\\u0438\\u0441\", \"\\u043e\\u0444\\u043e\\u0440\\u043c\\u043b\\u0435\\u043d\\u0438\\u0435\", \"\\u043e\\u0444\\u043e\\u0440\\u043c\\u043b\\u0435\\u043d\\u0438\\u0435\", \"\\u043e\\u0444\\u043e\\u0440\\u043c\\u043b\\u0435\\u043d\\u0438\\u0435\", \"\\u043e\\u0444\\u043e\\u0440\\u043c\\u043b\\u0435\\u043d\\u0438\\u0435\", \"\\u043e\\u0444\\u043e\\u0440\\u043c\\u043b\\u0435\\u043d\\u0438\\u0435\", \"\\u043e\\u0446\\u0435\\u043d\\u043e\\u0447\\u043d\\u044b\\u0439\", \"\\u043e\\u0447\\u0435\\u043d\\u044c\", \"\\u043e\\u0447\\u0435\\u043d\\u044c\", \"\\u043e\\u0447\\u0435\\u043d\\u044c\", \"\\u043e\\u0447\\u0435\\u043d\\u044c\", \"\\u043e\\u0447\\u0435\\u043d\\u044c\", \"\\u043e\\u0447\\u0435\\u043d\\u044c\", \"\\u043e\\u0447\\u0435\\u043d\\u044c\", \"\\u043e\\u0447\\u0435\\u043d\\u044c\", \"\\u043e\\u0447\\u0435\\u0440\\u0435\\u0434\\u044c\", \"\\u043e\\u0447\\u0435\\u0440\\u0435\\u0434\\u044c\", \"\\u043e\\u0447\\u0435\\u0440\\u0435\\u0434\\u044c\", \"\\u043e\\u0447\\u0435\\u0440\\u0435\\u0434\\u044c\", \"\\u043e\\u0447\\u0435\\u0440\\u0435\\u0434\\u044c\", \"\\u043e\\u0447\\u0435\\u0440\\u0435\\u0434\\u044c\", \"\\u043f\\u0430\\u0434\\u044b\", \"\\u043f\\u0430\\u0434\\u044b\", \"\\u043f\\u0430\\u043a\\u0435\\u0442\", \"\\u043f\\u0430\\u043a\\u0435\\u0442\", \"\\u043f\\u0430\\u043a\\u0435\\u0442\", \"\\u043f\\u0430\\u043a\\u0435\\u0442\", \"\\u043f\\u0430\\u043a\\u0435\\u0442\", \"\\u043f\\u0430\\u043e\", \"\\u043f\\u0430\\u043e\", \"\\u043f\\u0430\\u043e\", \"\\u043f\\u0430\\u043e\", \"\\u043f\\u0430\\u0440\\u043e\\u043b\\u044c\", \"\\u043f\\u0430\\u0440\\u043e\\u043b\\u044c\", \"\\u043f\\u0430\\u0440\\u043e\\u043b\\u044c\", \"\\u043f\\u0435\\u043d\\u0438\\u0442\\u044c\", \"\\u043f\\u0435\\u043d\\u044f\", \"\\u043f\\u0435\\u043d\\u044f\", \"\\u043f\\u0435\\u043d\\u044f\", \"\\u043f\\u0435\\u0440\\u0435\\u0432\\u0435\\u0441\\u0442\\u0438\", \"\\u043f\\u0435\\u0440\\u0435\\u0432\\u0435\\u0441\\u0442\\u0438\", \"\\u043f\\u0435\\u0440\\u0435\\u0432\\u0435\\u0441\\u0442\\u0438\", \"\\u043f\\u0435\\u0440\\u0435\\u0432\\u0435\\u0441\\u0442\\u0438\", \"\\u043f\\u0435\\u0440\\u0435\\u0432\\u0435\\u0441\\u0442\\u0438\", \"\\u043f\\u0435\\u0440\\u0435\\u0432\\u0435\\u0441\\u0442\\u0438\", \"\\u043f\\u0435\\u0440\\u0435\\u0432\\u0435\\u0441\\u0442\\u0438\", \"\\u043f\\u0435\\u0440\\u0435\\u0432\\u043e\\u0434\", \"\\u043f\\u0435\\u0440\\u0435\\u0432\\u043e\\u0434\", \"\\u043f\\u0435\\u0440\\u0435\\u0432\\u043e\\u0434\", \"\\u043f\\u0435\\u0440\\u0435\\u0432\\u043e\\u0434\", \"\\u043f\\u0435\\u0440\\u0435\\u0432\\u043e\\u0434\", \"\\u043f\\u0435\\u0440\\u0435\\u0432\\u043e\\u0434\", \"\\u043f\\u0435\\u0440\\u0435\\u0432\\u044b\\u043f\\u0443\\u0441\\u043a\", \"\\u043f\\u0435\\u0440\\u0435\\u0432\\u044b\\u043f\\u0443\\u0441\\u043a\", \"\\u043f\\u0435\\u0440\\u0435\\u0432\\u044b\\u043f\\u0443\\u0441\\u043a\", \"\\u043f\\u0435\\u0440\\u0435\\u0432\\u044b\\u043f\\u0443\\u0441\\u0442\\u0438\\u0442\\u044c\", \"\\u043f\\u0435\\u0440\\u0435\\u0432\\u044b\\u043f\\u0443\\u0441\\u0442\\u0438\\u0442\\u044c\", \"\\u043f\\u0435\\u0440\\u0435\\u043f\\u043b\\u0430\\u0447\\u0438\\u0432\\u0430\\u0442\\u044c\", \"\\u043f\\u0435\\u0440\\u0435\\u043f\\u043b\\u0430\\u0447\\u0438\\u0432\\u0430\\u0442\\u044c\", \"\\u043f\\u0435\\u0440\\u0435\\u0443\\u0441\\u0442\\u0430\\u043d\\u043e\\u0432\\u0438\\u0442\\u044c\", \"\\u043f\\u0435\\u0442\\u0440\\u043e\\u043a\\u043e\\u043c\\u043c\\u0435\\u0440\\u0435\\u0446\", \"\\u043f\\u0438\\u043d\", \"\\u043f\\u0438\\u043d\", \"\\u043f\\u0438\\u0441\\u0430\\u0442\\u044c\", \"\\u043f\\u0438\\u0441\\u0430\\u0442\\u044c\", \"\\u043f\\u0438\\u0441\\u0430\\u0442\\u044c\", \"\\u043f\\u0438\\u0441\\u0430\\u0442\\u044c\", \"\\u043f\\u0438\\u0441\\u0430\\u0442\\u044c\", \"\\u043f\\u0438\\u0441\\u0430\\u0442\\u044c\", \"\\u043f\\u043b\\u0430\\u0442\\u0435\\u043b\\u044c\\u0449\\u0438\\u043a\", \"\\u043f\\u043b\\u0430\\u0442\\u0438\\u0442\\u044c\", \"\\u043f\\u043b\\u0430\\u0442\\u0438\\u0442\\u044c\", \"\\u043f\\u043b\\u0430\\u0442\\u0438\\u0442\\u044c\", \"\\u043f\\u043b\\u0430\\u0442\\u0438\\u0442\\u044c\", \"\\u043f\\u043b\\u0430\\u0442\\u0438\\u0442\\u044c\", \"\\u043f\\u043b\\u0430\\u0442\\u0438\\u0442\\u044c\", \"\\u043f\\u043b\\u0430\\u0442\\u0438\\u0442\\u044c\", \"\\u043f\\u043b\\u0430\\u0442\\u0451\\u0436\", \"\\u043f\\u043b\\u0430\\u0442\\u0451\\u0436\", \"\\u043f\\u043b\\u0430\\u0442\\u0451\\u0436\", \"\\u043f\\u043b\\u0430\\u0442\\u0451\\u0436\", \"\\u043f\\u043b\\u0430\\u0442\\u0451\\u0436\", \"\\u043f\\u043b\\u0430\\u0442\\u0451\\u0436\", \"\\u043f\\u043b\\u0430\\u0442\\u0451\\u0436\", \"\\u043f\\u043b\\u0430\\u0442\\u0451\\u0436\", \"\\u043f\\u043b\\u043e\\u0442\\u0438\\u0442\\u044c\", \"\\u043f\\u043e\\u0431\\u043b\\u0430\\u0433\\u043e\\u0434\\u0430\\u0440\\u0438\\u0442\\u044c\", \"\\u043f\\u043e\\u0432\\u044b\\u0448\\u0435\\u043d\\u0438\\u0435\", \"\\u043f\\u043e\\u0432\\u044b\\u0448\\u0435\\u043d\\u0438\\u0435\", \"\\u043f\\u043e\\u0432\\u044b\\u0448\\u0435\\u043d\\u0438\\u0435\", \"\\u043f\\u043e\\u0433\\u0430\\u0441\\u0438\\u0442\\u044c\", \"\\u043f\\u043e\\u0433\\u0430\\u0441\\u0438\\u0442\\u044c\", \"\\u043f\\u043e\\u0433\\u0430\\u0441\\u0438\\u0442\\u044c\", \"\\u043f\\u043e\\u0433\\u0430\\u0441\\u0438\\u0442\\u044c\", \"\\u043f\\u043e\\u0433\\u0430\\u0441\\u0438\\u0442\\u044c\", \"\\u043f\\u043e\\u0433\\u0430\\u0448\\u0435\\u043d\\u0438\\u0435\", \"\\u043f\\u043e\\u0433\\u0430\\u0448\\u0435\\u043d\\u0438\\u0435\", \"\\u043f\\u043e\\u0433\\u0430\\u0448\\u0435\\u043d\\u0438\\u0435\", \"\\u043f\\u043e\\u0433\\u0430\\u0448\\u0435\\u043d\\u0438\\u0435\", \"\\u043f\\u043e\\u0433\\u0430\\u0448\\u0435\\u043d\\u0438\\u0435\", \"\\u043f\\u043e\\u0433\\u0430\\u0448\\u0435\\u043d\\u0438\\u0435\", \"\\u043f\\u043e\\u0434\\u0430\\u0432\\u0430\\u0442\\u044c\", \"\\u043f\\u043e\\u0434\\u0430\\u0432\\u0430\\u0442\\u044c\", \"\\u043f\\u043e\\u0434\\u0430\\u0432\\u0430\\u0442\\u044c\", \"\\u043f\\u043e\\u0434\\u0430\\u0432\\u0430\\u0442\\u044c\", \"\\u043f\\u043e\\u0434\\u0430\\u0440\\u043e\\u043a\", \"\\u043f\\u043e\\u0434\\u0430\\u0440\\u043e\\u043a\", \"\\u043f\\u043e\\u0434\\u0430\\u0440\\u043e\\u043a\", \"\\u043f\\u043e\\u0434\\u0430\\u0440\\u043e\\u043a\", \"\\u043f\\u043e\\u0434\\u0430\\u0440\\u043e\\u043a\", \"\\u043f\\u043e\\u0434\\u0430\\u0440\\u043e\\u043a\", \"\\u043f\\u043e\\u0434\\u0430\\u0442\\u044c\", \"\\u043f\\u043e\\u0434\\u0430\\u0442\\u044c\", \"\\u043f\\u043e\\u0434\\u0430\\u0442\\u044c\", \"\\u043f\\u043e\\u0434\\u0430\\u0442\\u044c\", \"\\u043f\\u043e\\u0434\\u0430\\u0442\\u044c\", \"\\u043f\\u043e\\u0434\\u0433\\u043e\\u0442\\u043e\\u0432\\u043a\\u0430\", \"\\u043f\\u043e\\u0434\\u0434\\u0435\\u0440\\u0436\\u043a\\u0430\", \"\\u043f\\u043e\\u0434\\u0434\\u0435\\u0440\\u0436\\u043a\\u0430\", \"\\u043f\\u043e\\u0434\\u0434\\u0435\\u0440\\u0436\\u043a\\u0430\", \"\\u043f\\u043e\\u0434\\u0434\\u0435\\u0440\\u0436\\u043a\\u0430\", \"\\u043f\\u043e\\u0434\\u0434\\u0435\\u0440\\u0436\\u043a\\u0430\", \"\\u043f\\u043e\\u0434\\u0435\\u043b\\u0438\\u0442\\u044c\\u0441\\u044f\", \"\\u043f\\u043e\\u0434\\u043a\\u043b\\u044e\\u0447\\u0438\\u0442\\u044c\", \"\\u043f\\u043e\\u0434\\u043a\\u043b\\u044e\\u0447\\u0438\\u0442\\u044c\", \"\\u043f\\u043e\\u0434\\u043a\\u043b\\u044e\\u0447\\u0438\\u0442\\u044c\", \"\\u043f\\u043e\\u0434\\u043a\\u043b\\u044e\\u0447\\u0438\\u0442\\u044c\", \"\\u043f\\u043e\\u0434\\u043b\\u0435\\u0436\\u0430\\u0442\\u044c\", \"\\u043f\\u043e\\u0434\\u043e\\u0436\\u0434\\u0430\\u0442\\u044c\", \"\\u043f\\u043e\\u0434\\u043e\\u0436\\u0434\\u0430\\u0442\\u044c\", \"\\u043f\\u043e\\u0434\\u043e\\u0436\\u0434\\u0430\\u0442\\u044c\", \"\\u043f\\u043e\\u0434\\u043e\\u0436\\u0434\\u0430\\u0442\\u044c\", \"\\u043f\\u043e\\u0434\\u043f\\u0438\\u0441\\u0430\\u0442\\u044c\", \"\\u043f\\u043e\\u0434\\u043f\\u0438\\u0441\\u0430\\u0442\\u044c\", \"\\u043f\\u043e\\u0434\\u043f\\u0438\\u0441\\u0430\\u0442\\u044c\", \"\\u043f\\u043e\\u0434\\u043f\\u0438\\u0441\\u0430\\u0442\\u044c\", \"\\u043f\\u043e\\u0437\\u0432\\u043e\\u043d\\u0438\\u0442\\u044c\", \"\\u043f\\u043e\\u0437\\u0432\\u043e\\u043d\\u0438\\u0442\\u044c\", \"\\u043f\\u043e\\u0437\\u0432\\u043e\\u043d\\u0438\\u0442\\u044c\", \"\\u043f\\u043e\\u0437\\u0432\\u043e\\u043d\\u0438\\u0442\\u044c\", \"\\u043f\\u043e\\u0437\\u0432\\u043e\\u043d\\u0438\\u0442\\u044c\", \"\\u043f\\u043e\\u0437\\u0432\\u043e\\u043d\\u0438\\u0442\\u044c\", \"\\u043f\\u043e\\u043a\\u0443\\u043f\\u0430\\u0442\\u0435\\u043b\\u044c\", \"\\u043f\\u043e\\u043a\\u0443\\u043f\\u0430\\u0442\\u0435\\u043b\\u044c\", \"\\u043f\\u043e\\u043a\\u0443\\u043f\\u043a\\u0430\", \"\\u043f\\u043e\\u043a\\u0443\\u043f\\u043a\\u0430\", \"\\u043f\\u043e\\u043a\\u0443\\u043f\\u043a\\u0430\", \"\\u043f\\u043e\\u043a\\u0443\\u043f\\u043a\\u0430\", \"\\u043f\\u043e\\u043a\\u0443\\u043f\\u043a\\u0430\", \"\\u043f\\u043e\\u043b\\u0430\\u0433\\u0430\\u0442\\u044c\\u0441\\u044f\", \"\\u043f\\u043e\\u043b\\u0438\\u0441\", \"\\u043f\\u043e\\u043b\\u043e\\u0436\\u0438\\u0442\\u0435\\u043b\\u044c\\u043d\\u044b\\u0439\", \"\\u043f\\u043e\\u043b\\u043e\\u0436\\u0438\\u0442\\u0435\\u043b\\u044c\\u043d\\u044b\\u0439\", \"\\u043f\\u043e\\u043b\\u043e\\u0436\\u0438\\u0442\\u0435\\u043b\\u044c\\u043d\\u044b\\u0439\", \"\\u043f\\u043e\\u043b\\u043e\\u0449\\u0430\\u0434\\u044c\\u044f\", \"\\u043f\\u043e\\u043b\\u0443\\u0447\\u0438\\u0442\\u044c\", \"\\u043f\\u043e\\u043b\\u0443\\u0447\\u0438\\u0442\\u044c\", \"\\u043f\\u043e\\u043b\\u0443\\u0447\\u0438\\u0442\\u044c\", \"\\u043f\\u043e\\u043b\\u0443\\u0447\\u0438\\u0442\\u044c\", \"\\u043f\\u043e\\u043b\\u0443\\u0447\\u0438\\u0442\\u044c\", \"\\u043f\\u043e\\u043b\\u0443\\u0447\\u0438\\u0442\\u044c\", \"\\u043f\\u043e\\u043b\\u0443\\u0447\\u0438\\u0442\\u044c\", \"\\u043f\\u043e\\u043b\\u0443\\u0447\\u0438\\u0442\\u044c\", \"\\u043f\\u043e\\u0441\\u0442\", \"\\u043f\\u043e\\u0441\\u0442\\u0430\\u043d\\u043e\\u0432\\u043b\\u0435\\u043d\\u0438\\u0435\", \"\\u043f\\u043e\\u0441\\u0442\\u0430\\u043d\\u043e\\u0432\\u043b\\u0435\\u043d\\u0438\\u0435\", \"\\u043f\\u043e\\u0441\\u0442\\u0443\\u043f\\u0438\\u0442\\u044c\", \"\\u043f\\u043e\\u0441\\u0442\\u0443\\u043f\\u0438\\u0442\\u044c\", \"\\u043f\\u043e\\u0441\\u0442\\u0443\\u043f\\u0438\\u0442\\u044c\", \"\\u043f\\u043e\\u0441\\u0442\\u0443\\u043f\\u0438\\u0442\\u044c\", \"\\u043f\\u043e\\u0441\\u0442\\u0443\\u043f\\u0438\\u0442\\u044c\", \"\\u043f\\u043e\\u0441\\u0442\\u0443\\u043f\\u0438\\u0442\\u044c\", \"\\u043f\\u043e\\u0441\\u0442\\u0443\\u043f\\u0438\\u0442\\u044c\", \"\\u043f\\u043e\\u0442\\u0435\\u0440\\u044f\\u0442\\u044c\", \"\\u043f\\u043e\\u0442\\u0435\\u0440\\u044f\\u0442\\u044c\", \"\\u043f\\u043e\\u0442\\u0435\\u0440\\u044f\\u0442\\u044c\", \"\\u043f\\u043e\\u0442\\u0435\\u0440\\u044f\\u0442\\u044c\", \"\\u043f\\u043e\\u0442\\u0435\\u0440\\u044f\\u0442\\u044c\", \"\\u043f\\u043e\\u0447\\u0435\\u043c\\u0443\", \"\\u043f\\u043e\\u0447\\u0435\\u043c\\u0443\", \"\\u043f\\u043e\\u0447\\u0435\\u043c\\u0443\", \"\\u043f\\u043e\\u0447\\u0435\\u043c\\u0443\", \"\\u043f\\u043e\\u0447\\u0435\\u043c\\u0443\", \"\\u043f\\u043e\\u0447\\u0435\\u043c\\u0443\", \"\\u043f\\u043e\\u0447\\u0435\\u043c\\u0443\", \"\\u043f\\u043e\\u0447\\u0435\\u043c\\u0443\", \"\\u043f\\u043e\\u0447\\u0442\\u0430\", \"\\u043f\\u043e\\u0447\\u0442\\u0430\", \"\\u043f\\u043e\\u0447\\u0442\\u0430\", \"\\u043f\\u043e\\u0447\\u0442\\u0430\", \"\\u043f\\u0440\\u0435\\u0434\\u0432\\u0430\\u0440\\u0438\\u0442\\u0435\\u043b\\u044c\\u043d\\u044b\\u0439\", \"\\u043f\\u0440\\u0435\\u0434\\u043b\\u043e\\u0436\\u0435\\u043d\\u0438\\u0435\", \"\\u043f\\u0440\\u0435\\u0434\\u043b\\u043e\\u0436\\u0435\\u043d\\u0438\\u0435\", \"\\u043f\\u0440\\u0435\\u0434\\u043b\\u043e\\u0436\\u0435\\u043d\\u0438\\u0435\", \"\\u043f\\u0440\\u0435\\u0434\\u043b\\u043e\\u0436\\u0435\\u043d\\u0438\\u0435\", \"\\u043f\\u0440\\u0435\\u0434\\u043b\\u043e\\u0436\\u0435\\u043d\\u0438\\u0435\", \"\\u043f\\u0440\\u0435\\u0434\\u043b\\u043e\\u0436\\u0435\\u043d\\u0438\\u0435\", \"\\u043f\\u0440\\u0435\\u0434\\u043b\\u043e\\u0436\\u0435\\u043d\\u0438\\u0435\", \"\\u043f\\u0440\\u0435\\u0434\\u043b\\u043e\\u0436\\u0438\\u0442\\u044c\", \"\\u043f\\u0440\\u0435\\u0434\\u043b\\u043e\\u0436\\u0438\\u0442\\u044c\", \"\\u043f\\u0440\\u0435\\u0434\\u043b\\u043e\\u0436\\u0438\\u0442\\u044c\", \"\\u043f\\u0440\\u0435\\u0434\\u043b\\u043e\\u0436\\u0438\\u0442\\u044c\", \"\\u043f\\u0440\\u0435\\u0434\\u043b\\u043e\\u0436\\u0438\\u0442\\u044c\", \"\\u043f\\u0440\\u0435\\u0434\\u043b\\u043e\\u0436\\u0438\\u0442\\u044c\", \"\\u043f\\u0440\\u0435\\u0434\\u043b\\u043e\\u0436\\u0438\\u0442\\u044c\", \"\\u043f\\u0440\\u0435\\u0434\\u043b\\u043e\\u0436\\u0438\\u0442\\u044c\", \"\\u043f\\u0440\\u0435\\u0434\\u043c\\u0435\\u0442\", \"\\u043f\\u0440\\u0435\\u0434\\u0443\\u0441\\u043c\\u043e\\u0442\\u0440\\u0435\\u0442\\u044c\", \"\\u043f\\u0440\\u0435\\u0434\\u0443\\u0441\\u043c\\u043e\\u0442\\u0440\\u0435\\u0442\\u044c\", \"\\u043f\\u0440\\u0435\\u0434\\u0443\\u0441\\u043c\\u043e\\u0442\\u0440\\u0435\\u0442\\u044c\", \"\\u043f\\u0440\\u0435\\u0434\\u0443\\u0441\\u043c\\u043e\\u0442\\u0440\\u0435\\u0442\\u044c\", \"\\u043f\\u0440\\u0435\\u0434\\u044a\\u044f\\u0432\\u0438\\u0442\\u044c\", \"\\u043f\\u0440\\u0435\\u0434\\u044a\\u044f\\u0432\\u043b\\u044f\\u0442\\u044c\", \"\\u043f\\u0440\\u0435\\u0434\\u044a\\u044f\\u0432\\u043b\\u044f\\u0442\\u044c\", \"\\u043f\\u0440\\u0435\\u043a\\u0440\\u0430\\u0442\\u0438\\u0442\\u044c\", \"\\u043f\\u0440\\u0435\\u043a\\u0440\\u0430\\u0442\\u0438\\u0442\\u044c\\u0441\\u044f\", \"\\u043f\\u0440\\u0435\\u043c\\u0438\\u0443\\u043c\", \"\\u043f\\u0440\\u0435\\u0442\\u0435\\u043d\\u0437\\u0438\\u044f\", \"\\u043f\\u0440\\u0435\\u0442\\u0435\\u043d\\u0437\\u0438\\u044f\", \"\\u043f\\u0440\\u0435\\u0442\\u0435\\u043d\\u0437\\u0438\\u044f\", \"\\u043f\\u0440\\u0435\\u0442\\u0435\\u043d\\u0437\\u0438\\u044f\", \"\\u043f\\u0440\\u0435\\u0442\\u0435\\u043d\\u0437\\u0438\\u044f\", \"\\u043f\\u0440\\u0435\\u0442\\u0435\\u043d\\u0437\\u0438\\u044f\", \"\\u043f\\u0440\\u0438\\u0432\\u0435\\u0442\\u043b\\u0438\\u0432\\u044b\\u044f\", \"\\u043f\\u0440\\u0438\\u0432\\u0438\\u043b\\u0435\\u0433\\u0438\\u044f\", \"\\u043f\\u0440\\u0438\\u0432\\u0438\\u043b\\u0435\\u0433\\u0438\\u044f\", \"\\u043f\\u0440\\u0438\\u0432\\u0438\\u043b\\u0435\\u0433\\u0438\\u044f\", \"\\u043f\\u0440\\u0438\\u0432\\u0438\\u043b\\u0435\\u0433\\u0438\\u044f\", \"\\u043f\\u0440\\u0438\\u0432\\u0438\\u043b\\u0435\\u0433\\u0438\\u044f\", \"\\u043f\\u0440\\u0438\\u0432\\u044b\\u043a\\u043d\\u0443\\u0442\\u044c\", \"\\u043f\\u0440\\u0438\\u0432\\u044b\\u043a\\u043d\\u0443\\u0442\\u044c\", \"\\u043f\\u0440\\u0438\\u0433\\u043b\\u0430\\u0448\\u0430\\u0442\\u044c\", \"\\u043f\\u0440\\u0438\\u0435\\u0445\\u0430\\u0442\\u044c\", \"\\u043f\\u0440\\u0438\\u0435\\u0445\\u0430\\u0442\\u044c\", \"\\u043f\\u0440\\u0438\\u0435\\u0445\\u0430\\u0442\\u044c\", \"\\u043f\\u0440\\u0438\\u0435\\u0445\\u0430\\u0442\\u044c\", \"\\u043f\\u0440\\u0438\\u0435\\u0445\\u0430\\u0442\\u044c\", \"\\u043f\\u0440\\u0438\\u0438\\u0442\\u044c\", \"\\u043f\\u0440\\u0438\\u0438\\u0442\\u044c\", \"\\u043f\\u0440\\u0438\\u0438\\u0442\\u044c\", \"\\u043f\\u0440\\u0438\\u0438\\u0442\\u044c\", \"\\u043f\\u0440\\u0438\\u0439\\u0442\\u0438\", \"\\u043f\\u0440\\u0438\\u0439\\u0442\\u0438\", \"\\u043f\\u0440\\u0438\\u0439\\u0442\\u0438\", \"\\u043f\\u0440\\u0438\\u0439\\u0442\\u0438\", \"\\u043f\\u0440\\u0438\\u0439\\u0442\\u0438\", \"\\u043f\\u0440\\u0438\\u0439\\u0442\\u0438\", \"\\u043f\\u0440\\u0438\\u0439\\u0442\\u0438\", \"\\u043f\\u0440\\u0438\\u0439\\u0442\\u0438\", \"\\u043f\\u0440\\u0438\\u043b\\u043e\\u0436\\u0435\\u043d\\u0438\\u0435\", \"\\u043f\\u0440\\u0438\\u043b\\u043e\\u0436\\u0435\\u043d\\u0438\\u0435\", \"\\u043f\\u0440\\u0438\\u043b\\u043e\\u0436\\u0435\\u043d\\u0438\\u0435\", \"\\u043f\\u0440\\u0438\\u043b\\u043e\\u0436\\u0435\\u043d\\u0438\\u0435\", \"\\u043f\\u0440\\u0438\\u043b\\u043e\\u0436\\u0435\\u043d\\u0438\\u0435\", \"\\u043f\\u0440\\u0438\\u043b\\u043e\\u0436\\u0435\\u043d\\u0438\\u0435\", \"\\u043f\\u0440\\u0438\\u043b\\u043e\\u0436\\u0435\\u043d\\u0438\\u0435\", \"\\u043f\\u0440\\u0438\\u043d\\u0446\\u0438\\u043f\\u0438\\u0430\\u043b\\u044c\\u043d\\u043e\", \"\\u043f\\u0440\\u0438\\u043e\\u0431\\u0440\\u0435\\u0441\\u0442\\u0438\", \"\\u043f\\u0440\\u0438\\u0441\\u0442\\u0430\\u0432\", \"\\u043f\\u0440\\u0438\\u0441\\u0442\\u0430\\u0432\", \"\\u043f\\u0440\\u0438\\u0441\\u0442\\u0430\\u0442\\u044c\", \"\\u043f\\u0440\\u0438\\u0447\\u0438\\u043d\\u0430\", \"\\u043f\\u0440\\u0438\\u0447\\u0438\\u043d\\u0430\", \"\\u043f\\u0440\\u0438\\u0447\\u0438\\u043d\\u0430\", \"\\u043f\\u0440\\u0438\\u0447\\u0438\\u043d\\u0430\", \"\\u043f\\u0440\\u0438\\u0447\\u0438\\u043d\\u0430\", \"\\u043f\\u0440\\u0438\\u0447\\u0438\\u043d\\u0430\", \"\\u043f\\u0440\\u0438\\u0448\\u043e\\u043b\", \"\\u043f\\u0440\\u0438\\u044f\\u0442\\u043d\\u043e\", \"\\u043f\\u0440\\u0438\\u044f\\u0442\\u043d\\u043e\", \"\\u043f\\u0440\\u043e\\u0431\\u043b\\u0435\\u043c\\u0430\", \"\\u043f\\u0440\\u043e\\u0431\\u043b\\u0435\\u043c\\u0430\", \"\\u043f\\u0440\\u043e\\u0431\\u043b\\u0435\\u043c\\u0430\", \"\\u043f\\u0440\\u043e\\u0431\\u043b\\u0435\\u043c\\u0430\", \"\\u043f\\u0440\\u043e\\u0431\\u043b\\u0435\\u043c\\u0430\", \"\\u043f\\u0440\\u043e\\u0431\\u043b\\u0435\\u043c\\u0430\", \"\\u043f\\u0440\\u043e\\u0431\\u043b\\u0435\\u043c\\u0430\", \"\\u043f\\u0440\\u043e\\u0433\\u0440\\u0430\\u043c\\u043c\\u0430\", \"\\u043f\\u0440\\u043e\\u0433\\u0440\\u0430\\u043c\\u043c\\u0430\", \"\\u043f\\u0440\\u043e\\u0433\\u0440\\u0430\\u043c\\u043c\\u0430\", \"\\u043f\\u0440\\u043e\\u0433\\u0440\\u0430\\u043c\\u043c\\u0430\", \"\\u043f\\u0440\\u043e\\u0433\\u0440\\u0430\\u043c\\u043c\\u0430\", \"\\u043f\\u0440\\u043e\\u0433\\u0440\\u0430\\u043c\\u043c\\u0430\", \"\\u043f\\u0440\\u043e\\u0433\\u0440\\u0430\\u043c\\u043c\\u0430\", \"\\u043f\\u0440\\u043e\\u0436\\u0434\\u0430\\u0442\\u044c\", \"\\u043f\\u0440\\u043e\\u0436\\u0434\\u0430\\u0442\\u044c\", \"\\u043f\\u0440\\u043e\\u0436\\u0434\\u0430\\u0442\\u044c\", \"\\u043f\\u0440\\u043e\\u0436\\u0434\\u0430\\u0442\\u044c\", \"\\u043f\\u0440\\u043e\\u0438\\u0437\\u043e\\u0438\\u0442\\u044c\", \"\\u043f\\u0440\\u043e\\u0438\\u0437\\u043e\\u0438\\u0442\\u044c\", \"\\u043f\\u0440\\u043e\\u0441\\u0440\\u043e\\u0447\\u0435\\u043d\\u043d\\u043e\\u0438\\u0442\\u044c\", \"\\u043f\\u0440\\u043e\\u0441\\u0440\\u043e\\u0447\\u0435\\u043d\\u043d\\u044b\\u0439\", \"\\u043f\\u0440\\u043e\\u0441\\u0440\\u043e\\u0447\\u043a\\u0430\", \"\\u043f\\u0440\\u043e\\u0441\\u0440\\u043e\\u0447\\u043a\\u0430\", \"\\u043f\\u0440\\u043e\\u0441\\u0440\\u043e\\u0447\\u043a\\u0430\", \"\\u043f\\u0440\\u043e\\u0441\\u0440\\u043e\\u0447\\u043a\\u0430\", \"\\u043f\\u0440\\u043e\\u0441\\u0440\\u043e\\u0447\\u043a\\u0430\", \"\\u043f\\u0440\\u043e\\u0441\\u0440\\u043e\\u0447\\u043a\\u0430\", \"\\u043f\\u0440\\u043e\\u0444\\u0435\\u0441\\u0441\\u0438\\u043e\\u043d\\u0430\\u043b\\u0438\\u0437\\u043c\", \"\\u043f\\u0440\\u043e\\u0445\\u043e\\u0434\", \"\\u043f\\u0440\\u043e\\u0446\\u0435\\u043d\\u0442\", \"\\u043f\\u0440\\u043e\\u0446\\u0435\\u043d\\u0442\", \"\\u043f\\u0440\\u043e\\u0446\\u0435\\u043d\\u0442\", \"\\u043f\\u0440\\u043e\\u0446\\u0435\\u043d\\u0442\", \"\\u043f\\u0440\\u043e\\u0446\\u0435\\u043d\\u0442\", \"\\u043f\\u0440\\u043e\\u0446\\u0435\\u043d\\u0442\\u043d\\u044b\\u0439\", \"\\u043f\\u0440\\u043e\\u0446\\u0435\\u043d\\u0442\\u043d\\u044b\\u0439\", \"\\u043f\\u0440\\u043e\\u0446\\u0435\\u043d\\u0442\\u043d\\u044b\\u0439\", \"\\u043f\\u0440\\u043e\\u044f\\u0441\\u043d\\u0438\\u0442\\u044c\", \"\\u043f\\u0443\\u043d\\u043a\\u0442\", \"\\u043f\\u0443\\u043d\\u043a\\u0442\", \"\\u043f\\u0443\\u043d\\u043a\\u0442\", \"\\u043f\\u0443\\u043d\\u043a\\u0442\", \"\\u043f\\u0443\\u043d\\u043a\\u0442\", \"\\u043f\\u0443\\u043d\\u043a\\u0442\", \"\\u043f\\u0443\\u043d\\u043a\\u0442\", \"\\u043f\\u0443\\u0442\\u0435\\u0448\\u0435\\u0441\\u0442\\u0432\\u0438\\u0435\", \"\\u043f\\u0443\\u0448\\u043a\\u0438\\u043d\", \"\\u043f\\u044b\\u0442\\u043a\\u0430\", \"\\u043f\\u044f\\u0442\\u043d\\u0438\\u0446\\u043a\\u0438\\u0439\", \"\\u0440\\u0430\\u0431\\u043e\\u0442\\u0430\", \"\\u0440\\u0430\\u0431\\u043e\\u0442\\u0430\", \"\\u0440\\u0430\\u0431\\u043e\\u0442\\u0430\", \"\\u0440\\u0430\\u0431\\u043e\\u0442\\u0430\", \"\\u0440\\u0430\\u0431\\u043e\\u0442\\u0430\", \"\\u0440\\u0430\\u0431\\u043e\\u0442\\u0430\", \"\\u0440\\u0430\\u0431\\u043e\\u0442\\u0430\", \"\\u0440\\u0430\\u0431\\u043e\\u0442\\u0430\\u0442\\u044c\", \"\\u0440\\u0430\\u0431\\u043e\\u0442\\u0430\\u0442\\u044c\", \"\\u0440\\u0430\\u0431\\u043e\\u0442\\u0430\\u0442\\u044c\", \"\\u0440\\u0430\\u0431\\u043e\\u0442\\u0430\\u0442\\u044c\", \"\\u0440\\u0430\\u0431\\u043e\\u0442\\u0430\\u0442\\u044c\", \"\\u0440\\u0430\\u0431\\u043e\\u0442\\u0430\\u0442\\u044c\", \"\\u0440\\u0430\\u0431\\u043e\\u0442\\u0430\\u0442\\u044c\", \"\\u0440\\u0430\\u0437\\u0431\\u043b\\u043e\\u043a\\u0438\\u0440\\u043e\\u0432\\u043a\\u0430\", \"\\u0440\\u0430\\u0437\\u0431\\u043b\\u043e\\u043a\\u0438\\u0440\\u043e\\u0432\\u043a\\u0430\", \"\\u0440\\u0430\\u0437\\u0432\\u0435\\u0441\\u0442\\u0438\", \"\\u0440\\u0430\\u0437\\u0432\\u0435\\u0441\\u0442\\u0438\", \"\\u0440\\u0430\\u0437\\u0432\\u043e\\u0434\", \"\\u0440\\u0430\\u0437\\u0432\\u043e\\u0434\", \"\\u0440\\u0430\\u0437\\u0432\\u043e\\u0434\", \"\\u0440\\u0430\\u0437\\u0443\\u043c\\u0435\\u0435\\u0442\\u0441\\u044f\", \"\\u0440\\u0430\\u0437\\u0443\\u043c\\u0435\\u0435\\u0442\\u0441\\u044f\", \"\\u0440\\u0430\\u0437\\u0443\\u043c\\u043d\\u044b\\u0439\", \"\\u0440\\u0430\\u0437\\u0443\\u043c\\u043d\\u044b\\u0439\", \"\\u0440\\u0430\\u0441\\u0441\\u043b\\u0435\\u0434\\u043e\\u0432\\u0430\\u043d\\u0438\\u0435\", \"\\u0440\\u0430\\u0441\\u0441\\u0447\\u0438\\u0442\\u044b\\u0432\\u0430\\u0442\\u044c\", \"\\u0440\\u0430\\u0441\\u0441\\u0447\\u0438\\u0442\\u044b\\u0432\\u0430\\u0442\\u044c\", \"\\u0440\\u0435\\u0433\\u0438\\u0441\\u0442\\u0440\\u0430\\u0442\\u043e\\u0440\", \"\\u0440\\u0435\\u0433\\u0438\\u0441\\u0442\\u0440\\u0430\\u0446\\u0438\\u044f\", \"\\u0440\\u0435\\u0433\\u0438\\u0441\\u0442\\u0440\\u0430\\u0446\\u0438\\u044f\", \"\\u0440\\u0435\\u0433\\u0438\\u0441\\u0442\\u0440\\u0430\\u0446\\u0438\\u044f\", \"\\u0440\\u0435\\u0437\\u0435\\u0440\\u0432\", \"\\u0440\\u0435\\u0448\\u0435\\u043d\\u0438\\u0435\", \"\\u0440\\u0435\\u0448\\u0435\\u043d\\u0438\\u0435\", \"\\u0440\\u0435\\u0448\\u0435\\u043d\\u0438\\u0435\", \"\\u0440\\u0435\\u0448\\u0435\\u043d\\u0438\\u0435\", \"\\u0440\\u0435\\u0448\\u0435\\u043d\\u0438\\u0435\", \"\\u0440\\u0435\\u0448\\u0435\\u043d\\u0438\\u0435\", \"\\u0440\\u0435\\u0448\\u0438\\u0442\\u044c\", \"\\u0440\\u0435\\u0448\\u0438\\u0442\\u044c\", \"\\u0440\\u0435\\u0448\\u0438\\u0442\\u044c\", \"\\u0440\\u0435\\u0448\\u0438\\u0442\\u044c\", \"\\u0440\\u0435\\u0448\\u0438\\u0442\\u044c\", \"\\u0440\\u0435\\u0448\\u0438\\u0442\\u044c\", \"\\u0440\\u0435\\u0448\\u0438\\u0442\\u044c\", \"\\u0440\\u0435\\u0448\\u0438\\u0442\\u044c\", \"\\u0440\\u043e\\u0441\\u0442\\u043e\\u0432\", \"\\u0440\\u0443\\u0431\\u0435\\u0436\", \"\\u0440\\u0443\\u0431\\u043b\\u0435\\u0432\\u044b\\u044f\", \"\\u0440\\u0443\\u0431\\u043b\\u0435\\u0439\", \"\\u0440\\u0443\\u0431\\u043b\\u0435\\u0439\", \"\\u0440\\u0443\\u0431\\u043b\\u0435\\u0439\", \"\\u0440\\u0443\\u0431\\u043b\\u0435\\u0439\", \"\\u0440\\u0443\\u0431\\u043b\\u0435\\u0439\", \"\\u0440\\u0443\\u0431\\u043b\\u0435\\u0439\", \"\\u0440\\u0443\\u0431\\u043b\\u0435\\u0439\", \"\\u0440\\u0443\\u0431\\u043b\\u0435\\u0439\", \"\\u0440\\u0443\\u0431\\u043b\\u044c\", \"\\u0440\\u0443\\u0431\\u043b\\u044c\", \"\\u0440\\u0443\\u0431\\u043b\\u044c\", \"\\u0440\\u0443\\u043a\\u043e\\u0432\\u043e\\u0434\\u0438\\u0442\\u0435\\u043b\\u0435\\u0439\", \"\\u0440\\u0444\", \"\\u0440\\u0444\", \"\\u0440\\u0444\", \"\\u0441\\u0430\\u0432\\u0443\\u0448\\u043a\\u0438\\u043d\\u0430\", \"\\u0441\\u0430\\u0432\\u0443\\u0448\\u043a\\u0438\\u043d\\u0430\", \"\\u0441\\u0431\\u0435\\u0440\\u0435\\u0436\\u0435\\u043d\\u0438\\u0435\", \"\\u0441\\u0432\\u0435\\u0440\\u0438\\u0442\\u044c\", \"\\u0441\\u0432\\u0435\\u0440\\u0438\\u0442\\u044c\", \"\\u0441\\u0432\\u043e\\u0439\", \"\\u0441\\u0432\\u043e\\u0439\", \"\\u0441\\u0432\\u043e\\u0439\", \"\\u0441\\u0432\\u043e\\u0439\", \"\\u0441\\u0432\\u043e\\u0439\", \"\\u0441\\u0432\\u043e\\u0439\", \"\\u0441\\u0432\\u043e\\u0439\", \"\\u0441\\u0432\\u043e\\u0439\", \"\\u0441\\u0434\\u0435\\u043b\\u0430\\u0442\\u044c\", \"\\u0441\\u0434\\u0435\\u043b\\u0430\\u0442\\u044c\", \"\\u0441\\u0434\\u0435\\u043b\\u0430\\u0442\\u044c\", \"\\u0441\\u0434\\u0435\\u043b\\u0430\\u0442\\u044c\", \"\\u0441\\u0434\\u0435\\u043b\\u0430\\u0442\\u044c\", \"\\u0441\\u0434\\u0435\\u043b\\u0430\\u0442\\u044c\", \"\\u0441\\u0434\\u0435\\u043b\\u0430\\u0442\\u044c\", \"\\u0441\\u0434\\u0435\\u043b\\u0430\\u0442\\u044c\", \"\\u0441\\u0434\\u0435\\u043b\\u043a\\u0430\", \"\\u0441\\u0434\\u0435\\u043b\\u043a\\u0430\", \"\\u0441\\u0435\\u0440\\u0434\\u0446\\u0435\", \"\\u0441\\u0435\\u0440\\u0442\\u0438\\u0444\\u0438\\u043a\\u0430\\u0442\", \"\\u0441\\u0435\\u0440\\u0442\\u0438\\u0444\\u0438\\u043a\\u0430\\u0442\", \"\\u0441\\u0435\\u0445\", \"\\u0441\\u0436\", \"\\u0441\\u0438\\u0433\\u043d\\u0430\\u043b\", \"\\u0441\\u0438\\u0434\\u0435\\u043b\\u044c\\u043d\\u0438\\u043a\\u043e\\u0432\\u043e\\u0439\", \"\\u0441\\u0438\\u0442\\u0438\", \"\\u0441\\u043a\\u0430\\u0437\\u0430\\u0442\\u044c\", \"\\u0441\\u043a\\u0430\\u0437\\u0430\\u0442\\u044c\", \"\\u0441\\u043a\\u0430\\u0437\\u0430\\u0442\\u044c\", \"\\u0441\\u043a\\u0430\\u0437\\u0430\\u0442\\u044c\", \"\\u0441\\u043a\\u0430\\u0437\\u0430\\u0442\\u044c\", \"\\u0441\\u043a\\u0430\\u0437\\u0430\\u0442\\u044c\", \"\\u0441\\u043a\\u0430\\u0437\\u0430\\u0442\\u044c\", \"\\u0441\\u043a\\u0430\\u0437\\u0430\\u0442\\u044c\", \"\\u0441\\u043a\\u0430\\u043d\", \"\\u0441\\u043a\\u0430\\u0447\\u043a\\u043e\\u0432\\u043e\\u0439\", \"\\u0441\\u043b\\u0438\\u043f\", \"\\u0441\\u043b\\u0443\\u0436\\u0431\\u0430\", \"\\u0441\\u043b\\u0443\\u0436\\u0431\\u0430\", \"\\u0441\\u043b\\u0443\\u0436\\u0431\\u0430\", \"\\u0441\\u043b\\u0443\\u0436\\u0431\\u0430\", \"\\u0441\\u043b\\u0443\\u0436\\u0431\\u0430\", \"\\u0441\\u043b\\u0443\\u0436\\u0431\\u0430\", \"\\u0441\\u043c\\u0441\", \"\\u0441\\u043c\\u0441\", \"\\u0441\\u043c\\u0441\", \"\\u0441\\u043c\\u0441\", \"\\u0441\\u043c\\u0441\", \"\\u0441\\u043c\\u0441\", \"\\u0441\\u043d\\u044f\\u0442\\u0438\\u0435\", \"\\u0441\\u043d\\u044f\\u0442\\u0438\\u0435\", \"\\u0441\\u043d\\u044f\\u0442\\u0438\\u0435\", \"\\u0441\\u043d\\u044f\\u0442\\u0438\\u0435\", \"\\u0441\\u043d\\u044f\\u0442\\u044c\", \"\\u0441\\u043d\\u044f\\u0442\\u044c\", \"\\u0441\\u043d\\u044f\\u0442\\u044c\", \"\\u0441\\u043d\\u044f\\u0442\\u044c\", \"\\u0441\\u043d\\u044f\\u0442\\u044c\", \"\\u0441\\u043d\\u044f\\u0442\\u044c\", \"\\u0441\\u043d\\u044f\\u0442\\u044c\", \"\\u0441\\u043e\\u0433\\u043b\\u0430\\u0441\\u043e\\u0432\\u0430\\u0442\\u044c\", \"\\u0441\\u043e\\u0436\\u0440\\u0430\\u0442\\u044c\", \"\\u0441\\u043e\\u0437\\u0430\\u0451\\u043c\\u0449\\u0438\\u043a\", \"\\u0441\\u043e\\u0437\\u0432\\u043e\\u043d\\u0438\\u0442\\u044c\\u0441\\u044f\", \"\\u0441\\u043e\\u043a\\u0440\\u0430\\u0442\\u0438\\u0442\\u044c\", \"\\u0441\\u043e\\u0442\\u0440\\u0443\\u0434\\u043d\\u0438\\u043a\", \"\\u0441\\u043e\\u0442\\u0440\\u0443\\u0434\\u043d\\u0438\\u043a\", \"\\u0441\\u043e\\u0442\\u0440\\u0443\\u0434\\u043d\\u0438\\u043a\", \"\\u0441\\u043e\\u0442\\u0440\\u0443\\u0434\\u043d\\u0438\\u043a\", \"\\u0441\\u043e\\u0442\\u0440\\u0443\\u0434\\u043d\\u0438\\u043a\", \"\\u0441\\u043e\\u0442\\u0440\\u0443\\u0434\\u043d\\u0438\\u043a\", \"\\u0441\\u043e\\u0442\\u0440\\u0443\\u0434\\u043d\\u0438\\u043a\", \"\\u0441\\u043e\\u0442\\u0440\\u0443\\u0434\\u043d\\u0438\\u043a\", \"\\u0441\\u043e\\u0446\\u0438\\u0430\\u043b\\u044c\\u043d\\u044b\\u0439\", \"\\u0441\\u043f\\u0430\\u043c\", \"\\u0441\\u043f\\u0430\\u0441\\u0438\\u0431\\u043e\", \"\\u0441\\u043f\\u0430\\u0441\\u0438\\u0431\\u043e\", \"\\u0441\\u043f\\u0430\\u0441\\u0438\\u0431\\u043e\", \"\\u0441\\u043f\\u0430\\u0441\\u0438\\u0431\\u043e\", \"\\u0441\\u043f\\u0430\\u0441\\u0438\\u0431\\u043e\", \"\\u0441\\u043f\\u0430\\u0441\\u0438\\u0431\\u043e\", \"\\u0441\\u043f\\u0435\\u0446\\u0438\\u0430\\u043b\\u0438\\u0441\\u0442\", \"\\u0441\\u043f\\u0435\\u0446\\u0438\\u0430\\u043b\\u0438\\u0441\\u0442\", \"\\u0441\\u043f\\u0435\\u0446\\u0438\\u0430\\u043b\\u0438\\u0441\\u0442\", \"\\u0441\\u043f\\u0435\\u0446\\u0438\\u0430\\u043b\\u0438\\u0441\\u0442\", \"\\u0441\\u043f\\u0435\\u0446\\u0438\\u0430\\u043b\\u0438\\u0441\\u0442\", \"\\u0441\\u043f\\u0435\\u0446\\u0438\\u0430\\u043b\\u0438\\u0441\\u0442\", \"\\u0441\\u043f\\u0435\\u0446\\u0438\\u0430\\u043b\\u0438\\u0441\\u0442\", \"\\u0441\\u043f\\u0435\\u0446\\u0441\\u0447\\u0451\\u0442\", \"\\u0441\\u043f\\u0438\\u0441\\u0430\\u043d\\u0438\\u0435\", \"\\u0441\\u043f\\u0438\\u0441\\u0430\\u043d\\u0438\\u0435\", \"\\u0441\\u043f\\u0438\\u0441\\u0430\\u043d\\u0438\\u0435\", \"\\u0441\\u043f\\u0438\\u0441\\u0430\\u0442\\u044c\", \"\\u0441\\u043f\\u0438\\u0441\\u0430\\u0442\\u044c\", \"\\u0441\\u043f\\u0438\\u0441\\u0430\\u0442\\u044c\", \"\\u0441\\u043f\\u0438\\u0441\\u0430\\u0442\\u044c\", \"\\u0441\\u043f\\u0438\\u0441\\u0430\\u0442\\u044c\", \"\\u0441\\u043f\\u0438\\u0441\\u043e\\u043a\", \"\\u0441\\u043f\\u0438\\u0441\\u043e\\u043a\", \"\\u0441\\u043f\\u0438\\u0441\\u043e\\u043a\", \"\\u0441\\u043f\\u0438\\u0441\\u043e\\u043a\", \"\\u0441\\u043f\\u0440\\u0430\\u0432\\u043a\\u0430\", \"\\u0441\\u043f\\u0440\\u0430\\u0432\\u043a\\u0430\", \"\\u0441\\u043f\\u0440\\u0430\\u0432\\u043a\\u0430\", \"\\u0441\\u043f\\u0440\\u0430\\u0432\\u043a\\u0430\", \"\\u0441\\u0440\\u0435\\u0434\\u0441\\u0442\\u0432\\u043e\", \"\\u0441\\u0440\\u0435\\u0434\\u0441\\u0442\\u0432\\u043e\", \"\\u0441\\u0440\\u0435\\u0434\\u0441\\u0442\\u0432\\u043e\", \"\\u0441\\u0440\\u0435\\u0434\\u0441\\u0442\\u0432\\u043e\", \"\\u0441\\u0440\\u0435\\u0434\\u0441\\u0442\\u0432\\u043e\", \"\\u0441\\u0440\\u0435\\u0434\\u0441\\u0442\\u0432\\u043e\", \"\\u0441\\u0440\\u043e\\u043a\", \"\\u0441\\u0440\\u043e\\u043a\", \"\\u0441\\u0440\\u043e\\u043a\", \"\\u0441\\u0440\\u043e\\u043a\", \"\\u0441\\u0440\\u043e\\u043a\", \"\\u0441\\u0440\\u043e\\u043a\", \"\\u0441\\u0440\\u043e\\u043a\", \"\\u0441\\u0440\\u043e\\u043a\", \"\\u0441\\u0442\\u0430\\u0432\\u043a\\u0430\", \"\\u0441\\u0442\\u0430\\u0432\\u043a\\u0430\", \"\\u0441\\u0442\\u0430\\u0432\\u043a\\u0430\", \"\\u0441\\u0442\\u0430\\u0432\\u043a\\u0430\", \"\\u0441\\u0442\\u0430\\u0432\\u043a\\u0430\", \"\\u0441\\u0442\\u0430\\u0432\\u043a\\u0430\", \"\\u0441\\u0442\\u0430\\u0440\\u0430\\u0442\\u044c\\u0441\\u044f\", \"\\u0441\\u0442\\u0430\\u0440\\u0430\\u0442\\u044c\\u0441\\u044f\", \"\\u0441\\u0442\\u0438\\u043f\\u0435\\u043d\\u0434\\u0438\\u044f\", \"\\u0441\\u0442\\u043e\\u0440\\u043e\\u043d\\u043d\\u0438\\u0439\", \"\\u0441\\u0442\\u043e\\u0440\\u043e\\u043d\\u043d\\u0438\\u0439\", \"\\u0441\\u0442\\u043e\\u0440\\u043e\\u043d\\u043d\\u0438\\u0439\", \"\\u0441\\u0442\\u043e\\u0440\\u043e\\u043d\\u043d\\u0438\\u0439\", \"\\u0441\\u0442\\u0440\", \"\\u0441\\u0442\\u0440\\u0430\\u0442\\u0435\\u0433\\u0438\\u044f\", \"\\u0441\\u0442\\u0440\\u0430\\u0445\\u043e\\u0432\\u0430\\u043d\\u0438\\u0435\", \"\\u0441\\u0442\\u0440\\u0430\\u0445\\u043e\\u0432\\u0430\\u043d\\u0438\\u0435\", \"\\u0441\\u0442\\u0440\\u0430\\u0445\\u043e\\u0432\\u0430\\u043d\\u0438\\u0435\", \"\\u0441\\u0442\\u0440\\u0430\\u0445\\u043e\\u0432\\u043a\\u0430\", \"\\u0441\\u0442\\u0440\\u0430\\u0445\\u043e\\u0432\\u043a\\u0430\", \"\\u0441\\u0442\\u0440\\u0430\\u0445\\u043e\\u0432\\u043a\\u043e\\u0439\", \"\\u0441\\u0442\\u0440\\u0430\\u0445\\u043e\\u0432\\u043a\\u043e\\u0439\", \"\\u0441\\u0442\\u0440\\u0430\\u0445\\u043e\\u0432\\u043e\\u0439\", \"\\u0441\\u0442\\u0440\\u0430\\u0445\\u043e\\u0432\\u043e\\u0439\", \"\\u0441\\u0442\\u0440\\u0430\\u0445\\u043e\\u0432\\u043e\\u0439\", \"\\u0441\\u0442\\u0440\\u043e\\u0433\\u043e\", \"\\u0441\\u0442\\u0440\\u043e\\u0438\\u0442\\u0435\\u043b\\u044c\\u0441\\u0442\\u0432\\u043e\", \"\\u0441\\u0443\\u0434\\u0435\\u0431\\u043d\\u044b\\u0439\", \"\\u0441\\u0443\\u0434\\u0435\\u0431\\u043d\\u044b\\u0439\", \"\\u0441\\u0443\\u0434\\u0435\\u0431\\u043d\\u044b\\u0439\", \"\\u0441\\u0443\\u043c\\u043c\\u0430\", \"\\u0441\\u0443\\u043c\\u043c\\u0430\", \"\\u0441\\u0443\\u043c\\u043c\\u0430\", \"\\u0441\\u0443\\u043c\\u043c\\u0430\", \"\\u0441\\u0443\\u043c\\u043c\\u0430\", \"\\u0441\\u0443\\u043c\\u043c\\u0430\", \"\\u0441\\u0443\\u043c\\u043c\\u0430\", \"\\u0441\\u0447\\u0451\\u0442\", \"\\u0441\\u0447\\u0451\\u0442\", \"\\u0441\\u0447\\u0451\\u0442\", \"\\u0441\\u0447\\u0451\\u0442\", \"\\u0441\\u0447\\u0451\\u0442\", \"\\u0441\\u0447\\u0451\\u0442\", \"\\u0441\\u0447\\u0451\\u0442\", \"\\u0441\\u0447\\u0451\\u0442\", \"\\u0441\\u0448\\u0430\", \"\\u0441\\u044b\\u043d\", \"\\u0442\\u0430\\u043a\\u043e\\u0439\", \"\\u0442\\u0430\\u043a\\u043e\\u0439\", \"\\u0442\\u0430\\u043a\\u043e\\u0439\", \"\\u0442\\u0430\\u043a\\u043e\\u0439\", \"\\u0442\\u0430\\u043a\\u043e\\u0439\", \"\\u0442\\u0430\\u043a\\u043e\\u0439\", \"\\u0442\\u0430\\u043a\\u043e\\u0439\", \"\\u0442\\u0430\\u043a\\u043e\\u0439\", \"\\u0442\\u0430\\u0440\\u0438\\u0444\", \"\\u0442\\u0430\\u0440\\u0438\\u0444\", \"\\u0442\\u0430\\u0440\\u0438\\u0444\", \"\\u0442\\u0430\\u0440\\u0438\\u0444\", \"\\u0442\\u0432\\u0435\\u0440\\u0441\\u043a\\u0430\\u044f\", \"\\u0442\\u0432\\u043e\\u0440\\u0438\\u0442\\u044c\\u0441\\u044f\", \"\\u0442\\u0432\\u043e\\u0440\\u0438\\u0442\\u044c\\u0441\\u044f\", \"\\u0442\\u0435\\u043b\\u0435\\u0444\\u043e\\u043d\", \"\\u0442\\u0435\\u043b\\u0435\\u0444\\u043e\\u043d\", \"\\u0442\\u0435\\u043b\\u0435\\u0444\\u043e\\u043d\", \"\\u0442\\u0435\\u043b\\u0435\\u0444\\u043e\\u043d\", \"\\u0442\\u0435\\u043b\\u0435\\u0444\\u043e\\u043d\", \"\\u0442\\u0435\\u043b\\u0435\\u0444\\u043e\\u043d\", \"\\u0442\\u0435\\u043b\\u0435\\u0444\\u043e\\u043d\", \"\\u0442\\u0435\\u043b\\u0435\\u0444\\u043e\\u043d\", \"\\u0442\\u0438\\u043d\\u044c\\u043a\\u043e\\u0444\", \"\\u0442\\u0438\\u0448\\u0438\\u043d\\u0430\", \"\\u0442\\u0438\\u0448\\u0438\\u043d\\u0430\", \"\\u0442\\u043e\\u0442\", \"\\u0442\\u043e\\u0442\", \"\\u0442\\u043e\\u0442\", \"\\u0442\\u043e\\u0442\", \"\\u0442\\u043e\\u0442\", \"\\u0442\\u043e\\u0442\", \"\\u0442\\u043e\\u0442\", \"\\u0442\\u0440\\u0430\\u043d\\u0437\\u0430\\u043a\\u0446\\u0438\\u044f\", \"\\u0442\\u0440\\u0430\\u043d\\u0437\\u0430\\u043a\\u0446\\u0438\\u044f\", \"\\u0442\\u0440\\u0430\\u043d\\u0441\\u043a\\u0440\\u0435\\u0434\\u0438\\u0442\", \"\\u0442\\u0440\\u0443\\u0434\\u043e\\u0432\\u043e\\u0439\", \"\\u0442\\u0441\\u043f\", \"\\u0442\\u0443\\u0434\\u0430\", \"\\u0442\\u0443\\u0434\\u0430\", \"\\u0442\\u0443\\u0434\\u0430\", \"\\u0442\\u0443\\u0434\\u0430\", \"\\u0442\\u0443\\u0434\\u0430\", \"\\u0442\\u0443\\u0434\\u0430\", \"\\u0442\\u0443\\u043b\\u044c\\u0441\\u043a\\u043e\\u0439\", \"\\u0443\\u0432\\u0430\\u0436\\u0438\\u0442\\u0435\\u043b\\u044c\\u043d\\u044b\\u0439\", \"\\u0443\\u0432\\u043e\\u043b\\u0438\\u0442\\u044c\", \"\\u0443\\u0433\\u0440\\u043e\\u0436\\u0430\\u0442\\u044c\", \"\\u0443\\u0433\\u0440\\u043e\\u0436\\u0430\\u0442\\u044c\", \"\\u0443\\u0433\\u0440\\u043e\\u0437\\u0430\", \"\\u0443\\u0434\\u0438\\u0432\\u0438\\u0442\\u044c\\u0441\\u044f\", \"\\u0443\\u0436\\u0430\\u0441\\u043d\\u0435\\u0438\\u0448\\u0438\\u0435\", \"\\u0443\\u0436\\u0430\\u0441\\u043d\\u044b\\u0439\", \"\\u0443\\u0436\\u0430\\u0441\\u043d\\u044b\\u0439\", \"\\u0443\\u0436\\u0430\\u0441\\u043d\\u044b\\u0439\", \"\\u0443\\u0436\\u0430\\u0441\\u043d\\u044b\\u0439\", \"\\u0443\\u0436\\u0430\\u0441\\u043d\\u044b\\u0439\", \"\\u0443\\u0436\\u0430\\u0441\\u043d\\u044b\\u0439\", \"\\u0443\\u043b\\u0443\\u0447\\u0448\\u0435\\u043d\\u0438\\u0435\", \"\\u0443\\u043c\\u043e\\u043b\\u0447\\u0430\\u043d\\u0438\\u0435\", \"\\u0443\\u043c\\u043e\\u043b\\u0447\\u0430\\u043d\\u0438\\u0435\", \"\\u0443\\u043d\\u043a\", \"\\u0443\\u0440\\u043e\\u0432\\u0435\\u043d\\u044c\", \"\\u0443\\u0440\\u043e\\u0432\\u0435\\u043d\\u044c\", \"\\u0443\\u0440\\u043e\\u0432\\u0435\\u043d\\u044c\", \"\\u0443\\u0441\\u043b\\u043e\\u0432\\u0438\\u0435\", \"\\u0443\\u0441\\u043b\\u043e\\u0432\\u0438\\u0435\", \"\\u0443\\u0441\\u043b\\u043e\\u0432\\u0438\\u0435\", \"\\u0443\\u0441\\u043b\\u043e\\u0432\\u0438\\u0435\", \"\\u0443\\u0441\\u043b\\u043e\\u0432\\u0438\\u0435\", \"\\u0443\\u0441\\u043b\\u043e\\u0432\\u0438\\u0435\", \"\\u0443\\u0441\\u043b\\u043e\\u0432\\u0438\\u0435\", \"\\u0443\\u0441\\u043b\\u0443\\u0433\\u0430\", \"\\u0443\\u0441\\u043b\\u0443\\u0433\\u0430\", \"\\u0443\\u0441\\u043b\\u0443\\u0433\\u0430\", \"\\u0443\\u0441\\u043b\\u0443\\u0433\\u0430\", \"\\u0443\\u0441\\u043b\\u0443\\u0433\\u0430\", \"\\u0443\\u0441\\u043b\\u0443\\u0433\\u0430\", \"\\u0443\\u0441\\u043b\\u0443\\u0433\\u0430\", \"\\u0443\\u0445\\u0442\\u0430\", \"\\u0444\\u0435\\u0432\\u0440\\u0430\\u043b\\u044c\", \"\\u0444\\u0435\\u0432\\u0440\\u0430\\u043b\\u044c\", \"\\u0444\\u0435\\u0434\\u0435\\u0440\\u0430\\u043b\\u044c\\u043d\\u044b\\u0439\", \"\\u0444\\u0435\\u0434\\u0435\\u0440\\u0430\\u043b\\u044c\\u043d\\u044b\\u0439\", \"\\u0444\\u0435\\u0434\\u0435\\u0440\\u0430\\u0446\\u0438\\u044f\", \"\\u0444\\u0437\", \"\\u0444\\u0438\\u0437\", \"\\u0444\\u0438\\u0437\", \"\\u0444\\u0438\\u0437\", \"\\u0444\\u0438\\u0437\\u043b\\u0438\\u0446\\u043e\", \"\\u0444\\u0438\\u0437\\u043b\\u0438\\u0446\\u043e\", \"\\u0444\\u043e\\u0442\\u043e\", \"\\u0445\\u0432\\u0430\\u0442\\u0430\\u0442\\u044c\", \"\\u0445\\u0432\\u0430\\u0442\\u0430\\u0442\\u044c\", \"\\u0445\\u0432\\u0430\\u0442\\u0430\\u0442\\u044c\", \"\\u0445\\u0432\\u0430\\u0442\\u0430\\u0442\\u044c\", \"\\u0445\\u043e\\u0440\\u043e\\u0448\\u0438\\u0439\", \"\\u0445\\u043e\\u0440\\u043e\\u0448\\u0438\\u0439\", \"\\u0445\\u043e\\u0440\\u043e\\u0448\\u0438\\u0439\", \"\\u0445\\u043e\\u0440\\u043e\\u0448\\u0438\\u0439\", \"\\u0445\\u043e\\u0440\\u043e\\u0448\\u0438\\u0439\", \"\\u0445\\u043e\\u0442\\u0435\\u0442\\u044c\", \"\\u0445\\u043e\\u0442\\u0435\\u0442\\u044c\", \"\\u0445\\u043e\\u0442\\u0435\\u0442\\u044c\", \"\\u0445\\u043e\\u0442\\u0435\\u0442\\u044c\", \"\\u0445\\u043e\\u0442\\u0435\\u0442\\u044c\", \"\\u0445\\u043e\\u0442\\u0435\\u0442\\u044c\", \"\\u0445\\u043e\\u0442\\u0435\\u0442\\u044c\", \"\\u0445\\u043e\\u0442\\u0435\\u0442\\u044c\", \"\\u0445\\u0440\\u0430\\u043d\\u0438\\u0442\\u044c\", \"\\u0447\\u0430\\u0441\", \"\\u0447\\u0430\\u0441\", \"\\u0447\\u0430\\u0441\", \"\\u0447\\u0430\\u0441\", \"\\u0447\\u0430\\u0441\", \"\\u0447\\u0430\\u0441\", \"\\u0447\\u0430\\u0441\", \"\\u0447\\u0430\\u0441\\u0442\\u0438\\u0447\\u043d\\u043e\", \"\\u0447\\u0430\\u0441\\u0442\\u0438\\u0447\\u043d\\u043e\", \"\\u0447\\u0430\\u0441\\u0442\\u0438\\u0447\\u043d\\u044b\\u0439\", \"\\u0447\\u0430\\u0441\\u0442\\u0438\\u0447\\u043d\\u044b\\u0439\", \"\\u0447\\u0435\\u043a\", \"\\u0447\\u0435\\u043a\", \"\\u0447\\u0435\\u043b\\u043e\\u0432\\u0435\\u043a\", \"\\u0447\\u0435\\u043b\\u043e\\u0432\\u0435\\u043a\", \"\\u0447\\u0435\\u043b\\u043e\\u0432\\u0435\\u043a\", \"\\u0447\\u0435\\u043b\\u043e\\u0432\\u0435\\u043a\", \"\\u0447\\u0435\\u043b\\u043e\\u0432\\u0435\\u043a\", \"\\u0447\\u0435\\u043b\\u043e\\u0432\\u0435\\u043a\", \"\\u0447\\u0435\\u043b\\u043e\\u0432\\u0435\\u043a\", \"\\u0447\\u0435\\u0440\\u043d\\u044b\\u0439\", \"\\u0447\\u0435\\u0441\\u0442\\u043d\\u043e\\u0441\\u0442\\u044c\", \"\\u0447\\u0435\\u0442\\u0432\\u0435\\u0440\\u0433\", \"\\u0447\\u0438\\u0441\\u043b\\u043e\", \"\\u0447\\u0438\\u0441\\u043b\\u043e\", \"\\u0447\\u0438\\u0441\\u043b\\u043e\", \"\\u0447\\u0438\\u0441\\u043b\\u043e\", \"\\u0447\\u0438\\u0441\\u043b\\u043e\", \"\\u0447\\u0438\\u0441\\u043b\\u043e\", \"\\u0447\\u0438\\u0441\\u043b\\u043e\", \"\\u0448\\u043a\\u043e\\u043b\\u0430\", \"\\u0448\\u0442\\u0440\\u0430\\u0444\\u043d\\u043e\\u0439\", \"\\u044d\\u0434\\u0443\\u0430\\u0440\\u0434\\u043e\\u0432\\u0438\\u0447\", \"\\u044d\\u043a\\u0432\\u0438\\u0444\\u0430\\u043a\\u0441\", \"\\u044d\\u043a\\u0440\\u0430\\u043d\", \"\\u044d\\u043a\\u0440\\u0430\\u043d\", \"\\u044d\\u043b\\u044c\\u0432\\u0438\\u0440\\u0430\", \"\\u044d\\u043b\\u044c\\u0432\\u0438\\u0440\\u0430\", \"\\u044d\\u0442\\u043e\", \"\\u044d\\u0442\\u043e\", \"\\u044d\\u0442\\u043e\", \"\\u044d\\u0442\\u043e\", \"\\u044d\\u0442\\u043e\", \"\\u044d\\u0442\\u043e\", \"\\u044d\\u0442\\u043e\", \"\\u044d\\u0442\\u043e\", \"\\u044f\\u0432\\u043b\\u044f\\u0442\\u044c\\u0441\\u044f\", \"\\u044f\\u0432\\u043b\\u044f\\u0442\\u044c\\u0441\\u044f\", \"\\u044f\\u0432\\u043b\\u044f\\u0442\\u044c\\u0441\\u044f\", \"\\u044f\\u0432\\u043b\\u044f\\u0442\\u044c\\u0441\\u044f\", \"\\u044f\\u0432\\u043b\\u044f\\u0442\\u044c\\u0441\\u044f\", \"\\u044f\\u0432\\u043b\\u044f\\u0442\\u044c\\u0441\\u044f\", \"\\u044f\\u0432\\u043b\\u044f\\u0442\\u044c\\u0441\\u044f\", \"\\u044f\\u043d\\u0432\\u0430\\u0440\\u044c\", \"\\u044f\\u043d\\u0432\\u0430\\u0440\\u044c\", \"\\u044f\\u043d\\u0432\\u0430\\u0440\\u044c\", \"\\u044f\\u043d\\u0432\\u0430\\u0440\\u044c\", \"\\u044f\\u043d\\u0432\\u0430\\u0440\\u044c\", \"\\u044f\\u043d\\u0432\\u0430\\u0440\\u044c\"]}, \"R\": 30, \"lambda.step\": 0.01, \"plot.opts\": {\"xlab\": \"PC1\", \"ylab\": \"PC2\"}, \"topic.order\": [6, 7, 8, 3, 2, 9, 5, 4, 1]};\n",
              "\n",
              "function LDAvis_load_lib(url, callback){\n",
              "  var s = document.createElement('script');\n",
              "  s.src = url;\n",
              "  s.async = true;\n",
              "  s.onreadystatechange = s.onload = callback;\n",
              "  s.onerror = function(){console.warn(\"failed to load library \" + url);};\n",
              "  document.getElementsByTagName(\"head\")[0].appendChild(s);\n",
              "}\n",
              "\n",
              "if(typeof(LDAvis) !== \"undefined\"){\n",
              "   // already loaded: just create the visualization\n",
              "   !function(LDAvis){\n",
              "       new LDAvis(\"#\" + \"ldavis_el1901395539722765766195960198\", ldavis_el1901395539722765766195960198_data);\n",
              "   }(LDAvis);\n",
              "}else if(typeof define === \"function\" && define.amd){\n",
              "   // require.js is available: use it to load d3/LDAvis\n",
              "   require.config({paths: {d3: \"https://d3js.org/d3.v5\"}});\n",
              "   require([\"d3\"], function(d3){\n",
              "      window.d3 = d3;\n",
              "      LDAvis_load_lib(\"https://cdn.jsdelivr.net/gh/bmabey/pyLDAvis@3.4.0/pyLDAvis/js/ldavis.v3.0.0.js\", function(){\n",
              "        new LDAvis(\"#\" + \"ldavis_el1901395539722765766195960198\", ldavis_el1901395539722765766195960198_data);\n",
              "      });\n",
              "    });\n",
              "}else{\n",
              "    // require.js not available: dynamically load d3 & LDAvis\n",
              "    LDAvis_load_lib(\"https://d3js.org/d3.v5.js\", function(){\n",
              "         LDAvis_load_lib(\"https://cdn.jsdelivr.net/gh/bmabey/pyLDAvis@3.4.0/pyLDAvis/js/ldavis.v3.0.0.js\", function(){\n",
              "                 new LDAvis(\"#\" + \"ldavis_el1901395539722765766195960198\", ldavis_el1901395539722765766195960198_data);\n",
              "            })\n",
              "         });\n",
              "}\n",
              "</script>"
            ]
          },
          "metadata": {},
          "execution_count": 36
        }
      ]
    },
    {
      "cell_type": "markdown",
      "source": [
        "5. Связаны ли темы отзывовов и поле “Score” в данных? Обоснуйте."
      ],
      "metadata": {
        "id": "ZY6xpeWArJgY"
      }
    },
    {
      "cell_type": "code",
      "execution_count": null,
      "metadata": {
        "id": "PMW16hs1rALX",
        "colab": {
          "base_uri": "https://localhost:8080/"
        },
        "outputId": "a336ffa8-6113-4b7f-fc85-0826d7d8feaa"
      },
      "outputs": [
        {
          "output_type": "stream",
          "name": "stderr",
          "text": [
            "/usr/local/lib/python3.10/dist-packages/ipykernel/ipkernel.py:283: DeprecationWarning: `should_run_async` will not call `transform_cell` automatically in the future. Please pass the result to `transformed_cell` argument and any exception that happen during thetransform in `preprocessing_exc_tuple` in IPython 7.17 and above.\n",
            "  and should_run_async(code)\n"
          ]
        },
        {
          "output_type": "stream",
          "name": "stdout",
          "text": [
            "1051     [сменить, пароль, интернет, банк, новый, пускать, несколько, попытка, заблокировать, вход, почем...\n",
            "1052     [б, чат, спасибо, проявить, интерес, наш, услуга, течение, несколько, секунда, наш, специалист, ...\n",
            "1053     [воровать, деньга, карта, давно, заметить, пропадать, деньга, счёт, р, причём, распечатка, тишин...\n",
            "1054     [реклама, договор, написать, социальный, карта, москвич, перечисленный, пенсия, прочий, социальн...\n",
            "1055     [быть, проблема, открытый, мой, имя, карта, банк, москва, уничтожить, сотрудник, банк, течение, ...\n",
            "                                                        ...                                                 \n",
            "16850    [санкт, петербург, отделение, ул, бутлеров, банкомат, поставить, поставить, работать, нормально,...\n",
            "16851    [неправомерный, подключение, доп, услуга, получить, карта, офис, банк, втб, адрес, мясницкий, оф...\n",
            "16852    [добрый, день, оформить, кредит, банк, втб, год, банк, проинформировать, начинать, первый, месяц...\n",
            "16853    [самый, неудобный, интернет, банк, нужно, прийти, офис, отстоять, очередь, получить, код, заветн...\n",
            "16854    [решить, взять, втб, кредит, год, сумма, возможный, калькулятор, число, офф, сайт, втб, выдавать...\n",
            "Name: review, Length: 2603, dtype: object\n"
          ]
        }
      ],
      "source": [
        "def preprocess_text(text):\n",
        "    tokens = text.split()\n",
        "    tokens = [token for token in tokens if token not in stop_words]\n",
        "    tokens = [morph.parse(token)[0].normal_form for token in tokens]\n",
        "    return tokens\n",
        "\n",
        "data['review'] = data['review'].apply(preprocess_text)\n",
        "print(data['review'])"
      ]
    },
    {
      "cell_type": "code",
      "source": [
        "reviews_score_topics = data[['review','score']]\n",
        "reviews_score_topics.head()"
      ],
      "metadata": {
        "colab": {
          "base_uri": "https://localhost:8080/",
          "height": 261
        },
        "id": "QUFt8IZkhNn8",
        "outputId": "32253c1d-147c-46a2-f8ee-33bfa0b73145"
      },
      "execution_count": null,
      "outputs": [
        {
          "output_type": "stream",
          "name": "stderr",
          "text": [
            "/usr/local/lib/python3.10/dist-packages/ipykernel/ipkernel.py:283: DeprecationWarning: `should_run_async` will not call `transform_cell` automatically in the future. Please pass the result to `transformed_cell` argument and any exception that happen during thetransform in `preprocessing_exc_tuple` in IPython 7.17 and above.\n",
            "  and should_run_async(code)\n"
          ]
        },
        {
          "output_type": "execute_result",
          "data": {
            "text/plain": [
              "                                                                                                   review  \\\n",
              "1051  [сменить, пароль, интернет, банк, новый, пускать, несколько, попытка, заблокировать, вход, почем...   \n",
              "1052  [б, чат, спасибо, проявить, интерес, наш, услуга, течение, несколько, секунда, наш, специалист, ...   \n",
              "1053  [воровать, деньга, карта, давно, заметить, пропадать, деньга, счёт, р, причём, распечатка, тишин...   \n",
              "1054  [реклама, договор, написать, социальный, карта, москвич, перечисленный, пенсия, прочий, социальн...   \n",
              "1055  [быть, проблема, открытый, мой, имя, карта, банк, москва, уничтожить, сотрудник, банк, течение, ...   \n",
              "\n",
              "     score  \n",
              "1051   NaN  \n",
              "1052   NaN  \n",
              "1053   NaN  \n",
              "1054   NaN  \n",
              "1055   NaN  "
            ],
            "text/html": [
              "\n",
              "  <div id=\"df-1c6b8362-9f3a-45be-9b90-db971d0d3eee\" class=\"colab-df-container\">\n",
              "    <div>\n",
              "<style scoped>\n",
              "    .dataframe tbody tr th:only-of-type {\n",
              "        vertical-align: middle;\n",
              "    }\n",
              "\n",
              "    .dataframe tbody tr th {\n",
              "        vertical-align: top;\n",
              "    }\n",
              "\n",
              "    .dataframe thead th {\n",
              "        text-align: right;\n",
              "    }\n",
              "</style>\n",
              "<table border=\"1\" class=\"dataframe\">\n",
              "  <thead>\n",
              "    <tr style=\"text-align: right;\">\n",
              "      <th></th>\n",
              "      <th>review</th>\n",
              "      <th>score</th>\n",
              "    </tr>\n",
              "  </thead>\n",
              "  <tbody>\n",
              "    <tr>\n",
              "      <th>1051</th>\n",
              "      <td>[сменить, пароль, интернет, банк, новый, пускать, несколько, попытка, заблокировать, вход, почем...</td>\n",
              "      <td>NaN</td>\n",
              "    </tr>\n",
              "    <tr>\n",
              "      <th>1052</th>\n",
              "      <td>[б, чат, спасибо, проявить, интерес, наш, услуга, течение, несколько, секунда, наш, специалист, ...</td>\n",
              "      <td>NaN</td>\n",
              "    </tr>\n",
              "    <tr>\n",
              "      <th>1053</th>\n",
              "      <td>[воровать, деньга, карта, давно, заметить, пропадать, деньга, счёт, р, причём, распечатка, тишин...</td>\n",
              "      <td>NaN</td>\n",
              "    </tr>\n",
              "    <tr>\n",
              "      <th>1054</th>\n",
              "      <td>[реклама, договор, написать, социальный, карта, москвич, перечисленный, пенсия, прочий, социальн...</td>\n",
              "      <td>NaN</td>\n",
              "    </tr>\n",
              "    <tr>\n",
              "      <th>1055</th>\n",
              "      <td>[быть, проблема, открытый, мой, имя, карта, банк, москва, уничтожить, сотрудник, банк, течение, ...</td>\n",
              "      <td>NaN</td>\n",
              "    </tr>\n",
              "  </tbody>\n",
              "</table>\n",
              "</div>\n",
              "    <div class=\"colab-df-buttons\">\n",
              "\n",
              "  <div class=\"colab-df-container\">\n",
              "    <button class=\"colab-df-convert\" onclick=\"convertToInteractive('df-1c6b8362-9f3a-45be-9b90-db971d0d3eee')\"\n",
              "            title=\"Convert this dataframe to an interactive table.\"\n",
              "            style=\"display:none;\">\n",
              "\n",
              "  <svg xmlns=\"http://www.w3.org/2000/svg\" height=\"24px\" viewBox=\"0 -960 960 960\">\n",
              "    <path d=\"M120-120v-720h720v720H120Zm60-500h600v-160H180v160Zm220 220h160v-160H400v160Zm0 220h160v-160H400v160ZM180-400h160v-160H180v160Zm440 0h160v-160H620v160ZM180-180h160v-160H180v160Zm440 0h160v-160H620v160Z\"/>\n",
              "  </svg>\n",
              "    </button>\n",
              "\n",
              "  <style>\n",
              "    .colab-df-container {\n",
              "      display:flex;\n",
              "      gap: 12px;\n",
              "    }\n",
              "\n",
              "    .colab-df-convert {\n",
              "      background-color: #E8F0FE;\n",
              "      border: none;\n",
              "      border-radius: 50%;\n",
              "      cursor: pointer;\n",
              "      display: none;\n",
              "      fill: #1967D2;\n",
              "      height: 32px;\n",
              "      padding: 0 0 0 0;\n",
              "      width: 32px;\n",
              "    }\n",
              "\n",
              "    .colab-df-convert:hover {\n",
              "      background-color: #E2EBFA;\n",
              "      box-shadow: 0px 1px 2px rgba(60, 64, 67, 0.3), 0px 1px 3px 1px rgba(60, 64, 67, 0.15);\n",
              "      fill: #174EA6;\n",
              "    }\n",
              "\n",
              "    .colab-df-buttons div {\n",
              "      margin-bottom: 4px;\n",
              "    }\n",
              "\n",
              "    [theme=dark] .colab-df-convert {\n",
              "      background-color: #3B4455;\n",
              "      fill: #D2E3FC;\n",
              "    }\n",
              "\n",
              "    [theme=dark] .colab-df-convert:hover {\n",
              "      background-color: #434B5C;\n",
              "      box-shadow: 0px 1px 3px 1px rgba(0, 0, 0, 0.15);\n",
              "      filter: drop-shadow(0px 1px 2px rgba(0, 0, 0, 0.3));\n",
              "      fill: #FFFFFF;\n",
              "    }\n",
              "  </style>\n",
              "\n",
              "    <script>\n",
              "      const buttonEl =\n",
              "        document.querySelector('#df-1c6b8362-9f3a-45be-9b90-db971d0d3eee button.colab-df-convert');\n",
              "      buttonEl.style.display =\n",
              "        google.colab.kernel.accessAllowed ? 'block' : 'none';\n",
              "\n",
              "      async function convertToInteractive(key) {\n",
              "        const element = document.querySelector('#df-1c6b8362-9f3a-45be-9b90-db971d0d3eee');\n",
              "        const dataTable =\n",
              "          await google.colab.kernel.invokeFunction('convertToInteractive',\n",
              "                                                    [key], {});\n",
              "        if (!dataTable) return;\n",
              "\n",
              "        const docLinkHtml = 'Like what you see? Visit the ' +\n",
              "          '<a target=\"_blank\" href=https://colab.research.google.com/notebooks/data_table.ipynb>data table notebook</a>'\n",
              "          + ' to learn more about interactive tables.';\n",
              "        element.innerHTML = '';\n",
              "        dataTable['output_type'] = 'display_data';\n",
              "        await google.colab.output.renderOutput(dataTable, element);\n",
              "        const docLink = document.createElement('div');\n",
              "        docLink.innerHTML = docLinkHtml;\n",
              "        element.appendChild(docLink);\n",
              "      }\n",
              "    </script>\n",
              "  </div>\n",
              "\n",
              "\n",
              "<div id=\"df-7192a778-352a-42ee-bdc4-17074658e3b1\">\n",
              "  <button class=\"colab-df-quickchart\" onclick=\"quickchart('df-7192a778-352a-42ee-bdc4-17074658e3b1')\"\n",
              "            title=\"Suggest charts\"\n",
              "            style=\"display:none;\">\n",
              "\n",
              "<svg xmlns=\"http://www.w3.org/2000/svg\" height=\"24px\"viewBox=\"0 0 24 24\"\n",
              "     width=\"24px\">\n",
              "    <g>\n",
              "        <path d=\"M19 3H5c-1.1 0-2 .9-2 2v14c0 1.1.9 2 2 2h14c1.1 0 2-.9 2-2V5c0-1.1-.9-2-2-2zM9 17H7v-7h2v7zm4 0h-2V7h2v10zm4 0h-2v-4h2v4z\"/>\n",
              "    </g>\n",
              "</svg>\n",
              "  </button>\n",
              "\n",
              "<style>\n",
              "  .colab-df-quickchart {\n",
              "      --bg-color: #E8F0FE;\n",
              "      --fill-color: #1967D2;\n",
              "      --hover-bg-color: #E2EBFA;\n",
              "      --hover-fill-color: #174EA6;\n",
              "      --disabled-fill-color: #AAA;\n",
              "      --disabled-bg-color: #DDD;\n",
              "  }\n",
              "\n",
              "  [theme=dark] .colab-df-quickchart {\n",
              "      --bg-color: #3B4455;\n",
              "      --fill-color: #D2E3FC;\n",
              "      --hover-bg-color: #434B5C;\n",
              "      --hover-fill-color: #FFFFFF;\n",
              "      --disabled-bg-color: #3B4455;\n",
              "      --disabled-fill-color: #666;\n",
              "  }\n",
              "\n",
              "  .colab-df-quickchart {\n",
              "    background-color: var(--bg-color);\n",
              "    border: none;\n",
              "    border-radius: 50%;\n",
              "    cursor: pointer;\n",
              "    display: none;\n",
              "    fill: var(--fill-color);\n",
              "    height: 32px;\n",
              "    padding: 0;\n",
              "    width: 32px;\n",
              "  }\n",
              "\n",
              "  .colab-df-quickchart:hover {\n",
              "    background-color: var(--hover-bg-color);\n",
              "    box-shadow: 0 1px 2px rgba(60, 64, 67, 0.3), 0 1px 3px 1px rgba(60, 64, 67, 0.15);\n",
              "    fill: var(--button-hover-fill-color);\n",
              "  }\n",
              "\n",
              "  .colab-df-quickchart-complete:disabled,\n",
              "  .colab-df-quickchart-complete:disabled:hover {\n",
              "    background-color: var(--disabled-bg-color);\n",
              "    fill: var(--disabled-fill-color);\n",
              "    box-shadow: none;\n",
              "  }\n",
              "\n",
              "  .colab-df-spinner {\n",
              "    border: 2px solid var(--fill-color);\n",
              "    border-color: transparent;\n",
              "    border-bottom-color: var(--fill-color);\n",
              "    animation:\n",
              "      spin 1s steps(1) infinite;\n",
              "  }\n",
              "\n",
              "  @keyframes spin {\n",
              "    0% {\n",
              "      border-color: transparent;\n",
              "      border-bottom-color: var(--fill-color);\n",
              "      border-left-color: var(--fill-color);\n",
              "    }\n",
              "    20% {\n",
              "      border-color: transparent;\n",
              "      border-left-color: var(--fill-color);\n",
              "      border-top-color: var(--fill-color);\n",
              "    }\n",
              "    30% {\n",
              "      border-color: transparent;\n",
              "      border-left-color: var(--fill-color);\n",
              "      border-top-color: var(--fill-color);\n",
              "      border-right-color: var(--fill-color);\n",
              "    }\n",
              "    40% {\n",
              "      border-color: transparent;\n",
              "      border-right-color: var(--fill-color);\n",
              "      border-top-color: var(--fill-color);\n",
              "    }\n",
              "    60% {\n",
              "      border-color: transparent;\n",
              "      border-right-color: var(--fill-color);\n",
              "    }\n",
              "    80% {\n",
              "      border-color: transparent;\n",
              "      border-right-color: var(--fill-color);\n",
              "      border-bottom-color: var(--fill-color);\n",
              "    }\n",
              "    90% {\n",
              "      border-color: transparent;\n",
              "      border-bottom-color: var(--fill-color);\n",
              "    }\n",
              "  }\n",
              "</style>\n",
              "\n",
              "  <script>\n",
              "    async function quickchart(key) {\n",
              "      const quickchartButtonEl =\n",
              "        document.querySelector('#' + key + ' button');\n",
              "      quickchartButtonEl.disabled = true;  // To prevent multiple clicks.\n",
              "      quickchartButtonEl.classList.add('colab-df-spinner');\n",
              "      try {\n",
              "        const charts = await google.colab.kernel.invokeFunction(\n",
              "            'suggestCharts', [key], {});\n",
              "      } catch (error) {\n",
              "        console.error('Error during call to suggestCharts:', error);\n",
              "      }\n",
              "      quickchartButtonEl.classList.remove('colab-df-spinner');\n",
              "      quickchartButtonEl.classList.add('colab-df-quickchart-complete');\n",
              "    }\n",
              "    (() => {\n",
              "      let quickchartButtonEl =\n",
              "        document.querySelector('#df-7192a778-352a-42ee-bdc4-17074658e3b1 button');\n",
              "      quickchartButtonEl.style.display =\n",
              "        google.colab.kernel.accessAllowed ? 'block' : 'none';\n",
              "    })();\n",
              "  </script>\n",
              "</div>\n",
              "    </div>\n",
              "  </div>\n"
            ],
            "application/vnd.google.colaboratory.intrinsic+json": {
              "type": "dataframe",
              "variable_name": "reviews_score_topics",
              "summary": "{\n  \"name\": \"reviews_score_topics\",\n  \"rows\": 2603,\n  \"fields\": [\n    {\n      \"column\": \"review\",\n      \"properties\": {\n        \"dtype\": \"object\",\n        \"semantic_type\": \"\",\n        \"description\": \"\"\n      }\n    },\n    {\n      \"column\": \"score\",\n      \"properties\": {\n        \"dtype\": \"category\",\n        \"num_unique_values\": 6,\n        \"samples\": [\n          \"3\",\n          \"2\",\n          \"4\"\n        ],\n        \"semantic_type\": \"\",\n        \"description\": \"\"\n      }\n    }\n  ]\n}"
            }
          },
          "metadata": {},
          "execution_count": 77
        }
      ]
    },
    {
      "cell_type": "code",
      "source": [
        "def get_topic(review_text):\n",
        "    bow = dictionary.doc2bow(review_text)\n",
        "    topic = lda_model.get_document_topics(bow)\n",
        "    return max(topic, key=lambda x: x[1])[0]\n",
        "\n",
        "reviews_score_topics['topic'] = reviews_score_topics['review'].apply(get_topic)\n",
        "\n",
        "reviews_score_topics.head()"
      ],
      "metadata": {
        "colab": {
          "base_uri": "https://localhost:8080/",
          "height": 365
        },
        "id": "F7BOA85Ogbjq",
        "outputId": "18ea9983-9e15-45d4-b787-a07ee8348ea3"
      },
      "execution_count": null,
      "outputs": [
        {
          "output_type": "stream",
          "name": "stderr",
          "text": [
            "/usr/local/lib/python3.10/dist-packages/ipykernel/ipkernel.py:283: DeprecationWarning: `should_run_async` will not call `transform_cell` automatically in the future. Please pass the result to `transformed_cell` argument and any exception that happen during thetransform in `preprocessing_exc_tuple` in IPython 7.17 and above.\n",
            "  and should_run_async(code)\n",
            "<ipython-input-78-064cc986b220>:6: SettingWithCopyWarning: \n",
            "A value is trying to be set on a copy of a slice from a DataFrame.\n",
            "Try using .loc[row_indexer,col_indexer] = value instead\n",
            "\n",
            "See the caveats in the documentation: https://pandas.pydata.org/pandas-docs/stable/user_guide/indexing.html#returning-a-view-versus-a-copy\n",
            "  reviews_score_topics['topic'] = reviews_score_topics['review'].apply(get_topic)\n"
          ]
        },
        {
          "output_type": "execute_result",
          "data": {
            "text/plain": [
              "                                                                                                   review  \\\n",
              "1051  [сменить, пароль, интернет, банк, новый, пускать, несколько, попытка, заблокировать, вход, почем...   \n",
              "1052  [б, чат, спасибо, проявить, интерес, наш, услуга, течение, несколько, секунда, наш, специалист, ...   \n",
              "1053  [воровать, деньга, карта, давно, заметить, пропадать, деньга, счёт, р, причём, распечатка, тишин...   \n",
              "1054  [реклама, договор, написать, социальный, карта, москвич, перечисленный, пенсия, прочий, социальн...   \n",
              "1055  [быть, проблема, открытый, мой, имя, карта, банк, москва, уничтожить, сотрудник, банк, течение, ...   \n",
              "\n",
              "     score  topic  \n",
              "1051   NaN      6  \n",
              "1052   NaN      2  \n",
              "1053   NaN      6  \n",
              "1054   NaN      6  \n",
              "1055   NaN      2  "
            ],
            "text/html": [
              "\n",
              "  <div id=\"df-3ef94160-c87a-4415-83e4-b5bac1e3f2ed\" class=\"colab-df-container\">\n",
              "    <div>\n",
              "<style scoped>\n",
              "    .dataframe tbody tr th:only-of-type {\n",
              "        vertical-align: middle;\n",
              "    }\n",
              "\n",
              "    .dataframe tbody tr th {\n",
              "        vertical-align: top;\n",
              "    }\n",
              "\n",
              "    .dataframe thead th {\n",
              "        text-align: right;\n",
              "    }\n",
              "</style>\n",
              "<table border=\"1\" class=\"dataframe\">\n",
              "  <thead>\n",
              "    <tr style=\"text-align: right;\">\n",
              "      <th></th>\n",
              "      <th>review</th>\n",
              "      <th>score</th>\n",
              "      <th>topic</th>\n",
              "    </tr>\n",
              "  </thead>\n",
              "  <tbody>\n",
              "    <tr>\n",
              "      <th>1051</th>\n",
              "      <td>[сменить, пароль, интернет, банк, новый, пускать, несколько, попытка, заблокировать, вход, почем...</td>\n",
              "      <td>NaN</td>\n",
              "      <td>6</td>\n",
              "    </tr>\n",
              "    <tr>\n",
              "      <th>1052</th>\n",
              "      <td>[б, чат, спасибо, проявить, интерес, наш, услуга, течение, несколько, секунда, наш, специалист, ...</td>\n",
              "      <td>NaN</td>\n",
              "      <td>2</td>\n",
              "    </tr>\n",
              "    <tr>\n",
              "      <th>1053</th>\n",
              "      <td>[воровать, деньга, карта, давно, заметить, пропадать, деньга, счёт, р, причём, распечатка, тишин...</td>\n",
              "      <td>NaN</td>\n",
              "      <td>6</td>\n",
              "    </tr>\n",
              "    <tr>\n",
              "      <th>1054</th>\n",
              "      <td>[реклама, договор, написать, социальный, карта, москвич, перечисленный, пенсия, прочий, социальн...</td>\n",
              "      <td>NaN</td>\n",
              "      <td>6</td>\n",
              "    </tr>\n",
              "    <tr>\n",
              "      <th>1055</th>\n",
              "      <td>[быть, проблема, открытый, мой, имя, карта, банк, москва, уничтожить, сотрудник, банк, течение, ...</td>\n",
              "      <td>NaN</td>\n",
              "      <td>2</td>\n",
              "    </tr>\n",
              "  </tbody>\n",
              "</table>\n",
              "</div>\n",
              "    <div class=\"colab-df-buttons\">\n",
              "\n",
              "  <div class=\"colab-df-container\">\n",
              "    <button class=\"colab-df-convert\" onclick=\"convertToInteractive('df-3ef94160-c87a-4415-83e4-b5bac1e3f2ed')\"\n",
              "            title=\"Convert this dataframe to an interactive table.\"\n",
              "            style=\"display:none;\">\n",
              "\n",
              "  <svg xmlns=\"http://www.w3.org/2000/svg\" height=\"24px\" viewBox=\"0 -960 960 960\">\n",
              "    <path d=\"M120-120v-720h720v720H120Zm60-500h600v-160H180v160Zm220 220h160v-160H400v160Zm0 220h160v-160H400v160ZM180-400h160v-160H180v160Zm440 0h160v-160H620v160ZM180-180h160v-160H180v160Zm440 0h160v-160H620v160Z\"/>\n",
              "  </svg>\n",
              "    </button>\n",
              "\n",
              "  <style>\n",
              "    .colab-df-container {\n",
              "      display:flex;\n",
              "      gap: 12px;\n",
              "    }\n",
              "\n",
              "    .colab-df-convert {\n",
              "      background-color: #E8F0FE;\n",
              "      border: none;\n",
              "      border-radius: 50%;\n",
              "      cursor: pointer;\n",
              "      display: none;\n",
              "      fill: #1967D2;\n",
              "      height: 32px;\n",
              "      padding: 0 0 0 0;\n",
              "      width: 32px;\n",
              "    }\n",
              "\n",
              "    .colab-df-convert:hover {\n",
              "      background-color: #E2EBFA;\n",
              "      box-shadow: 0px 1px 2px rgba(60, 64, 67, 0.3), 0px 1px 3px 1px rgba(60, 64, 67, 0.15);\n",
              "      fill: #174EA6;\n",
              "    }\n",
              "\n",
              "    .colab-df-buttons div {\n",
              "      margin-bottom: 4px;\n",
              "    }\n",
              "\n",
              "    [theme=dark] .colab-df-convert {\n",
              "      background-color: #3B4455;\n",
              "      fill: #D2E3FC;\n",
              "    }\n",
              "\n",
              "    [theme=dark] .colab-df-convert:hover {\n",
              "      background-color: #434B5C;\n",
              "      box-shadow: 0px 1px 3px 1px rgba(0, 0, 0, 0.15);\n",
              "      filter: drop-shadow(0px 1px 2px rgba(0, 0, 0, 0.3));\n",
              "      fill: #FFFFFF;\n",
              "    }\n",
              "  </style>\n",
              "\n",
              "    <script>\n",
              "      const buttonEl =\n",
              "        document.querySelector('#df-3ef94160-c87a-4415-83e4-b5bac1e3f2ed button.colab-df-convert');\n",
              "      buttonEl.style.display =\n",
              "        google.colab.kernel.accessAllowed ? 'block' : 'none';\n",
              "\n",
              "      async function convertToInteractive(key) {\n",
              "        const element = document.querySelector('#df-3ef94160-c87a-4415-83e4-b5bac1e3f2ed');\n",
              "        const dataTable =\n",
              "          await google.colab.kernel.invokeFunction('convertToInteractive',\n",
              "                                                    [key], {});\n",
              "        if (!dataTable) return;\n",
              "\n",
              "        const docLinkHtml = 'Like what you see? Visit the ' +\n",
              "          '<a target=\"_blank\" href=https://colab.research.google.com/notebooks/data_table.ipynb>data table notebook</a>'\n",
              "          + ' to learn more about interactive tables.';\n",
              "        element.innerHTML = '';\n",
              "        dataTable['output_type'] = 'display_data';\n",
              "        await google.colab.output.renderOutput(dataTable, element);\n",
              "        const docLink = document.createElement('div');\n",
              "        docLink.innerHTML = docLinkHtml;\n",
              "        element.appendChild(docLink);\n",
              "      }\n",
              "    </script>\n",
              "  </div>\n",
              "\n",
              "\n",
              "<div id=\"df-6e8cf7e6-fd43-448c-b776-f5f01959565c\">\n",
              "  <button class=\"colab-df-quickchart\" onclick=\"quickchart('df-6e8cf7e6-fd43-448c-b776-f5f01959565c')\"\n",
              "            title=\"Suggest charts\"\n",
              "            style=\"display:none;\">\n",
              "\n",
              "<svg xmlns=\"http://www.w3.org/2000/svg\" height=\"24px\"viewBox=\"0 0 24 24\"\n",
              "     width=\"24px\">\n",
              "    <g>\n",
              "        <path d=\"M19 3H5c-1.1 0-2 .9-2 2v14c0 1.1.9 2 2 2h14c1.1 0 2-.9 2-2V5c0-1.1-.9-2-2-2zM9 17H7v-7h2v7zm4 0h-2V7h2v10zm4 0h-2v-4h2v4z\"/>\n",
              "    </g>\n",
              "</svg>\n",
              "  </button>\n",
              "\n",
              "<style>\n",
              "  .colab-df-quickchart {\n",
              "      --bg-color: #E8F0FE;\n",
              "      --fill-color: #1967D2;\n",
              "      --hover-bg-color: #E2EBFA;\n",
              "      --hover-fill-color: #174EA6;\n",
              "      --disabled-fill-color: #AAA;\n",
              "      --disabled-bg-color: #DDD;\n",
              "  }\n",
              "\n",
              "  [theme=dark] .colab-df-quickchart {\n",
              "      --bg-color: #3B4455;\n",
              "      --fill-color: #D2E3FC;\n",
              "      --hover-bg-color: #434B5C;\n",
              "      --hover-fill-color: #FFFFFF;\n",
              "      --disabled-bg-color: #3B4455;\n",
              "      --disabled-fill-color: #666;\n",
              "  }\n",
              "\n",
              "  .colab-df-quickchart {\n",
              "    background-color: var(--bg-color);\n",
              "    border: none;\n",
              "    border-radius: 50%;\n",
              "    cursor: pointer;\n",
              "    display: none;\n",
              "    fill: var(--fill-color);\n",
              "    height: 32px;\n",
              "    padding: 0;\n",
              "    width: 32px;\n",
              "  }\n",
              "\n",
              "  .colab-df-quickchart:hover {\n",
              "    background-color: var(--hover-bg-color);\n",
              "    box-shadow: 0 1px 2px rgba(60, 64, 67, 0.3), 0 1px 3px 1px rgba(60, 64, 67, 0.15);\n",
              "    fill: var(--button-hover-fill-color);\n",
              "  }\n",
              "\n",
              "  .colab-df-quickchart-complete:disabled,\n",
              "  .colab-df-quickchart-complete:disabled:hover {\n",
              "    background-color: var(--disabled-bg-color);\n",
              "    fill: var(--disabled-fill-color);\n",
              "    box-shadow: none;\n",
              "  }\n",
              "\n",
              "  .colab-df-spinner {\n",
              "    border: 2px solid var(--fill-color);\n",
              "    border-color: transparent;\n",
              "    border-bottom-color: var(--fill-color);\n",
              "    animation:\n",
              "      spin 1s steps(1) infinite;\n",
              "  }\n",
              "\n",
              "  @keyframes spin {\n",
              "    0% {\n",
              "      border-color: transparent;\n",
              "      border-bottom-color: var(--fill-color);\n",
              "      border-left-color: var(--fill-color);\n",
              "    }\n",
              "    20% {\n",
              "      border-color: transparent;\n",
              "      border-left-color: var(--fill-color);\n",
              "      border-top-color: var(--fill-color);\n",
              "    }\n",
              "    30% {\n",
              "      border-color: transparent;\n",
              "      border-left-color: var(--fill-color);\n",
              "      border-top-color: var(--fill-color);\n",
              "      border-right-color: var(--fill-color);\n",
              "    }\n",
              "    40% {\n",
              "      border-color: transparent;\n",
              "      border-right-color: var(--fill-color);\n",
              "      border-top-color: var(--fill-color);\n",
              "    }\n",
              "    60% {\n",
              "      border-color: transparent;\n",
              "      border-right-color: var(--fill-color);\n",
              "    }\n",
              "    80% {\n",
              "      border-color: transparent;\n",
              "      border-right-color: var(--fill-color);\n",
              "      border-bottom-color: var(--fill-color);\n",
              "    }\n",
              "    90% {\n",
              "      border-color: transparent;\n",
              "      border-bottom-color: var(--fill-color);\n",
              "    }\n",
              "  }\n",
              "</style>\n",
              "\n",
              "  <script>\n",
              "    async function quickchart(key) {\n",
              "      const quickchartButtonEl =\n",
              "        document.querySelector('#' + key + ' button');\n",
              "      quickchartButtonEl.disabled = true;  // To prevent multiple clicks.\n",
              "      quickchartButtonEl.classList.add('colab-df-spinner');\n",
              "      try {\n",
              "        const charts = await google.colab.kernel.invokeFunction(\n",
              "            'suggestCharts', [key], {});\n",
              "      } catch (error) {\n",
              "        console.error('Error during call to suggestCharts:', error);\n",
              "      }\n",
              "      quickchartButtonEl.classList.remove('colab-df-spinner');\n",
              "      quickchartButtonEl.classList.add('colab-df-quickchart-complete');\n",
              "    }\n",
              "    (() => {\n",
              "      let quickchartButtonEl =\n",
              "        document.querySelector('#df-6e8cf7e6-fd43-448c-b776-f5f01959565c button');\n",
              "      quickchartButtonEl.style.display =\n",
              "        google.colab.kernel.accessAllowed ? 'block' : 'none';\n",
              "    })();\n",
              "  </script>\n",
              "</div>\n",
              "    </div>\n",
              "  </div>\n"
            ],
            "application/vnd.google.colaboratory.intrinsic+json": {
              "type": "dataframe",
              "variable_name": "reviews_score_topics",
              "summary": "{\n  \"name\": \"reviews_score_topics\",\n  \"rows\": 2603,\n  \"fields\": [\n    {\n      \"column\": \"review\",\n      \"properties\": {\n        \"dtype\": \"object\",\n        \"semantic_type\": \"\",\n        \"description\": \"\"\n      }\n    },\n    {\n      \"column\": \"score\",\n      \"properties\": {\n        \"dtype\": \"category\",\n        \"num_unique_values\": 6,\n        \"samples\": [\n          \"3\",\n          \"2\",\n          \"4\"\n        ],\n        \"semantic_type\": \"\",\n        \"description\": \"\"\n      }\n    },\n    {\n      \"column\": \"topic\",\n      \"properties\": {\n        \"dtype\": \"number\",\n        \"std\": 1,\n        \"min\": 1,\n        \"max\": 8,\n        \"num_unique_values\": 8,\n        \"samples\": [\n          2,\n          4,\n          6\n        ],\n        \"semantic_type\": \"\",\n        \"description\": \"\"\n      }\n    }\n  ]\n}"
            }
          },
          "metadata": {},
          "execution_count": 78
        }
      ]
    },
    {
      "cell_type": "code",
      "source": [
        "reviews_score_topics['score'] = pd.to_numeric(reviews_score_topics['score'], errors = 'coerce')\n",
        "mean_score = reviews_score_topics['score'].mean()\n",
        "reviews_score_topics['score'].fillna(mean_score, inplace = True)\n",
        "\n",
        "reviews_score_topics['score'].value_counts()"
      ],
      "metadata": {
        "colab": {
          "base_uri": "https://localhost:8080/"
        },
        "id": "SBewf9pujGhe",
        "outputId": "d6e96143-7de4-484c-f3e3-89c5a0d9e0e3"
      },
      "execution_count": null,
      "outputs": [
        {
          "output_type": "stream",
          "name": "stderr",
          "text": [
            "/usr/local/lib/python3.10/dist-packages/ipykernel/ipkernel.py:283: DeprecationWarning: `should_run_async` will not call `transform_cell` automatically in the future. Please pass the result to `transformed_cell` argument and any exception that happen during thetransform in `preprocessing_exc_tuple` in IPython 7.17 and above.\n",
            "  and should_run_async(code)\n",
            "<ipython-input-79-a5c4f4d73e9a>:1: SettingWithCopyWarning: \n",
            "A value is trying to be set on a copy of a slice from a DataFrame.\n",
            "Try using .loc[row_indexer,col_indexer] = value instead\n",
            "\n",
            "See the caveats in the documentation: https://pandas.pydata.org/pandas-docs/stable/user_guide/indexing.html#returning-a-view-versus-a-copy\n",
            "  reviews_score_topics['score'] = pd.to_numeric(reviews_score_topics['score'], errors = 'coerce')\n",
            "<ipython-input-79-a5c4f4d73e9a>:3: SettingWithCopyWarning: \n",
            "A value is trying to be set on a copy of a slice from a DataFrame\n",
            "\n",
            "See the caveats in the documentation: https://pandas.pydata.org/pandas-docs/stable/user_guide/indexing.html#returning-a-view-versus-a-copy\n",
            "  reviews_score_topics['score'].fillna(mean_score, inplace = True)\n"
          ]
        },
        {
          "output_type": "execute_result",
          "data": {
            "text/plain": [
              "1.000000    1191\n",
              "2.153072     617\n",
              "5.000000     435\n",
              "2.000000     218\n",
              "3.000000      94\n",
              "4.000000      48\n",
              "Name: score, dtype: int64"
            ]
          },
          "metadata": {},
          "execution_count": 79
        }
      ]
    },
    {
      "cell_type": "code",
      "source": [
        "topic_scores = reviews_score_topics.groupby('topic')['score'].agg(['mean', 'std'])\n",
        "\n",
        "print(topic_scores)"
      ],
      "metadata": {
        "colab": {
          "base_uri": "https://localhost:8080/"
        },
        "id": "m3vooOCgiAp5",
        "outputId": "53ec1f06-30ab-4579-d982-825d9d84f942"
      },
      "execution_count": null,
      "outputs": [
        {
          "output_type": "stream",
          "name": "stdout",
          "text": [
            "           mean       std\n",
            "topic                    \n",
            "1      1.786115  0.647664\n",
            "2      1.620425  0.837162\n",
            "3      1.803988  1.227258\n",
            "4      1.625591  0.994595\n",
            "5      2.654658  1.731087\n",
            "6      1.755702  0.976962\n",
            "7      1.760380  0.928758\n",
            "8      1.982605  1.203755\n"
          ]
        },
        {
          "output_type": "stream",
          "name": "stderr",
          "text": [
            "/usr/local/lib/python3.10/dist-packages/ipykernel/ipkernel.py:283: DeprecationWarning: `should_run_async` will not call `transform_cell` automatically in the future. Please pass the result to `transformed_cell` argument and any exception that happen during thetransform in `preprocessing_exc_tuple` in IPython 7.17 and above.\n",
            "  and should_run_async(code)\n"
          ]
        }
      ]
    },
    {
      "cell_type": "markdown",
      "source": [
        "По полученным данным нельзя сделать вывод, что существует связь. Потому что для разных тем существуют и положительные, и отрицательные отзывы.\n",
        "\n",
        "Требуется детальный анализ. Можно использовать корреляцию"
      ],
      "metadata": {
        "id": "d7ne0DgumIDA"
      }
    }
  ]
}